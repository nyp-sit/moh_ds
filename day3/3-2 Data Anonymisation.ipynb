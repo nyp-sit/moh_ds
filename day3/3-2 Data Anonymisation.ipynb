{
 "cells": [
  {
   "cell_type": "markdown",
   "id": "02a0d612",
   "metadata": {},
   "source": [
    "# Data Anonymisation\n",
    "Personal data is the core concept of data protection. Data protection law only applies when data relates to individuals. Singapore Personal Data Protection Act (PDPA) provides a baseline standard of protection for personal data in Singapore. The PDPA recognises both the need to protect individuals’ personal data and the need of organisations to collect, use or disclose personal data for legitimate and reasonable purposes.\n",
    "\n",
    "Organisations are required to comply with the various data protection obligations if they undertake activities relating to the collection, use or disclosure of personal data.\n",
    "\n",
    "When working in the field of Big Data, Data Science or related fields it is essential to know about these laws and how anonymization and pseudonymization give the possibility of still using the data for your use cases.\n",
    "\n",
    "\n",
    "## What is Personal Data?\n",
    "This is any information relating to an identified or identifiable person. An “identifiable” person is one who can be identified directly or indirectly, in particular by means of association with an identifier such as a name, an identification number, location data or other special characteristics. The possibility of identifying a person is sufficient here.\n",
    "\n",
    "Personal data are, for example:\n",
    "* Name\n",
    "* Address\n",
    "* E-mail address\n",
    "* Telephone number\n",
    "* Birthday\n",
    "\n",
    "Anonymising data offers one solution. When data is anonymised, it is no longer personal data. In this practical, we will cover various techniques to anonymise data.\n",
    "\n",
    "\n",
    "## Anonympy\n",
    "**anonympy** is a genearal data anonymisation library for images, PDFs, and tabular data. You will need to install the following two packages:\n",
    "> pip install anonympy\n",
    "\n",
    "> pip install cape-privacy==0.3.0 --no-deps\n",
    "\n",
    "If you faced issues with anonympy package, you can download the repository from <a href='https://pypi.org/project/anonympy/#files'>pypi</a>, unzip the repository and run the following command in ananconda prompt:\n",
    "> python setup.py install\n",
    "\n",
    "Let us start by importing the data for this practical.\n",
    "\n",
    "\n",
    "### Import libraries and Read Data"
   ]
  },
  {
   "cell_type": "code",
   "execution_count": null,
   "id": "b66d5fe8",
   "metadata": {},
   "outputs": [],
   "source": []
  },
  {
   "cell_type": "code",
   "execution_count": null,
   "id": "98310766",
   "metadata": {},
   "outputs": [],
   "source": []
  },
  {
   "cell_type": "markdown",
   "id": "a4a5d378",
   "metadata": {},
   "source": [
    "Looking at columns, we can see that all are **personal** and **sensitive**. Therefore, we will have to apply relevant techniques to each and every column. We need to initializing our dfAnonymizer object."
   ]
  },
  {
   "cell_type": "code",
   "execution_count": null,
   "id": "4777ae75",
   "metadata": {},
   "outputs": [],
   "source": []
  },
  {
   "cell_type": "markdown",
   "id": "739568c5",
   "metadata": {},
   "source": [
    "It’s important to know of what data type is a column before applying any functions. Let’s check the data types."
   ]
  },
  {
   "cell_type": "code",
   "execution_count": null,
   "id": "91c7f66e",
   "metadata": {},
   "outputs": [],
   "source": []
  },
  {
   "cell_type": "markdown",
   "id": "e0aa8c8b",
   "metadata": {},
   "source": [
    "Let’s see what methods are available to us."
   ]
  },
  {
   "cell_type": "code",
   "execution_count": null,
   "id": "00fbe203",
   "metadata": {},
   "outputs": [],
   "source": []
  },
  {
   "cell_type": "markdown",
   "id": "5de20d84",
   "metadata": {},
   "source": [
    "From the list that available_methods returned, we can find functions for each data type."
   ]
  },
  {
   "cell_type": "markdown",
   "id": "a0c811a3",
   "metadata": {},
   "source": [
    "## Attribute Suppression\n",
    "The removal of a data attribute (i.e. column of data, especially where such data is not needed in the dataset and may contain\n",
    "unique data values that cannot be anonymised further).\n",
    "\n",
    "Let's apply attribute suppression call ```column_suppression``` on the address and web column."
   ]
  },
  {
   "cell_type": "code",
   "execution_count": null,
   "id": "cac83c85",
   "metadata": {},
   "outputs": [],
   "source": []
  },
  {
   "cell_type": "markdown",
   "id": "04c930dc",
   "metadata": {},
   "source": [
    "## Character Masking\n",
    "\n",
    "Character masking refers to changing the characters of a data value. This can be done by using a consistent symbol (e.g. “*” or “x”). Masking is typically applied only to some characters in the attribute.\n",
    "\n",
    "Character masking is used when the data value is a string of characters and hiding part of it is sufficient to provide the extent of anonymity required.\n",
    "\n",
    "Let's apply partial email masking call ```categorical_email_masking``` on the email column."
   ]
  },
  {
   "cell_type": "code",
   "execution_count": null,
   "id": "42f3f418",
   "metadata": {},
   "outputs": [],
   "source": []
  },
  {
   "cell_type": "markdown",
   "id": "ab338c37",
   "metadata": {},
   "source": [
    "## Pseudonumisation\n",
    "Pseudonymisation refers to the replacement of identifying data with made-up values. It is also referred to as coding. Pseudonyms can be irreversible when the original values are disposed of properly and the pseudonymisation is done in a nonrepeatable fashion. They can also be reversible (by the owner of the original data) when the original values are securely kept, but can be retrieved and linked back to the pseudonym should the need arise.\n",
    "\n",
    "Pseudonymisation is used when data values need to be uniquely distinguished and no character or any other implied information about the direct identifiers of the original attribute are kept.\n",
    "\n",
    "Let's apply pseudonumisation call ```categorical_tokenization``` on the id column."
   ]
  },
  {
   "cell_type": "code",
   "execution_count": null,
   "id": "15a1754d",
   "metadata": {},
   "outputs": [],
   "source": []
  },
  {
   "cell_type": "markdown",
   "id": "3f4339a0",
   "metadata": {},
   "source": [
    "Create the mapping table."
   ]
  },
  {
   "cell_type": "code",
   "execution_count": null,
   "id": "04db7cf5",
   "metadata": {},
   "outputs": [],
   "source": []
  },
  {
   "cell_type": "markdown",
   "id": "5431545e",
   "metadata": {},
   "source": [
    "## Data Perturbation\n",
    "The modification of the values in the data by adding \"noise\" to the original data (e.g. +/- random values to the data). The degree of perturbation should be proportionate to the range of values of the attribute. For example, data perturbation would involve modifying salary data of an individual from \"256,654\" to \"260,000\" by rounding the data to the nearest 10,000. Alternatively, the individual's salary can be modified to \"250,554\" by subtracting a random number within $10,000 from its original value. \n",
    "\n",
    "Let's add some noise using the ```numeric_noise``` on the age column."
   ]
  },
  {
   "cell_type": "code",
   "execution_count": null,
   "id": "ae788ce6",
   "metadata": {},
   "outputs": [],
   "source": []
  },
  {
   "cell_type": "markdown",
   "id": "1f797381",
   "metadata": {},
   "source": [
    "Let's try applying ```numeric_rounding``` to salary column"
   ]
  },
  {
   "cell_type": "code",
   "execution_count": null,
   "id": "5cd0268e",
   "metadata": {},
   "outputs": [],
   "source": []
  },
  {
   "cell_type": "markdown",
   "id": "bd285eac",
   "metadata": {},
   "source": [
    "## Generalisation\n",
    "Generalisation is a deliberate reduction in the precision of data. Examples include converting a person’s age into an age range or a precise location into a less precise location. This technique is also referred to as recoding.\n",
    "\n",
    "Generalisation is used for values that can be generalised and still be useful for the intended purpose.\n",
    "\n",
    "Let's apply generalisation using the ```numeric_binning``` on the salary column."
   ]
  },
  {
   "cell_type": "code",
   "execution_count": null,
   "id": "012dfde9",
   "metadata": {},
   "outputs": [],
   "source": []
  },
  {
   "cell_type": "markdown",
   "id": "e55d7246",
   "metadata": {},
   "source": [
    "## Synthetic Data\n",
    "Apply heavy anonymisation to the original data to create synthetic data such that all data attributes (including target attributes) are modified significantly. The resulting dataset and individual records created using this methodology\n",
    "will not have any resemblance to any individual’s record and does not retain the characteristics of the original dataset.\n",
    "\n",
    "Let's substitute names in first_name column with fake ones. For that, we first have to check if Faker has a corresponding method for that. "
   ]
  },
  {
   "cell_type": "code",
   "execution_count": null,
   "id": "d0c1dd2e",
   "metadata": {},
   "outputs": [],
   "source": []
  },
  {
   "cell_type": "markdown",
   "id": "23b3a7e2",
   "metadata": {},
   "source": [
    "Faker has a method called ```first_name```, let's permutate the column."
   ]
  },
  {
   "cell_type": "code",
   "execution_count": null,
   "id": "7a4afeda",
   "metadata": {},
   "outputs": [],
   "source": []
  },
  {
   "cell_type": "markdown",
   "id": "7d8c1788",
   "metadata": {},
   "source": [
    "Faker also has methods for address and city. ```categorical_fake_auto``` method will change the city automatically because the column names correspond to the method names. For phone as the column name differ from the method name, we need to specify phone with phone_number method."
   ]
  },
  {
   "cell_type": "code",
   "execution_count": null,
   "id": "ebb42e40",
   "metadata": {},
   "outputs": [],
   "source": []
  },
  {
   "cell_type": "code",
   "execution_count": null,
   "id": "b601fb1f",
   "metadata": {},
   "outputs": [],
   "source": []
  },
  {
   "cell_type": "markdown",
   "id": "756fd053",
   "metadata": {},
   "source": [
    "## Summary of Anonymisation\n",
    "For a short summary on the anonymised methods used for the data call the ```info()``` method."
   ]
  },
  {
   "cell_type": "code",
   "execution_count": null,
   "id": "482c310f",
   "metadata": {},
   "outputs": [],
   "source": []
  },
  {
   "cell_type": "markdown",
   "id": "31f746ee",
   "metadata": {},
   "source": [
    "To apply all the different anonymise methods in a single line of code, you can use the ```anonymize``` method."
   ]
  },
  {
   "cell_type": "code",
   "execution_count": null,
   "id": "a6621723",
   "metadata": {},
   "outputs": [],
   "source": []
  }
 ],
 "metadata": {
  "kernelspec": {
   "display_name": "Python 3 (ipykernel)",
   "language": "python",
   "name": "python3"
  },
  "language_info": {
   "codemirror_mode": {
    "name": "ipython",
    "version": 3
   },
   "file_extension": ".py",
   "mimetype": "text/x-python",
   "name": "python",
   "nbconvert_exporter": "python",
   "pygments_lexer": "ipython3",
   "version": "3.9.13"
  }
 },
 "nbformat": 4,
 "nbformat_minor": 5
}
