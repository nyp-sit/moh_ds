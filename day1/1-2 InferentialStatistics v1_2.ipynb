{
 "cells": [
  {
   "cell_type": "markdown",
   "metadata": {
    "id": "PzpEfKWunk9r"
   },
   "source": [
    "<img src=\"https://nyp-aicourse.s3.ap-southeast-1.amazonaws.com/agods/nyp_ago_logo.png\" width='400'/>"
   ]
  },
  {
   "cell_type": "markdown",
   "metadata": {
    "id": "x6hTmXHi3oCo"
   },
   "source": [
    "# Lab 2 - Inferential Statistics"
   ]
  },
  {
   "cell_type": "markdown",
   "metadata": {
    "id": "xls74RI2hHLx"
   },
   "source": [
    "By the end of this practical you will be able to apply Inferential statistics methods using Python\n",
    "\n",
    "Goto Github to see the data files\n",
    "\n",
    "https://github.com/nyp-sit/agods/tree/main/day4\n",
    "\n"
   ]
  },
  {
   "cell_type": "markdown",
   "metadata": {
    "id": "jlXvyd8X3mIe",
    "tags": []
   },
   "source": [
    "## 1.  Case 1\n",
    "\n",
    "A physician is evaluating a new diet for her patients with a family history of heart disease. To test the effectiveness of this diet, 16 patients are placed on the diet for 6 months. Their weights and triglyceride levels are measured before and after the study, and the physician wants to know if either set of measurements has changed due to the introduction of the diet. (Data set: dietstudy.csv)\n",
    "\n",
    "\n"
   ]
  },
  {
   "cell_type": "markdown",
   "metadata": {
    "id": "8KJwjJRAvOU5"
   },
   "source": [
    "### What type of hypothesis test to use?\n",
    "\n",
    "\n",
    "<details><summary>Click here for answer</summary>\n",
    "<br/>\n",
    "Two Sample T-Test (Paired)\n",
    "<br/>\n",
    "</details>\n",
    "<br/>"
   ]
  },
  {
   "cell_type": "code",
   "execution_count": 1,
   "metadata": {
    "executionInfo": {
     "elapsed": 1457,
     "status": "ok",
     "timestamp": 1689730939508,
     "user": {
      "displayName": "NYP weech",
      "userId": "03211871160483530494"
     },
     "user_tz": -480
    },
    "id": "ujFjuPlV3mIf"
   },
   "outputs": [],
   "source": [
    "import numpy as np\n",
    "import pandas as pd\n",
    "import matplotlib.pyplot as plt\n",
    "import scipy.stats as stats\n",
    "%matplotlib inline"
   ]
  },
  {
   "cell_type": "markdown",
   "metadata": {
    "id": "FzUn6gCK33uP"
   },
   "source": [
    "### Read the dataset\n",
    "\n",
    "\n",
    "<details><summary>Click here for answer</summary>\n",
    "<br/>\n",
    "\n",
    "upload the file dietstudy.csv using the Upload to session storage\n",
    "\n",
    "```\n",
    "diet = pd.read_csv('dietstudy.csv')\n",
    "diet.head()\n",
    "```\n",
    "<br/>\n",
    "</details>\n",
    "\n",
    "\n",
    "\n",
    "\n",
    "\n"
   ]
  },
  {
   "cell_type": "code",
   "execution_count": null,
   "metadata": {
    "id": "HzLEYFAq9HMx"
   },
   "outputs": [],
   "source": [
    "#Add code\n"
   ]
  },
  {
   "cell_type": "markdown",
   "metadata": {
    "id": "Ll2fwZzx4Hpj"
   },
   "source": [
    "Check dataset size\n",
    "\n",
    "<details><summary>Click here for answer</summary>\n",
    "<br/>\n",
    "\n",
    "```\n",
    "diet.shape\n",
    "```\n",
    "\n",
    "<br/>\n",
    "</details>\n",
    "\n",
    "<br/>\n",
    "\n",
    "\n",
    "\n"
   ]
  },
  {
   "cell_type": "code",
   "execution_count": null,
   "metadata": {
    "id": "V8XKSU884P4z"
   },
   "outputs": [],
   "source": [
    "#Add code"
   ]
  },
  {
   "cell_type": "markdown",
   "metadata": {
    "id": "2L3YSmvg3mIh"
   },
   "source": [
    "### Identify Test Statistic\n",
    "\n",
    "Find the mean for the triglyceride and Weights before and after the diet.\n",
    "\n",
    "<details><summary>Click here for answer</summary>\n",
    "<br/>\n",
    "\n",
    "Two Sample T-Test (Paired)\n",
    "\n",
    "```\n",
    "print(\"The triglyceride levels of patients were {}\".format(diet.tg0.mean()))\n",
    "print(\"The final triglyceride levels of patients are {}\".format(diet.tg4.mean()))\n",
    "print(\"The weights of pateints were {}\".format(diet.wgt0.mean()))\n",
    "print(\"The final weights of pateints are {}\".format(diet.wgt4.mean()))\n",
    "```\n",
    "\n",
    "\n",
    "    \n",
    "<br/>\n",
    "</details>\n",
    "\n",
    "\n",
    "\n",
    "\n",
    "\n"
   ]
  },
  {
   "cell_type": "code",
   "execution_count": null,
   "metadata": {
    "id": "V4GkuSV_6weT"
   },
   "outputs": [],
   "source": [
    "#Add code"
   ]
  },
  {
   "cell_type": "markdown",
   "metadata": {
    "id": "nDAyf99B3mIi"
   },
   "source": [
    "#### Triglycerides\n",
    "\n",
    "H0:  levels of Triglycerides of individual before diet == levels of Triglycerides of individual after diet\n",
    "\n",
    "H1:  levels of Triglycerides of individual before diet != levels of Triglycerides of individual after diet\n",
    "\n",
    "Use:<br>\n",
    "import scipy.stats as stats <br>\n",
    "stats.ttest_rel() <br>\n",
    "https://docs.scipy.org/doc/scipy/reference/generated/scipy.stats.ttest_rel.html<br>\n",
    "\n",
    "<details><summary>Click here for answer</summary>\n",
    "<br/>\n",
    "\n",
    "\n",
    "```\n",
    "stage1_trig = stats.ttest_rel(a=diet.tg0,b=diet.tg4)\n",
    "\n",
    "#a =triglyceride levels before diet\n",
    "#b = triglyceride levels after diet\n",
    "```\n",
    "\n",
    "Get the pvalue\n",
    "\n",
    "```\n",
    "stage1_trig.pvalue\n",
    "```\n",
    "\n",
    "Check pvalue with confidence level 0.025\n",
    "\n",
    "\n",
    "```\n",
    "stage1_trig.pvalue>0.025\n",
    "```\n",
    "\n",
    "\n",
    "    \n",
    "<br/>\n",
    "</details>\n",
    "\n",
    "<br/>\n",
    "\n",
    "\n",
    "\n"
   ]
  },
  {
   "cell_type": "code",
   "execution_count": null,
   "metadata": {
    "id": "MSRMvBdn69un"
   },
   "outputs": [],
   "source": [
    "#Add code\n",
    "#T test"
   ]
  },
  {
   "cell_type": "code",
   "execution_count": null,
   "metadata": {
    "id": "tjXB-jEe-MAH"
   },
   "outputs": [],
   "source": [
    "#Add code\n",
    "#get p-value"
   ]
  },
  {
   "cell_type": "code",
   "execution_count": null,
   "metadata": {
    "id": "DEh6vFq1-MOI"
   },
   "outputs": [],
   "source": [
    "#Add code\n",
    "#check significant -check p-value with alpha"
   ]
  },
  {
   "cell_type": "markdown",
   "metadata": {
    "id": "hnWBBvAP3mIj"
   },
   "source": [
    "#### Weights\n",
    "\n",
    "H0:  weights of individual before diet == weights of individual after diet\n",
    "\n",
    "H1:  weights of individual before diet != weights of individual after diet\n",
    "\n",
    "\n",
    "\n",
    "<details><summary>Click here for answer</summary>\n",
    "<br/>\n",
    "\n",
    "```\n",
    "stage2_weight = stats.ttest_rel(a=diet.wgt0,b=diet.wgt4)\n",
    "\n",
    "#a = weights before diet\n",
    "#b = weights after diet\n",
    "```\n",
    "\n",
    "Get pvalue\n",
    "\n",
    "```\n",
    "stage2_weight.pvalue\n",
    "```\n",
    "\n",
    "Check pvalue with confidence level 0.025\n",
    "\n",
    "\n",
    "```\n",
    "stage2_weight.pvalue>0.025\n",
    "```\n",
    "\n",
    "<br/>\n",
    "</details>\n",
    "\n",
    "<br/>\n",
    "\n",
    "\n",
    "\n",
    "\n",
    "\n",
    "\n"
   ]
  },
  {
   "cell_type": "code",
   "execution_count": null,
   "metadata": {
    "id": "PT4SsCj6BgSd"
   },
   "outputs": [],
   "source": [
    "#Add code\n",
    "#T test"
   ]
  },
  {
   "cell_type": "code",
   "execution_count": null,
   "metadata": {
    "id": "sC4vprmKBmmw"
   },
   "outputs": [],
   "source": [
    "#Add code\n",
    "#get p-value"
   ]
  },
  {
   "cell_type": "code",
   "execution_count": null,
   "metadata": {
    "id": "DWmgtPUOBpZK"
   },
   "outputs": [],
   "source": [
    "#Add code\n",
    "#check significant -check p-value with alpha"
   ]
  },
  {
   "cell_type": "markdown",
   "metadata": {
    "id": "CbcWtLpR3mIk"
   },
   "source": [
    "### Conclusions\n",
    "\n",
    "\n",
    "<details><summary>Click here for answer</summary>\n",
    "<br/>\n",
    "\n",
    "\n",
    "1.   However, the p-value greater than 0.025 for change in triglyceride level shows the diet did not significantly reduce their triglyceride levels. Accept Null Hypothesis\n",
    "2.   Since the p-value for change in weight is less than 0.025,we can conclude that the average loss of 8.06 pounds per patient is not due to chance variation, and can be attributed to the diet. Reject Null Hypothesis\n",
    "\n",
    "\n",
    "<br/>\n",
    "</details>\n",
    "\n",
    "<br/>\n",
    "\n",
    "\n",
    "\n"
   ]
  },
  {
   "cell_type": "markdown",
   "metadata": {
    "id": "3_X-DdUE3mIk",
    "jp-MarkdownHeadingCollapsed": true,
    "tags": []
   },
   "source": [
    "## 2. Case 2\n",
    "An analyst at a department store wants to evaluate a recent credit card promotion. 500 cardholders were randomly selected. Half of them received an ad promoting with reduced interest rate on purchases made over the next three months, and the other half received a standard seasonal ad.\n",
    "Sales data was collected for the half with ad promting with reduced interest\n",
    "and the other half with the standard seaonal ad.\n",
    "\n",
    "Is the promotion effective to increase sales?\n"
   ]
  },
  {
   "cell_type": "markdown",
   "metadata": {
    "id": "jyGwJYkMvOU8"
   },
   "source": [
    "\n",
    "### What type of hypothesis test to use?\n",
    "\n",
    "<details><summary>Click here for answer</summary>\n",
    "<br/>\n",
    "Two Sample T-Test (Indepedent)\n",
    "<br/>\n",
    "</details>\n"
   ]
  },
  {
   "cell_type": "markdown",
   "metadata": {
    "id": "zh8kvVNV_NSP"
   },
   "source": [
    "### Read dataset\n",
    "\n",
    "<details><summary>Click here for answer</summary>\n",
    "<br/>\n",
    "\n",
    "upload the file creditpromo.csv using the Upload to session storage\n",
    "\n",
    "```\n",
    "analyst_cre = pd.read_csv('creditpromo.csv')\n",
    "\n",
    "analyst_cre.head()\n",
    "```\n",
    "<br/>\n",
    "</details>\n",
    "\n",
    "<br/>\n",
    "\n",
    "\n"
   ]
  },
  {
   "cell_type": "code",
   "execution_count": null,
   "metadata": {
    "id": "lnb7fRhK_MXh"
   },
   "outputs": [],
   "source": [
    "#Add code"
   ]
  },
  {
   "cell_type": "markdown",
   "metadata": {
    "id": "DrO9LCkg_m6z"
   },
   "source": [
    "### Get mean for Standard and New Promotion\n",
    "\n",
    "<details><summary>Click here for answer</summary>\n",
    "<br/>\n",
    "\n",
    "```\n",
    "\n",
    "standard = analyst_cre['dollars'].loc[analyst_cre['insert']==\"Standard\"]\n",
    "\n",
    "promotion = analyst_cre['dollars'].loc[analyst_cre['insert']==\"New Promotion\"]\n",
    "\n",
    "print(\"The average spent by the normal ad is ${}\".format(standard.mean()))\n",
    "\n",
    "print(\"The average spent by the promotion ad is ${}\".format(promotion.mean()))\n",
    "\n",
    "```\n",
    "<br/>\n",
    "</details>\n",
    "\n",
    "<br/>\n",
    "\n",
    "\n",
    "\n",
    "\n"
   ]
  },
  {
   "cell_type": "code",
   "execution_count": null,
   "metadata": {
    "id": "TFCDTK_HGM1k"
   },
   "outputs": [],
   "source": [
    "#Add code"
   ]
  },
  {
   "cell_type": "markdown",
   "metadata": {
    "id": "B8_3WXA33mIl"
   },
   "source": [
    "### What is the observation for the 2 means ?\n",
    "<br>\n",
    "\n",
    "<details><summary>Click here for answer</summary>\n",
    "<br/>\n",
    "On average, customers who received the interest-rate promotion charged about $70 more than the normal standard season ad, and they vary a little more around their average\n",
    "<br/>\n",
    "</details>\n",
    "\n",
    "<br/>\n",
    "\n"
   ]
  },
  {
   "cell_type": "markdown",
   "metadata": {
    "id": "LRSKp4mf_3Y-",
    "tags": []
   },
   "source": [
    "### Perform the hpyothesis test\n",
    "\n",
    "What are the hypothesis statements?\n",
    "\n",
    "\n",
    "H0:  Promotion is not effective to increase sales\n",
    "\n",
    "H1:  Promotion is  effective to increase sales\n",
    "<br>\n",
    "https://docs.scipy.org/doc/scipy/reference/generated/scipy.stats.ttest_ind.html<br>\n",
    "\n",
    "<br>\n",
    "\n",
    "\n",
    "<details><summary>Click here for answer</summary>\n",
    "<br/>\n",
    "\n",
    "2 sample T test independent\n",
    "\n",
    "```\n",
    "eq_var = stats.ttest_ind(a= standard,b= promotion)   \n",
    "\n",
    "eq_var.pvalue\n",
    "\n",
    "p = eq_var.pvalue\n",
    "\n",
    "print(\" For the above test, the p-value is {}\".format(p))\n",
    "\n",
    "if(p<0.025):\n",
    "    print('We reject null hypothesis')\n",
    "else:\n",
    "    print('We accept null hypothesis')\n",
    "\n",
    "\n",
    "```\n",
    "<br/>\n",
    "</details>\n",
    "\n",
    "<br/>\n",
    "\n",
    "\n"
   ]
  },
  {
   "cell_type": "code",
   "execution_count": null,
   "metadata": {
    "id": "65UFHxw8FDZz"
   },
   "outputs": [],
   "source": [
    "#Add code"
   ]
  },
  {
   "cell_type": "markdown",
   "metadata": {
    "id": "8C6G_ii-3mIm"
   },
   "source": [
    "### Conclusion\n",
    "<details><summary>Click here for answer</summary>\n",
    "<br/>\n",
    "* Since the significance value of the test is less than 0.025, we can safely conclude that the average of 71.11 dollars more spent by cardholders receiving the reduced interest rate is not due to chance alone. The store will now consider extending the offer to all credit customers.\n",
    "<br/>\n",
    "</details>\n",
    "\n",
    "\n"
   ]
  },
  {
   "cell_type": "markdown",
   "metadata": {
    "id": "RUry01DT3mIn",
    "jp-MarkdownHeadingCollapsed": true,
    "tags": []
   },
   "source": [
    "## 3. Case 3 - Execrise\n",
    "An experiment is conducted to study the hybrid seed production of bottle gourd under open field conditions. The main aim of the investigation is to compare natural pollination and hand pollination. The data are collected on 10 randomly selected plants from each of natural pollination and hand pollination. The data are collected on fruit weight (kg), seed yield/plant (g) and seedling length (cm). (Data set: pollination.csv)\n",
    "<br>\n",
    "\n",
    "\n"
   ]
  },
  {
   "cell_type": "markdown",
   "metadata": {
    "id": "McxKllCcedPs"
   },
   "source": [
    "### Load the data\n",
    "<br>\n",
    "<details><summary>Click here for answer</summary>\n",
    "<br/>\n",
    "\n",
    "upload the file pollination.csv using the Upload to session storage\n",
    "```\n",
    "poll = pd.read_csv('pollination.csv')\n",
    "poll.head()\n",
    "```\n",
    "<br/>\n",
    "</details>\n",
    "\n",
    "<br/>"
   ]
  },
  {
   "cell_type": "markdown",
   "metadata": {
    "id": "HGgTLSqm6zgU"
   },
   "source": [
    "### a. Is the overall population of Seed yield/plant (g) equals to 200?"
   ]
  },
  {
   "cell_type": "markdown",
   "metadata": {
    "id": "1pMhEFu23mIn"
   },
   "source": [
    "\n",
    "<br>\n",
    "\n",
    "what type of hypothesis test to use?<br>\n",
    "\n",
    "<details><summary>Click here for answer</summary>\n",
    "<br/>\n",
    "One Sample t-Test\n",
    "<br/>\n",
    "</details>\n",
    "<br/>\n",
    "\n",
    "\n",
    "\n",
    "\n",
    "\n",
    "\n"
   ]
  },
  {
   "cell_type": "code",
   "execution_count": null,
   "metadata": {
    "id": "KBYFLejER8jG"
   },
   "outputs": [],
   "source": [
    "#Add code"
   ]
  },
  {
   "cell_type": "markdown",
   "metadata": {
    "id": "7RHKhUGrSGWw"
   },
   "source": [
    "Find the mean for Seed yield/plant\n",
    "<br>\n",
    "<details><summary>Click here for answer</summary>\n",
    "<br/>\n",
    "\n",
    "```\n",
    "\n",
    "poll.Seed_Yield_Plant.mean()\n",
    "\n",
    "\n",
    "```\n",
    "<br/>\n",
    "</details>\n",
    "\n",
    "\n",
    "\n",
    "\n",
    "\n"
   ]
  },
  {
   "cell_type": "code",
   "execution_count": null,
   "metadata": {
    "id": "sb2oBJgQSdOb"
   },
   "outputs": [],
   "source": [
    "#Add code"
   ]
  },
  {
   "cell_type": "markdown",
   "metadata": {
    "id": "uk9jrnSJSzfM"
   },
   "source": [
    "One sample T Test\n",
    "\n",
    "\n",
    "H0:  Overall population mean of seed yield plant equal to 200\n",
    "\n",
    "H1:  Overall population mean of seed yield plant not equal to 200\n",
    "\n",
    "\n",
    "\n",
    "<br>\n",
    "https://docs.scipy.org/doc/scipy/reference/generated/scipy.stats.ttest_1samp.html<br>\n",
    "\n",
    "<br>\n",
    "<details><summary>Click here for answer</summary>\n",
    "<br/>\n",
    "\n",
    "```\n",
    "\n",
    "ttest_1 = stats.ttest_1samp(a=poll.Seed_Yield_Plant,popmean = 200)\n",
    "\n",
    "p_value = ttest_1.pvalue\n",
    "\n",
    "print(\"The p value is {}\".format(p_value))\n",
    "\n",
    "if(p<0.025):\n",
    "    print('We reject null hypothesis')\n",
    "else:\n",
    "    print('We accept null hypothesis')\n",
    "\n",
    "\n",
    "#Alernative code\n",
    "ttest_1 = stats.ttest_1samp(a=poll.Seed_Yield_Plant, popmean = 200,alternative='two-sided')\n",
    "\n",
    "p_value = ttest_1.pvalue\n",
    "print(\"The p value is {} \".format(p_value))\n",
    "\n",
    "```\n",
    "<br/>\n",
    "</details>\n",
    "\n",
    "\n",
    "\n"
   ]
  },
  {
   "cell_type": "code",
   "execution_count": null,
   "metadata": {
    "id": "E5brw5mDTAcO"
   },
   "outputs": [],
   "source": [
    "#Add code"
   ]
  },
  {
   "cell_type": "markdown",
   "metadata": {
    "id": "PZ3rWB8f3mIp"
   },
   "source": [
    "Conclusion\n",
    "\n",
    "<br>\n",
    "<details><summary>Click here for answer</summary>\n",
    "<br/>\n",
    "\n",
    "* Since the significance value of the test is more than 0.025, we accept the null hypothesis. Therefore overall population of seed yield/plant is equal to 200.\n",
    "<br/>\n",
    "</details>\n",
    "\n"
   ]
  },
  {
   "cell_type": "markdown",
   "metadata": {
    "id": "wYbgPlGW3mIp"
   },
   "source": [
    "### b. Test whether the natural pollination and hand pollination under open field conditions are equally effective or are significantly different."
   ]
  },
  {
   "cell_type": "markdown",
   "metadata": {
    "id": "MgJakL7T3mIp"
   },
   "source": [
    "\n",
    "\n",
    "what type of hypothesis test to use?<br>\n",
    "\n",
    "\n",
    "<details><summary>Click here for answer</summary>\n",
    "<br/>\n",
    "2 sample t-test independent\n",
    "\n",
    "<br/>\n",
    "</details>\n",
    "\n",
    "\n"
   ]
  },
  {
   "cell_type": "markdown",
   "metadata": {
    "id": "qd3cd-6SfOoo"
   },
   "source": [
    "What are the hypothesis statement?\n",
    "\n",
    "<details><summary>Click here for answer</summary>\n",
    "<br/>\n",
    "\n",
    "H0  : mean Fruit_Wt(Natural) == mean Fruit_Wt(Hand)\n",
    "\n",
    "H1  : mean Fruit_Wt(Natural) != mean Fruit_Wt(Hand)\n",
    "\n",
    "<br/>\n",
    "</details>\n",
    "\n",
    "<br/>\n"
   ]
  },
  {
   "cell_type": "markdown",
   "metadata": {
    "id": "L7yOGP4Bfy61"
   },
   "source": [
    "\n",
    "Extract data for Natural and Hand pollination\n",
    "\n",
    "<details><summary>Click here for answer</summary>\n",
    "<br/>\n",
    "\n",
    "```\n",
    "natural_fruit_wt = poll['Fruit_Wt'].loc[poll['Group']==\"Natural\"]\n",
    "hand_fruit_wt = poll['Fruit_Wt'].loc[poll['Group']==\"Hand\"]\n",
    "\n",
    "\n",
    "```\n",
    "<br/>\n",
    "</details>\n",
    "\n",
    "<br/>"
   ]
  },
  {
   "cell_type": "code",
   "execution_count": null,
   "metadata": {
    "id": "YiUeN9yZUWoc"
   },
   "outputs": [],
   "source": [
    "#Add code"
   ]
  },
  {
   "cell_type": "markdown",
   "metadata": {
    "id": "wdxM0BBGOp2u"
   },
   "source": [
    "\n",
    "Perform hypothesis test\n",
    "\n",
    "<details><summary>Click here for answer</summary>\n",
    "<br/>\n",
    "\n",
    "```\n",
    "\n",
    "\n",
    "# Perfrom 2 sample t test independent\n",
    "eq_var = stats.ttest_ind(a= natural_fruit_wt ,\n",
    "                b= hand_fruit_wt )    # equal variance\n",
    "eq_var.statistic\n",
    "eq_var.pvalue\n",
    "```\n",
    "\n",
    "\n",
    "\n",
    "<br/>\n",
    "</details>\n",
    "\n",
    "<br/>\n"
   ]
  },
  {
   "cell_type": "code",
   "execution_count": null,
   "metadata": {
    "id": "6X-WLSp6OtEv"
   },
   "outputs": [],
   "source": [
    "#Add code"
   ]
  },
  {
   "cell_type": "markdown",
   "metadata": {
    "id": "S0glLuupPb1J"
   },
   "source": [
    "Conclusion\n",
    "\n",
    "<br>\n",
    "<details><summary>Click here for answer</summary>\n",
    "<br/>\n",
    "\n",
    "* Since the all the test p-value is less than 0.025, we reject the null hypothesis. Therefore they are significant different in natural pollination and hand pollination .\n",
    "<br/>\n",
    "</details>"
   ]
  },
  {
   "cell_type": "markdown",
   "metadata": {
    "id": "RyBePdGx3mIq",
    "jp-MarkdownHeadingCollapsed": true,
    "tags": []
   },
   "source": [
    "## 4. Case 4\n",
    "An electronics firm is developing a new DVD player in response to customer requests. Using a prototype, the marketing team has collected focus data for different age groups viz. Under 25; 25-34; 35-44; 45-54; 55-64; 65 and above. Do you think that consumers of various ages rated the design differently? (Data set: dvdplayer.csv)<br>\n",
    "<br>\n",
    "\n",
    "\n"
   ]
  },
  {
   "cell_type": "markdown",
   "metadata": {
    "id": "vdNHhUbuvOVD"
   },
   "source": [
    "### what type of hypothesis test to use?*\n",
    "\n",
    "<details><summary>Click here for answer</summary>\n",
    "<br/>\n",
    "F-Test/Anova\n",
    "<br/>\n",
    "</details>\n"
   ]
  },
  {
   "cell_type": "markdown",
   "metadata": {
    "id": "xab4JuUoYjxs"
   },
   "source": [
    "### Load dataset\n",
    "\n",
    "<details><summary>Click here for answer</summary>\n",
    "<br/>\n",
    "\n",
    "upload the file dvdplayer.csv using the Upload to session storage\n",
    "\n",
    "\n",
    "\n",
    "```\n",
    "\n",
    "dvd = pd.read_csv('dvdplayer.csv')\n",
    "\n",
    "dvd.head()\n",
    "\n",
    "```\n",
    "<br/>\n",
    "</details>\n",
    "\n",
    "<br/>\n",
    "\n",
    "\n"
   ]
  },
  {
   "cell_type": "code",
   "execution_count": null,
   "metadata": {
    "id": "RHRTmYBEXxQ5"
   },
   "outputs": [],
   "source": [
    "#Add code"
   ]
  },
  {
   "cell_type": "markdown",
   "metadata": {
    "id": "Ry3XOvq23mIq"
   },
   "source": [
    "### Identify Test Statistic\n",
    "\n",
    "\n",
    "\n",
    "\n"
   ]
  },
  {
   "cell_type": "markdown",
   "metadata": {
    "id": "Ax77mg5yhKF_"
   },
   "source": [
    "<br>\n",
    "\n",
    "\n",
    "<details><summary>Click here for answer</summary>\n",
    "<br/>\n",
    "\n",
    "H0  : mean  (age_group_1(65 and over)) == mean(age_group_2(55-64)) == mean(age_group3(Under 25)) == mean(age_group4(35-54)) == mean(age_group5(45-54)) == mean(age_group_6(25-34))\n",
    "                       (Consumers of various age groups rated the design similarly)\n",
    "                       \n",
    " Ha  : mean(age_group_1(65 and over)) != mean(age_group_2(55-64)) != mean(age_group3(Under 25))!= mean(age_group4(35-54)) != mean(age_group5(45-54)) != mean(age_group_6(25-34))\n",
    "                         \n",
    "(Consumers of various age groups rated the design differently)\n",
    "\n",
    "\n",
    "<br/>\n",
    "</details>\n",
    "\n",
    "<br/>"
   ]
  },
  {
   "cell_type": "markdown",
   "metadata": {
    "id": "twTo5Nrtgg1b"
   },
   "source": [
    "### Extract data for each group\n",
    "\n",
    "\n",
    "<br>\n",
    "\n",
    "\n",
    "<details><summary>Click here for answer</summary>\n",
    "<br/>\n",
    "\n",
    "F-Test/Anova\n",
    "\n",
    "```\n",
    "\n",
    "age_group_1 = dvd['dvdscore'].loc[dvd['agegroup']==\"65 and over\"]\n",
    "age_group_2 = dvd['dvdscore'].loc[dvd['agegroup']==\"55-64\"]\n",
    "age_group_3 = dvd['dvdscore'].loc[dvd['agegroup']==\"Under 25\"]\n",
    "age_group_4 = dvd['dvdscore'].loc[dvd['agegroup']==\"35-44\"]\n",
    "age_group_5 = dvd['dvdscore'].loc[dvd['agegroup']==\"45-54\"]\n",
    "age_group_6 = dvd['dvdscore'].loc[dvd['agegroup']==\"25-34\"]\n",
    "\n",
    "```\n",
    "<br/>\n",
    "</details>\n",
    "\n",
    "<br/>"
   ]
  },
  {
   "cell_type": "code",
   "execution_count": null,
   "metadata": {
    "id": "MUi4XeQ6YAkX"
   },
   "outputs": [],
   "source": [
    "#Add code"
   ]
  },
  {
   "cell_type": "markdown",
   "metadata": {
    "id": "lgkqV1wHYDnG"
   },
   "source": [
    "### Perform F-Test/Anova\n",
    "<br>\n",
    "https://docs.scipy.org/doc/scipy/reference/generated/scipy.stats.f_oneway.html<br>\n",
    "<br>\n",
    "\n",
    "<details><summary>Click here for answer</summary>\n",
    "<br/>\n",
    "\n",
    "\n",
    "```\n",
    "\n",
    "# Perfrom the Anova\n",
    "anova = stats.f_oneway(age_group_1,age_group_2,age_group_3,age_group_4,age_group_5,age_group_6)\n",
    "# Statistic :  F Value\n",
    "p = anova.pvalue\n",
    "print(\"The p value is {}\".format(p))\n",
    "if(p<0.025):\n",
    "    print('We reject null hypothesis')\n",
    "else:\n",
    "    print('We fail to reject null hypothesis')\n",
    "\n",
    "```\n",
    "\n",
    "<br/>\n",
    "</details>\n",
    "\n",
    "<br/>\n",
    "\n",
    "\n",
    "\n"
   ]
  },
  {
   "cell_type": "code",
   "execution_count": null,
   "metadata": {
    "id": "NssolWr2YMXV"
   },
   "outputs": [],
   "source": [
    "#Add code"
   ]
  },
  {
   "cell_type": "markdown",
   "metadata": {
    "id": "D_uTsBWkXkPU"
   },
   "source": [
    "### Conclusion\n",
    "\n",
    "<details><summary>Click here for answer</summary>\n",
    "<br/>\n",
    "* Since the significance value of the test is less than 0.025, we reject the null hypothesis. Therefore,consumers of various ages rated the design differently\n",
    "<br/>\n",
    "</details>\n",
    "\n",
    "\n",
    "\n",
    "\n"
   ]
  },
  {
   "cell_type": "markdown",
   "metadata": {
    "id": "2cZucLncZMcJ",
    "jp-MarkdownHeadingCollapsed": true,
    "tags": []
   },
   "source": [
    "## 5. Case 5 - Execrise\n",
    "A doctor is evaluating a new medicine for her patients with a high blood pressure. To test the effectiveness of this medicine,the blood pressure before the medicine and after medicine are recorded.\n"
   ]
  },
  {
   "cell_type": "markdown",
   "metadata": {
    "id": "LjTPGtnDZb8c"
   },
   "source": [
    "### Load dataset\n",
    "\n",
    "load the blood_pressure.csv\n",
    "\n",
    "\n",
    "<details><summary>Click here for answer</summary>\n",
    "<br/>\n",
    "\n",
    "upload the file blood_pressure.csv using the Upload to session storage\n",
    "\n",
    "```\n",
    "\n",
    "df = pd.read_csv('blood_pressure.csv')\n",
    "df.head()\n",
    "\n",
    "```\n",
    "\n",
    "<br/>\n",
    "</details>\n",
    "\n",
    "<br/>\n",
    "\n",
    "\n",
    "\n",
    "\n"
   ]
  },
  {
   "cell_type": "code",
   "execution_count": null,
   "metadata": {
    "id": "_Ckpaw7TakJL"
   },
   "outputs": [],
   "source": [
    "#Add code"
   ]
  },
  {
   "cell_type": "markdown",
   "metadata": {
    "id": "tGiXIhV9asim"
   },
   "source": [
    "### Check the basic statistics for the data\n",
    "\n",
    "Check the blood pressure before the medicine and after medicine\n",
    "\n",
    "<details><summary>Click here for answer</summary>\n",
    "<br/>\n",
    "\n",
    "```\n",
    "\n",
    "print(df[['bp_before','bp_after']].describe())\n",
    "\n",
    "```\n",
    "<br/>\n",
    "</details>\n",
    "\n",
    "<br/>\n",
    "\n",
    "\n",
    "\n"
   ]
  },
  {
   "cell_type": "code",
   "execution_count": null,
   "metadata": {
    "id": "yGeh-iKjazwN"
   },
   "outputs": [],
   "source": [
    "#Add code"
   ]
  },
  {
   "cell_type": "markdown",
   "metadata": {
    "id": "sI7s9CdXa_9B"
   },
   "source": [
    "### What type of hypothesis test to use?\n",
    "\n",
    "\n",
    "<details><summary>Click here for answer</summary>\n",
    "<br/>\n",
    "Paried Sample T Test\n",
    "\n",
    "H0 : bp_before == bp_after\n",
    "\n",
    "H1 : bp_before != bp_after\n",
    "<br>\n",
    "Use:\n",
    "import scipy.stats as stats\n",
    "stats.ttest_rel()\n",
    "\n",
    "https://docs.scipy.org/doc/scipy/reference/generated/scipy.stats.ttest_rel.html\n",
    "<br>\n",
    "\n",
    "<br/>\n",
    "</details>\n",
    "<br/>\n",
    "\n",
    "\n",
    "\n"
   ]
  },
  {
   "cell_type": "markdown",
   "metadata": {
    "id": "LOLszIGR6uel"
   },
   "source": [
    "### How to test using python code?"
   ]
  },
  {
   "cell_type": "markdown",
   "metadata": {
    "id": "7CaQMv1o7LQy"
   },
   "source": [
    "<details><summary>Click here for answer</summary>\n",
    "<br/>\n",
    "\n",
    "```\n",
    "\n",
    "#T Test need data not more than 30\n",
    "random_no=100\n",
    "df1 = df[(df[\"sex\"]==\"Female\") &  (df[\"agegrp\"]==\"30-45\")].sample(n=5, random_state=random_no)\n",
    "df2 = df[(df[\"sex\"]==\"Female\") &  (df[\"agegrp\"]==\"46-59\")].sample(n=5, random_state=random_no)\n",
    "df3 = df[(df[\"sex\"]==\"Female\") &  (df[\"agegrp\"]==\"60+\")].sample(n=5, random_state=random_no)\n",
    "df4 = df[(df[\"sex\"]==\"Male\") &  (df[\"agegrp\"]==\"30-45\")].sample(n=5, random_state=random_no)\n",
    "df5 = df[(df[\"sex\"]==\"Male\") &  (df[\"agegrp\"]==\"46-59\")].sample(n=5, random_state=random_no)\n",
    "df6 = df[(df[\"sex\"]==\"Male\") &  (df[\"agegrp\"]==\"60+\")].sample(n=5, random_state=random_no)\n",
    "\n",
    "dfall=pd.concat([df1, df2, df3, df4, df5, df6], ignore_index=True)\n",
    "dfall[['bp_before','bp_after']]\n",
    "\n",
    "bloodPressureResult = stats.ttest_rel(a=dfall['bp_before'],b=dfall['bp_after'])\n",
    "bloodPressureResult\n",
    "# a = bp_berfore\n",
    "# b = bp_after\n",
    "\n",
    "#pvalue < 0.025 ->reject null hypothesis\n",
    "#pvalue > 0.025 ->accept null hypothesis\n",
    "\n",
    "\n",
    "bp_before mean equal bp_after mean\n",
    "\n",
    "```\n",
    "\n",
    "<br/>\n",
    "</details>\n",
    "\n",
    "<br/>\n",
    "\n"
   ]
  },
  {
   "cell_type": "code",
   "execution_count": null,
   "metadata": {
    "id": "p3cweS7ebOWr"
   },
   "outputs": [],
   "source": [
    "import numpy as np\n",
    "import pandas as pd\n",
    "import matplotlib.pyplot as plt\n",
    "import scipy.stats as stats\n",
    "%matplotlib inline\n",
    "#Add code"
   ]
  },
  {
   "cell_type": "markdown",
   "metadata": {
    "id": "jh-F4zVhOl1u",
    "jp-MarkdownHeadingCollapsed": true,
    "tags": []
   },
   "source": [
    "## 6. Case 6\n",
    "\n",
    "Titanic dataset is a dataset containing details of passengers on board Titanic when it met with its fate in 1912. In this example we will test the titanic survivor is indepenedent on Passenger class.\n",
    "\n"
   ]
  },
  {
   "cell_type": "markdown",
   "metadata": {
    "id": "T8j5RhEZvOVG",
    "tags": []
   },
   "source": [
    "### What type of hypothesis test to use?\n",
    "\n",
    "Formulate the hypothesis statements\n",
    "\n",
    "\n",
    "<details><summary>Click here for answer</summary>\n",
    "<br/>\n",
    "Chi Square Test\n",
    "\n",
    "H0 :titanic survivor is indepenedent on Passenger class\n",
    "\n",
    "H1 : titanic survivor is NOT indepenedent on Passenger class\n",
    "<br>\n",
    "\n",
    "\n",
    "\n",
    "Use:\n",
    "from scipy.stats import chi2_contingency\n",
    "\n",
    "\n",
    "<br>\n",
    "\n",
    "<br/>\n",
    "</details>\n",
    "<br/>"
   ]
  },
  {
   "cell_type": "markdown",
   "metadata": {
    "id": "kAZV7uAgbOLm"
   },
   "source": [
    "### Use pandas read_csv to load the day.csv dataset\n",
    "\n",
    "<details><summary>Click here for answer</summary>\n",
    "<br/>\n",
    "\n",
    "data = pd.read_csv(\"titanic.csv\", index_col='PassengerId', usecols=['PassengerId','Pclass','Survived'])\n",
    "\n",
    "data.head()\n",
    "\n",
    "<br>\n",
    "\n",
    "<br/>\n",
    "</details>\n",
    "<br/>"
   ]
  },
  {
   "cell_type": "code",
   "execution_count": null,
   "metadata": {
    "id": "weM8ZdT9gIV5"
   },
   "outputs": [],
   "source": [
    "import pandas as pd\n",
    "import numpy as np\n",
    "import matplotlib.pyplot as plt\n",
    "import seaborn as sns\n",
    "\n",
    "\n",
    "#Add code\n"
   ]
  },
  {
   "cell_type": "markdown",
   "metadata": {
    "id": "5NstyZYqggmN"
   },
   "source": [
    "\n",
    "### Form a cross table between Passenger Class and Survived\n",
    "\n",
    "\n",
    "<details><summary>Click here for answer</summary>\n",
    "<br/>\n",
    "\n",
    "PClass_survd = pd.pivot_table(data,index=['Pclass'],columns=['Survived'],aggfunc='size')\n",
    "\n",
    "PClass_survd\n",
    "\n",
    "\n",
    "\n",
    "\n",
    "<br/>\n",
    "</details>\n",
    "<br/>\n",
    "\n"
   ]
  },
  {
   "cell_type": "code",
   "execution_count": null,
   "metadata": {
    "id": "kPWj-C_Ni4gx"
   },
   "outputs": [],
   "source": [
    "#Add code\n"
   ]
  },
  {
   "cell_type": "markdown",
   "metadata": {
    "id": "Oth1F9JYi-Ke"
   },
   "source": [
    "### Use the cross table to test the hypothesis\n",
    "\n",
    "<details><summary>Click here for answer</summary>\n",
    "<br/>\n",
    "\n",
    "chi2_stat, p_val, dof, ex = stats.chi2_contingency(PClass_survd)\n",
    "\n",
    "print(\"Chi square value is \",chi2_stat)\n",
    "\n",
    "print(\"P value is\",p_val)\n",
    "\n",
    "\n",
    "Chi square value is  102.88898875696056\n",
    "\n",
    "P value is 4.549251711298793e-23\n",
    "\n",
    "The p value is less than 0.025, we will reject the null hypothesis.\n",
    "\n",
    "Hence titanic survivor is NOT indepenedent on Passenger class\n",
    "\n",
    "\n",
    "\n",
    "<br/>\n",
    "</details>\n",
    "<br/>"
   ]
  },
  {
   "cell_type": "code",
   "execution_count": null,
   "metadata": {
    "id": "WpbHWXPJj1SL"
   },
   "outputs": [],
   "source": [
    "from scipy import stats\n",
    "\n",
    "#Add code"
   ]
  },
  {
   "cell_type": "markdown",
   "metadata": {
    "id": "ihNP95RtkWAy"
   },
   "source": [
    "## 7. Case 7 - Execrise"
   ]
  },
  {
   "cell_type": "markdown",
   "metadata": {
    "id": "wGZMw99Wle4y"
   },
   "source": [
    "Use the fortune500.csv test the hypothesis for the mean Revenue (in millions) with various sample size of 50, 100, 500"
   ]
  },
  {
   "cell_type": "markdown",
   "metadata": {
    "id": "zc6tbGjqmduw"
   },
   "source": [
    "### Read the fortune500 csv file and select the column Revenue (in millions)\n",
    "<details><summary>Click here for answer</summary>\n",
    "<br/>\n",
    "\n",
    "```\n",
    "\n",
    "df = pd.read_csv('fortune500.csv')\n",
    "\n",
    "df[\"Revenue (in millions)\"]\n",
    "\n",
    "```\n",
    "<br/>\n",
    "</details>\n",
    "\n",
    "<br/>\n"
   ]
  },
  {
   "cell_type": "code",
   "execution_count": null,
   "metadata": {
    "id": "UAhdRRtWnDoo"
   },
   "outputs": [],
   "source": [
    "#Add code"
   ]
  },
  {
   "cell_type": "markdown",
   "metadata": {
    "id": "7Jcvl_04njeM"
   },
   "source": [
    "### What is the type hypthesis use for the test?\n",
    "\n",
    "\n",
    "<details><summary>Click here for answer</summary>\n",
    "<br/>\n",
    "Since sample size is large than 30  use the Z Test\n",
    "\n",
    "H0 : Population Revenue mean == Sample Reveue mean\n",
    "\n",
    "H1 : Population Revenue mean != Sample Reveue mean\n",
    "\n",
    "https://www.statsmodels.org/stable/generated/statsmodels.stats.weightstats.ztest.html\n",
    "\n",
    "\n",
    "\n",
    "<br/>\n",
    "</details>\n",
    "\n"
   ]
  },
  {
   "cell_type": "markdown",
   "metadata": {
    "id": "nYbngY-xqH8p"
   },
   "source": [
    "### Use python code to test the hypothesis\n",
    "\n",
    "<details><summary>Click here for answer</summary>\n",
    "<br/>\n",
    "\n",
    "```\n",
    "\n",
    "from statsmodels.stats.weightstats import ztest as ztest\n",
    "\n",
    "population_mean =df[\"Revenue (in millions)\"].mean()\n",
    "print(population_mean)\n",
    "\n",
    "\n",
    "sample_size=50\n",
    "sample_data= df[\"Revenue (in millions)\"].sample(n=sample_size, random_state=100)\n",
    "#perform one sample z-test\n",
    "pvalue=ztest(sample_data, value=population_mean)[1]\n",
    "print(pvalue)\n",
    "pvalue < 0.025\n",
    "\n",
    "sample_size=100\n",
    "sample_data= df[\"Revenue (in millions)\"].sample(n=sample_size, random_state=100)\n",
    "#perform one sample z-test\n",
    "pvalue=ztest(sample_data, value=population_mean)[1]\n",
    "print(pvalue)\n",
    "pvalue < 0.025\n",
    "\n",
    "sample_size=500\n",
    "sample_data= df[\"Revenue (in millions)\"].sample(n=sample_size, random_state=100)\n",
    "#perform one sample z-test\n",
    "pvalue=ztest(sample_data, value=population_mean)[1]\n",
    "print(pvalue)\n",
    "pvalue < 0.025\n",
    "\n",
    "```\n",
    "\n",
    "<br/>\n",
    "</details>\n",
    "\n",
    "<br/>"
   ]
  },
  {
   "cell_type": "code",
   "execution_count": null,
   "metadata": {
    "id": "tvmygqln4dBk"
   },
   "outputs": [],
   "source": [
    "#Add code"
   ]
  }
 ],
 "metadata": {
  "colab": {
   "provenance": []
  },
  "kernelspec": {
   "display_name": "Python 3 (ipykernel)",
   "language": "python",
   "name": "python3"
  },
  "language_info": {
   "codemirror_mode": {
    "name": "ipython",
    "version": 3
   },
   "file_extension": ".py",
   "mimetype": "text/x-python",
   "name": "python",
   "nbconvert_exporter": "python",
   "pygments_lexer": "ipython3",
   "version": "3.9.17"
  }
 },
 "nbformat": 4,
 "nbformat_minor": 4
}
