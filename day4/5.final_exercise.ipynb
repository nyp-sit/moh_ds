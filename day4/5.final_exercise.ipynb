{
 "cells": [
  {
   "cell_type": "markdown",
   "metadata": {
    "id": "a14028cd-85ae-493d-af64-f35112d0c53d"
   },
   "source": [
    "<img src=\"https://nyp-aicourse.s3.ap-southeast-1.amazonaws.com/agods/nyp_ago_logo.png\" width='400'/>"
   ]
  },
  {
   "cell_type": "markdown",
   "metadata": {
    "id": "vSYEEeOO0QHE"
   },
   "source": [
    "# Final Exercise: Regression Model"
   ]
  },
  {
   "cell_type": "markdown",
   "metadata": {
    "id": "jOuVG7Bj0QHF"
   },
   "source": [
    "We will build a Linear regression model for Medical cost dataset. The dataset consists of age, sex, BMI, children, smoker and region feature, which are independent and charge as a dependent feature. We will predict individual medical costs billed by health insurance."
   ]
  },
  {
   "cell_type": "markdown",
   "metadata": {
    "id": "CP0GNz_Q0QHF"
   },
   "source": [
    "### Import Library and Dataset\n",
    "Now we will import couple of python library required for our analysis and import dataset "
   ]
  },
  {
   "cell_type": "code",
   "execution_count": null,
   "metadata": {
    "id": "SzvR5hge0QHG",
    "tags": []
   },
   "outputs": [],
   "source": [
    "# Import library\n",
    "import pandas  as pd  \n",
    "import numpy as np  \n",
    "import matplotlib.pyplot as plt \n",
    "import seaborn as sns  "
   ]
  },
  {
   "cell_type": "code",
   "execution_count": null,
   "metadata": {
    "id": "ZfbldEkA0QHH",
    "tags": []
   },
   "outputs": [],
   "source": [
    "# Import dataset\n",
    "df = pd.read_csv('data/insurance.csv')"
   ]
  },
  {
   "cell_type": "markdown",
   "metadata": {
    "id": "-3Iz1cpr0QHH"
   },
   "source": [
    "### Task 1: Check for missing values "
   ]
  },
  {
   "cell_type": "code",
   "execution_count": null,
   "metadata": {
    "id": "ugBwGMHq0QHI"
   },
   "outputs": [],
   "source": [
    "## Enter your codes here\n",
    "\n"
   ]
  },
  {
   "cell_type": "markdown",
   "metadata": {
    "id": "cF0N1N5U0QHI"
   },
   "source": [
    "### Task 2: Check the distribution of the variables"
   ]
  },
  {
   "cell_type": "code",
   "execution_count": null,
   "metadata": {
    "id": "3GUCDxbs0QHI"
   },
   "outputs": [],
   "source": [
    "## Enter your codes here\n",
    "\n"
   ]
  },
  {
   "cell_type": "markdown",
   "metadata": {
    "id": "Iw32sAv_0QHI"
   },
   "source": [
    "### Task 3: Splitting Data into Train and Test Set\n",
    "\n",
    "Assuming we think age is key for good prediction, we want to preserve the same age distribution in our train and test samples.\n",
    "\n",
    "1. Bin the age into appropriate number the following bins \\[0, 25\\], \\[25, 35\\], \\[35, 45\\], \\[45, 55\\] and \\[55, $\\infty$\\]. \n",
    "2. Create a new column named 'age_cat' for the age categories. \n",
    "3. split the data into train test split, with 80:20 split, and with strafitied splitting on 'age_cat'"
   ]
  },
  {
   "cell_type": "code",
   "execution_count": null,
   "metadata": {
    "id": "TULdU5Tc0QHI"
   },
   "outputs": [],
   "source": [
    "## Enter your codes here\n",
    "\n"
   ]
  },
  {
   "cell_type": "markdown",
   "metadata": {
    "id": "Dl-BcyXz0QHI"
   },
   "source": [
    "### Task 4: Look for correlation"
   ]
  },
  {
   "cell_type": "code",
   "execution_count": null,
   "metadata": {
    "id": "ALh4bsJ20QHJ"
   },
   "outputs": [],
   "source": [
    "## Enter your codes here\n",
    "\n"
   ]
  },
  {
   "cell_type": "markdown",
   "metadata": {
    "id": "mH61QOHD0QHJ"
   },
   "source": [
    "### Task 5: Separate features and labels"
   ]
  },
  {
   "cell_type": "code",
   "execution_count": null,
   "metadata": {
    "id": "iRaOoY5X0QHJ"
   },
   "outputs": [],
   "source": [
    "## Enter your codes here\n",
    "\n"
   ]
  },
  {
   "cell_type": "markdown",
   "metadata": {
    "id": "uUAbpMQk0QHJ"
   },
   "source": [
    "### Task 6: Build a pipeline for numerical data\n",
    "\n",
    "Build a pipeline to do scaling for numerica data, using StandardScaler. It is also good practice to include imputer. Although we don't have any missing data in the training data (and test data), we cannot guarantee that there won't be any missing values during the live system (e.g. users may leave certain data blank)."
   ]
  },
  {
   "cell_type": "code",
   "execution_count": null,
   "metadata": {
    "id": "ZEapafyD0QHJ"
   },
   "outputs": [],
   "source": [
    "## Enter your codes here\n",
    "\n"
   ]
  },
  {
   "cell_type": "markdown",
   "metadata": {
    "id": "geUw1KT_0QHJ"
   },
   "source": [
    "### Task 7: Build a pipeline for categorical data \n",
    "\n",
    "Build pipeline to one-hot-encode categorical features. You need to specify sparse_output to False, so the return values will not be a sparse matrix, which make converting the output back to Dataframe difficult."
   ]
  },
  {
   "cell_type": "code",
   "execution_count": null,
   "metadata": {
    "id": "X9YyDuem0QHJ"
   },
   "outputs": [],
   "source": [
    "## Enter your codes here\n",
    "\n"
   ]
  },
  {
   "cell_type": "markdown",
   "metadata": {
    "id": "V9qETGeP0QHK"
   },
   "source": [
    "### Task 8: Build a single combined pipeline"
   ]
  },
  {
   "cell_type": "code",
   "execution_count": null,
   "metadata": {
    "id": "ou3xmNkL0QHK"
   },
   "outputs": [],
   "source": [
    "## Enter your codes here\n",
    "\n"
   ]
  },
  {
   "cell_type": "markdown",
   "metadata": {
    "id": "8H9Jcbur0QHK"
   },
   "source": [
    "### Task 9: Now apply the transformation to prepare your train set"
   ]
  },
  {
   "cell_type": "code",
   "execution_count": null,
   "metadata": {
    "id": "yEcSnk2Q0QHK"
   },
   "outputs": [],
   "source": [
    "## Enter your codes here\n",
    "\n"
   ]
  },
  {
   "cell_type": "markdown",
   "metadata": {
    "id": "E4SnDMRO0QHK"
   },
   "source": [
    "### Task 10: Select a model and evaluate the model using cross validation\n",
    "\n",
    "Choose a scoring function, `r2` to cross validate your model."
   ]
  },
  {
   "cell_type": "code",
   "execution_count": null,
   "metadata": {
    "id": "6W3vO6G10QHK"
   },
   "outputs": [],
   "source": [
    "## Enter your codes here\n",
    "\n"
   ]
  },
  {
   "cell_type": "markdown",
   "metadata": {
    "id": "jzC4Y1L10QHK"
   },
   "source": [
    "### Task 11: Evaluate final model on test data"
   ]
  },
  {
   "cell_type": "code",
   "execution_count": null,
   "metadata": {
    "id": "1kJ8Idnm0QHK"
   },
   "outputs": [],
   "source": [
    "## Enter your codes here\n",
    "\n"
   ]
  }
 ],
 "metadata": {
  "colab": {
   "include_colab_link": true,
   "provenance": []
  },
  "kernelspec": {
   "display_name": "Python 3 (ipykernel)",
   "language": "python",
   "name": "python3"
  },
  "language_info": {
   "codemirror_mode": {
    "name": "ipython",
    "version": 3
   },
   "file_extension": ".py",
   "mimetype": "text/x-python",
   "name": "python",
   "nbconvert_exporter": "python",
   "pygments_lexer": "ipython3",
   "version": "3.9.17"
  }
 },
 "nbformat": 4,
 "nbformat_minor": 4
}
