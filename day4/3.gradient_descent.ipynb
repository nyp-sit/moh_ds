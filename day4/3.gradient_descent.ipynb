{
 "cells": [
  {
   "cell_type": "markdown",
   "metadata": {
    "id": "a14028cd-85ae-493d-af64-f35112d0c53d"
   },
   "source": [
    "<img src=\"https://nyp-aicourse.s3.ap-southeast-1.amazonaws.com/agods/nyp_ago_logo.png\" width='400'/>"
   ]
  },
  {
   "cell_type": "markdown",
   "metadata": {
    "id": "kuagyp6xQFGO"
   },
   "source": [
    "# Gradient Descent\n",
    "\n",
    "\n",
    "In this lab, you will learn:\n",
    "- how to use SGD Regressor to train your model \n",
    "- how learning rate and features scaling impact the performance of gradient descent-based algorithms\n",
    "\n",
    "\n"
   ]
  },
  {
   "cell_type": "markdown",
   "metadata": {
    "id": "gTBk1cViQFGR"
   },
   "source": [
    "## Import required libraries"
   ]
  },
  {
   "cell_type": "code",
   "execution_count": null,
   "metadata": {
    "id": "iEWHxkLSQFGR"
   },
   "outputs": [],
   "source": [
    "import pandas as pd\n",
    "from sklearn.model_selection import train_test_split\n",
    "from sklearn.metrics import mean_squared_error"
   ]
  },
  {
   "cell_type": "markdown",
   "metadata": {
    "id": "PjrKSbZiQFGS"
   },
   "source": [
    "Here we will use the Boston dataset for our regression problem. You can find the description of the dataset in this [link](https://www.kaggle.com/code/prasadperera/the-boston-housing-dataset/data)."
   ]
  },
  {
   "cell_type": "code",
   "execution_count": null,
   "metadata": {
    "id": "oSoqTFvnQFGS"
   },
   "outputs": [],
   "source": [
    "boston = pd.read_csv('data/boston.csv', index_col=0)\n",
    "boston.info()"
   ]
  },
  {
   "cell_type": "markdown",
   "metadata": {},
   "source": [
    "## Explore our data"
   ]
  },
  {
   "cell_type": "code",
   "execution_count": null,
   "metadata": {},
   "outputs": [],
   "source": [
    "boston.describe()"
   ]
  },
  {
   "cell_type": "markdown",
   "metadata": {},
   "source": [
    "### Question 1\n",
    "\n",
    "What do you observe about the range of values of the different features? \n"
   ]
  },
  {
   "cell_type": "markdown",
   "metadata": {},
   "source": [
    "## Split our dataset\n",
    "\n",
    "MEDV refers to the median value of owner-occupied homes in $1000s. This is our target label. \n",
    "\n",
    "### Exercise 1\n",
    "\n",
    "Create `X` (features/predictors) and `y` (labels) from the boston dataframe. Create a train and test set from `X` and `y` and call them `X_train, X_test, y_train, y_test`."
   ]
  },
  {
   "cell_type": "code",
   "execution_count": null,
   "metadata": {},
   "outputs": [],
   "source": [
    "## Enter your code here \n",
    "\n",
    "\n"
   ]
  },
  {
   "cell_type": "markdown",
   "metadata": {},
   "source": [
    "<details><summary>Click here for solution</summary>\n",
    "    \n",
    "```python\n",
    "\n",
    "X = boston.drop('MEDV', axis=1)\n",
    "y = boston['MEDV']\n",
    "\n",
    "# Split the data into train and test set\n",
    "X_train, X_test, y_train, y_test = train_test_split(X, y, random_state=42)\n",
    "\n",
    "```\n",
    "</details>"
   ]
  },
  {
   "cell_type": "markdown",
   "metadata": {},
   "source": [
    "## Train a regression model"
   ]
  },
  {
   "cell_type": "markdown",
   "metadata": {
    "id": "bj4vS__rQFGV"
   },
   "source": [
    "Now let's try to use the [`SGDRegressor`](https://scikit-learn.org/stable/modules/generated/sklearn.linear_model.SGDRegressor.html), and using default setting (e.g. default starting learning rate (`eta0`) of 0.01 and the learning rate adjustment strategy of 'invscaling' i.e. `eta = eta0/pow(t, power_t)`. We also use the default penalty (L2 regularization) with `alpha=0.0001`"
   ]
  },
  {
   "cell_type": "code",
   "execution_count": null,
   "metadata": {},
   "outputs": [],
   "source": [
    "from sklearn.linear_model import SGDRegressor\n",
    "\n",
    "sgd = SGDRegressor()\n",
    "sgd.fit(X_train, y_train)"
   ]
  },
  {
   "cell_type": "code",
   "execution_count": null,
   "metadata": {},
   "outputs": [],
   "source": [
    "rmse = mean_squared_error(y_test, sgd.predict(X_test))\n",
    "print(rmse)"
   ]
  },
  {
   "cell_type": "markdown",
   "metadata": {
    "id": "chiRgx6xQFGW"
   },
   "source": [
    "### Question 2\n",
    "\n",
    "What do you observe about the RMSE? What do you think is the reason for the observed RMSE? \n",
    "\n",
    "<details><summary>Click here for answer</summary>\n",
    "    \n",
    "Notice how high the error values are! The algorithm is diverging. This can be due to scaling and/or learning rate being too high. Let's adjust the learning rate and see what happens.\n",
    "    \n",
    "</details>"
   ]
  },
  {
   "cell_type": "markdown",
   "metadata": {
    "id": "t3MkYXxZQFGW"
   },
   "source": [
    "### Exercise 2\n",
    "Now let's try using a smaller learning rate of 1e-7 (i.e. 0.0000001) and apply the same version of SGD and compare the new RMSE of SGD with the new learning rate. \n",
    "\n",
    "Complete the codes in the following code cell.\n"
   ]
  },
  {
   "cell_type": "code",
   "execution_count": null,
   "metadata": {
    "id": "C0hV4roEQFGX"
   },
   "outputs": [],
   "source": [
    "# Enter your code here \n",
    "\n",
    "\n"
   ]
  },
  {
   "cell_type": "markdown",
   "metadata": {},
   "source": [
    "<details><summary>Click here for answer</summary>\n",
    "    \n",
    "```python\n",
    "sgd = SGDRegressor(eta0=1e-7, random_state=42)\n",
    "sgd.fit(X_train, y_train)\n",
    "\n",
    "rmse = mean_squared_error(y_test, sgd.predict(X_test), squared=False)\n",
    "print(rmse)\n",
    "```\n",
    "</details>"
   ]
  },
  {
   "cell_type": "markdown",
   "metadata": {
    "id": "nYl1jCmAQFGX"
   },
   "source": [
    "### Exercise 3\n",
    "\n",
    "Now let's scale our training data and try again.\n",
    "\n",
    "* Fit a `StandardScaler` to `X_train` create a variable `X_train_scaled`.\n",
    "* Using the scaler, transform `X_test` and create a variable `X_test_scaled`. \n",
    "* Apply the same versions of SGD to them and compare the results. Use a default eta0 this time.\n",
    "\n",
    "Complete the code in the following code cell.\n"
   ]
  },
  {
   "cell_type": "code",
   "execution_count": null,
   "metadata": {
    "id": "aUYMC8wHQFGX"
   },
   "outputs": [],
   "source": [
    "# Enter your code here \n",
    "\n"
   ]
  },
  {
   "cell_type": "markdown",
   "metadata": {},
   "source": [
    "\n",
    "<details><summary>Click here for answer</summary>\n",
    "    \n",
    "```python\n",
    "\n",
    "from sklearn.preprocessing import StandardScaler\n",
    "\n",
    "scaler = StandardScaler()\n",
    "X_train_scaled = scaler.fit_transform(X_train)\n",
    "X_test_scaled = scaler.transform(X_test)\n",
    "sgd = SGDRegressor(random_state=42)\n",
    "sgd.fit(X_train_scaled, y_train)\n",
    "\n",
    "rmse = mean_squared_error(y_test, sgd.predict(X_test_scaled), squared=False)\n",
    "print(rmse)\n",
    "\n",
    "```\n",
    "</details>"
   ]
  },
  {
   "cell_type": "markdown",
   "metadata": {
    "id": "PkDgCGIIQFGX"
   },
   "source": [
    "### Question 3\n",
    "\n",
    "What do you observe about the value of RMSE? What can you conclude? \n",
    "\n",
    "<details><summary>Click here for answer</summary>\n",
    "    \n",
    "We can see a smaller RMSEs. Scaling has a large impact on the performance of SGD and it helps the SGD to learn better. \n",
    "    \n",
    "</details>"
   ]
  }
 ],
 "metadata": {
  "colab": {
   "include_colab_link": true,
   "name": "Ex2_GradientDescent.ipynb",
   "provenance": []
  },
  "kernelspec": {
   "display_name": "Python 3 (ipykernel)",
   "language": "python",
   "name": "python3"
  },
  "language_info": {
   "codemirror_mode": {
    "name": "ipython",
    "version": 3
   },
   "file_extension": ".py",
   "mimetype": "text/x-python",
   "name": "python",
   "nbconvert_exporter": "python",
   "pygments_lexer": "ipython3",
   "version": "3.9.17"
  }
 },
 "nbformat": 4,
 "nbformat_minor": 4
}
