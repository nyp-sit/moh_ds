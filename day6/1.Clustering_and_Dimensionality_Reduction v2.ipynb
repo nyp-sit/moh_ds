{
 "cells": [
  {
   "cell_type": "markdown",
   "metadata": {},
   "source": [
    "<img src=\"https://nyp-aicourse.s3.ap-southeast-1.amazonaws.com/agods/nyp_ago_logo.png\" width='400'/>"
   ]
  },
  {
   "cell_type": "markdown",
   "metadata": {
    "id": "lP4Z00lnVNam"
   },
   "source": [
    "# Practical: Clustering and Dimensionality Reduction\n",
    "\n",
    "\n",
    "\n",
    "## Objectives\n",
    "\n",
    "- Learn to generate data points suitable for clustering practises using Scikit-Learn.\n",
    "- Learn to perform clustering of a set of data points using Scikit-Learn k-Means algorithm.\n",
    "- Examine how to identify a suitable number of clusters.\n",
    "- Learn how to evalutate the quality of the clustering solution.\n",
    "- Demonstrate the application of clustering in outlier detection.\n",
    "- Apply PCA for dimensionality reduction and compare original to PCA transformed data\n",
    "- Apply clustering techniques to a credit card holders dataset\n"
   ]
  },
  {
   "cell_type": "markdown",
   "metadata": {
    "id": "M8DUQH8bVNao"
   },
   "source": [
    "## Clustering\n",
    "\n",
    "Clustering algorithms partition data objects into several groups, subsets or categories. They help to discover groups of data samples with similar values or patterns. These techniques are used in many domains like:\n",
    "- Engineering - Information Compression, noise removal\n",
    "- Computer Science - Web mining, Information Retrieval\n",
    "- Life and Medical Science – Taxonomy definition, gene and protein function identification\n",
    "- Astronomy and Earth Science – Classification of stars and planets\n",
    "- Social Science – Behaviour pattern analysis, relation identification among cultures\n",
    "- Economics – Customer characteristics pattern recognition, stock trend analysis, fraud detection\n",
    "\n",
    "Clustering is sometimes performed before predictive modelling. After clustering, we can study and model each individual cluster separately or use the cluster grouping as an additional input for subsequent modelling processes.\n",
    "\n",
    "There are many different clustering algorithms, but only a few are widely used. This is because many hierarchical clustering methods require that distances between every pair of data points to be stored and updated in memory, which places a substantial demand on computer memory and processing resources if the data set is large. Typically, we use the k-Means clustering algorithm which is less demanding on the memory requirements.\n",
    "\n",
    "In the first part of the practical, we will look at how we can apply the k-Means clustering algorithm using Scikit-Learn."
   ]
  },
  {
   "cell_type": "markdown",
   "metadata": {
    "id": "XQ--PNJrVNap"
   },
   "source": [
    "## Generate Data\n",
    "\n",
    "Let us begin by generating some data for our practises.\n",
    "\n",
    "### Step 1\n",
    "Run the following codes to generate 500 data points centered around 3 centroids, that is, the 500 data points forms 3 clusters.\n",
    "\n"
   ]
  },
  {
   "cell_type": "code",
   "execution_count": null,
   "metadata": {
    "id": "ugPp086TVNap",
    "tags": []
   },
   "outputs": [],
   "source": [
    "import numpy as np\n",
    "from sklearn.datasets import make_blobs\n",
    "\n",
    "#data = Generated data examples that forms 3 clusters\n",
    "#classes = The cluster that each example belongs to\n",
    "data, classes = make_blobs(500, centers=3, random_state=42)\n"
   ]
  },
  {
   "cell_type": "markdown",
   "metadata": {
    "id": "eLVay_zDVNaq"
   },
   "source": [
    "Note that the ```data``` variable contains the generated 2-D samples while the ```classes``` variable contains the cluster number each sample belongs to.\n",
    "\n"
   ]
  },
  {
   "cell_type": "markdown",
   "metadata": {
    "id": "o-RjDmOOVNaq"
   },
   "source": [
    "### Step 2\n",
    "\n",
    "Print out the first 10 items of the data and classes variables to see the generated data. \n",
    "\n",
    "<details>\n",
    "<summary>\n",
    "    Click here to see code\n",
    "</summary>\n",
    "    \n",
    "    \n",
    "```\n",
    "print(data[:10])\n",
    "print(classes[:10])\n",
    "```"
   ]
  },
  {
   "cell_type": "code",
   "execution_count": null,
   "metadata": {
    "id": "bqWhCXFBVNaq"
   },
   "outputs": [],
   "source": [
    "#Enter code here\n"
   ]
  },
  {
   "cell_type": "markdown",
   "metadata": {
    "id": "0QWTlzgjVNar"
   },
   "source": [
    "You should see the content of data and classes variables as follows:\n",
    "\n",
    "The ```data``` variable consists of an array of 2-dimensional points:\n",
    "\n",
    "```\n",
    "[[-5.73035386 -7.58328602]\n",
    " [ 1.94299219  1.91887482]\n",
    " [ 6.82968177  1.1648714 ]\n",
    " [-2.90130578  7.55077118]\n",
    " [ 5.84109276  1.56509431]\n",
    " [ 5.47021465  1.11708586]\n",
    " [-4.31954265 -6.97616949]\n",
    " [ 4.91033566  1.92293157]\n",
    " [ 3.57225841  1.8307902 ]\n",
    " [-7.50444577 -6.85401854]]\n",
    "\n",
    "```\n",
    "     \n",
    "     \n",
    "The ```classes``` variable contains the cluster number that each data point belongs to:\n",
    "\n",
    "```\n",
    "[2 1 1 0 1 1 2 1 1 2]\n",
    "```\n",
    "\n",
    "Note that we have the actual cluster that the data belongs to because we generated the data. In real-life situations, we will not have this information. \n",
    "\n",
    "Later, we will be using the k-Means clustering algorithm to cluster the data point, the ```classes``` variable will be  useful for us to compare and measure the clustering performance of the algoritm.\n"
   ]
  },
  {
   "cell_type": "markdown",
   "metadata": {
    "id": "_7wlGAHSVNar"
   },
   "source": [
    "### Step 3 Visualize the Data\n",
    "\n",
    "We should visualize the data so that we have a feel of how the data is like before we perform the clustering process.\n",
    "\n",
    "Run the following codes to generate a scatter plot of the data:\n",
    "\n"
   ]
  },
  {
   "cell_type": "code",
   "execution_count": null,
   "metadata": {
    "id": "ykfkBY7wVNar",
    "tags": []
   },
   "outputs": [],
   "source": [
    "import matplotlib.pyplot as plt\n",
    "#Create a figure\n",
    "#plt.figure()\n",
    "#Red, green and blue will be used to colour the clusters\n",
    "rgb = np.array(['r', 'g', 'b'])\n",
    "#Create scatter plot based on the first (0) and second column (1)\n",
    "plt.scatter(data[:, 0], data[:, 1], color=rgb[classes])\n",
    "plt.title(\"Clusters\")\n",
    "plt.show()"
   ]
  },
  {
   "cell_type": "markdown",
   "metadata": {
    "id": "y3glDcuYVNas"
   },
   "source": [
    "The code uses three different colours to show the individual clusters. If you run the codes, you should be able to see the following figures:\n",
    "\n",
    "![Cluster.png](data:image/png;base64,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)\n",
    "\n",
    "Note that we set the random_state argument of the make_blob() function as 42 for reproducible result.  You can try to use different number to generate different clusters if you prefer. Whatever integer values you choose, you should be able to see three separate clusters."
   ]
  },
  {
   "cell_type": "markdown",
   "metadata": {
    "id": "eMGGQn2WVNas"
   },
   "source": [
    "## k-Means Clustering \n",
    "\n",
    "k-means clustering is a relatively quick method for exploring clusters in data. The user sets the number of clusters (hyper-parameter k) to be created, and the procedure selects k well-spaced data records as starting centroid. Each data record is then assigned to the nearest centroid of the k clusters. The cluster centroids (average value of the attributes used in the clustering) are updated to accommodate the new members. Additional data passes are made as needed. As the cluster centers shift, a data point may need to be moved to its new nearest centroid. \n",
    "\n",
    "For the hyper-parameter k, we usually do not know what is a good value for k. We typically need to run the clustering process several times to find a suitable value for k. We will explore this in the later section.\n",
    "\n",
    "Let us now use Scikit-Learn's k-Means algorithm to perform clustering and visually inspect how well the clustering was done."
   ]
  },
  {
   "cell_type": "markdown",
   "metadata": {
    "id": "xadJkq1LVNat"
   },
   "source": [
    "### Step 4 Performing k-Means Clustering\n",
    "\n",
    "Run the following codes to perform clustering:\n"
   ]
  },
  {
   "cell_type": "code",
   "execution_count": null,
   "metadata": {
    "id": "mwdUsCHaVNat",
    "tags": []
   },
   "outputs": [],
   "source": [
    "import numpy as np\n",
    "from sklearn.datasets import make_blobs\n",
    "\n",
    "#data = Generated data examples that forms 3 clusters\n",
    "#classes = The cluster that each example belongs to\n",
    "#We use 1000 points\n",
    "data, classes = make_blobs(1000, centers=3, random_state=42)\n",
    "\n",
    "#Import the k-Means algorithm\n",
    "from sklearn.cluster import KMeans\n",
    "\n",
    "#Perform the clustering\n",
    "kmeans = KMeans(n_clusters=3).fit(data)"
   ]
  },
  {
   "cell_type": "markdown",
   "metadata": {
    "id": "pvjwCRiaVNat"
   },
   "source": [
    "### Step 5 Plotting Clustering Results\n",
    "\n",
    "It will be useful if we can visualize our clustering results, use the following codes to plot the clusters:\n",
    "\n"
   ]
  },
  {
   "cell_type": "code",
   "execution_count": null,
   "metadata": {
    "id": "E0kSRMZxVNat",
    "tags": []
   },
   "outputs": [],
   "source": [
    "#Create a new plot\n",
    "plt.figure()\n",
    "\n",
    "#Subplot on the left\n",
    "#121 = 1 row, 2 columns, subplot plot 1\n",
    "plt.subplot(121) #Use subplot() to plot the generated data and results from k-Means clustering\n",
    "#Use different colours for different cluster based on the generated data.\n",
    "rgb = np.array(['r', 'g', 'b'])\n",
    "plt.scatter(data[:, 0], data[:, 1], color=rgb[classes]) \n",
    "plt.title(\"Generated Data\")\n",
    "\n",
    "\n",
    "#Subplot on the right\n",
    "#122 = 1 row, 2 columns, subplot plot 2\n",
    "plt.subplot(122)\n",
    "#Plot the same data except use results from our k-mean clustering(kmeans.labels_)\n",
    "#Different colours for different cluster based kmeans.labels_\n",
    "plt.scatter(\n",
    "    data[:, 0],  #x\n",
    "    data[:, 1],  #y\n",
    "    color=rgb[kmeans.labels_])\n",
    "\n",
    "#Plot the centroid of the clusters\n",
    "plt.scatter(\n",
    "    kmeans.cluster_centers_[:, 0], #x\n",
    "    kmeans.cluster_centers_[:, 1], #y\n",
    "    marker=\"*\", # use a star\n",
    "    s=200, # size is 200 (bigger)\n",
    "    color=\"Yellow\",\n",
    "    label=\"Centroid\")\n",
    "plt.title(\"Clustered by k-Means\")\n",
    "plt.legend()\n",
    "plt.show()\n"
   ]
  },
  {
   "cell_type": "markdown",
   "metadata": {
    "id": "lJdd8S9JVNau"
   },
   "source": [
    "Run the codes to view the clustering results.\n",
    "\n",
    "\n",
    "As can be seen from the above plots, the k-Means algorithm has formed three clusters since we indicated ```center=3```. \n",
    "\n",
    "From visual inspection, we can see that the algorithm has done a good job of clustering the data points, the generated cluster membership closely resembles that in the ```classes``` variable. Choose the correct k value (k=3) certainly plays a part as it coincides with our generated data. However, in most real cases, we might not know the number of clusters and must make a guess, what happens if we try other values of k?\n"
   ]
  },
  {
   "cell_type": "markdown",
   "metadata": {
    "id": "ePa3tUcxVNau"
   },
   "source": [
    "## Exercise\n",
    "\n",
    "Modify the codes and try different values of k (e.g 2, 4, 5). Remember to add more colours to the rbg array if necessary.\n",
    "```python\n",
    "rgb = np.array(['r', 'g', 'b', 'y']) #if k=4, needs to have at least 4 colours\n",
    "```\n",
    "For reference, acceptable single character colours are:\n",
    "```python\n",
    "{'b', 'g', 'r', 'c', 'm', 'y', 'k', 'w'}\n",
    "```\n",
    "\n",
    "Shown below is the result for value of k=4:\n",
    "\n",
    "![kMeans_4.jpg](data:image/jpeg;base64,/9j/4AAQSkZJRgABAQEAYABgAAD/4RD0RXhpZgAATU0AKgAAAAgABAE7AAIAAAAOAAAISodpAAQAAAABAAAIWJydAAEAAAAcAAAQ0OocAAcAAAgMAAAAPgAAAAAc6gAAAAgAAAAAAAAAAAAAAAAAAAAAAAAAAAAAAAAAAAAAAAAAAAAAAAAAAAAAAAAAAAAAAAAAAAAAAAAAAAAAAAAAAAAAAAAAAAAAAAAAAAAAAAAAAAAAAAAAAAAAAAAAAAAAAAAAAAAAAAAAAAAAAAAAAAAAAAAAAAAAAAAAAAAAAAAAAAAAAAAAAAAAAAAAAAAAAAAAAAAAAAAAAAAAAAAAAAAAAAAAAAAAAAAAAAAAAAAAAAAAAAAAAAAAAAAAAAAAAAAAAAAAAAAAAAAAAAAAAAAAAAAAAAAAAAAAAAAAAAAAAAAAAAAAAAAAAAAAAAAAAAAAAAAAAAAAAAAAAAAAAAAAAAAAAAAAAAAAAAAAAAAAAAAAAAAAAAAAAAAAAAAAAAAAAAAAAAAAAAAAAAAAAAAAAAAAAAAAAAAAAAAAAAAAAAAAAAAAAAAAAAAAAAAAAAAAAAAAAAAAAAAAAAAAAAAAAAAAAAAAAAAAAAAAAAAAAAAAAAAAAAAAAAAAAAAAAAAAAAAAAAAAAAAAAAAAAAAAAAAAAAAAAAAAAAAAAAAAAAAAAAAAAAAAAAAAAAAAAAAAAAAAAAAAAAAAAAAAAAAAAAAAAAAAAAAAAAAAAAAAAAAAAAAAAAAAAAAAAAAAAAAAAAAAAAAAAAAAAAAAAAAAAAAAAAAAAAAAAAAAAAAAAAAAAAAAAAAAAAAAAAAAAAAAAAAAAAAAAAAAAAAAAAAAAAAAAAAAAAAAAAAAAAAAAAAAAAAAAAAAAAAAAAAAAAAAAAAAAAAAAAAAAAAAAAAAAAAAAAAAAAAAAAAAAAAAAAAAAAAAAAAAAAAAAAAAAAAAAAAAAAAAAAAAAAAAAAAAAAAAAAAAAAAAAAAAAAAAAAAAAAAAAAAAAAAAAAAAAAAAAAAAAAAAAAAAAAAAAAAAAAAAAAAAAAAAAAAAAAAAAAAAAAAAAAAAAAAAAAAAAAAAAAAAAAAAAAAAAAAAAAAAAAAAAAAAAAAAAAAAAAAAAAAAAAAAAAAAAAAAAAAAAAAAAAAAAAAAAAAAAAAAAAAAAAAAAAAAAAAAAAAAAAAAAAAAAAAAAAAAAAAAAAAAAAAAAAAAAAAAAAAAAAAAAAAAAAAAAAAAAAAAAAAAAAAAAAAAAAAAAAAAAAAAAAAAAAAAAAAAAAAAAAAAAAAAAAAAAAAAAAAAAAAAAAAAAAAAAAAAAAAAAAAAAAAAAAAAAAAAAAAAAAAAAAAAAAAAAAAAAAAAAAAAAAAAAAAAAAAAAAAAAAAAAAAAAAAAAAAAAAAAAAAAAAAAAAAAAAAAAAAAAAAAAAAAAAAAAAAAAAAAAAAAAAAAAAAAAAAAAAAAAAAAAAAAAAAAAAAAAAAAAAAAAAAAAAAAAAAAAAAAAAAAAAAAAAAAAAAAAAAAAAAAAAAAAAAAAAAAAAAAAAAAAAAAAAAAAAAAAAAAAAAAAAAAAAAAAAAAAAAAAAAAAAAAAAAAAAAAAAAAAAAAAAAAAAAAAAAAAAAAAAAAAAAAAAAAAAAAAAAAAAAAAAAAAAAAAAAAAAAAAAAAAAAAAAAAAAAAAAAAAAAAAAAAAAAAAAAAAAAAAAAAAAAAAAAAAAAAAAAAAAAAAAAAAAAAAAAAAAAAAAAAAAAAAAAAAAAAAAAAAAAAAAAAAAAAAAAAAAAAAAAAAAAAAAAAAAAAAAAAAAAAAAAAAAAAAAAAAAAAAAAAAAAAAAAAAAAAAAAAAAAAAAAAAAAAAAAAAAAAAAAAAAAAAAAAAAAAAAAAAAAAAAAAAAAAAAAAAAAAAAAAAAAAAAAAAAAAAAAAAAAAAAAAAAAAAAAAAAAAAAAAAAAAAAAAAAAAAAAAAAAAAAAAAAAAAAAAAAAAAAAAAAAAAAAAAAAAAAAAAAAAAAAAAAAAAAAAAAAAAAAAAAAAAAAAAAAAAAAAAAAAAAAAAAAAAAAAAAAAAAAAAAAAAAAAAAAAAAAAAAAAAAAAAAAAAAAAAAAAAAAAAAAAAAAAAAAAAAAAAAAAAAAAAAAAAAAAAAAAAAAAAAAAAAAAAAAAAAAAAAAAAAAAAAAAAAAAAAAAAAAAAAAAAAAAAAAAAAAAAAAAAAAAAAAAAAAAAAAAAAAAAAAAAAAAAAAAAAAAAAAAAAAAAAAAAAAAAAAAAAAAAAAAAAAAAAAAAAAAAAAAAAAAAAAAAAAAAAAAAAAAAAAAAAAAAAAAAAAAAAAAAAAAAAAAAAAAAAAAAAAAAAAAAAAAAAAAAAAAAAAAAAAAAAAAAAAAAAAAAAAAAAAAAAAAAAAAAAAAAAAAAAAAAAAAAAAAAAAAAAAAAAAAAAAAAAAAAAAAAAAAAAAAAAAAAAAAAAAAAAAAAAAAAAAAAAAAAAAAAAAAAAAAAAAAAAAAAAAAAAAAAAAAAAAAAAAAAAAAAAAAAAAAAAAAAAAAAAAAAAAAAAAAAAAAAAAAAAAAAAAAAAAAAAAAAAAAAAAAAAAAAAAAAAAAAAAAAAAAAAAAAAAAAAAAAAAAAAAAAAAAAAAAAAAAAAAAAAAAAAAAAAAAAAAAAAAAAAAAAAAAAAAAAAAAAAAAAAAAAAAAAAAAAAAAAAAAAAAAAAAAAAAAAAAAAAAAAAAAAAAAAAAAAAAAAAAAAAAAAAAAAAAAAAAAAAAAAAAAAAAAAAAAAAAAAAAAAAAAAAAAAAAAAAAAAAAAAAAAAAAAAAAAAAAAAAAAAAAAAAAAAAAAAAAAAAAAAAAAAAAAAAAAAAAAAAAAAENoZWUgWW9uZyBMYXcAAAWQAwACAAAAFAAAEKaQBAACAAAAFAAAELqSkQACAAAAAzc3AACSkgACAAAAAzc3AADqHAAHAAAIDAAACJoAAAAAHOoAAAAIAAAAAAAAAAAAAAAAAAAAAAAAAAAAAAAAAAAAAAAAAAAAAAAAAAAAAAAAAAAAAAAAAAAAAAAAAAAAAAAAAAAAAAAAAAAAAAAAAAAAAAAAAAAAAAAAAAAAAAAAAAAAAAAAAAAAAAAAAAAAAAAAAAAAAAAAAAAAAAAAAAAAAAAAAAAAAAAAAAAAAAAAAAAAAAAAAAAAAAAAAAAAAAAAAAAAAAAAAAAAAAAAAAAAAAAAAAAAAAAAAAAAAAAAAAAAAAAAAAAAAAAAAAAAAAAAAAAAAAAAAAAAAAAAAAAAAAAAAAAAAAAAAAAAAAAAAAAAAAAAAAAAAAAAAAAAAAAAAAAAAAAAAAAAAAAAAAAAAAAAAAAAAAAAAAAAAAAAAAAAAAAAAAAAAAAAAAAAAAAAAAAAAAAAAAAAAAAAAAAAAAAAAAAAAAAAAAAAAAAAAAAAAAAAAAAAAAAAAAAAAAAAAAAAAAAAAAAAAAAAAAAAAAAAAAAAAAAAAAAAAAAAAAAAAAAAAAAAAAAAAAAAAAAAAAAAAAAAAAAAAAAAAAAAAAAAAAAAAAAAAAAAAAAAAAAAAAAAAAAAAAAAAAAAAAAAAAAAAAAAAAAAAAAAAAAAAAAAAAAAAAAAAAAAAAAAAAAAAAAAAAAAAAAAAAAAAAAAAAAAAAAAAAAAAAAAAAAAAAAAAAAAAAAAAAAAAAAAAAAAAAAAAAAAAAAAAAAAAAAAAAAAAAAAAAAAAAAAAAAAAAAAAAAAAAAAAAAAAAAAAAAAAAAAAAAAAAAAAAAAAAAAAAAAAAAAAAAAAAAAAAAAAAAAAAAAAAAAAAAAAAAAAAAAAAAAAAAAAAAAAAAAAAAAAAAAAAAAAAAAAAAAAAAAAAAAAAAAAAAAAAAAAAAAAAAAAAAAAAAAAAAAAAAAAAAAAAAAAAAAAAAAAAAAAAAAAAAAAAAAAAAAAAAAAAAAAAAAAAAAAAAAAAAAAAAAAAAAAAAAAAAAAAAAAAAAAAAAAAAAAAAAAAAAAAAAAAAAAAAAAAAAAAAAAAAAAAAAAAAAAAAAAAAAAAAAAAAAAAAAAAAAAAAAAAAAAAAAAAAAAAAAAAAAAAAAAAAAAAAAAAAAAAAAAAAAAAAAAAAAAAAAAAAAAAAAAAAAAAAAAAAAAAAAAAAAAAAAAAAAAAAAAAAAAAAAAAAAAAAAAAAAAAAAAAAAAAAAAAAAAAAAAAAAAAAAAAAAAAAAAAAAAAAAAAAAAAAAAAAAAAAAAAAAAAAAAAAAAAAAAAAAAAAAAAAAAAAAAAAAAAAAAAAAAAAAAAAAAAAAAAAAAAAAAAAAAAAAAAAAAAAAAAAAAAAAAAAAAAAAAAAAAAAAAAAAAAAAAAAAAAAAAAAAAAAAAAAAAAAAAAAAAAAAAAAAAAAAAAAAAAAAAAAAAAAAAAAAAAAAAAAAAAAAAAAAAAAAAAAAAAAAAAAAAAAAAAAAAAAAAAAAAAAAAAAAAAAAAAAAAAAAAAAAAAAAAAAAAAAAAAAAAAAAAAAAAAAAAAAAAAAAAAAAAAAAAAAAAAAAAAAAAAAAAAAAAAAAAAAAAAAAAAAAAAAAAAAAAAAAAAAAAAAAAAAAAAAAAAAAAAAAAAAAAAAAAAAAAAAAAAAAAAAAAAAAAAAAAAAAAAAAAAAAAAAAAAAAAAAAAAAAAAAAAAAAAAAAAAAAAAAAAAAAAAAAAAAAAAAAAAAAAAAAAAAAAAAAAAAAAAAAAAAAAAAAAAAAAAAAAAAAAAAAAAAAAAAAAAAAAAAAAAAAAAAAAAAAAAAAAAAAAAAAAAAAAAAAAAAAAAAAAAAAAAAAAAAAAAAAAAAAAAAAAAAAAAAAAAAAAAAAAAAAAAAAAAAAAAAAAAAAAAAAAAAAAAAAAAAAAAAAAAAAAAAAAAAAAAAAAAAAAAAAAAAAAAAAAAAAAAAAAAAAAAAAAAAAAAAAAAAAAAAAAAAAAAAAAAAAAAAAAAAAAAAAAAAAAAAAAAAAAAAAAAAAAAAAAAAAAAAAAAAAAAAAAAAAAAAAAAAAAAAAAAAAAAAAAAAAAAAAAAAAAAAAAAAAAAAAAAAAAAAAAAAAAAAAAAAAAAAAAAAAAAAAAAAAAAAAAAAAAAAAAAAAAAAAAAAAAAAAAAAAAAAAAAAAAAAAAAAAAAAAAAAAAAAAAAAAAAAAAAAAAAAAAAAAAAAAAAAAAAAAAAAAAAAAAAAAAAAAAAAAAAAAAAAAAAAAAAAAAAAAAAAAAAAAAAAAAAAAAAAAAAAAAAAAAAAAAAAAAAAAAAAAAAAAAAAAAAAAAAAAAAAAAAAAAAAAAAAAAAAAAAAAAAAAAAAAAAAAAAAAAAAAAAAAAAAAAAAAAAAAAAAAAAAAAAAAAAAAAAAAAAAAAAAAAAAAAAAAAAAAAAAAAAAAAAAAAAAAAAAAAAAAAAAAAAAAAAAAAAAAAAAAAAAAAAAAAAAAAAAAAAAAAAAAAAAAAAAAAAAAAAAAAAAAAAAAAAAAAAAAAAAAAAAAAAAAAAAAAAAAAAAAAAAAAAAAAAAAAAAAAAAAAAAAAAAAAAAAAAAAAAAAAAAAAAAAAAAAAAAAAAAAAAAAAAAAAAAAAAAAAAAAAAAAAAAAAAAAAAAAAAAAAAAAAAAAAAAAAAAAAAAAAAAAAAAAAAAAAAAAAAAAAAAAAAAAAAAAAAAAAAAAAAAAAAAAAAAAAAAAAAAAAAAAAAAAAAAAAAAAAAAAAAAAAAAAAAAAAAAAAAAAAAAAAAAyMDIwOjA3OjI2IDEyOjMxOjUzADIwMjA6MDc6MjYgMTI6MzE6NTMAAABDAGgAZQBlACAAWQBvAG4AZwAgAEwAYQB3AAAA/+ELIGh0dHA6Ly9ucy5hZG9iZS5jb20veGFwLzEuMC8APD94cGFja2V0IGJlZ2luPSfvu78nIGlkPSdXNU0wTXBDZWhpSHpyZVN6TlRjemtjOWQnPz4NCjx4OnhtcG1ldGEgeG1sbnM6eD0iYWRvYmU6bnM6bWV0YS8iPjxyZGY6UkRGIHhtbG5zOnJkZj0iaHR0cDovL3d3dy53My5vcmcvMTk5OS8wMi8yMi1yZGYtc3ludGF4LW5zIyI+PHJkZjpEZXNjcmlwdGlvbiByZGY6YWJvdXQ9InV1aWQ6ZmFmNWJkZDUtYmEzZC0xMWRhLWFkMzEtZDMzZDc1MTgyZjFiIiB4bWxuczpkYz0iaHR0cDovL3B1cmwub3JnL2RjL2VsZW1lbnRzLzEuMS8iLz48cmRmOkRlc2NyaXB0aW9uIHJkZjphYm91dD0idXVpZDpmYWY1YmRkNS1iYTNkLTExZGEtYWQzMS1kMzNkNzUxODJmMWIiIHhtbG5zOnhtcD0iaHR0cDovL25zLmFkb2JlLmNvbS94YXAvMS4wLyI+PHhtcDpDcmVhdGVEYXRlPjIwMjAtMDctMjZUMTI6MzE6NTMuNzY1PC94bXA6Q3JlYXRlRGF0ZT48L3JkZjpEZXNjcmlwdGlvbj48cmRmOkRlc2NyaXB0aW9uIHJkZjphYm91dD0idXVpZDpmYWY1YmRkNS1iYTNkLTExZGEtYWQzMS1kMzNkNzUxODJmMWIiIHhtbG5zOmRjPSJodHRwOi8vcHVybC5vcmcvZGMvZWxlbWVudHMvMS4xLyI+PGRjOmNyZWF0b3I+PHJkZjpTZXEgeG1sbnM6cmRmPSJodHRwOi8vd3d3LnczLm9yZy8xOTk5LzAyLzIyLXJkZi1zeW50YXgtbnMjIj48cmRmOmxpPkNoZWUgWW9uZyBMYXc8L3JkZjpsaT48L3JkZjpTZXE+DQoJCQk8L2RjOmNyZWF0b3I+PC9yZGY6RGVzY3JpcHRpb24+PC9yZGY6UkRGPjwveDp4bXBtZXRhPg0KICAgICAgICAgICAgICAgICAgICAgICAgICAgICAgICAgICAgICAgICAgICAgICAgICAgICAgICAgICAgICAgICAgICAgICAgICAgICAgICAgICAgICAgICAgICAgICAgICAgIAogICAgICAgICAgICAgICAgICAgICAgICAgICAgICAgICAgICAgICAgICAgICAgICAgICAgICAgICAgICAgICAgICAgICAgICAgICAgICAgICAgICAgICAgICAgICAgICAgICAgCiAgICAgICAgICAgICAgICAgICAgICAgICAgICAgICAgICAgICAgICAgICAgICAgICAgICAgICAgICAgICAgICAgICAgICAgICAgICAgICAgICAgICAgICAgICAgICAgICAgICAKICAgICAgICAgICAgICAgICAgICAgICAgICAgICAgICAgICAgICAgICAgICAgICAgICAgICAgICAgICAgICAgICAgICAgICAgICAgICAgICAgICAgICAgICAgICAgICAgICAgIAogICAgICAgICAgICAgICAgICAgICAgICAgICAgICAgICAgICAgICAgICAgICAgICAgICAgICAgICAgICAgICAgICAgICAgICAgICAgICAgICAgICAgICAgICAgICAgICAgICAgCiAgICAgICAgICAgICAgICAgICAgICAgICAgICAgICAgICAgICAgICAgICAgICAgICAgICAgICAgICAgICAgICAgICAgICAgICAgICAgICAgICAgICAgICAgICAgICAgICAgICAKICAgICAgICAgICAgICAgICAgICAgICAgICAgICAgICAgICAgICAgICAgICAgICAgICAgICAgICAgICAgICAgICAgICAgICAgICAgICAgICAgICAgICAgICAgICAgICAgICAgIAogICAgICAgICAgICAgICAgICAgICAgICAgICAgICAgICAgICAgICAgICAgICAgICAgICAgICAgICAgICAgICAgICAgICAgICAgICAgICAgICAgICAgICAgICAgICAgICAgICAgCiAgICAgICAgICAgICAgICAgICAgICAgICAgICAgICAgICAgICAgICAgICAgICAgICAgICAgICAgICAgICAgICAgICAgICAgICAgICAgICAgICAgICAgICAgICAgICAgICAgICAKICAgICAgICAgICAgICAgICAgICAgICAgICAgICAgICAgICAgICAgICAgICAgICAgICAgICAgICAgICAgICAgICAgICAgICAgICAgICAgICAgICAgICAgICAgICAgICAgICAgIAogICAgICAgICAgICAgICAgICAgICAgICAgICAgICAgICAgICAgICAgICAgICAgICAgICAgICAgICAgICAgICAgICAgICAgICAgICAgICAgICAgICAgICAgICAgICAgICAgICAgCiAgICAgICAgICAgICAgICAgICAgICAgICAgICAgICAgICAgICAgICAgICAgICAgICAgICAgICAgICAgICAgICAgICAgICAgICAgICAgICAgICAgICAgICAgICAgICAgICAgICAKICAgICAgICAgICAgICAgICAgICAgICAgICAgICAgICAgICAgICAgICAgICAgICAgICAgICAgICAgICAgICAgICAgICAgICAgICAgICAgICAgICAgICAgICAgICAgICAgICAgIAogICAgICAgICAgICAgICAgICAgICAgICAgICAgICAgICAgICAgICAgICAgICAgICAgICAgICAgICAgICAgICAgICAgICAgICAgICAgICAgICAgICAgICAgICAgICAgICAgICAgCiAgICAgICAgICAgICAgICAgICAgICAgICAgICAgICAgICAgICAgICAgICAgICAgICAgICAgICAgICAgICAgICAgICAgICAgICAgICAgICAgICAgICAgICAgICAgICAgICAgICAKICAgICAgICAgICAgICAgICAgICAgICAgICAgICAgICAgICAgICAgICAgICAgICAgICAgICAgICAgICAgICAgICAgICAgICAgICAgICAgICAgICAgICAgICAgICAgICAgICAgIAogICAgICAgICAgICAgICAgICAgICAgICAgICAgICAgICAgICAgICAgICAgICAgICAgICAgICAgICAgICAgICAgICAgICAgICAgICAgICAgICAgICAgICAgICAgICAgICAgICAgCiAgICAgICAgICAgICAgICAgICAgICAgICAgICAgICAgICAgICAgICAgICAgICAgICAgICAgICAgICAgICAgICAgICAgICAgICAgICAgICAgICAgICAgICAgICAgICAgICAgICAKICAgICAgICAgICAgICAgICAgICAgICAgICAgICAgICAgICAgICAgICAgICAgICAgICAgICAgICAgICAgICAgICAgICAgICAgICAgICAgICAgICAgICAgICAgICAgICAgICAgIAogICAgICAgICAgICAgICAgICAgICAgICAgICAgICAgICAgICAgICAgICAgICAgICAgICAgICAgICAgICAgICAgICAgICAgICAgICAgICAgICAgICAgICAgICAgICAgICAgICAgCiAgICAgICAgICAgICAgICAgICAgICAgICAgICA8P3hwYWNrZXQgZW5kPSd3Jz8+/9sAQwAHBQUGBQQHBgUGCAcHCAoRCwoJCQoVDxAMERgVGhkYFRgXGx4nIRsdJR0XGCIuIiUoKSssKxogLzMvKjInKisq/9sAQwEHCAgKCQoUCwsUKhwYHCoqKioqKioqKioqKioqKioqKioqKioqKioqKioqKioqKioqKioqKioqKioqKioqKioq/8AAEQgBMwGwAwEiAAIRAQMRAf/EAB8AAAEFAQEBAQEBAAAAAAAAAAABAgMEBQYHCAkKC//EALUQAAIBAwMCBAMFBQQEAAABfQECAwAEEQUSITFBBhNRYQcicRQygZGhCCNCscEVUtHwJDNicoIJChYXGBkaJSYnKCkqNDU2Nzg5OkNERUZHSElKU1RVVldYWVpjZGVmZ2hpanN0dXZ3eHl6g4SFhoeIiYqSk5SVlpeYmZqio6Slpqeoqaqys7S1tre4ubrCw8TFxsfIycrS09TV1tfY2drh4uPk5ebn6Onq8fLz9PX29/j5+v/EAB8BAAMBAQEBAQEBAQEAAAAAAAABAgMEBQYHCAkKC//EALURAAIBAgQEAwQHBQQEAAECdwABAgMRBAUhMQYSQVEHYXETIjKBCBRCkaGxwQkjM1LwFWJy0QoWJDThJfEXGBkaJicoKSo1Njc4OTpDREVGR0hJSlNUVVZXWFlaY2RlZmdoaWpzdHV2d3h5eoKDhIWGh4iJipKTlJWWl5iZmqKjpKWmp6ipqrKztLW2t7i5usLDxMXGx8jJytLT1NXW19jZ2uLj5OXm5+jp6vLz9PX29/j5+v/aAAwDAQACEQMRAD8A+kaKKKACiiigAooooAKKKKACiiuKTxLr2tXOoT6HJpVhpdjcNbG41CN3MzqcNja6hRn1zQB2tFc7ceLIdOtbFLyF7zULqLf9n01RLkDqwyR8vvmoJ/iDo8cOnPDHd3T6lvFvFBDucsoyykZGCMYoA6miubXx1pL6PBfxJdSNcTNbx2iRZnMinDJtz1BBzzUU3xC0a30uK8lS7Bku/sZt/J/exy/3WXPFAHU0Vzd940t9Ot457vSNWSNo/MkYWwPkLkj5/m46Z4zxVGTx1IPHcOj2+m3N1YT2Ed2lzBFu++zfNksBswB2znNAHZUVzUHjvSp9RjtliuxDLMbeK9aLEEkgzlQ2evB7dqwvFHxDRLeKLQ/tcbHUYrX7b5AMMh3YdAxzzjPbt1oA9CorA8ba3e6B4YkvdLWBrozwQx/aFZkHmSqmSAQTjdnqKzk8Q67oviTTNM8UJYTw6rI0Nvd2MbxBJQjPtZWZuqq3Oe1AHYUVz0XjOyfWYdNns7+0kuGZLeW4hCxzsoLEKc9cAnnHSszwt48n1rTdQub7Rb6E2k0iKY7f5ZArABV+Y5fnpwKAO0orG0PxNaa5cXNtFBdWl1bY822u4wkig9DgE8Vs0AFFFFABRRRQAUUUUAFFFFABRXPeK/EdxozadY6Xbpc6nqlx9ntklJCKQrOztjnAVScd6yPEWpeLdF8I6ld31zp4lijVobiyhZNrFwCCrs+eCeaAO4orA/4S3T4bHVppzMf7FgE14QnbYX+XnngH0qObxtYpfJaW1lf3spjSWT7NCGEKsMgtkjHH1oA6OiuO03xzJceLNe0u+025htNMlVVvBFiNV8sMS7bu/bA6Yq9pvjjTNTuEhWC8t/Oiaa3e4h2LcIBklOeeOecUAdHRXIWPxJ0jUNIh1O3tNRNtchPsxa3ANwzfwoM8kd+lWv8AhPNJGlS3kiXUckVwLZ7Nov34lIyE256kEHr3oA6WiuN8IeJ7jxB4q8QwuZ47azeFYra4iCPCSgLA49+epqpN45fSfHuuWGoLeXVna21vLHHbQK3kA797seDjgevSgDvaKxLfxbpVzNdJHKwFrZpes7LhWicMQynv9w5/Cn3OsfavBl1q+nGSLNlJNCZFAYEKSDjn0zQBsUVy/hTxVFqtpYWbvJd37WoluZY0GyM/7RHAJ9BVPx54y1DwpqOipZW0E9vd3BF2ZQ26OIAlmXBHIAJ5z0oA7SiuHHjq5m+JsWhW8NudK8hmluWzv3hC2Ac4wMc8Vq6b440vVNQt7WGK7iW7yLW4mi2xXGBk7DnngE8gUAdHRXP23jKym1mLTZ7O/s5LgstvJcwhY5iBkhTk9qp2vxG0a7vEgjhvlja8ay+0vBiITBiu0tnuRxxQB1lFYFn4utNQ1iWws7O+mWKdrd7tYR5KyKcMu7OeCCOlb9ABRRRQAUUUUAFFFFABRRXG6NP4w1vS0v4tX0i3SWSQLE2mSOVCyMoyfOGenoKAOyornPsPjP8A6D2j/wDgpk/+P0fYfGf/AEHtH/8ABTJ/8foA6OuETw7rWiS6lY2Gl6brej39y9ysF7N5ZhZjkggowcZ6dK2PsPjP/oPaP/4KZP8A4/R9h8Z/9B7R/wDwUyf/AB+gDkF+GV5YWOiSJFHqU+n2RtJbdb6WzVgTuyrxnPB7EEVtaR4On0/VfD9zBZW9jBYm5eeBLl5iGlB5DvyxyeScVq/YfGf/AEHtH/8ABTJ/8fo+w+M/+g9o/wD4KZP/AI/QBy198Or+4U3LpFPNBq93eRW4u5IBLHM5IBkTBU4Pv+NW7TwRcxxac9vplvpzx6vHfXMf2+S6LBQBne4yTgDjit77D4z/AOg9o/8A4KZP/j9H2Hxn/wBB7R//AAUyf/H6AOe8a+ENe17V70wCO7s7i1EVuHv5bcWr85JSP/WZ9yKsWPhfWtKvtFuIYLa6EWiw6ZeKbgxmMoDl1O07vvHjjpWz9h8Z/wDQe0f/AMFMn/x+j7D4z/6D2j/+CmT/AOP0AcrpHw7m069htbnSIb22huWmS9bV7hcAsWH+j525GcZzj2ouPB3icaTBoFrHYNp9tqYvEu3mIkdPMLlCm3ggsecnp0rqvsPjP/oPaP8A+CmT/wCP0fYfGf8A0HtH/wDBTJ/8foAXxzpF9rnhaS00pIpLpbiCZEmk2K3lzI5BbBxkKe1ZraJ4g8R+JNL1DxBDaaba6TI88FtbzmdpJijIGZiq4ADtxjrjmtH7D4z/AOg9o/8A4KZP/j9H2Hxn/wBB7R//AAUyf/H6AOMtPAPiNte0a81AQvJp98Z7i8fUZZDcKVYcRH5E+8OmfrWofDXii38O6xoun/Z4Fmumuba8S5KtKrSKWiK7fkyoYbgTjPSt/wCw+M/+g9o//gpk/wDj9H2Hxn/0HtH/APBTJ/8AH6AMbwT4R1LRfFOoape28VrBdWyRpAt9LdMrAjJLydfwxXeVzn2Hxn/0HtH/APBTJ/8AH6PsPjP/AKD2j/8Agpk/+P0AdHRXOfYfGf8A0HtH/wDBTJ/8fo+w+M/+g9o//gpk/wDj9AHR0VyN3ceKtIvNNa+1PS7q3ub2O2kji0942w2eQxmbB49K66gAooooAKKp6xdyWGhX93BtMtvbSSpvGRuVSRn24rBsYfGd5p9vc/25o6+dEsm3+ypDjIBx/r/egCbxd4fvNVk0zUtHljj1PSbk3EAmB2SAoyMjY6ZVzz2OKoa1p/ijxN4Z1CwvbGwsGljURIl00u5gwJJbaMDAPGPxrQ+w+M/+g9o//gpk/wDj9H2Hxn/0HtH/APBTJ/8AH6AOc1/wn4laLxJaaJHYyw69ZCEy3ExUwOIih+UA7gc9cjHvRr/hHXLyOKLSrK1t7xLdIo9Wjv3jkhYDGTEFxIAegJro/sPjP/oPaP8A+CmT/wCP0fYfGf8A0HtH/wDBTJ/8foAy7nwrqc2reI7Zo4ZNM1+JRJcicrJAwiCHCbfmzjOciqPh3wPc2F1B9u0a3SW1t3ijvhq1xNuYrtysTkhAfqa6L7D4z/6D2j/+CmT/AOP0fYfGf/Qe0f8A8FMn/wAfoA52b4f3k3w/8MadIIpL/RIog8K3DxJKQgVgJEww6cH9KSPwPexWMd7p2lWun6nb6gl4sL6jLdLPtULh5HGQccZA4xXR/YfGf/Qe0f8A8FMn/wAfo+w+M/8AoPaP/wCCmT/4/QBU8JaLrVn4j17V9djtYTqbxNHDbyF/LCoFwSQM9OuKztS8P+J4PFuvX+kQWE9rrFnFajz5ijRFd4L8Kc/f6frW59h8Z/8AQe0f/wAFMn/x+j7D4z/6D2j/APgpk/8Aj9AHFeK/Dkln/wAIto+lXiG/lT+z7tR957Y4kd8dgDHtGf75r0jUdO83w1dabZBVL2j28QJwBlCorFOieKTei8Oq6CbkJsE/9ivv2+m7z849qn+w+M/+g9o//gpk/wDj9AGL4R8E33hi3/sv91NpN9CTdoJmWSGbGCUccsp+oI7GrmoeBoZdT0eOzQnTLb7QLlJ7h5XZZYWTALkk/e9avfYfGf8A0HtH/wDBTJ/8fo+w+M/+g9o//gpk/wDj9AGJb/Df7Be6dFbXLzWkcd0t1PM/712lQrkYGO9VvDHgK40i/wBPS90iCQWBzHqH9q3D5IGAwgYlVP4muk+w+M/+g9o//gpk/wDj9H2Hxn/0HtH/APBTJ/8AH6AOM03wF4kXXdFvNTEMk2n3PmXV62oyyG6HqIj8kf0GfrWwvgvU18IR6bm3+0Lrhvyd52+WbgydcdcHp61t/YfGf/Qe0f8A8FMn/wAfo+w+M/8AoPaP/wCCmT/4/QBjf8IzrJ8aRX9pZW+lwLeGWe4t752+1R5ztaAgKrHu2c5rvK5z7D4z/wCg9o//AIKZP/j9H2Hxn/0HtH/8FMn/AMfoA6Oiuc0W91tPFN5pWt3dldrHZRXMclratCQWeRSCC7Z+4PTrXR0AFFFFABRRRQAVz3gX/kTrX/rpP/6OeuhrnvAv/InWv/XSf/0c9AHQ0UUUAFFFFABRRRQAUUVna3r+m+HbH7Xq9ytvFnAJGSx9ABSbSV2XTpzqSUIK7fRHG/FHx/feDxaW2lwxtPcKXaSVSVVc4wPetT4b+MLjxj4de6voUiuIJTE5j+6/AOR6delOmtvCvxO0lX3i7jhYgMhKvGfTmt3RNC0/w9pq2OlQCGFTkjqWPqT61yxjUdbnUrxPcxFXBU8vWGlRca6erf8AXbpY0KKKK6zwAooooAKKKKACiiigAooooA5/xb/zBP8AsLwf+zV0Fc/4t/5gn/YXg/8AZq6CgAooooAzPEv/ACKmrf8AXlN/6Aal0T/kAaf/ANesf/oIqLxL/wAipq3/AF5Tf+gGpdE/5AGn/wDXrH/6CKAL1FFFABRRRQAUUUUAFFFYfiDxjonhh4o9YvVhklGVQKWJHrx2qZSUVeTsTKUYK8nZHnnj/wCLGq+H/FsulaVbwCO12+Y0yklyQG4wRgYNeleGdZ/4SDw1Zap5RiNzHuKHsQSD+orH1Dwf4V8cNb61JGLkOoKzQtjzAOxrqLW1hsrSK2tY1ihiUKiL0AFc9KNVVJSlK8XsctGFZVZSnK8XsS0UUV1HYFFFFABRRRQAUUUUAFFFFAHPwf8AJSr7/sEW3/o6eugrn4P+SlX3/YItv/R09dBQAUUUUAFFVr3U7DTvL/tC9t7TzW2x+fKqbz6DJ5NJLqlhBfR2U19bR3cozHbvMokcey5yelAFque8C/8AInWv/XSf/wBHPXQ1z3gX/kTrX/rpP/6OegDoaKKKACiiigAoqK6uoLK1kubuVYoYlLO7HAUCuK1X4naRL4b1K68OXi3V5axFljKMuP8AawQMgVnOpCHxM68NgsRin+6g2rpXtor930Om1rxLpHh+IPq19FblhlUY/M30Arwrxv46i+IL29jBbfYhBKxheWTiTP8Ae9Dx71xesa5qOv3pu9WunuZsYBY9B6CqHTpXhYjGyq+6vhP1fKOGKOAtWqPmqrr0Xp3+Zq6PrmreFtUM2nzPbzISHQ9D7EV7J8MfifNr11JpniKaJbo4Ns4GPM9VPuP614MzFmJYkk9STW34NNqvjDTWv7j7NbrMGeUnG3HNY4evOnNJPQ9HOMqw2Nw05VI++lulrpr/AEj6pudRsrJ0W8vILdn+4JZVUt9MnmrAIIBByD0Ir5Z8eeIm8R+M7y8hlc26v5cALcKo4yPqcn8a9u0rxTYeEfAGjN4l1BWnlh+UofML854x6AgV7NLGRqTknol1PzXH8O1cJh6M4tynP7KWq0v+HU7iiqGja3YeINNS+0q4E8DHG4AjB9CD0NX67U01dHzM4SpycJqzXRhRRRTICiiigAooooA5/wAW/wDME/7C8H/s1dBXP+Lf+YJ/2F4P/Zq6CgAoqquqWD6i2npfWzXqLva2EymRV9Suc4otNUsL+WWOxvra5khOJVhmVzGfRgDx070AVvEv/Iqat/15Tf8AoBqXRP8AkAaf/wBesf8A6CKi8S/8ipq3/XlN/wCgGpdE/wCQBp//AF6x/wDoIoAvUUUUAFFFFABRWfrWu6d4fsDeavdLbQA4yQSSfQAcmvPvHnxOjTwjDd+ELxZGuJjE8wUhocDPQ9DWNStCmm5PYwq4inSTcnt06nV+J/HuieF4JhdXSS3ca5FrGcuT6e3414N4s11vH2rNqUFv9mnihCm2Mm7cB3XgflXLXd3PfXctzeStNPKxd3c5LE96jVmRtyEqR3BxXhV8XKto9j5nE46eI91r3exu+HvGuueGFdNKuykb9Y3G5R9B2r3r4b+PIvF+keXdyRpqkBIliUY3L2ce3b8K+Zq7f4X6rYaFrd9qeoXPktb2bGKPp5rEjj+XH+FPCYicJqLeg8Dip06ii37p9HHUrEXn2Q3tuLn/AJ4mVd//AHznNWa+TLS8vNW8ZQ3Mc5juLi6DK7yY25bPU19Fat4/0Dw3cwWGr34+1FF37ELbeOpwK9Whi41E3LRI9vDY6NZSlLRI6miora5hvLWO4tZFlhlUMjqeCKlrtPR3CiiigAooooAKKKKAOfg/5KVff9gi2/8AR09dBXPwf8lKvv8AsEW3/o6eugoAKKKKAOM+KVzptt4OkfUp7WGTenkGd1Uk71ztz7elc1qt5ZXFz4gRJ4ZtVvNStpdKKOGaSHZFzGR1XImyRxXqksEM4AniSQDoHUHH50C2gDKwhjDIMKdgyv0oAiv4bue0ZLC7W0mJ4laISAf8BJFYvgBXXwRZLK/mOHmDOFxuPnPzjtXR1z3gX/kTrX/rpP8A+jnoA6GiiigAooooA5b4kWFxqXgDUoLNXeXy94VBktjnGO9eCeAngtPEjT6og+wJBItyJOAVKkFfqewr3z4jatqGi+CL280kH7QuBvUZKAnBP4Cvmu/13UtThWK/u5JkVtwDeteLj5RjWjLqj9N4To1a2X1aWnJJtXvqtFf9LalW8e3kvZns42it2cmNGbJVc8AnvUNFFeQfoaVlYKKKKBhXpmneCbvxx4B0yfSbpGubF5IZIZnxwSCMelebQwy3EyxQRtLI5wqIuST7Cu8+FNrrkHj23W2huIoYywuwykKq46N+OK6MPZz5ZK6eh42cSnDDutSmoyp+8r9dGrfM9h+HfhKfwf4bNneTLLcSyGR9h+VeOgrrKKK+mhBQiox2R+H4nEVMVWlWqv3pO7CiiirOcKKKKACiiigDn/Fv/ME/7C8H/s1dBXP+Lf8AmCf9heD/ANmroKAPO/FN/pcHxCtoYL2yi1GTSr1CnnIJDIRHsBGc5OOBTPCEtlceItCGkNGzW2jyx6p5X8ExaPaHx/FuEvXmvQmtbdpfNaCMyf3ygz+dOjhiiZjFGiFvvFVAzQBh+NLe+n8K6h9gvltAtrMZN0Ak8xdh45Ix9a0dE/5F/T/+vWP/ANAFReJf+RU1b/rym/8AQDUuif8AIA0//r1j/wDQRQBeooooAKKKKAPLvjpYXN14Zsri3jd47ecmXaM7QRjJry/wzPYWfhXXDrcPmwzRottHv2s0meo+nc16p8Z9f1bRtJs4tMdoIrhyJZV/9Brwi/1K81KZZL6dpnVQoLdgK8HGSjGu2tz5nMJxhiXJb2+WxWpVUu4VRkscAU2vRPh9Y+GNdnitLuzmTUoRvDByVkwevtXh4rELDUnUabS7HBhqDxFRU00m+5xes6NdaHfC1vlAdo1kGOhDDP8A9b8Kz6958f6X4dSzGr6/BLI0SiGMREgt1IH868MunhkupHtojDEzZRC2do+tcuW454ylzOLTW76X8jpzDBrCVeVP0728yNSVYEHBB4PpXrOs/C7UvFNxaazo13DLBeQRmQyvyjBQD+HFeVW1pc3jMtpbyzsq7mEaFsD1OO1exfAqPWUub8zLMul+WMeYCAZM8bc+2c/hX0GFjGcvZzWjJwUI1J+ymrp/oep+HNI/sHw5ZaX5nmm2iCF/U1p0UV9GkoqyPrYxUUkugUUUUxhRRRQAUUUUAc/B/wAlKvv+wRbf+jp66Cufg/5KVff9gi2/9HT10FABRRRQAUUUUAFc94F/5E61/wCuk/8A6OeuhrnvAv8AyJ1r/wBdJ/8A0c9AHQ0UUUAFFFFAHh+tfGfUY/Edxaw2UL6ekhjMUi/M46ZJryzUPP8At832qMxS7zuQrt2n0x2r6Wu/hn4ZvteOrXFjunZ/Mddx2M3qV6VpeIPCOjeJrYQ6taLIFOVdflYfiK8ipg69W/PL0P0PBcR5XgHBYei0mlzPrdfn17HydRXX/ETwXJ4R111iA+wTsWtvnyQvoe/HSuQAJOBzXkThKEnGW5+jYbE0sVRjWpO8WFFFFQdAqsVYFSQfUV9I/CGfULnwJHLqgYt5zLC7jlowBjnuM5rwTQtUuPDOrQaiLZZSUJRJR8rgnGfcZH6V778NPHT+MrC6S4tUt57MqCI/usrZx/I16eX8qqavXsfD8Ye2ng/dppwTTcr6rpax3FFFFe8fkwUUUUAFFFFABRRRQBz/AIt/5gn/AGF4P/Zq6Cuf8W/8wT/sLwf+zV0FABRRRQBmeJf+RU1b/rym/wDQDUuif8gDT/8Ar1j/APQRUXiX/kVNW/68pv8A0A1Lon/IA0//AK9Y/wD0EUAXqKKKACqWs6iuj6JeajIhdbWF5io6kKM4q7TJoY7iB4Z0DxyKVZWGQQe1J3toKV7aHzzqPxY1nxFaXemz2MEqXSlYVRMtGT0x6mvPGJLEt1r6h0b4b+HNC1c6lYWhE4JKb3LBM+gNO8SfDzQPEsnn3tntuApCyRNsyffHWvHngq9RXnK7PAqZdiKseacrs+Wq3fDPiV/DLXc9tAsl1NGEikbpH1yareItBu/DWtzaZqGwTRH+Bsgg8g/iMGswAnpXi1qMakXTqLTqjxoyqUKl1pJHUzeO9Q1DQLvS9Z/0xZvmilY/NG2f5VytFKoLMAoyScAVFKhTo3VNWuOpWqVbc7vYltpp4LlHtHdJQw2FDzmvrPwu15J4X099TTZdtCDKMY5//Vivm3wr4vuvBc10IbGCeSYoT5wzs256f99V9E+DPEq+K/DMGprF5TMSkiDoGHp+de9l3Km9dex7OU8ibXNq+hvUUUV7B74UUUUAFFFFABRRRQBz8H/JSr7/ALBFt/6OnroK5+D/AJKVff8AYItv/R09dBQAUUUUAFFFFABXPeBf+ROtf+uk/wD6OeuhrnvAv/InWv8A10n/APRz0AdDRRRQAUUUUAFFFFAHE/EP4fDxrDbvBcrbXVvkKzjKlfQ15x4p+EF3onhy2m0xZNRvA5+0mIHhe2F9K99orkq4SlVbbWrPoMBxBjsDGFOErwi72/S+588eGvg/q2t6TcXd8XsHAIgilTBkPqc9qg034OeJ726eK5hSzRDgySNwfp619HUVj/Z9GyPRfGOY802ra7aben/BPMbv4K6beaTp8D3ssdzaxeXJKg4k5J6H0ya7Dwn4P03wfpzWumKxaQgyzP8AekI6Z/wreorrhQpQlzRWp4OIzbHYml7GrUbje9vxCiiitjzAooooAKKKKACiiigDn/Fv/ME/7C8H/s1dBXP+Lf8AmCf9heD/ANmroKACiiigDM8S/wDIqat/15Tf+gGpdE/5AGn/APXrH/6CKi8S/wDIqat/15Tf+gGpdE/5AGn/APXrH/6CKAL1FFFABRRRQAUUUUAeZ+OvhK3irxEdVsr9LZ5QomWRSc4AGRj2FcB44+F9/od/brodncXlq8ShpEUsfM759M19F0VxVMHSqXezZ59bL6NW7tZvqfP0fwV1h/Cq34fGothhZHjavPBPr04pmgfBbXb+SOXVSljDv+ZXOWI78dq+hKKn6hRumR/ZeHunqeZal8EdGvtUW5ivJ7eLCh4kA5wMcfXFd/o+kWehaVDp+nR+XBCMKOpPuavUV1Qo06bbirXOynh6VKTlCNmwooorU3CiiigAooooAKKKKAOfg/5KVff9gi2/9HT10Fc/B/yUq+/7BFt/6OnroKACiiigArj/ABxY6lcXmm3Vol5NYWsc7XkNpqD2jNnZtOVILYw/HvXYVl6x4esddEYvzdYjBAWC7lhDA9QwRhuH1zQA221J5/DVre6NaPeeZGpjilm2sRjHLNnn69apeAGd/BFk0qeW5eYsmc7T5z8Z71vW1tDZ2sdtbRrHDEoREUcKBWH4F/5E61/66T/+jnoA6GiiigAooooAKKKKACiiigAooooAKKKKACoZ7u3tiouJ44yxwodgM1NXz/8AGXS9ZHit7+ZJZLDywIZBnant7GufEVnRhzJXOXFV3Qp86Vz6ABBGRyK8zvfjXpNn4ibT/scr2ySeW9yGGBzgnHpVLwr8WNF0rwPbxalcTz31rGEMZX5n9Oe/1rxrXLy11DXLu70+Bre3mkLpExyVB7ZrixGMtGLpvU87F5hywi6LV3ue9X3xo8PWOtNZNHPJChw9wgyAfYd60bf4r+EriyNz/aPljdt2SJtf8vSvmXOetAGelcqzGtfocSzWunsj7FsL+11Oyju7CZJ4JRlJEOQasV4f8LPiNp+i2Nr4fvoJlMkp/wBI3gopY8DHavcK9ihWjWhzLfqe/hsRGvTUlv1Of8W/8wT/ALC8H/s1dBXP+Lf+YJ/2F4P/AGaugrc6QrgWS80fxxcX+tpqD2d3qASymj1KTyYwYlAVoAduNyuckd676sZvCulyayNTmW5mnV/MVJbuV4kbGMiMtsBx6DuaAIfGlze2/hXUPsNgLsPaTCTMwj8tdh55HP0rR0T/AJF/T/8Ar1i/9AFReJf+RU1b/rym/wDQDUuif8gDT/8Ar1j/APQRQBeooooAKKKKACiiigAooooAKKKKACiiigAqub+0W6Fs1zEJz0jLjd+VWK+MPGth4m8O+PLi+1hriG5+1GSK7JPzc5BU/SveyXKI5pUnTdTlaWnn/XUyqVORXsfYup6hb6TpV1qF422C1iaWQgdFUZP8q8r8P/tDaDq+tPZ31nJp8G1mS4kcEcDPIqv4h+Ofg648HG0KXOote27QTQAbGAK7SSe3XivmVyDIxQELk4Gegr6PI+GY4ijU+vU5Re0Xt+H+ZjVrWa5WfUdt+0d4SkvJo7qC8ghQ4jlCb/M/AdK6WD4xeCJ/s23WolNyAVDcFPZvSvjWlAJPGfwr3avBuXS+Byj87/mjNYiZ+gCOsiK6EMrDII6EUteS/CL4r6X4gtrDwv8AZ5re8s7NIkkkcMJ9igE9OOletV+XY7BVsDXdGsrP813O2MlJXRz8H/JSr7/sEW3/AKOnroK5+D/kpV9/2CLb/wBHT10FcRQUUUUAFFFFABXPeBf+ROtf+uk//o566Gue8C/8ida/9dJ//Rz0AdDRRRQAUUUUAFFFFABRRRQAUUUUAFFFFABWN4t0H/hJvC95pPm+S06ja/oQwI/lWzVHW9R/sjQrzUBH5htoWkCepAqZpOLUtiKii4NS2PnDxP8ADy68I6U1zrF7b+e8gSCCI5LjuT6DFcdWr4h8Rah4m1aS+1SYySHhVHCoPQCsqvlajg5e4tD4qs6bn+7VkFPhleCZJYyA6HcpIB5+hplFZmRf0W6gs9ds7m9j82CKZWkTONwB5FfXVtcRXlrFc27b4pkDow7gjINfG1eo/Dn4maxBrWnaLqEsc2nvtt03qFMQ6A5/xr0cDiI0pOMup62W4qNGThPqeu+Lf+YJ/wBheD/2augrn/Fn/ME/7C9v/wCzV0Fe+fThRRRQBmeJf+RU1b/rym/9ANS6J/yANP8A+vWP/wBBFReJf+RU1b/rym/9ANS6J/yANP8A+vWP/wBBFAF6iiigAooooAKKKKACiiigAooooAKKKKACvPPi98Orn4gaFbR6dcJDeWkm9FkPyuCMEe31r0OuH+LXjO78EeB5b/TYg13NIIInYZERIPzEewBx74r0crliI42n9V+O+l9vmRO3K+bY+X/G/giTwPPZ2d9fQXF/KjNPDAciHBGAT71ztrYXd7u+yW8s23r5aE4ov7+61S/mvdQmae4mYvJI55YmtvwXrmvaFr0D+Hi5lmdUMJUlJcnow9Pev2vEVMXhsBKcXGVVK/vPli36pOy7aep5y5ZS8je/4VxP/wAKqOu/Zpv7R+0/6rB3eXnGMfrXEy219phP2i3kg8xSv7yPGQevWvsAa/pv2waWb23/ALR8vd9nzzn6fXtXzL44k8W6zeTan4kgkWKKQxqoGI4ueij096/KuBOM8yzjFVqOPjGEXLmjzSalafwxgmveSs9bndisPCnFOH9epofBLVbLSvijp76gDtmDQxt/dduAa+wa+ArW5ms7uK5tnKTRMGRh1BFfTPwZ+I/iXxNqEun+KIvMVozJBdeVsJ9QccH24r6PjHLJTksbGSslZpuz+Xcxw8/snokH/JSr7/sEW3/o6eugrn4P+SlX3/YItv8A0dPXQV+anYFFFFABRRRQAVz3gX/kTrX/AK6T/wDo566Gue8C/wDInWv/AF0n/wDRz0AdDRRRQAUUUUAFFFFABRRRQAUUUUAFFFFABTZYknheKZA8bqVZWHBB6inUjHapJ6AZoA+XfiRoCeHfG13a28ax20hEsKLnCqe3NcpXU/EHxTJ4q8TSXD26QJATEgGdxAPc1y1fKVuX2j5Nj4ivye1lybXCiiisjAKchIkUqdpzwfSk69K9g+H3wks9V0W21fX2uFeRyyW4AX5QeM59etbUaM60uWJ0UKE68+WB3d0XPhfwgZZDK5u7Is5/iOzrXZVzniiNIYdBiiUKiarbqqjoAM4FdHX1MVZWPtYqySCiiimMzPEv/Iqat/15Tf8AoBqXRP8AkAaf/wBesf8A6CKi8S/8ipq3/XlN/wCgGpdE/wCQBp//AF6x/wDoIoAvUUUUAFFFFABRRRQAUUUUAFFFFABRRRQAVna9odj4j0W40zVIEngmXBV+x7H8DWjVe/uhZWE1yV3eWpOPWj2ro/vU7cut+1gtfQ+cNN+FWm6ZIy6xG011HKSyb/kXB4HvXYWenwW8qtY2kUci42mOMAjH0q5e3TX17LcyKqtI24helMhnkt5RJCxVh3Ffl+c57mGa151MRWlJXdk27JPol0O2nShTVkjlbr4VTahNrWr288kV/IRJZuXYNG+csc+/StmfQ2udCWw1oSXQZAssrjBkbufavQ4bxFihW6kRJnUZX3rmtaubiS+kimb5Eb5VHTHY1x1eJs1x6p068/4dnF9VZKKs9+l/W73KVGEbtLc4aD4eeHoZZH+ys4kIO1m4GOwrs9FTy9UtUgIiw4A2joKrIjSOEQFmY4AArvtG8KW1l5F1OzvcBQ208Kpr1aFTNM7rxlXqymoNaybdttvOy/AhqFJaKw6D/kpV9/2CLb/0dPXQVz8H/JSr7/sEW3/o6eugr9HOMKKKKACuT8T3N/ca/aaVY6hNp6fY57p5YQu52XaFXkEY5Ofw6V1lZGueG7XXngknnubaaFXRZbVwrFHxuU5B4OBQBBpGt3M/g+01KWznvbhkw8dsF3OQSpYBmA7Z696i8AOZPBNk5RoyzzEo+Mr++fg471uWVnDp9jDaWq7IYUCIPYVi+Bf+ROtf+uk//o56AOhooooAKKKKACiiigAooooAKKKKACiiigAooooA8I+M/hrQ9EktrvT0aG+vJCzxD7hUDk+xzivKK+p/GvgWw8a2cMd3K9vNASYpkGcZ6gjuK4LV/gRFFpMjaPqDzXqgFEmXarevIzivExODqSqOUFofOYzAVZVXOnHQ8VrZ0/wnreq6RJqWn2ElxbRNtZk5OfYdTXp/gX4OupuJvGNqm1l2xQq+WBz97I4rnLr4m6t4d1aaw8PW1tY6fayMkds0ZPAPVuetcv1dU4qVbRP7zjWFVKKniNE/vOs+EPgNrW3uNT8QacokkIFulwmSB64P9a9cVQqhVAAAwAB0rA8EeJH8VeFbbVJYRDK+VdR0yDgkflXQV72HhCFNKGx9NhadOnSSp7HP+Lf+YJ/2F4P/AGaugrn/ABb/AMwT/sLwf+zV0FbnSFefTaxqovrjWF1CYQQautiLABfLaLYuSeM79zZznGB0716DWA/g7T31s6iZbobpxctaiQeS0oXbvK4znHHXFAB40v5LLwrqHl6fdXnmWsyn7OEPl/IeW3MOPpmtHRP+Rf0//r1j/wDQBUXiX/kVNW/68pv/AEA1Lon/ACANP/69Y/8A0EUAXqKKKACiiigAooooAKKKKACiiigAooooAKbJGk0TRyKGRhhge4p1FJpNWYHmniWxtdP1Uw2e4DbllPY+1ZFej6v4YttWuhcNK0T4w2BncKxNS8EyRRK2muZmz8ytwfwr86zDJMWq1SpSh7t9LdvQ7IVY2SbOVeV5H3yMWb1Jq9JpOpSwxXLQSSLKBtYcnHauktPDMGn6LLc6nAs08amTYD6DpWXb+MNRhlXIiMQOPLC4wPQVx/2bRwqj9dk4uS0SWq9f8kVzuXwnT+HNGSw0yI3MCC5bJYkZI54rbqO3mFxbRzKCBIgYA9sipK/ScLRp0KMadLZI4pNt3Zz8H/JSr7/sEW3/AKOnroK5+D/kpV9/2CLb/wBHT10FdIgooooAKKKKACue8C/8ida/9dJ//Rz10Nc94F/5E61/66T/APo56AOhooooAKKKKACiiigAooooAKKKKACiiigAooooAKKKKACuS1z4ZeGdfvmvLy0eOdzudoX27z78V1tFROEZq0lcidOFRWmrlTTNMtNH06Kx06EQ28QwqCrdFFUkkrIpJJWRz/i3/mCf9heD/wBmroK5/wAW/wDME/7C8H/s1dBTGFFFFAGZ4l/5FTVv+vKb/wBANS6J/wAgDT/+vWP/ANBFReJf+RU1b/rym/8AQDUuif8AIA0//r1j/wDQRQBeooooAKKKKACiiigAooooAKKKKACiiigAooooAKKKKAEZQylWGQeCDWO3hTSmuBN5JGDnYG+X8q2aKwrYejXt7WKdu6Gm1sIAFUBRgAYApaKK3Ec/B/yUq+/7BFt/6OnroK5+D/kpV9/2CLb/ANHT10FABRRRQAUUUUAFc94F/wCROtf+uk//AKOeuhrnvAv/ACJ1r/10n/8ARz0AWdZ8W6D4emih1rVbazkmOESWQAn3x2HvWrDNFcQpNBIssbjcrochh6g18+/GX4W+KvEHjj+1NGt2v7a4RUADgGIjtgnge9exeANCvPDfgfTdL1KTzLmCLD4OQp9Aa9zGYHCUcFSr0q3NOW8e366bamcZScmmi/4g8SaT4W0ttQ128S0tlO3c2SWPoAOSfYVH4b8VaL4t083vh++S7hU7WIBVlPupwR+Ir58+Pfj3TvEd8mg6espfTZz5kxPyOcEYH59awvhH8Sbf4f6rNBqFu0tpeOqyyo/+qH97HevapcLVKmV/WUn7V6qOlrf5213+Rk66U7dD64orxzxP+0Hp+geLZNKg0yS6gt5PLnnDYOe+0d69U0jW9O12xS60u7iuY3UN+7cErkZ5HY18zictxeFpxq1oNRls/wCtvmbRnGTsmX6KKK88sKKKKACiiigAooooAKKKKACiiigAooooA5/xb/zBP+wvB/7NXQVz/i3/AJgn/YXg/wDZq6CgAooooAzPEv8AyKmrf9eU3/oBqXRP+QBp/wD16x/+giovEv8AyKmrf9eU3/oBqXRP+QBp/wD16x/+gigCvL4o0SHVhpsuqWyXhOPKMgzn0+vtWtXz5qnwq8UzeMJfKjMkMs+9bvzBgKTnPXqPSvezImn6YZLqTEdtDukc9gq8n9K5aFWpNy542se7mmX4TCxpPC1faOS1Xb7u/bczdf8AF+h+GPL/ALavlt2l+4oVnY++FBOK0rG/ttSso7uxmWeCUZR0OQa+Z/iD4ltvF/idr6ySSONU8sCUjnHcV2fwm+INrp1rF4ev4jGgLulxu4z1wRXPTxylWcHt0Z7OK4WqUctjiIXdTeUdNF5enzPbaK8v0r412GoeJEsJrJre1lfYlwzDj3b0FemQXEN1CJbaVJo26PGwYH8RXbTrQq/A7nzGMy7FYFpYiHLckooorU4AooooAKKKKACiiigAooooAKKKKACiiigDn4P+SlX3/YItv/R09dBXPwf8lKvv+wRbf+jp66CgAooooAK5D/hL7h/HtxoCTaTAsOzCXE7LPMGGTsXocVrX/hDw7ql693qOi2V1cSY3yywhmbAwMn6Cs3VvDF9qHladbrptppEUsboY0YTIF5wOw5/SgDor/UbLSrRrrU7uG0t1ODLPIEUH6msXwBLHP4JspYXWSN3mZXU5DAzPgg10RUMMMAR6EVx2ia3Z+Gvhf/a2otstrUzs2O/75wAPqSBVQhKpJQirt6INjsq87+J3xYsfAliIbIwXurO4X7L5gzEP7zAcivO/Ev7R39o+H7y00KwuLC9kwsVyWB2Lnk/XFeF3d5cX93JdXszzzytueSRssx9Sa++ybhOrOp7XHq0V9nv626HJUrpK0TT1PWbXWvFEuqX1mYYp5fMmhgbqe+M9M1m3s8dzfSzQwrBG7ErGvRR6VBRX6bClGFlHorHHe5JcXEt3cPPcu0krnLOxyWPqa9M+AV3ND8TbdBerBC8bK8ckmPNJHCgHqc15fVnTr2403Ure8s3KTwSB42HYg8VzY7DfWcLPDrTmTQ4y5ZJn3zRWd4e1CfVfDWm6hdxeRPdWsc0kWPuMygkfhmtGv59nFwk4vdHrbhRRRUgFFFFABRRRQAUUUUAFFFFABRRRQBz/AIt/5gn/AGF4P/Zq6Cuf8W/8wT/sLwf+zVvuiyRsjqGVhgg9xQBHdTeRaTTAAmONmAPfAzXNeCvFNx4ot5Z5Z9KdV6w2U7PJEckYcHp0q3H4J8N2souLHQtPiuUyY5BABtb1zUOmaDqX/CTjWdXeyR4rZreOOyVgGDMCS27uMDH1NAE3jTV9O0vwrqA1K+t7Qz2syRedKE3tsPAz1NaOif8AIv6f/wBesf8A6AKh8TKreFNW3KDiymxkf7BrF1bxhY+DfBOm3l6rSvJBEkUKH5nOwfpUykoLmlsbUKFTEVFSpK8nsjrq8r+IfxVtdNd9I0mODUBLGyXLb8qoIwV471yfjP4v3Wv6ZFaaKk+nBs/aCH5cegI7V5mSWJJOSepNeRicfdctL7z9EyPhRxar49ekf1bX4Fy1uLOKaaW4tmkyp8qMNhQT3J9utVoppIJhLC5R1OQynBFMo6da8i5+iciu/MMnOe9ez/AaeU/2nFJdqY8KUty/zA92x6Y4rxiuk8AardaR41sJrJDI7yCNkA+8rcEVvhqns6qkzyc7wjxeX1KUd7X+7U+qKKKK+pPwcKKKKACiiigAooooAKKKKACiiigAooooA5+D/kpV9/2CLb/0dPXQVz8H/JSr7/sEW3/o6eugoAKKKKACiiigArxrxl4X1bxX8ErS00NWlmhvJZmgU8yKJJRgep5HFey1wKSanF8F7t9B3f2gsdwYdvUHznzj3xmu7L606OLp1Kdrprfb5kzScWmfLeueCdZ8NaTBe65bmzNxKY4oJeJDgZJx2A4/Oufq5f32oXM0i6lcTyybyXEzknd3PPeqdfvtFVVD96035aL9Tyna+gUUUVsIK6j4e6xomh+Lra88Sad9vtVOAh5CN2bB64rl6KyrUo1qUqUtmraaMadnc+/ba4iu7WK4tnDwyoHRl6FSMg1LXCfBaaWb4S6M085nYIyhj/CoYgL+A4/Cu7r+fMXQ+r4idG9+Vtfcz1ou6TCiiiuYYUUUUAFFFFABRRRQAUUUUAFFFFAHP+Lf+YJ/2F4P/Zq6Cuf8W/8AME/7C8H/ALNXQUAFFFFAGZ4l/wCRU1b/AK8pv/QDXlXxJ8I63rml6Fe6VBJeQxWSI0UfJQlV5x7/ANK9V8S/8ipq3/XlN/6Aa4n4iT6tb/CqwbRmlQGOEXDRZ3CPy/btnFc2KjGVF8x7eQ1qtHMabpNJt2121PDtc0G88PXcVrqShJ3iEpjB5UHpn3rNqSaeWdgZ5GkYDALHJA9Kjr5iVr6H7lSU1BKo7vrbQ7bw38OtR1K4sr1jby2DSK0hSUH5c8itnxr8Or+71+51DTRBHaOA7GSQLg45NZ/w21u28PWuo6hqN4UgUBEtw333POQtaHjXxZZ+K/Bgm0+5a3khlHnWrNgsDx07jNfL1KmOWPVn7q929tNde+/mfJVquZLM0ov3F7t+V21s9r77K+x5lKnlSsm5W2nGVOQfoa9D+D+s6LpviJbfUrMNe3LhLe6PIj9vbJ7151UtqzJeQsjFWDjBHbmvq6NR05qXY+kx2EjjMLOhNtXW6/r8D7HoqCyLNYW5d/MYxKS/94461PX1p/PklZ2CiiigQUUUUAFFFFABRRRQAUUUUAFFFFAHPwf8lKvv+wRbf+jp66Cufg/5KVff9gi2/wDR09dBQAUUUUAFFFFABXN+Cw7eB4BE22QtcBSex818V0lc94F/5E61/wCuk/8A6OejYD5H8ZeF/EOm+IdRm1u0nTMzO1xIDtYE8HNctX2t8SPBS+PPCMmlCf7PMsizQyEZAYZHI9ME18q+MPht4i8FTH+1LNmtd21LqIZjb8e3Sv2fIc+o4+kqdRqNRaW7+n+R51Wk4u62OToqSKCWZ9kSMzYzgDmtvS/AvijWrd59M0O8uIkOGZYzx+dfS1K1Okr1JJLzdjFJvYxIIvPuEi3pHuONznAH1NX9b0K50bUpbdv38I+aK4jU7JUPIcH0I5rr9M+B/jnUoTIdK+yYbbtuX2E++PSvozw98Pray+GcPhfWSLo/Z2illxyu7rtPbGeK+bzPiPC4JxdOanrZpPbz+XbqbQoylvocP8Hfixo1zaaT4P8AsMlnPFAsSSlgVmkA54A4ycn8a9sryHwR8BbTwn4sTWbnU2vRbtutotm3aexY9yPwr16vzPPJ4Cpi+fAttPV3vu999TspcyjaQUUUV4ZqFFFFABRRRQAUUUUAFFFFABRRRQBz/i3/AJgn/YXg/wDZq6Cuf8W/8wT/ALC8H/s1dBQAUUUUAZniX/kVNW/68pv/AEA1l6pa3178MWt9JYrdyafGI8dT8oyPxGR+NaniX/kVNW/68pv/AEA1Lon/ACANP/69Y/8A0EVMlzJo1o1HSqRqLo0/uPk6/wBJvtMkK6lbSW7EkASLjJHWqVfR/wAS/h9P4zjtZ7C4WK6tQwCP91wf5HivA9b8Oar4euvI1azkgYn5WI4b3Br5rEYaVGXl3P23J86oZlRTulU6x/rczKKkjt5pv9VGz84wozW1beBvE15bJcW2i3ckUn3WCda54xlLZHs1K9GlrUkl6tIztI04apqEdqbiK33nG+VsCozbz6fegXdvJG0Mnzq645B6V2+k/B7xRdzW0lzBHaROwLGRvmQZ7j1r2jxT4LsvE/h/+zpmMUqhdlwFBbI9T3rtpYOpODdrNfifMY7iXCYXEQgpKcZaO32fPTe/byKfgf4haf4zE0NtbPaTW4BMTEHK+xFdhXEeAPhxD4Kaed7s3d1MNpcLtVV9hXb17lD2ns17Tc/Lc0WDWKl9S/h9L/jvqBOOtJvX+8PzqG6G4RKejSAEeo5pxtrcDJhiA/3BWraSuzzSTev94fnRvX+8PzqlcG3ieMLFEdx5+QdKsCC1bpFEf+AiuSljaFWrOjCWsbX+auU4tK5LvX+8Pzo3r/eH51H9lt/+eEf/AHwKxNR1/TNP1BrFNPuL24jQPKlnbCTylPQt6ZrsJN/ev94fnRvX+8PzqnBJp9wF8sQb2Xd5ZChgPcVFd3+kWVhc3k8lr5NrE0srLtO1QMk0AaO9f7w/Ojev94fnVKG40ueGOWJ7UpIMocrzSTT6fFbTTKkMwgUs6RBWYfhQBe3r/eH50BgehB/GsvVNT0nSIBJeCIbmVQiqpbJ6cVcmhjiaJokVD5gGVGOKAMiD/kpV9/2CLb/0dPXQVz8H/JSr7/sEW3/o6eugoAKKKx9Q8K6Vql491eLdmVwAfKv54l4GPuo4A/KgCO68QXFp4tstIk07/R7xHaO784feXGRsx/tDnNUh40J1jyP7Ob+zjefYRfecOZtu7GzH3eoznqOlQ6rpesx+JtEk0fTYJtP01JFaSe/YSHftHQqxONvc85qsPC+rjUhY7Lf+yV1P+0BceafMxt5j2Y/vEndnpxigDtZZooIy88iRIOrOwA/M1g+A2DeDLRlIIMkxBB6/vnrburS2voDBe28VxETkxzIHU/gaw/ASJF4Ks0jVURXmCqowAPOfjFAHRV4b8fvHutaBdWWjaUI4be4jMksksCSiXBHy4cEY/D0r3KsTxL4P0Lxdapb+INPju1jOY2JKsh9iCD+FeplOKw+Exca2JhzRXT9dexFSLlGyPjzw/wCG/EnjLVxNo1nJNL5y75olEaxEnrxgLjrxX0B8W/iRq/w807SdN0mOJru4h3SXEiZC7eOB0zmvSfD3hnSPCunfYdBsktICdzBSSWPqSeTVbxT4L0PxlaRwa/ZC4ERzG4YqyH2Ir6DF8QYbHY6nLEUr0YXsuruuvT5GUaUoxdnqc/8ACLx7d+PfC8t1qUCRXVrL5TtGCFfjIIFd9WZ4f8O6X4X0tNP0S0W2t1OdoJJJ9STya06+WxtShVxM54ePLBvRdjaKaVmFFFFchQUUUUAFFFFABRRRQAUUUUAFFFFABRRRQBz/AIt/5gn/AGF4P/Zq6Cuf8W/8wT/sLwf+zU+Xwbo8129zIl75juXONRuFGc5+6JMD6YxQA208SzSeKL/SL3TvsqWtstylx5wbzUJYZ24G37h7moNH8YPqeqW9tcaa1pBepLJZTmYN5wjYK2VwNp5BHJyKqf2Xrcnjy6upNOt10uexSyEwvSZAFLnds2f7eMZ7daZoXh3WIdW0waolvHaaPFPHBJFKWa43spUlcDbhVxjJyT2oA3fFVxDB4U1Tz5o491nMF3sBk7DwM1Z0T/kX9P8A+vWP/wBBFU/F1hZ3vhXUje2sFx5VpM0fmxh9h2HkZ6Grmif8i/p//XrH/wCgigC9Xz98UfG+ryeKbzSV8qK0tiY1R4EctxjcCwJB9xX0DWBrngfw94juludW05Jp1GPMDMpI9DgjNcuJpTqw5YOx7uR47C4HFe1xNPmVtNnZ97M8P+GXhfW7zxVp2p28EkVlHKHknYfKyjqv4jj8a7D4g/FTV/D/AIqbTNKihSK3wXaRMmQ+n0r1mzs7fT7OO1solhgiXaiKOAKw9d8CeH/Ed8l5qtiJZ1ABdWKlh6HBrBYWdOlyUpanqzz7C4zMPrGOpXgk0kteu77l3wxrJ8QeG7LU2i8priIMydge+PatWora2hs7WO3tY1ihiUKiKOFA7VLXfFNJJ7nyVaUJVJSpq0W3ZdkFFFFUZENz1h/66j+RqV0WRSrjINRzozqpTG5GDAHvSeZcf88F/wC/n/1qmUYzi4yV0wMqWE+c4hBZVPWtCwijEIkAy56k9qepmQYW2QA/9NP/AK1CmdM7bdBk54k/+tXymW8N08Di/rLad76W0Tb05fTY3nWco8pYrkA974c8UarcHSrzULfUfLkiktEDlWUEFWBIwOeDXU+Zcf8APBf+/n/1qPMuP+eC/wDfz/61fWmB5hoXhm/XxELvVY9YW+E8sokSGDyWVlOA0gTzCMHG0nGahTwLdp4UsrO20kRXE+iT213lB80pQ7Q57ndivVfMuP8Angv/AH8/+tR5lx/zwX/v5/8AWoA8/wBP8MpfaxZzpoJsIYNJeKNZrdUWOfzOu0cZ75/GsU+GdTl8M3FtY6FcWVzHorW13kAG8nxjIOfnOedx5NeteZcf88F/7+f/AFqPMuP+eC/9/P8A61AHmOu+H72bUb1X0Ke8vJdQhngv1UEJCAPl3ZyMYxt6HrXp1z/yy/66rR5lx/zwX/v5/wDWppWaV03xqiqwbIbOf0oAx4P+SlX3/YItv/R09dBXPwf8lKvv+wRbf+jp66CgAooooAKKKKACuIu/C2oaQ2mWui+IdZjtZr5lmjXyCIo2WRyRmLI+faOc9a6qfWtLtZmhudSs4ZV+8kk6qw+oJrEl1nVIvH2n2Kz2cuk39pNLGEiJkDIYxnfuwQd/TH40AT/8Ixe/9Dbrn523/wAZo/4Ri9/6G3XPztv/AIzWTb+K9WfVra6kFqdHu9QawSIRkTJhGYSF92DkrjbtHXOe1dvQBz3/AAjF7/0Nuufnbf8Axmj/AIRi9/6G3XPztv8A4zXQ0UAc9/wjF7/0Nuufnbf/ABms7+wdZ/4SY2n/AAlGt/Yfsfm+Zi3z5m/GM+V6V1d1fWljGHvrqG2RjgNNIEBP41y/irxW9pa2baBqNmwluBHPOIWu1hX1KxsD+tAF7/hGL3/obdc/O2/+M0f8Ixe/9Dbrn523/wAZrT0a6+26Pb3BvIb0yICZ4IyiOfUKSSPoTV6gDnv+EYvf+ht1z87b/wCM0f8ACMXv/Q265+dt/wDGa6GigDnv+EYvf+ht1z87b/4zWdpWg6zcz6kt74o1uNILwxW5Atxvj2Ic/wCq5+YsPwrsJHEcbO33VBJ/CuM0XxPrFxqmnSaiLU6fqzTLbxxRlZICjYG5ixDbgGPQY96ANT/hGL3/AKG3XPztv/jNH/CMXv8A0Nuufnbf/Ga6GigDnv8AhGL3/obdc/O2/wDjNH/CMXv/AENuufnbf/Ga6GigDnv+EYvf+ht1z87b/wCM1neH9B1m98O2FzqfijW4byaBXmjAtwFcjkY8qt3xRqF3pXhPVdQ02MS3draSzQRshYM6qSBgcnkdBVTwjq02q2Mr3WqWt/KrDIgs3tjFx0ZXZifrxQAn/CMXv/Q265+dt/8AGaP+EYvf+ht1z87b/wCM10NFAHOf8Ii8l3aTXviHV7xbWdbhIZmg2My9M7Yge/rXR0UUAFFFFAEF9aJqGnXNnMWWO4iaJyhwQGBBx781yOn+HNWj1i8sP+Em1uOwtbe3Fsw+z5JO8MM+Vzjav510x17SBL5R1WyEmduw3CZz6YzWLY65qcHiTXLXVpLWW0srVLuD7PEVYKd+QxLHd93qAKALH/CMXv8A0Nuufnbf/GaP+EYvf+ht1z87b/4zVDw94i1i41ezg1n7K0Op2slxbCCMq0O1gNjEsd2Qc5wOnSuwoA57/hGL3/obdc/O2/8AjNH/AAjF7/0Nuufnbf8AxmuhooA57/hGL3/obdc/O2/+M1nWGhazNq2qQ3PijW0t7eWNbZgLcb1Masx/1XPzEiumudY0yzmMN5qNpBKBkpLOqsPwJrlbvxXd/wDCafYotVsbXTNsbRSSWbyicsOQJVcKv40Aav8AwjF7/wBDbrn523/xmj/hGL3/AKG3XPztv/jNdDRQBz3/AAjF7/0Nuufnbf8Axmj/AIRi9/6G3XPztv8A4zXQ0UAc9/wjF7/0Nuufnbf/ABms7QdB1m90WGfUvFGtxXLFw6AW4xhyBx5XoBW34o1abRtDe4tER7l5EhhEg+UMzAZPsMk/hUHhrVL+6n1HT9ZaCS8sJVVpbeMokisMg7SSQeDxk0AM/wCEYvf+ht1z87b/AOM0f8Ixe/8AQ265+dt/8ZroaKAOe/4Ri9/6G3XPztv/AIzR/wAIxe/9Dbrn523/AMZroaKAON8QaDrNl4dv7rS/FGtzXkNu7wRkW5DOBwMeV61ojwxe4GfFuufnbf8Axml8aavfaL4fW60wxrM1zDE0klu0wjRnAZtikE4BJ61c8O37ajo0c8moW+oOWYNNbwNCvXpsZiQR0OTQBS/4Ri9/6G3XPztv/jNH/CMXv/Q265+dt/8AGa6GigDG0nw4NL1S41CbVL/UbieFIC12Y/lRWZgBsRe7nrmtmiigAooooAKKKKAKc+j6ZczNLc6daTSN955IFZj+JFYl/wCGNSuPFmn6tZata2ttYxPElp9g3ZVypb5hIMfcGPl4966eigDlYfBbxaxDM2pbtNt7tr2Gy8jDLKUK8ybuV+YnG3r3rqqKKACiiigCG6srW9QJeW0NwqnIWWMOAfxrPvNHmjgC+HJLLSnLZkY2IkDj0wGX881rUUAZnh7RU0DRo7FJjOQ7yPIV27ndizEDsMk8dq06KKACiiigBGUOpVhkMMEVy+k+DZdO1S2muNT+02dj5ps7byNhjMjZJZ9x3Y5A4HB711NFABRRRQAUUUUAQ3kc8tnLHaTJBOykJI8e9VPYlcjP0yKytE0G407UbzUdSvkvb272h2it/JQKowAF3Nz75rbooAKKKKACiiigAooooAonRNKMvmHTLMyZ3bjbpnPrnFY0PhfUh4rvdUudWtpbO9gFvJZrYlW8sBsAP5h5+Y87a6eigDmdC8JTaVqUN1ean9tS0ge3tI/I8sxIzAncdx3HgDOBx2rpqKKACiiigCpcaTp13MZbuwtZ5CMF5YVYn8SKxta8L3WrobFdQt7XR227rSKy+fA7CTfgf988V0lFABRRRQAUUUUAZuvaOuuaPJZNKYGLK8coXdsdWDA479OlQ6Bokuk/a5768F7e3kokmmWLyl4GAAuTgDnuetbFFABRRRQAUUUUAVNSgvri0KaZdxWk+QRJLB5y4/3dy/zqp4e0M6JaTrNc/ari5neeeUR+Wpdjk4XJwOfU1rUUAFFFFABRRRQAUUUUAFFFFABRRRQAUUUUAFFFFABRRRQAUUUUAFFFFABRRRQAUUUUAFFFFABRRRQAUUUUAFFFFABRRRQAUUUUAFFFFABRRRQAUUUUAFFFFABRRRQAUUUUAFFFFABRRRQAUUUUAFFFFABRRRQB/9k=)\n",
    "\n",
    "\n",
    "<details>\n",
    "    <summary>Click here to see code</summary>\n",
    "\n",
    "```python\n",
    "import numpy as np\n",
    "from sklearn.datasets import make_blobs\n",
    "\n",
    "#data = Generated data examples that forms 3 clusters\n",
    "#classes = The cluster that each example belongs to\n",
    "#We use 1000 points\n",
    "data, classes = make_blobs(1000, centers=4, random_state=42)\n",
    "\n",
    "#Import the k-Means algorithm\n",
    "from sklearn.cluster import KMeans\n",
    "\n",
    "#Perform the clustering\n",
    "kmeans = KMeans(n_clusters=4).fit(data)\n",
    "\n",
    "#Enter your codes here\n",
    "\n",
    "plt.figure()\n",
    "\n",
    "#Subplot on the left\n",
    "#121 = 1 row, 2 columns, subplot plot 1\n",
    "plt.subplot(121) #Use subplot() to plot the generated data and results from k-Means clustering\n",
    "#Use different colours for different cluster based on the generated data.\n",
    "rgb = np.array(['r', 'g', 'b', 'y'])\n",
    "plt.scatter(data[:, 0], data[:, 1], color=rgb[classes]) \n",
    "plt.title(\"Generated Data\")\n",
    "\n",
    "\n",
    "#Subplot on the right\n",
    "#122 = 1 row, 2 columns, subplot plot 2\n",
    "plt.subplot(122)\n",
    "#Plot the same data except use results from our k-mean clustering(kmeans.labels_)\n",
    "#Different colours for different cluster based kmeans.labels_\n",
    "plt.scatter(\n",
    "    data[:, 0],  #x\n",
    "    data[:, 1],  #y\n",
    "    color=rgb[kmeans.labels_])\n",
    "\n",
    "#Plot the centroid of the clusters\n",
    "plt.scatter(\n",
    "    kmeans.cluster_centers_[:, 0], #x\n",
    "    kmeans.cluster_centers_[:, 1], #y\n",
    "    marker=\"*\", # use a star\n",
    "    s=200, # size is 200 (bigger)\n",
    "    color=\"Yellow\",\n",
    "    label=\"Centroid\")\n",
    "plt.title(\"Clustered by k-Means\")\n",
    "plt.legend()\n",
    "```"
   ]
  },
  {
   "cell_type": "code",
   "execution_count": null,
   "metadata": {
    "id": "PsSgg5yuVNau"
   },
   "outputs": [],
   "source": [
    "#Enter your exercise codes here\n"
   ]
  },
  {
   "cell_type": "markdown",
   "metadata": {
    "id": "L29sL8k7VNau"
   },
   "source": [
    "## Evaluating Cluster Quality\n",
    "\n",
    "There are various methods to evaluate the quality of a clustering solution. Quality of clustering are generally defined by the inter- and intra-class similarity. A high-quality clustering should have high intra-class similarity and low inter-class similarity. One of the measuring score provided by Scikit-Learn is the _silhouette coefficient_.\n",
    "\n",
    "### Silhouette Coefficient\n",
    "Silhouette coefficient offers a way for us to measure the consistency for clusters of data. The silhouette coefficient for a single data sample is defined as:\n",
    "\n",
    "Silhouette Coefficient =$\\frac{b-a}{max(a, b)}$\n",
    "\n",
    "\n",
    "Where  \n",
    "```a``` = mean intra-cluster distance (average of distances between members of the cluster)  \n",
    "```b``` = mean nearest-cluster distance (the average distance between the sample and the nearest cluster that it is not a member of)\n",
    "\n",
    "Value of the silhouette is between -1 (worst) and 1 (best).\n",
    "\n",
    "To measure the performance of clustering algorithm, we can take the average value of the slihoutte coefficients.\n",
    "\n",
    "Reference: https://scikit-learn.org/stable/auto_examples/cluster/plot_kmeans_silhouette_analysis.html\n"
   ]
  },
  {
   "cell_type": "markdown",
   "metadata": {
    "id": "xF_sUzN2VNav"
   },
   "source": [
    "### Step 6\n",
    "\n",
    "The following codes generate new clusters and calculate the average value of the silhouette coefficients.\n",
    "\n",
    "Run the codes to view the result."
   ]
  },
  {
   "cell_type": "code",
   "execution_count": null,
   "metadata": {
    "id": "1YarkP5IVNav",
    "tags": []
   },
   "outputs": [],
   "source": [
    "#Calculate the silhouette score of the clusters\n",
    "import numpy as np\n",
    "from sklearn.datasets import make_blobs\n",
    "\n",
    "#data = Generated data examples that forms 3 clusters\n",
    "#classes = The cluster that each example belongs to\n",
    "data, classes = make_blobs(500, centers=3, random_state=42)\n",
    "\n",
    "#Perform k-Means clustering\n",
    "from sklearn.cluster import KMeans\n",
    "kmeans = KMeans(n_clusters=3).fit(data)\n",
    "\n",
    "from sklearn import metrics\n",
    "\n",
    "silhouette_score = metrics.silhouette_score(data, kmeans.labels_)\n",
    "print(\"Silhouette Score = {0:.2f}\".format(silhouette_score))\n"
   ]
  },
  {
   "cell_type": "markdown",
   "metadata": {
    "id": "JysW7se7VNaw"
   },
   "source": [
    "If you run the codes, you should see that we get a silhouette score of 0.84.\n",
    "\n",
    "```\n",
    "Silhouette Score = 0.84\n",
    "```\n",
    "\n",
    "Note that the silhouette score is simply the mean value of all the silhouette cofficients of the sample."
   ]
  },
  {
   "cell_type": "markdown",
   "metadata": {
    "id": "FkpBfV9SVNaw"
   },
   "source": [
    "### Exercise\n",
    "\n",
    "Repeat the above steps:\n",
    "\n",
    "1. Generate a cluster with random_state=2. \n",
    "2. Plot a chart and from visual inspection you should note that the cluster has some overlaps. We expect k-Means to do worse compared with previous case.\n",
    "3. Generate the silhouette score and check if score is worse compared to the case with random_state=42\n",
    "\n",
    "\n",
    "<details>\n",
    "<summary>\n",
    "    <strong>Click here to see codes</strong>\n",
    "</summary>\n",
    "    \n",
    "    \n",
    "```\n",
    "import numpy as np\n",
    "from sklearn import metrics\n",
    "from sklearn.datasets import make_blobs\n",
    "from sklearn.cluster import KMeans\n",
    "\n",
    "data, classes = make_blobs(500, centers=3, random_state=2)\n",
    "\n",
    "kmeans = KMeans(n_clusters=3).fit(data)\n",
    "\n",
    "silhouette_score = metrics.silhouette_score(data, kmeans.labels_)\n",
    "print(\"Silhouette Score = {0:.2f}\".format(silhouette_score))\n",
    "```"
   ]
  },
  {
   "cell_type": "code",
   "execution_count": null,
   "metadata": {
    "id": "fAUkmV2WVNaw",
    "tags": []
   },
   "outputs": [],
   "source": [
    "#Enter your exercise codes here\n"
   ]
  },
  {
   "cell_type": "markdown",
   "metadata": {
    "id": "ejDswC6kVNaw"
   },
   "source": [
    "## Determining Value of k\n",
    "\n",
    "Since we now have a way to evaluate the quality of a clutering solution, we can look for a suitable value of k by evaluating the silhouette score and selecting the k value with the best score. Note however, that this does not necessarily yields the best possible solution.\n",
    "\n",
    "### Step 7 Finding Value of k\n",
    "\n",
    "The following code can be used to find a good value of k based on the silhouette score:\n"
   ]
  },
  {
   "cell_type": "code",
   "execution_count": null,
   "metadata": {
    "id": "qekSR69TVNaw",
    "tags": []
   },
   "outputs": [],
   "source": [
    "import numpy as np\n",
    "from sklearn.datasets import make_blobs\n",
    "from sklearn.cluster import KMeans\n",
    "from sklearn import metrics\n",
    "\n",
    "#data = Generated data examples that forms 5 clusters\n",
    "#classes = The cluster that each example belongs to\n",
    "data, classes = make_blobs(2000, centers=5, random_state=10)\n",
    "\n",
    "# Since we generate cluster of 5 centers, we expect\n",
    "# clustering solutions near k=5 will have the best\n",
    "# silhouette score \n",
    "\n",
    "#For storing silhouette scores\n",
    "silhouette_scores = []\n",
    "\n",
    "#Calculate silhouette scores for k from 2 to 10\n",
    "for k in range(2, 10):\n",
    "    #k-Means clustering for different values of k\n",
    "    kmeans = KMeans(n_clusters=k).fit(data)\n",
    "    #Calculate the silhoutte score for the current value of k and add to the list\n",
    "    silhouette_scores.append(metrics.silhouette_score(data, kmeans.labels_))\n",
    "\n",
    "#Print out all the silhouette score for k = 2 to 10\n",
    "print(silhouette_scores)\n",
    "#Print out k with the largest value of silhouette in the silhouette_score list\n",
    "max_score, max_index = max((max_score, max_index) for (max_index, max_score) in enumerate(silhouette_scores))\n",
    "\n",
    "# +2 is needed because we start first element in \n",
    "# silhouette_list corresponds to k=2\n",
    "print(\"Best value of k is {0} with silhouette score of {1}\".format(max_index+2, max_score))"
   ]
  },
  {
   "cell_type": "markdown",
   "metadata": {
    "id": "MzuvOxh-VNaw"
   },
   "source": [
    "The codes generate clusters with 5 centers and perform clustering for values of k from 2 to 10. Natually, we expect the silhouette score to be best for k=5 since we generated the clusters with the ```centers=5``` argument. Run the codes and you should get a similar result as follows:\n",
    "\n",
    "```\n",
    "[0.5831839693490849, 0.606440936062678, 0.6837161306731291, 0.7628612086779674, 0.6760806053765829, 0.5786531102367165, 0.4953266496551252, 0.40534426723512434]\n",
    "Best value of k is 5 with silhouette score of 0.7628612086779674\n",
    "\n",
    "```\n",
    "\n",
    "Note that it gives a good answer but not necessarily the best answer. Try random_state=42 and you should see that k is 4 instead of 5. \n",
    "\n",
    "\n",
    "We can plot the scores on a graph for better visualization:\n"
   ]
  },
  {
   "cell_type": "markdown",
   "metadata": {
    "id": "qPK37pzHVNax"
   },
   "source": [
    "### Step 8 Visualization k vs Silhouette Scores\n",
    "\n",
    "Use the following code to plot a graph of various values of k versus the silhouette scores: \n"
   ]
  },
  {
   "cell_type": "code",
   "execution_count": null,
   "metadata": {
    "id": "d7pdROqSVNax",
    "tags": []
   },
   "outputs": [],
   "source": [
    "plt.figure()\n",
    "plt.plot(range(2, 10), silhouette_scores)\n",
    "plt.show()"
   ]
  },
  {
   "cell_type": "markdown",
   "metadata": {
    "id": "8wlGL6iaVNax"
   },
   "source": [
    "As can be seen from the figure below, we have a best value of k at 5, which is what we have generated. Again, note that we might not necessarily get k=5 as the best answer. \n",
    "\n",
    "![Elbow.jpg](data:image/jpeg;base64,/9j/4AAQSkZJRgABAQEAYABgAAD/4RD0RXhpZgAATU0AKgAAAAgABAE7AAIAAAAOAAAISodpAAQAAAABAAAIWJydAAEAAAAcAAAQ0OocAAcAAAgMAAAAPgAAAAAc6gAAAAgAAAAAAAAAAAAAAAAAAAAAAAAAAAAAAAAAAAAAAAAAAAAAAAAAAAAAAAAAAAAAAAAAAAAAAAAAAAAAAAAAAAAAAAAAAAAAAAAAAAAAAAAAAAAAAAAAAAAAAAAAAAAAAAAAAAAAAAAAAAAAAAAAAAAAAAAAAAAAAAAAAAAAAAAAAAAAAAAAAAAAAAAAAAAAAAAAAAAAAAAAAAAAAAAAAAAAAAAAAAAAAAAAAAAAAAAAAAAAAAAAAAAAAAAAAAAAAAAAAAAAAAAAAAAAAAAAAAAAAAAAAAAAAAAAAAAAAAAAAAAAAAAAAAAAAAAAAAAAAAAAAAAAAAAAAAAAAAAAAAAAAAAAAAAAAAAAAAAAAAAAAAAAAAAAAAAAAAAAAAAAAAAAAAAAAAAAAAAAAAAAAAAAAAAAAAAAAAAAAAAAAAAAAAAAAAAAAAAAAAAAAAAAAAAAAAAAAAAAAAAAAAAAAAAAAAAAAAAAAAAAAAAAAAAAAAAAAAAAAAAAAAAAAAAAAAAAAAAAAAAAAAAAAAAAAAAAAAAAAAAAAAAAAAAAAAAAAAAAAAAAAAAAAAAAAAAAAAAAAAAAAAAAAAAAAAAAAAAAAAAAAAAAAAAAAAAAAAAAAAAAAAAAAAAAAAAAAAAAAAAAAAAAAAAAAAAAAAAAAAAAAAAAAAAAAAAAAAAAAAAAAAAAAAAAAAAAAAAAAAAAAAAAAAAAAAAAAAAAAAAAAAAAAAAAAAAAAAAAAAAAAAAAAAAAAAAAAAAAAAAAAAAAAAAAAAAAAAAAAAAAAAAAAAAAAAAAAAAAAAAAAAAAAAAAAAAAAAAAAAAAAAAAAAAAAAAAAAAAAAAAAAAAAAAAAAAAAAAAAAAAAAAAAAAAAAAAAAAAAAAAAAAAAAAAAAAAAAAAAAAAAAAAAAAAAAAAAAAAAAAAAAAAAAAAAAAAAAAAAAAAAAAAAAAAAAAAAAAAAAAAAAAAAAAAAAAAAAAAAAAAAAAAAAAAAAAAAAAAAAAAAAAAAAAAAAAAAAAAAAAAAAAAAAAAAAAAAAAAAAAAAAAAAAAAAAAAAAAAAAAAAAAAAAAAAAAAAAAAAAAAAAAAAAAAAAAAAAAAAAAAAAAAAAAAAAAAAAAAAAAAAAAAAAAAAAAAAAAAAAAAAAAAAAAAAAAAAAAAAAAAAAAAAAAAAAAAAAAAAAAAAAAAAAAAAAAAAAAAAAAAAAAAAAAAAAAAAAAAAAAAAAAAAAAAAAAAAAAAAAAAAAAAAAAAAAAAAAAAAAAAAAAAAAAAAAAAAAAAAAAAAAAAAAAAAAAAAAAAAAAAAAAAAAAAAAAAAAAAAAAAAAAAAAAAAAAAAAAAAAAAAAAAAAAAAAAAAAAAAAAAAAAAAAAAAAAAAAAAAAAAAAAAAAAAAAAAAAAAAAAAAAAAAAAAAAAAAAAAAAAAAAAAAAAAAAAAAAAAAAAAAAAAAAAAAAAAAAAAAAAAAAAAAAAAAAAAAAAAAAAAAAAAAAAAAAAAAAAAAAAAAAAAAAAAAAAAAAAAAAAAAAAAAAAAAAAAAAAAAAAAAAAAAAAAAAAAAAAAAAAAAAAAAAAAAAAAAAAAAAAAAAAAAAAAAAAAAAAAAAAAAAAAAAAAAAAAAAAAAAAAAAAAAAAAAAAAAAAAAAAAAAAAAAAAAAAAAAAAAAAAAAAAAAAAAAAAAAAAAAAAAAAAAAAAAAAAAAAAAAAAAAAAAAAAAAAAAAAAAAAAAAAAAAAAAAAAAAAAAAAAAAAAAAAAAAAAAAAAAAAAAAAAAAAAAAAAAAAAAAAAAAAAAAAAAAAAAAAAAAAAAAAAAAAAAAAAAAAAAAAAAAAAAAAAAAAAAAAAAAAAAAAAAAAAAAAAAAAAAAAAAAAAAAAAAAAAAAAAAAAAAAAAAAAAAAAAAAAAAAAAAAAAAAAAAAAAAAAAAAAAAAAAAAAAAAAAAAAAAAAAAAAAAAAAAAAAAAAAAAAAAAAAAAAAAAAAAAAAAAAAAAAAAAAAAAAAAAAAAAAAAAAAAAAAAAAAAAAAAAAAAAAAAAAAAAAAAAAAAAAAAAAAAAAAAAAAAAAAAAAAAAAAAAAAAAAAAAAAAAAAAAAAAAAAAAAAAAAAAAAAAAAAAAAAAAAAAAAAAAAAAAAAAAAAAAAAAAAAAAAAAAAAAAAAAAAAAAAAAAAAAAAAAAAAAAAAAAAAAAAAAAAAAAAAAAAAAAAAAAAAAAAAAAAAAAAAAAAAAAAAAAAAAAAAAAAAAAAAAAAAAAAAAAAAAAAAAAAAAAAAAAAAAAAAAAAAAAAAAAAAAAAAAAAAAAAAAAAAAAAAAAAAAAAAAAAAAAAAAAAAAAAAAAAAAAAAAAAAAAAAAAAAAAAAAAAAAAAAAAAAAAAAAAAAAAAAAAAAAAAAAAAAAAAAAAAAAAAAAAAAAAAAAAAAAAAAAAAAAAAAAAAAAAAAAAAAAAAAAAAAAAAAAAAAAAAAAAAAAAAAAAAAAAAAAAAAAAAAAAAAAAAAAAAAAAAAAAAAAAAAAAAAAAAAAAAAAAAAAAAAAAAAAAAAAAAAAAAAAAAAAAAAAAAAAAAAAAAAAAAAAAAAAAAAAAAAAAAAAAAAAAAAAAAAAAAAAAAAAAAAAAAAAAAAAAAAAAAAAAAAAAAAAAAAAAAAAAAAAAAAAAAAAAAAAAAAAAAAAAAAAAAAAAAAAAAAAAAAAAAAAAAAAAAAAAAAAAAAAAAAAAAAAAAAAAAAAAAAAAAAAAAAAAAAAAAAAAAAAENoZWUgWW9uZyBMYXcAAAWQAwACAAAAFAAAEKaQBAACAAAAFAAAELqSkQACAAAAAzY4AACSkgACAAAAAzY4AADqHAAHAAAIDAAACJoAAAAAHOoAAAAIAAAAAAAAAAAAAAAAAAAAAAAAAAAAAAAAAAAAAAAAAAAAAAAAAAAAAAAAAAAAAAAAAAAAAAAAAAAAAAAAAAAAAAAAAAAAAAAAAAAAAAAAAAAAAAAAAAAAAAAAAAAAAAAAAAAAAAAAAAAAAAAAAAAAAAAAAAAAAAAAAAAAAAAAAAAAAAAAAAAAAAAAAAAAAAAAAAAAAAAAAAAAAAAAAAAAAAAAAAAAAAAAAAAAAAAAAAAAAAAAAAAAAAAAAAAAAAAAAAAAAAAAAAAAAAAAAAAAAAAAAAAAAAAAAAAAAAAAAAAAAAAAAAAAAAAAAAAAAAAAAAAAAAAAAAAAAAAAAAAAAAAAAAAAAAAAAAAAAAAAAAAAAAAAAAAAAAAAAAAAAAAAAAAAAAAAAAAAAAAAAAAAAAAAAAAAAAAAAAAAAAAAAAAAAAAAAAAAAAAAAAAAAAAAAAAAAAAAAAAAAAAAAAAAAAAAAAAAAAAAAAAAAAAAAAAAAAAAAAAAAAAAAAAAAAAAAAAAAAAAAAAAAAAAAAAAAAAAAAAAAAAAAAAAAAAAAAAAAAAAAAAAAAAAAAAAAAAAAAAAAAAAAAAAAAAAAAAAAAAAAAAAAAAAAAAAAAAAAAAAAAAAAAAAAAAAAAAAAAAAAAAAAAAAAAAAAAAAAAAAAAAAAAAAAAAAAAAAAAAAAAAAAAAAAAAAAAAAAAAAAAAAAAAAAAAAAAAAAAAAAAAAAAAAAAAAAAAAAAAAAAAAAAAAAAAAAAAAAAAAAAAAAAAAAAAAAAAAAAAAAAAAAAAAAAAAAAAAAAAAAAAAAAAAAAAAAAAAAAAAAAAAAAAAAAAAAAAAAAAAAAAAAAAAAAAAAAAAAAAAAAAAAAAAAAAAAAAAAAAAAAAAAAAAAAAAAAAAAAAAAAAAAAAAAAAAAAAAAAAAAAAAAAAAAAAAAAAAAAAAAAAAAAAAAAAAAAAAAAAAAAAAAAAAAAAAAAAAAAAAAAAAAAAAAAAAAAAAAAAAAAAAAAAAAAAAAAAAAAAAAAAAAAAAAAAAAAAAAAAAAAAAAAAAAAAAAAAAAAAAAAAAAAAAAAAAAAAAAAAAAAAAAAAAAAAAAAAAAAAAAAAAAAAAAAAAAAAAAAAAAAAAAAAAAAAAAAAAAAAAAAAAAAAAAAAAAAAAAAAAAAAAAAAAAAAAAAAAAAAAAAAAAAAAAAAAAAAAAAAAAAAAAAAAAAAAAAAAAAAAAAAAAAAAAAAAAAAAAAAAAAAAAAAAAAAAAAAAAAAAAAAAAAAAAAAAAAAAAAAAAAAAAAAAAAAAAAAAAAAAAAAAAAAAAAAAAAAAAAAAAAAAAAAAAAAAAAAAAAAAAAAAAAAAAAAAAAAAAAAAAAAAAAAAAAAAAAAAAAAAAAAAAAAAAAAAAAAAAAAAAAAAAAAAAAAAAAAAAAAAAAAAAAAAAAAAAAAAAAAAAAAAAAAAAAAAAAAAAAAAAAAAAAAAAAAAAAAAAAAAAAAAAAAAAAAAAAAAAAAAAAAAAAAAAAAAAAAAAAAAAAAAAAAAAAAAAAAAAAAAAAAAAAAAAAAAAAAAAAAAAAAAAAAAAAAAAAAAAAAAAAAAAAAAAAAAAAAAAAAAAAAAAAAAAAAAAAAAAAAAAAAAAAAAAAAAAAAAAAAAAAAAAAAAAAAAAAAAAAAAAAAAAAAAAAAAAAAAAAAAAAAAAAAAAAAAAAAAAAAAAAAAAAAAAAAAAAAAAAAAAAAAAAAAAAAAAAAAAAAAAAAAAAAAAAAAAAAAAAAAAAAAAAAAAAAAAAAAAAAAAAAAAAAAAAAAAAAAAAAAAAAAAAAAAAAAAAAAAAAAAAAAAAAAAAAAAAAAAAAAAAAAAAAAAAAAAAAAAAAAAAAAAAAAAAAAAAAAAAAAAAAAAAAAAAAAAAAAAAAAAAAAAAAAAAAAAAAAAAAAAAAAAAAAAAAAAAAAAAAAAAAAAAAAAAAAAAAAAAAAAAAAAAAAAAAAAAAAAAAAAAAAAAAAAAAAAAAAAAAAAAAAAAAAAAAAAAAAAAAAAAAAAAAAAAAAAAAAAAAAAAAAAAAAAAAAAAAAAAAAAAAAAAAAAAAAAAAAAAAAAAAAAAAAAAAAAAAAAAAAAAAAAAAAAAAAAAAAAAAAAAAAAAAAAAAAAAAAAAAAAAAAAAAAAAAAAAAAAAAAAAAAAAAAAAAAAAAAAAAAAAAAAAAAAAAAAAAAAAAAAAAAAAAAAAAAAAAAAAAAAAAAAAAAAAAAAAAAAAAAAAAAAAAAAAAAAAAAAAAAAAAAAAAAAAAAAAAAAAAAAAAAAAAAAAAAAAAAAAAAAAAAAAAAAAAAAAAAAAAAAAAAAAAAAAAAAAAAAAAAAAAAAAAAAAAAAAAAAAAAAAAAAAAAAAAAAAAAAAAAAAAAAAAAAAAAAAAAAAAAAAAAAAAAAAAAAAAAAAAAAAAAAAAAAAAAAAAAAAAAAAAAAAAAAAAAAAAAAAAAAAAAAAAAAAAAAAAAAAAAAAAAAAAAAAAAAAAAAAAAAAAAAAAAAAAAAAAAAAAAAAAAAAAAAAAAAAAAAAAAAAAAAAAAAAAAAAAAAAAAAAAAAAAAAAAAAAAAAAAAAAAAAAAAAAAAAAAAAAAAAAAAAAAAAAAAAAAAAAAAAAAAAAAAAAAAAAAAAAAAAAAAAAAAAAAAAAAAAAAAAAAAAAAAAAAAAAAAAAAAAAAAAAAAAAAAAAAAAAAAAAAAAAAAAAAAAAAAAAAAAAAAAAAAAAAAAAAAAAAyMDIwOjA3OjI2IDEyOjU4OjQ2ADIwMjA6MDc6MjYgMTI6NTg6NDYAAABDAGgAZQBlACAAWQBvAG4AZwAgAEwAYQB3AAAA/+ELIGh0dHA6Ly9ucy5hZG9iZS5jb20veGFwLzEuMC8APD94cGFja2V0IGJlZ2luPSfvu78nIGlkPSdXNU0wTXBDZWhpSHpyZVN6TlRjemtjOWQnPz4NCjx4OnhtcG1ldGEgeG1sbnM6eD0iYWRvYmU6bnM6bWV0YS8iPjxyZGY6UkRGIHhtbG5zOnJkZj0iaHR0cDovL3d3dy53My5vcmcvMTk5OS8wMi8yMi1yZGYtc3ludGF4LW5zIyI+PHJkZjpEZXNjcmlwdGlvbiByZGY6YWJvdXQ9InV1aWQ6ZmFmNWJkZDUtYmEzZC0xMWRhLWFkMzEtZDMzZDc1MTgyZjFiIiB4bWxuczpkYz0iaHR0cDovL3B1cmwub3JnL2RjL2VsZW1lbnRzLzEuMS8iLz48cmRmOkRlc2NyaXB0aW9uIHJkZjphYm91dD0idXVpZDpmYWY1YmRkNS1iYTNkLTExZGEtYWQzMS1kMzNkNzUxODJmMWIiIHhtbG5zOnhtcD0iaHR0cDovL25zLmFkb2JlLmNvbS94YXAvMS4wLyI+PHhtcDpDcmVhdGVEYXRlPjIwMjAtMDctMjZUMTI6NTg6NDYuNjc2PC94bXA6Q3JlYXRlRGF0ZT48L3JkZjpEZXNjcmlwdGlvbj48cmRmOkRlc2NyaXB0aW9uIHJkZjphYm91dD0idXVpZDpmYWY1YmRkNS1iYTNkLTExZGEtYWQzMS1kMzNkNzUxODJmMWIiIHhtbG5zOmRjPSJodHRwOi8vcHVybC5vcmcvZGMvZWxlbWVudHMvMS4xLyI+PGRjOmNyZWF0b3I+PHJkZjpTZXEgeG1sbnM6cmRmPSJodHRwOi8vd3d3LnczLm9yZy8xOTk5LzAyLzIyLXJkZi1zeW50YXgtbnMjIj48cmRmOmxpPkNoZWUgWW9uZyBMYXc8L3JkZjpsaT48L3JkZjpTZXE+DQoJCQk8L2RjOmNyZWF0b3I+PC9yZGY6RGVzY3JpcHRpb24+PC9yZGY6UkRGPjwveDp4bXBtZXRhPg0KICAgICAgICAgICAgICAgICAgICAgICAgICAgICAgICAgICAgICAgICAgICAgICAgICAgICAgICAgICAgICAgICAgICAgICAgICAgICAgICAgICAgICAgICAgICAgICAgICAgIAogICAgICAgICAgICAgICAgICAgICAgICAgICAgICAgICAgICAgICAgICAgICAgICAgICAgICAgICAgICAgICAgICAgICAgICAgICAgICAgICAgICAgICAgICAgICAgICAgICAgCiAgICAgICAgICAgICAgICAgICAgICAgICAgICAgICAgICAgICAgICAgICAgICAgICAgICAgICAgICAgICAgICAgICAgICAgICAgICAgICAgICAgICAgICAgICAgICAgICAgICAKICAgICAgICAgICAgICAgICAgICAgICAgICAgICAgICAgICAgICAgICAgICAgICAgICAgICAgICAgICAgICAgICAgICAgICAgICAgICAgICAgICAgICAgICAgICAgICAgICAgIAogICAgICAgICAgICAgICAgICAgICAgICAgICAgICAgICAgICAgICAgICAgICAgICAgICAgICAgICAgICAgICAgICAgICAgICAgICAgICAgICAgICAgICAgICAgICAgICAgICAgCiAgICAgICAgICAgICAgICAgICAgICAgICAgICAgICAgICAgICAgICAgICAgICAgICAgICAgICAgICAgICAgICAgICAgICAgICAgICAgICAgICAgICAgICAgICAgICAgICAgICAKICAgICAgICAgICAgICAgICAgICAgICAgICAgICAgICAgICAgICAgICAgICAgICAgICAgICAgICAgICAgICAgICAgICAgICAgICAgICAgICAgICAgICAgICAgICAgICAgICAgIAogICAgICAgICAgICAgICAgICAgICAgICAgICAgICAgICAgICAgICAgICAgICAgICAgICAgICAgICAgICAgICAgICAgICAgICAgICAgICAgICAgICAgICAgICAgICAgICAgICAgCiAgICAgICAgICAgICAgICAgICAgICAgICAgICAgICAgICAgICAgICAgICAgICAgICAgICAgICAgICAgICAgICAgICAgICAgICAgICAgICAgICAgICAgICAgICAgICAgICAgICAKICAgICAgICAgICAgICAgICAgICAgICAgICAgICAgICAgICAgICAgICAgICAgICAgICAgICAgICAgICAgICAgICAgICAgICAgICAgICAgICAgICAgICAgICAgICAgICAgICAgIAogICAgICAgICAgICAgICAgICAgICAgICAgICAgICAgICAgICAgICAgICAgICAgICAgICAgICAgICAgICAgICAgICAgICAgICAgICAgICAgICAgICAgICAgICAgICAgICAgICAgCiAgICAgICAgICAgICAgICAgICAgICAgICAgICAgICAgICAgICAgICAgICAgICAgICAgICAgICAgICAgICAgICAgICAgICAgICAgICAgICAgICAgICAgICAgICAgICAgICAgICAKICAgICAgICAgICAgICAgICAgICAgICAgICAgICAgICAgICAgICAgICAgICAgICAgICAgICAgICAgICAgICAgICAgICAgICAgICAgICAgICAgICAgICAgICAgICAgICAgICAgIAogICAgICAgICAgICAgICAgICAgICAgICAgICAgICAgICAgICAgICAgICAgICAgICAgICAgICAgICAgICAgICAgICAgICAgICAgICAgICAgICAgICAgICAgICAgICAgICAgICAgCiAgICAgICAgICAgICAgICAgICAgICAgICAgICAgICAgICAgICAgICAgICAgICAgICAgICAgICAgICAgICAgICAgICAgICAgICAgICAgICAgICAgICAgICAgICAgICAgICAgICAKICAgICAgICAgICAgICAgICAgICAgICAgICAgICAgICAgICAgICAgICAgICAgICAgICAgICAgICAgICAgICAgICAgICAgICAgICAgICAgICAgICAgICAgICAgICAgICAgICAgIAogICAgICAgICAgICAgICAgICAgICAgICAgICAgICAgICAgICAgICAgICAgICAgICAgICAgICAgICAgICAgICAgICAgICAgICAgICAgICAgICAgICAgICAgICAgICAgICAgICAgCiAgICAgICAgICAgICAgICAgICAgICAgICAgICAgICAgICAgICAgICAgICAgICAgICAgICAgICAgICAgICAgICAgICAgICAgICAgICAgICAgICAgICAgICAgICAgICAgICAgICAKICAgICAgICAgICAgICAgICAgICAgICAgICAgICAgICAgICAgICAgICAgICAgICAgICAgICAgICAgICAgICAgICAgICAgICAgICAgICAgICAgICAgICAgICAgICAgICAgICAgIAogICAgICAgICAgICAgICAgICAgICAgICAgICAgICAgICAgICAgICAgICAgICAgICAgICAgICAgICAgICAgICAgICAgICAgICAgICAgICAgICAgICAgICAgICAgICAgICAgICAgCiAgICAgICAgICAgICAgICAgICAgICAgICAgICA8P3hwYWNrZXQgZW5kPSd3Jz8+/9sAQwAHBQUGBQQHBgUGCAcHCAoRCwoJCQoVDxAMERgVGhkYFRgXGx4nIRsdJR0XGCIuIiUoKSssKxogLzMvKjInKisq/9sAQwEHCAgKCQoUCwsUKhwYHCoqKioqKioqKioqKioqKioqKioqKioqKioqKioqKioqKioqKioqKioqKioqKioqKioq/8AAEQgBHQG0AwEiAAIRAQMRAf/EAB8AAAEFAQEBAQEBAAAAAAAAAAABAgMEBQYHCAkKC//EALUQAAIBAwMCBAMFBQQEAAABfQECAwAEEQUSITFBBhNRYQcicRQygZGhCCNCscEVUtHwJDNicoIJChYXGBkaJSYnKCkqNDU2Nzg5OkNERUZHSElKU1RVVldYWVpjZGVmZ2hpanN0dXZ3eHl6g4SFhoeIiYqSk5SVlpeYmZqio6Slpqeoqaqys7S1tre4ubrCw8TFxsfIycrS09TV1tfY2drh4uPk5ebn6Onq8fLz9PX29/j5+v/EAB8BAAMBAQEBAQEBAQEAAAAAAAABAgMEBQYHCAkKC//EALURAAIBAgQEAwQHBQQEAAECdwABAgMRBAUhMQYSQVEHYXETIjKBCBRCkaGxwQkjM1LwFWJy0QoWJDThJfEXGBkaJicoKSo1Njc4OTpDREVGR0hJSlNUVVZXWFlaY2RlZmdoaWpzdHV2d3h5eoKDhIWGh4iJipKTlJWWl5iZmqKjpKWmp6ipqrKztLW2t7i5usLDxMXGx8jJytLT1NXW19jZ2uLj5OXm5+jp6vLz9PX29/j5+v/aAAwDAQACEQMRAD8A+kaKKKACiiigAoopsr+XC7gZ2qTigB1Fclo+s+LdZ0Oy1ODS9FSO8gSdFe/l3KGUEA4h681d8/xl/wBA7Q//AAPm/wDjNAHQUVz/AJ/jL/oHaH/4Hzf/ABmjz/GX/QO0P/wPm/8AjNAHQUVz/n+Mv+gdof8A4Hzf/GaPP8Zf9A7Q/wDwPm/+M0AdBRXP+f4y/wCgdof/AIHzf/GaPP8AGX/QO0P/AMD5v/jNAHQUVz/n+Mv+gdof/gfN/wDGaPP8Zf8AQO0P/wAD5v8A4zQB0FFc/wCf4y/6B2h/+B83/wAZo8/xl/0DtD/8D5v/AIzQB0FFc/5/jL/oHaH/AOB83/xmjz/GX/QO0P8A8D5v/jNAHQUVz/n+Mv8AoHaH/wCB83/xmjz/ABl/0DtD/wDA+b/4zQB0FFc/5/jL/oHaH/4Hzf8Axmjz/GX/AEDtD/8AA+b/AOM0AdBRXP8An+Mv+gdof/gfN/8AGaPP8Zf9A7Q//A+b/wCM0AdBRXP+f4y/6B2h/wDgfN/8Zo8/xl/0DtD/APA+b/4zQB0FFc/5/jL/AKB2h/8AgfN/8Zo8/wAZf9A7Q/8AwPm/+M0AdBRXP+f4y/6B2h/+B83/AMZo8/xl/wBA7Q//AAPm/wDjNAHQUVz/AJ/jL/oHaH/4Hzf/ABmjz/GX/QO0P/wPm/8AjNAHQUVz/n+Mv+gdof8A4Hzf/GaPP8Zf9A7Q/wDwPm/+M0AdBRXP+f4y/wCgdof/AIHzf/GaPP8AGX/QO0P/AMD5v/jNAHQUVz/n+Mv+gdof/gfN/wDGaPP8Zf8AQO0P/wAD5v8A4zQB0FFc/wCf4y/6B2h/+B83/wAZo8/xl/0DtD/8D5v/AIzQB0FFc/5/jL/oHaH/AOB83/xmjz/GX/QO0P8A8D5v/jNAHQUVz/n+Mv8AoHaH/wCB83/xmjz/ABl/0DtD/wDA+b/4zQB0FFc/5/jL/oHaH/4Hzf8Axmjz/GX/AEDtD/8AA+b/AOM0AdBRXP8An+Mv+gdof/gfN/8AGaPP8Zf9A7Q//A+b/wCM0AdBRXP+f4y/6B2h/wDgfN/8Zo8/xl/0DtD/APA+b/4zQB0FFc/5/jL/AKB2h/8AgfN/8Zqbw/q2oahdapaata21vcafcJEfs0zSI4aJJAcsqn+PHTtQBtUUUUAFFFNlkWGF5JDhEUsx9AKAHUVymgeLb3U9QtI9QsYraDUYGns2SQs2B/C4xwcZPGRT9a13XNL1/TrWKz0+a2v7tYE/fuJgnV227ccLk9e1AHUVHc/8esv+4f5VzGgeK7rWvEV/ZFtKjis7qa3MK3RN0QjFQxjxwDjPWt7VtSsdM0+SXUry3tI2UqHnlWME46ZJoAzvAn/JPPD/AP2Dbf8A9FrW9WB4EOfh34eI5H9m2/8A6LWt+gAooooAKKKKACiiigAooooAKKKKACiiigAooooAKKKKACiisPxBr7ae8Wn6bH9p1S5H7qEfwD++3oBVRi5OyJlJQV2abahZpfrYtcxC6Zd6wlhuI9cVZrkh4HR9OaWa5ZtaZ/O+3d1fsB/s9sVoeHtde+aXTtTXyNVteJYz/wAtF7OvqD+laSpxteDvbf8ArsZRqSvaatfb+u5u0UUVibhRRRQAUUUUAFFFFABRRRQAUUUUAFFFFABRRRQAUUUUAFFFFABRRRQAUUUUAFc/oH/I0eKf+v2H/wBJYq6Cuf0D/kaPFP8A1+w/+ksVAHQUUUUAFMmiWeF4pBlJFKsPYjFPooA4zRvC2tafdWT3VxZTJpcDQ2YUuC+eCz8cHbkYGa2pdGmuPGFvq1xJGYLW2aOGIZyJGPLflkVs0UAcvLoGqX3ia0vbsafb21lO8sbW27zpcjGGyAB78muhvIo5bOUSorjYeGGe1T1Hc/8AHrL/ALh/lQBieBP+SeeHv+wbb/8Aota36wfAn/JPPD//AGDbf/0Wtb1ABRRRQAUUUUAFFFFABRRRQAUUUUAFFFFABRRRQAUUVieINfOnNHY6fH9p1O5H7mAdh/eb0AqoxcnZEykoK7E8Qa+dPaOw06P7TqlyP3MI/hH99vQCnaB4fXSlkubuT7TqNyd1xcN3P90egFGgeHxpYkuryT7TqVyd1xcN3P8AdHoB6VtVpKSiuSHzff8A4BnGLk+efyXb/ghWJ4h0E6iI72wcQana/NBMOM+qn2NbdFZxk4u6NJRU1ZmP4f11dYt5I5k8i+tjsubduqN6/Q9jWxXPeINDmkuU1jRSI9TtxjHQTp3Rv6Vf0LWoNbsPOiBSWM7JoW+9G/cEVc4prnjt+RnCTT5J7/maVFFFZGwUUUUAFFFFABRRRQAUUUUAFFFFABRRRQAUUUUAFFFFABRRRQAUUUUAFc/oH/I0eKf+v2H/ANJYq6Cuf0D/AJGjxT/1+w/+ksVAHQUUUUAFFFMllWCF5ZDhEUsx9AKAH0VyXh/xVqOo6hZJqdpbw2+pwNNaGIksuOdr54zjJ4qTW9Z17TPEOmWsEemzW2oXYhVCJPNCDl264yFBP4UAdTUdz/x6y/7h/lXJ2fi+/n1aBpbW3XSbm9ksoZFLeaGUkBj2wSK6DWtVsNI055tTu4bWNgVDyuFBOOlAFHwJ/wAk88P/APYNt/8A0Wtb1YHgQ5+Hfh4jp/Ztv/6LWt+gAooooAKKKKACiiigAooooAKKKKACiiigAoorE1/X/wCzPLs7GP7TqVxxBAP/AEI+gFVGLk7ImUlFXYa/r500x2VhH9p1O54hgHb/AGm9AKXQPD/9l+Zd3sv2rU7n5p7hv/QR6KOmKTQNA/szzLy+l+1anc8z3Df+gr6KOwrbrSUlFckPm+//AADOMXJ88/ku3/BCiiisTYKKKKACuZ1zSbqwv/7e0Fc3KjF1bDpcp/8AFDtXTUVcJuDuiJwU1ZlLSdVttZ05LuzfcjcMvdG7gjsau1ymq2Nz4d1F9c0aMvbyc39ov8Q/56KPUfyro7C+t9Sso7uzkEkUgyrCqnBJc0diYTbfLLf+tSxRRRWRqFFFFABRRRQAUUUUAFFFFABRRRQAUUUUAFFFFABRRRQAUUUUAFc/oH/I0eKf+v2H/wBJYq6Cuf0D/kaPFP8A1+w/+ksVAHQUUUUAFNljWaF4pBlHUqw9QadRQBx2j+E9W066tJJ761nTTYGhsh5bA4J5Z+eTtyOOK2ZNFkn8XQ6vcSq0VvbNFDCAcq7Hl/yyPxrYooA5C08H3sGrwiS8hbSra9kvYYQh8zexJCk9MAniuruf+PWX/cP8qkqO5/49Zf8AcP8AKgDF8Cf8k88P/wDYNt//AEWtb1YPgT/knnh//sG2/wD6LWt6gAooooAKKKKACiiigAooooAKKKKACiisTX/EH9mGOzsYvtWp3HEMA/8AQm9AKqMXJ2RMpKKuxdf1/wDszy7Syj+06lccQQD/ANCPoBSaBoB00yXuoS/atUueZ5z/AOgr6KPSjQNAOmtJe6hL9q1S55mnbt/sr6KPStutJSUVyQ+b7/8AAM4xcnzz+S7f8EKKKKxNgooooAKKKKACiiigA61yF3DL4N1B9QsUZ9HnfN1bqP8AUE/8tFHp6iuvpHRZEZHUMrDBUjIIrSE+V67Gc4cy03Qy3uIrq3Se3cSRyDcrKeCKkrjwX8EaiFO5tBuZMAnn7I5P/oJP5V16sHUMpBBGQR3onDl1WzCnPm0e6FooorM0CiiigAooooAKKKKACiiigAooooAKKKKACiiigAooooAK5/QP+Ro8U/8AX7D/AOksVdBXP6B/yNHin/r9h/8ASWKgDoKKKKACiio7mYW9rLMQSI0LkDvgZoAkorhfDOsaw2p6S2p6gbyLWbZ5fJMaKtuw5wpUAlcAj5iT71FJ4qmn8a3EM+oX1jY2V5HahILeNoZGJxiR2BYbjwNuOtAHf1Hc/wDHrL/uH+VcXouqalH4wuINf1DU4VlvZ47K3kt4VtpYwTs2uF3k7cHk11GtarZaTpzzajOII2BUMQTk49qAKPgT/knnh/8A7Btv/wCi1rerA8BnPw78PEdP7Nt//Ra1v0AFFFFABRRRQAUUUUAFFFFABRRWHr3iBrB0sNMiF1qlxxFD2T/ab0AqoxcnZEykoK7DXvEB05kstOiF1qlxxDBngf7TegFLoGgf2X5l3ey/atTuOZ7hv/QV9FHpS6BoA0pZLm7lN1qVxzPct1PsPQD0rarSUlFckPm+/wDwDOMXJ88/ku3/AAQooorE2CiiigAooooAKKKKACiiigAooooAiurWG9tJba6jWWGVSrow4INczot1N4d1NdA1ORnt3/48Lhz94f3CfUV1dZ2uaNb65pj2lxlG+9FKvDROOjA+oNawkl7stn/VzKpFv3o7r+rGjRXP+HNYuJZJNI1jC6najDHoJl7OK6ColFxdmVCSmroKKKKksKKKKACiiigAooooAKKKKACiiigAooooAKKKKACuf0D/AJGjxT/1+w/+ksVdBXP6B/yNHin/AK/Yf/SWKgDoKKKKACkIDKQwyCMEHvS0UAczpngi30q4Etvqd+xijMVqrmMi1QnJVPk59Mtk470+98GWl7qzXj3l2kMksc89mhQRTOhBVm+Xd1HYgGujooAwV8Lh9ci1G+1W+vVt5Gkt7WbyxHCx9NqBjjtkmtq5/wCPWX/cP8qkqO5/49Zf9w/yoAxfAn/JPPD/AP2Dbf8A9FrW9WD4E/5J54f/AOwbb/8Aota3qACiiigAooooAKKKKACiisHXvEElrMmmaPGLnVZxhE/hiH99/YVUYuTsiZSUFdi694geykTTtJiF1qk/Ecf8MY/vt6AVJoGgLpEbz3MhutQuPmuLl+rH0HoPal0DQI9HheWaQ3N/P81xcv1Y+g9B7VsVpKSS5If8P/wDOMXJ889+3b/ghRRRWJsFFFFABRRRQAUUUUAFFFFABRRRQAUUUUAFFFFAGH4k0SXUI473THEOqWh3wSdm/wBhvUGp9A1uPW7DzChhuYjsuIG+9G46itWuX1+wuNL1AeIdHjLyIMXluv8Ay3T1/wB4VtFqa5H8v8jCacHzr5/5nUUVW07ULbVLCK8spBJDKu5T/Q+9WayaadmbJpq6CiiikMKKKKACiiigAooooAKKKKACiiigAooooAK5/QP+Ro8U/wDX7D/6SxV0Fc/oH/I0eKf+v2H/ANJYqAOgooooAKKKiuZvs9pLNt3eWhfA74GaAJaK4PwxqeqjUtHe/wBSlvU1m1eV4nChYHHzDZgZC4GMHP1qJ/E0k3jO6F5c6pa2Nlex2q/Zkj8gsTjEpb5juP8AdHGaAPQajuf+PWX/AHD/ACrgrDWdVfUrPVJNQle3vdUlszYkL5aRhiqkcZ3Dgk5/AV2OtX0lhpzyRWF1fEgjZbBCw46/MyjFAFHwJ/yTzw//ANg23/8ARa1vVgeBDn4d+Hu3/Ett/wD0Wtb9ABRRRQAUUE4GTwKyr7xPo+nHbc38W/tHGd7H8FzVRi5OyRMpRirtmrRXLnxTqV/xoOg3EqnjzrthCg98ck/lQNG8Sanzq2tJZxnrBYRc4/32/wAK09k18TSM/bJ/Am/68yzr2vy2866VosYuNUnHyj+GEf33/wAKsaDoMWjQO8jm4vZ/muLl/vOfT2HtUuj6DZaIkn2QO8spzJNK253+prSpSmkuWG35hGDb557/AJBRRRWRsFFFFABRRRQAUUUUAFFFFABRRRQAUUUUAFFFFABRRRQAUHnrRRQByFwreDdYa8hU/wBi3j/v4wOLaQ/xD/ZPeuuR1kRXRgysMgg5BFMuLeK7t3guEEkUi7WVhwRXLaTPL4X1UaHfyM9hMc2Fwx+7/wBM2PqOxrf+Kr9V+Jz/AMKVvsv8P+AdbRRRWB0BRRRQAUUUUAFFFFABRRRQAUUUUAFFFFABXP6B/wAjR4p/6/Yf/SWKugrn9A/5GjxT/wBfsP8A6SxUAdBRRRQAUEAggjIPUUUUAc7p3gqw0u4821u74FIzFAGlUi3QnJVPl4H1zT7vwfp97qpvZZrpVeVJpbZJAIpXQ5VmGM5yPUVv0UAYFv4P0621oaiktydszzpbNIDDHI/3nC4zk59a27n/AI9Zf9w/yqSo7n/j1l/3D/KgDF8Cf8k88P8A/YNt/wD0WtbpIVSWOAOST2rC8Cf8k88P/wDYNt//AEWtbpAZSGGQeCKAMC58baRE5jtHm1CYHHl2cRf9en61W/tHxXqZxYaXb6bEekt7Lucj/cX/ABro7eztrRQtrBHEP9hQKmrbnhH4Y/eY8k5fFL7jmB4RuL35td1u7u+/lQ4hQe2Bk/rWrYeHtK00f6HYwof7xXcx/E1pUVMqs2rXKjShF3SCiiiszQKKKKACiiigAooooAKKKKACiiigAooooAKKKKACiiigAooooAKKKKACiiigAqjrGk2+tac9pdDhuUcdUbsRV6imm07oTSkrM5zw5q1ys8mia2QNRtR8sna4j7OPfHUetdHWN4h0M6rDHPZyeRqFqd9vMOx/un2NJ4e18atHJb3kf2bUrY7bi3bsf7w9VPXNazSkuePz/rsYwk4Pkl8v67m1RRRWJuFFFFABRRRQAUUUUAFFFFABRRRQAVz+gf8AI0eKf+v2H/0liroK5/QP+Ro8U/8AX7D/AOksVAHQUUUUAFFFRXU32ezmmC7jHGz7fXAzigCWiuB8L3+pJqeiyXepT3i6xavLLHI2VicDcCg7DjGPepJrnUNN8cy3GtNq0emT3UMNnJFcJ9mDNhQrIDu5YgZxigDuqjuf+PWX/cP8q4nSLnUNP8YzJ4hbVkF3fTrYs9wjWrpklF2KSVO3GMgc11WtXlzZ6c72mnT6g5BBjheNSBjr87AUAUfAn/JPPD//AGDbf/0Wtb1YHgTn4d+HsjH/ABLbfj/tmtb9ABRRRQAUUUUAFFFFABRRRQAUUUUAFFFFABRRRQAUUUUAFFFFABRRRQAUUUUAFFFFABRRRQAUUUUAFFFFABWF4g0KS8kj1LSnEGqW4/dv2kH9xvat2iqjJxd0TKKmrMyPD+vR61auHQ297bnZc2z/AHo2/qD1BrXrntf0OZ7lNY0QiLUoByOizr/cb+lXtC1yDXLEyxgxTxnZPA/DROOoI/rVzimueG35GcJNPknv+Zp0UUVkbBRRRQAUUUUAFFFFABRRRQAVz+gf8jR4p/6/Yf8A0liroK5/QP8AkaPFP/X7D/6SxUAdBRRRQAUEZGD0oooA5/T/AAXpmmTtLaSXaNs8uLM5IgQnJVP7o4qa48L2l3qkd7d3N7OIpVmS3ecmFXU5VgnqCAa2qKAMZPC9oNZTUp7m8uZYnZ4o55y8cRPdV7Vq3P8Ax6y/7h/lUlR3P/HrL/uH+VAGL4E/5J54f/7Btv8A+i1rerB8Cf8AJPPD/wD2Dbf/ANFrW9QAUUUUAFFFFABRRRQAUUUUAFFFFABRRRQAUUUUAFFFFABRRRQAUUUUAFFFFABRRRQAUUUUAFFFFABRRRQAUUUUAFc3rmi3FvejXNAAW+jGJoRwLlPQ+/pXSUVcJuDuiJwU1Zmfous22t6etzbHBB2yRtw0bjqpHY1oVzGs6Tc6ZqDa9oC5mx/pdqOlwo7j/aFbWk6rbazpyXlm+5G4ZT1Rh1UjsRVTirc0dvyJhN35Jb/mXaKKKyNQooooAKKKKACiiigArn9A/wCRo8U/9fsP/pLFXQVz+gf8jR4p/wCv2H/0lioA6CiiigAooqK6aRLOZoBmURsUHq2OKAJcg9DSZGcZGa808GRWtrq2gT6cV8/ULGSTUHB5lPZ39TuwMn1qzqGmpoPjhtdu7LTb2PUL+3gicqTcwMxCAqemATk0Aeh5GcZ5qO5/49Zf9w/yrzLTI4l1qw1JAP7ZuNauILh/42jDEMh/2VXoO2K9B1q5u7XTpHsbBr5yCCiyrHgY65agCj4E/wCSeeH/APsG2/8A6LWt6sDwJ/yTvw9nj/iW2/8A6LWt+gAooooAKKKKACiiigAooooAKKKKACiiigAooooAKKKKACiiigAooooAKKKKACiiigAooooAKKKKACiiigAooooAKKKKACuV1XTbnQNQfXNDQvE/N9Zr0kH99R/eFdVRVwm4sicFNFXTdRttVsI7yykEkUgyCOx9D71arktQsrjwrfyavpEbSafKd17aKPu/9NFH8xXTWV7BqFnHdWkgkhlXcrA9aqcEvejsTCbb5ZbonooorI1CiiigAooooAK5/QP+Ro8U/wDX7D/6SxV0Fc/oH/I0eKf+v2H/ANJYqAOgooooAKKKKAMyHw3olvJcSQaTZxvdHM7LAoMpznLcc80q+HdGXVv7UXSrMX+c/ahAvmf99YzWlRQBRj0TS4dWfVItOtUv5Bh7pYlEjD0LdatXP/HrL/uH+VSVHc/8esv+4f5UAYvgT/knnh//ALBtv/6LWt6sHwJ/yTzw/wD9g23/APRa1vUAFFFFABRRRQAUUUUAFFFFABRRRQAUUUUAFFFFABRRRQAUUUUAFFFFABRRRQAUUUUAFFFFABRRRQAUUUUAFFFFABRRRQAUUUUABAIIIyD1rj50k8Fak11ArNod0/7+Mf8ALq5/jHop712FMmijnheKZA8cilWVhkEHtWkJ8uj2ZnOHNqt0LFKk0SyRMGRhlWHcU6uQtJpPBupJp92zNo9y+LWZjnyGP8BPoe1deCCMjkGicOV6bBCfMtd1uFFFFZmgUUUUAFc/oH/I0eKf+v2H/wBJYq6Cuf0D/kaPFP8A1+w/+ksVAHQUUUUAFFFRXRlWzmNuMyiNtn+9jj9aAHJPFKzLHKjsv3grAkUrSIjKruqsxwoJwT9K8z8HCyt9V8Py6cY1mnsJG1Fwfmf0aQ923Y5PNRa/fXUvxM0m4v8AS9SCW+oGC0Kw5iKbTlwc8k9enAoA9OW5geYxLNG0g4KBxkfhS3P/AB6y/wC4f5VwGm2kfhzxtkxaTetq2oXDrPDBi7g3kthnycgZx0FdnrS6i2nP/ZMtrHLg7jcxs64x6Kw5oAo+BP8Aknnh/wD7Btv/AOi1rerA8CZ/4V34ez1/s23/APRa1v0AFFFFABRRRQAUUUUAFFFFABRRRQAUUUUAFFFFABRRRQAUUUUAFFFFABRRRQAUUUUAFFFFABRRRQAUUUUAFFFFABRRRQAUUUUAFFFFAFe/sLfU7CWzvY1lhmXayn/PWud0a/uNC1FdB1mQujf8eN0//LRf7hP94V1VZ+taNba5pr2l2CM/NHIpw0bDoynsQa1hJW5ZbGU4O/NHdfj5GhRXOeH9XuY7ptE1wgahCP3cuMC4T+8Pf1ro6mcXB2ZUJqaugoooqCwrn9A/5GjxT/1+w/8ApLFXQVz+gf8AI0eKf+v2H/0lioA6CiiigAooooApR6NpcTzPFptojTnMpWBQZD1+bjn8asyW8MrRtLFG7RHdGWUEofUelSUUAU4NH0y1vXvLbTrSG6kJLzxwKrtnrlgMmrFz/wAesv8AuH+VSVHc/wDHrL/uH+VAGL4E/wCSeeH/APsG2/8A6LWt6sHwJ/yTzw//ANg23/8ARa1vUAFFFFABRRRQAUUUUAFFFFABRRRQAUUUUAFFFFABRRRQAUUUUAFFFFABRRRQAUUUUAFFFFABRRRQAUUUUAFFFFABRRRQAUUUUAFFFFABRRRQBkeIdCXWrRTFIba+gO+2uV+9Gw/mPUVH4e119RWSz1GMQana/LPF2b/aX2NbdYPiLQ5rto9S0hxDqtrzGx+7KO6N6g1tCSkuSXy8v+AYzi4vnj8/P/gm9RWXoOuRa3ZFwhhuYjsnt3+9G3cf/XrUrKUXF2ZpGSkroK5/QP8AkaPFP/X7D/6SxV0Fc/oH/I0eKf8Ar9h/9JYqRR0FFFFABRRUV15v2Ob7P/rvLby/97HH60AJDe2tzK8dvcwyyRnDokgYr9QOlOkuIYpI45ZY0eQ4RWYAufYd6808IS2EOp+H3sHiSYWEn9otkA+3mf7W7HXmo9eur9viVpV1f6NqBWLUPIs3QRmIx7Tlgd+cnr0GBxzQB6at7avdNbJcwtcKMtEJAWH4dadc/wDHrL/uH+VeY6Z5H9saf5e3+3P7auPtOP8AWeXvO7d327enb0r0LW4tRm05xpN3b2suCWee3MoIx0wGX+dAFHwJ/wAk88P/APYNt/8A0Wtb1YHgTP8Awrvw9nr/AGbb/wDota36ACiiigAooooAKKKKACiiigAooooAKKKKACiiigAooooAKKKKACiiigAooooAKKKKACiiigAooooAKKKKACiiigAooooAKKKKACiiigAooooAKKKKAOa1/SrmzvRr2hJm7jH+kW44Fyncf73oa2tL1KDV9NivbXd5cgzhhgqe4I9RVumpGka7Y1VBnOFGK0c+aKT3RnGHLJtbMdXP6B/yNHin/r9h/wDSWKugrn9A/wCRo8U/9fsP/pLFWZodBRRRQAUUUUAVk06xjaRks7dTKcyERKN/145qZ4o5GQvGrFDlCVztPqPSn0UAQLZWqXTXSW0K3DDDSiMBz+PWpZE8yJ0zjcpGfSnUUAcnpPhzxNo+j2em23iSwaGzgSCMvpJJKqABn9914q3/AGd4s/6GLTv/AAUN/wDHq6Gq9/JdRWUj6fBHPcgfu45JNisfdgDj8jQBy2hnxfq2nNcy63p8DLczw7DpTHIjlZA3+uHULn8a0P7O8Wf9DFp3/gob/wCPVJ4c1u41KfUbK/s4bS80+cRyrbymWJiyK4IYqp6MM5A5rdoA57+zvFn/AEMWnf8Agob/AOPUf2d4s/6GLTv/AAUN/wDHq6GigDnv7O8Wf9DFp3/gob/49R/Z3iz/AKGLTv8AwUN/8eroaKAOP0r/AIS/UXv1k1vT4fst21up/sljvACnd/rv9r9Kv/2d4s/6GLTv/BQ3/wAeqDTPE11L4tk0O+tbFZDE826xuzMY9pUYlBRdhIYY69DXUUAc9/Z3iz/oYtO/8FDf/HqP7O8Wf9DFp3/gob/49XQ0UAc9/Z3iz/oYtO/8FDf/AB6j+zvFn/Qxad/4KG/+PV0NFAHH/wDFX/8ACSHTP7b0/wAsWguPO/sluu/btx5349av/wBneLP+hi07/wAFDf8Ax6ov+EsV/HkWhW9mJImRxJeb8bZFG7YBjn354NdNQBz39neLP+hi07/wUN/8eo/s7xZ/0MWnf+Chv/j1dDRQBz39neLP+hi07/wUN/8AHqP7O8Wf9DFp3/gob/49XQ0UAcfc/wDCXweILHTl1vT2S6hmlaX+ym+QxmMAY87vvP5Vf/s7xZ/0MWnf+Chv/j1VNT8VXVv45Gg2ltpmUtYpzNe3xhdhI7qVRQjbiPLz1HUV1lAHPf2d4s/6GLTv/BQ3/wAeo/s7xZ/0MWnf+Chv/j1dDRQBz39neLP+hi07/wAFDf8Ax6j+zvFn/Qxad/4KG/8Aj1dDRQBxutt4v0mxini1vT5zJdQQFRpTDAklVC3+uPQNn8K0f7O8Wf8AQxad/wCChv8A49UfiTxQdL1K20y0jsZLqaMzE6hdfZ4lUED721iWyRgYrooWd4UaQKrlQSFbIB9j3oAwf7O8Wf8AQxad/wCChv8A49R/Z3iz/oYtO/8ABQ3/AMeroaKAOe/s7xZ/0MWnf+Chv/j1H9neLP8AoYtO/wDBQ3/x6uhooA4/Xf8AhL9I0O6v4tb0+4eBNwiGksN3IH/PY+tX/wCzvFn/AEMWnf8Agob/AOPVp6vJfx2LNpdtaXEoPzJdzNEm3uchW/lVLwjrd34h0FdQvrOK0dppY1SKYyKyo5UMCVXg7cjjoRQBD/Z3iz/oYtO/8FDf/HqP7O8Wf9DFp3/gob/49XQ0UAc9/Z3iz/oYtO/8FDf/AB6j+zvFn/Qxad/4KG/+PV0NFAHPf2d4s/6GLTv/AAUN/wDHqoaF/wAJfq+i299Lren27yhsxnSWO3DEf89h6Vt+JtaPh/QJ9REImMbIoVm2qCzhcs2DhRnJOOAKq+EvEDa/Y3LvBbxG2mMW+0m86GTjOUfAz19KAG/2d4s/6GLTv/BQ3/x6j+zvFn/Qxad/4KG/+PV0NFAHPf2d4s/6GLTv/BQ3/wAeo/s7xZ/0MWnf+Chv/j1dDRQBz39neLP+hi07/wAFDf8Ax6qGj/8ACX6nb3Ekmt6fCYbue3AOlMdwjkKBv9d3xn8a6u5nW1tZZ3BKxqWIAyeK5jwz4vm1a8toL6xt7P8AtC1F7aeTceYXQ8/ONow3c4yPegC3/Z3iz/oYtO/8FDf/AB6rGgaNeaXcalc6lfx3txfzrKzRW3kqu2NYwANzdkznPetmigAooooAKKKKACiiigAooooAKo6yupSaPcpobW637IRC1yxCK3qcAn9KvUUAc/4P0i/0bS2t9ThtFnZy8k1vO8pnc/ediyLgk9ueMV0FFFABRRRQAUjZ2nbjOOM0tFAHLWeh6tN4ui1jUotOs1hikjxZSM73G4jG8lFxjb7811NFFABRRRQAUHkUUUAcXb/D77B4s0/VLLVb421u8skkE04OWfPQbehJ5ya7SiigAooooAKKKKAOW8U6FqetyNb2tppYgkVAbyaRhPHhs/KoQg+3zDqa6aGPyoEjLFtihdx6nA60+igAooooAKKKKAOS8UeFbrU9YXU9OhsLiZrKSzeO+ZlVVYg7xtVuRjpx9a6DR7BtM0a0sZJjO1vEEMh6tjvV2igAooooAKKKKAKGt215eaHd22myRx3UsZSN5SQoJ9cAnpUmlafFpOj2mn2/+rtYUiU+oUYzVuigAooooAKKKKAMbxTpFxregvaWckaS+ZHIFmz5cm1w21sAnBx6GoPCuh3ekfb5r5bWGS8mEgtrNiYogBjgkLye/AroKKACiiigAooooARhuUggHI6HvXH+HPB0un+Ijq13Z6fZMkRiihsZXkByeWJdVx6YAxXY0UAFFFFABRRRQB//2Q==)\n"
   ]
  },
  {
   "cell_type": "markdown",
   "metadata": {
    "id": "d-yoEM-WVNay"
   },
   "source": [
    "## Applications of Clustering\n",
    "There are many applications of the clustering algorithm, we will first look at how clustering can be used to detect outliers. \n",
    "\n",
    "\n",
    "### Outliers Detection with Clustering\n",
    "\n",
    "Let us next see how to use clustering to detect outlier using Scikit-Learn.\n",
    "We will detect the outlier by measuring the distances of each point from the center of the cluster. The points that are furthest away from the center will be flagged as outliers.\n"
   ]
  },
  {
   "cell_type": "markdown",
   "metadata": {
    "id": "jiLeFt_WVNay"
   },
   "source": [
    "Write codes to generate 500 data points with 1 center and use k-Means to perform clustering and display them in a scatter plot.\n",
    "\n",
    "<details>\n",
    "\n",
    "<summary><strong>Click to view codes</strong></summary>\n",
    "\n",
    "```\n",
    "import numpy as np\n",
    "import matplotlib.pyplot as plt\n",
    "from sklearn.datasets import make_blobs\n",
    "\n",
    "#Generate clusters\n",
    "data, classes = make_blobs(500, centers=1, random_state=10)\n",
    "plt.figure()\n",
    "plt.scatter(data[:, 0], data[:, 1])\n",
    "plt.show()\n",
    "```\n",
    "\n"
   ]
  },
  {
   "cell_type": "code",
   "execution_count": null,
   "metadata": {
    "id": "UgY2Qo8HVNay",
    "tags": []
   },
   "outputs": [],
   "source": [
    "#Enter your codes here\n"
   ]
  },
  {
   "cell_type": "markdown",
   "metadata": {
    "id": "o5O_3oxmVNay"
   },
   "source": [
    "You should see a cluster similar to the following:\n",
    "\n",
    "![outlier.jpg](data:image/jpeg;base64,/9j/4AAQSkZJRgABAQEAYABgAAD/4RD0RXhpZgAATU0AKgAAAAgABAE7AAIAAAAOAAAISodpAAQAAAABAAAIWJydAAEAAAAcAAAQ0OocAAcAAAgMAAAAPgAAAAAc6gAAAAgAAAAAAAAAAAAAAAAAAAAAAAAAAAAAAAAAAAAAAAAAAAAAAAAAAAAAAAAAAAAAAAAAAAAAAAAAAAAAAAAAAAAAAAAAAAAAAAAAAAAAAAAAAAAAAAAAAAAAAAAAAAAAAAAAAAAAAAAAAAAAAAAAAAAAAAAAAAAAAAAAAAAAAAAAAAAAAAAAAAAAAAAAAAAAAAAAAAAAAAAAAAAAAAAAAAAAAAAAAAAAAAAAAAAAAAAAAAAAAAAAAAAAAAAAAAAAAAAAAAAAAAAAAAAAAAAAAAAAAAAAAAAAAAAAAAAAAAAAAAAAAAAAAAAAAAAAAAAAAAAAAAAAAAAAAAAAAAAAAAAAAAAAAAAAAAAAAAAAAAAAAAAAAAAAAAAAAAAAAAAAAAAAAAAAAAAAAAAAAAAAAAAAAAAAAAAAAAAAAAAAAAAAAAAAAAAAAAAAAAAAAAAAAAAAAAAAAAAAAAAAAAAAAAAAAAAAAAAAAAAAAAAAAAAAAAAAAAAAAAAAAAAAAAAAAAAAAAAAAAAAAAAAAAAAAAAAAAAAAAAAAAAAAAAAAAAAAAAAAAAAAAAAAAAAAAAAAAAAAAAAAAAAAAAAAAAAAAAAAAAAAAAAAAAAAAAAAAAAAAAAAAAAAAAAAAAAAAAAAAAAAAAAAAAAAAAAAAAAAAAAAAAAAAAAAAAAAAAAAAAAAAAAAAAAAAAAAAAAAAAAAAAAAAAAAAAAAAAAAAAAAAAAAAAAAAAAAAAAAAAAAAAAAAAAAAAAAAAAAAAAAAAAAAAAAAAAAAAAAAAAAAAAAAAAAAAAAAAAAAAAAAAAAAAAAAAAAAAAAAAAAAAAAAAAAAAAAAAAAAAAAAAAAAAAAAAAAAAAAAAAAAAAAAAAAAAAAAAAAAAAAAAAAAAAAAAAAAAAAAAAAAAAAAAAAAAAAAAAAAAAAAAAAAAAAAAAAAAAAAAAAAAAAAAAAAAAAAAAAAAAAAAAAAAAAAAAAAAAAAAAAAAAAAAAAAAAAAAAAAAAAAAAAAAAAAAAAAAAAAAAAAAAAAAAAAAAAAAAAAAAAAAAAAAAAAAAAAAAAAAAAAAAAAAAAAAAAAAAAAAAAAAAAAAAAAAAAAAAAAAAAAAAAAAAAAAAAAAAAAAAAAAAAAAAAAAAAAAAAAAAAAAAAAAAAAAAAAAAAAAAAAAAAAAAAAAAAAAAAAAAAAAAAAAAAAAAAAAAAAAAAAAAAAAAAAAAAAAAAAAAAAAAAAAAAAAAAAAAAAAAAAAAAAAAAAAAAAAAAAAAAAAAAAAAAAAAAAAAAAAAAAAAAAAAAAAAAAAAAAAAAAAAAAAAAAAAAAAAAAAAAAAAAAAAAAAAAAAAAAAAAAAAAAAAAAAAAAAAAAAAAAAAAAAAAAAAAAAAAAAAAAAAAAAAAAAAAAAAAAAAAAAAAAAAAAAAAAAAAAAAAAAAAAAAAAAAAAAAAAAAAAAAAAAAAAAAAAAAAAAAAAAAAAAAAAAAAAAAAAAAAAAAAAAAAAAAAAAAAAAAAAAAAAAAAAAAAAAAAAAAAAAAAAAAAAAAAAAAAAAAAAAAAAAAAAAAAAAAAAAAAAAAAAAAAAAAAAAAAAAAAAAAAAAAAAAAAAAAAAAAAAAAAAAAAAAAAAAAAAAAAAAAAAAAAAAAAAAAAAAAAAAAAAAAAAAAAAAAAAAAAAAAAAAAAAAAAAAAAAAAAAAAAAAAAAAAAAAAAAAAAAAAAAAAAAAAAAAAAAAAAAAAAAAAAAAAAAAAAAAAAAAAAAAAAAAAAAAAAAAAAAAAAAAAAAAAAAAAAAAAAAAAAAAAAAAAAAAAAAAAAAAAAAAAAAAAAAAAAAAAAAAAAAAAAAAAAAAAAAAAAAAAAAAAAAAAAAAAAAAAAAAAAAAAAAAAAAAAAAAAAAAAAAAAAAAAAAAAAAAAAAAAAAAAAAAAAAAAAAAAAAAAAAAAAAAAAAAAAAAAAAAAAAAAAAAAAAAAAAAAAAAAAAAAAAAAAAAAAAAAAAAAAAAAAAAAAAAAAAAAAAAAAAAAAAAAAAAAAAAAAAAAAAAAAAAAAAAAAAAAAAAAAAAAAAAAAAAAAAAAAAAAAAAAAAAAAAAAAAAAAAAAAAAAAAAAAAAAAAAAAAAAAAAAAAAAAAAAAAAAAAAAAAAAAAAAAAAAAAAAAAAAAAAAAAAAAAAAAAAAAAAAAAAAAAAAAAAAAAAAAAAAAAAAAAAAAAAAAAAAAAAAAAAAAAAAAAAAAAAAAAAAAAAAAAAAAAAAAAAAAAAAAAAAAAAAAAAAAAAAAAAAAAAAAAAAAAAAAAAAAAAAAAAAAAAAAAAAAAAAAAAAAAAAAAAAAAAAAAAAAAAAAAAAAAAAAAAAAAAAAAAAAAAAAAAAAAAAAAAAAAAAAAAAAAAAAAAAAAAAAAAAAAAAAAAAAAAAAAAAAAAAAAAAAAAAAAAAAAAAAAAAAAAAAAAAAAAAAAAAAAAAAAAAAAAAAAAAAAAAAAAAAAAAAAAAAAAAAAAAAAAAAAAAAAAAAAAAAAAAAAAAAAAAAAAAAAAAAAAAAAAAAAAAAAAAAAAAAAAAAAAAAAAAAAAAAAAAAAAAAAAAAAAAAAAAAAAAAAAAAAAAAAAAAAAAAAAAAAAAAAAAAAAAAAAAAAAAAAAAAAAAAAAAAAAAAAAAAAAAAAAAAAAAAAAAAAAAAAAAAAAAAAAAAAAAAAAAAAAAAAAAAAAAAAAAAAAAAAAAAAAAAAAAAAAAAAAAAAAAAAAAAAAAAAAAAAAAAENoZWUgWW9uZyBMYXcAAAWQAwACAAAAFAAAEKaQBAACAAAAFAAAELqSkQACAAAAAzM5AACSkgACAAAAAzM5AADqHAAHAAAIDAAACJoAAAAAHOoAAAAIAAAAAAAAAAAAAAAAAAAAAAAAAAAAAAAAAAAAAAAAAAAAAAAAAAAAAAAAAAAAAAAAAAAAAAAAAAAAAAAAAAAAAAAAAAAAAAAAAAAAAAAAAAAAAAAAAAAAAAAAAAAAAAAAAAAAAAAAAAAAAAAAAAAAAAAAAAAAAAAAAAAAAAAAAAAAAAAAAAAAAAAAAAAAAAAAAAAAAAAAAAAAAAAAAAAAAAAAAAAAAAAAAAAAAAAAAAAAAAAAAAAAAAAAAAAAAAAAAAAAAAAAAAAAAAAAAAAAAAAAAAAAAAAAAAAAAAAAAAAAAAAAAAAAAAAAAAAAAAAAAAAAAAAAAAAAAAAAAAAAAAAAAAAAAAAAAAAAAAAAAAAAAAAAAAAAAAAAAAAAAAAAAAAAAAAAAAAAAAAAAAAAAAAAAAAAAAAAAAAAAAAAAAAAAAAAAAAAAAAAAAAAAAAAAAAAAAAAAAAAAAAAAAAAAAAAAAAAAAAAAAAAAAAAAAAAAAAAAAAAAAAAAAAAAAAAAAAAAAAAAAAAAAAAAAAAAAAAAAAAAAAAAAAAAAAAAAAAAAAAAAAAAAAAAAAAAAAAAAAAAAAAAAAAAAAAAAAAAAAAAAAAAAAAAAAAAAAAAAAAAAAAAAAAAAAAAAAAAAAAAAAAAAAAAAAAAAAAAAAAAAAAAAAAAAAAAAAAAAAAAAAAAAAAAAAAAAAAAAAAAAAAAAAAAAAAAAAAAAAAAAAAAAAAAAAAAAAAAAAAAAAAAAAAAAAAAAAAAAAAAAAAAAAAAAAAAAAAAAAAAAAAAAAAAAAAAAAAAAAAAAAAAAAAAAAAAAAAAAAAAAAAAAAAAAAAAAAAAAAAAAAAAAAAAAAAAAAAAAAAAAAAAAAAAAAAAAAAAAAAAAAAAAAAAAAAAAAAAAAAAAAAAAAAAAAAAAAAAAAAAAAAAAAAAAAAAAAAAAAAAAAAAAAAAAAAAAAAAAAAAAAAAAAAAAAAAAAAAAAAAAAAAAAAAAAAAAAAAAAAAAAAAAAAAAAAAAAAAAAAAAAAAAAAAAAAAAAAAAAAAAAAAAAAAAAAAAAAAAAAAAAAAAAAAAAAAAAAAAAAAAAAAAAAAAAAAAAAAAAAAAAAAAAAAAAAAAAAAAAAAAAAAAAAAAAAAAAAAAAAAAAAAAAAAAAAAAAAAAAAAAAAAAAAAAAAAAAAAAAAAAAAAAAAAAAAAAAAAAAAAAAAAAAAAAAAAAAAAAAAAAAAAAAAAAAAAAAAAAAAAAAAAAAAAAAAAAAAAAAAAAAAAAAAAAAAAAAAAAAAAAAAAAAAAAAAAAAAAAAAAAAAAAAAAAAAAAAAAAAAAAAAAAAAAAAAAAAAAAAAAAAAAAAAAAAAAAAAAAAAAAAAAAAAAAAAAAAAAAAAAAAAAAAAAAAAAAAAAAAAAAAAAAAAAAAAAAAAAAAAAAAAAAAAAAAAAAAAAAAAAAAAAAAAAAAAAAAAAAAAAAAAAAAAAAAAAAAAAAAAAAAAAAAAAAAAAAAAAAAAAAAAAAAAAAAAAAAAAAAAAAAAAAAAAAAAAAAAAAAAAAAAAAAAAAAAAAAAAAAAAAAAAAAAAAAAAAAAAAAAAAAAAAAAAAAAAAAAAAAAAAAAAAAAAAAAAAAAAAAAAAAAAAAAAAAAAAAAAAAAAAAAAAAAAAAAAAAAAAAAAAAAAAAAAAAAAAAAAAAAAAAAAAAAAAAAAAAAAAAAAAAAAAAAAAAAAAAAAAAAAAAAAAAAAAAAAAAAAAAAAAAAAAAAAAAAAAAAAAAAAAAAAAAAAAAAAAAAAAAAAAAAAAAAAAAAAAAAAAAAAAAAAAAAAAAAAAAAAAAAAAAAAAAAAAAAAAAAAAAAAAAAAAAAAAAAAAAAAAAAAAAAAAAAAAAAAAAAAAAAAAAAAAAAAAAAAAAAAAAAAAAAAAAAAAAAAAAAAAAAAAAAAAAAAAAAAAAAAAAAAAAAAAAAAAAAAAAAAAAAAAAAAAAAAAAAAAAAAAAAAAAAAAAAAAAAAAAAAAAAAAAAAAAAAAAAAAAAAAAAAAAAAAAAAAAAAAAAAAAAAAAAAAAAAAAAAAAAAAAAAAAAAAAAAAAAAAAAAAAAAAAAAAAAAAAAAAAAAAAAAAAAAAAAAAAAAAAAAAAAAAAAAAAAAAAAAAAAAAAAAAAAAAAAAAAAAAAAAAAAAAAAAAAAAAAAAAAAAAAAAAAAAAAAAAAAAAAAAAAAAAAAAAAAAAAAAAAAAAAAAAAAAAAAAAAAAAAAAAAAAAAAAAAAAAAAAAAAAAAAAAAAAAAAAAAAAAAAAAAAAAAAAAAAAAAAAAAAAAAAAAAAAAAAAAAAAAAAAAAAAAAAAAAAAAAAAAAAAAAAAAAAAAAAAAAAAAAAAAAAAAAAAAAAAAAAAAAAAAAAAAAAAAAAAAAAAAAAAAAAAAAAAAAAAAAAAAAAAAAAAAAAAAAAAAAAAAAAAAAAAAAAAAAAAAAAAAAAAAAAAAAAAAAAAAAAAAAAAAAAAAAAAAAAAAAAAAAAAAAAAAAAAAAAAAAAAAAAAAAAAAAAAAAAAAAAAAAAAAAAAAAAAAAAAAAAAAAAAAAAAAAAAAAAAAAAAAAAAAAAAAAAAAAAAAAAAAAAAAAAAAAAAAAAAAAAAAAAAAAAAAAAAAAAAAAAAAAAAAAAAAAAAAAAAAAAAAAAAAAAAAAAAAAAAAAAAAAAAAAAAAAAAAAAAAAAAAAAAAAAAAAAAAAAAAAAAAAAAAAAAAAAAAAAAAAAAAAAAAAyMDIwOjA3OjI2IDEzOjA0OjE5ADIwMjA6MDc6MjYgMTM6MDQ6MTkAAABDAGgAZQBlACAAWQBvAG4AZwAgAEwAYQB3AAAA/+ELIGh0dHA6Ly9ucy5hZG9iZS5jb20veGFwLzEuMC8APD94cGFja2V0IGJlZ2luPSfvu78nIGlkPSdXNU0wTXBDZWhpSHpyZVN6TlRjemtjOWQnPz4NCjx4OnhtcG1ldGEgeG1sbnM6eD0iYWRvYmU6bnM6bWV0YS8iPjxyZGY6UkRGIHhtbG5zOnJkZj0iaHR0cDovL3d3dy53My5vcmcvMTk5OS8wMi8yMi1yZGYtc3ludGF4LW5zIyI+PHJkZjpEZXNjcmlwdGlvbiByZGY6YWJvdXQ9InV1aWQ6ZmFmNWJkZDUtYmEzZC0xMWRhLWFkMzEtZDMzZDc1MTgyZjFiIiB4bWxuczpkYz0iaHR0cDovL3B1cmwub3JnL2RjL2VsZW1lbnRzLzEuMS8iLz48cmRmOkRlc2NyaXB0aW9uIHJkZjphYm91dD0idXVpZDpmYWY1YmRkNS1iYTNkLTExZGEtYWQzMS1kMzNkNzUxODJmMWIiIHhtbG5zOnhtcD0iaHR0cDovL25zLmFkb2JlLmNvbS94YXAvMS4wLyI+PHhtcDpDcmVhdGVEYXRlPjIwMjAtMDctMjZUMTM6MDQ6MTkuMzkwPC94bXA6Q3JlYXRlRGF0ZT48L3JkZjpEZXNjcmlwdGlvbj48cmRmOkRlc2NyaXB0aW9uIHJkZjphYm91dD0idXVpZDpmYWY1YmRkNS1iYTNkLTExZGEtYWQzMS1kMzNkNzUxODJmMWIiIHhtbG5zOmRjPSJodHRwOi8vcHVybC5vcmcvZGMvZWxlbWVudHMvMS4xLyI+PGRjOmNyZWF0b3I+PHJkZjpTZXEgeG1sbnM6cmRmPSJodHRwOi8vd3d3LnczLm9yZy8xOTk5LzAyLzIyLXJkZi1zeW50YXgtbnMjIj48cmRmOmxpPkNoZWUgWW9uZyBMYXc8L3JkZjpsaT48L3JkZjpTZXE+DQoJCQk8L2RjOmNyZWF0b3I+PC9yZGY6RGVzY3JpcHRpb24+PC9yZGY6UkRGPjwveDp4bXBtZXRhPg0KICAgICAgICAgICAgICAgICAgICAgICAgICAgICAgICAgICAgICAgICAgICAgICAgICAgICAgICAgICAgICAgICAgICAgICAgICAgICAgICAgICAgICAgICAgICAgICAgICAgIAogICAgICAgICAgICAgICAgICAgICAgICAgICAgICAgICAgICAgICAgICAgICAgICAgICAgICAgICAgICAgICAgICAgICAgICAgICAgICAgICAgICAgICAgICAgICAgICAgICAgCiAgICAgICAgICAgICAgICAgICAgICAgICAgICAgICAgICAgICAgICAgICAgICAgICAgICAgICAgICAgICAgICAgICAgICAgICAgICAgICAgICAgICAgICAgICAgICAgICAgICAKICAgICAgICAgICAgICAgICAgICAgICAgICAgICAgICAgICAgICAgICAgICAgICAgICAgICAgICAgICAgICAgICAgICAgICAgICAgICAgICAgICAgICAgICAgICAgICAgICAgIAogICAgICAgICAgICAgICAgICAgICAgICAgICAgICAgICAgICAgICAgICAgICAgICAgICAgICAgICAgICAgICAgICAgICAgICAgICAgICAgICAgICAgICAgICAgICAgICAgICAgCiAgICAgICAgICAgICAgICAgICAgICAgICAgICAgICAgICAgICAgICAgICAgICAgICAgICAgICAgICAgICAgICAgICAgICAgICAgICAgICAgICAgICAgICAgICAgICAgICAgICAKICAgICAgICAgICAgICAgICAgICAgICAgICAgICAgICAgICAgICAgICAgICAgICAgICAgICAgICAgICAgICAgICAgICAgICAgICAgICAgICAgICAgICAgICAgICAgICAgICAgIAogICAgICAgICAgICAgICAgICAgICAgICAgICAgICAgICAgICAgICAgICAgICAgICAgICAgICAgICAgICAgICAgICAgICAgICAgICAgICAgICAgICAgICAgICAgICAgICAgICAgCiAgICAgICAgICAgICAgICAgICAgICAgICAgICAgICAgICAgICAgICAgICAgICAgICAgICAgICAgICAgICAgICAgICAgICAgICAgICAgICAgICAgICAgICAgICAgICAgICAgICAKICAgICAgICAgICAgICAgICAgICAgICAgICAgICAgICAgICAgICAgICAgICAgICAgICAgICAgICAgICAgICAgICAgICAgICAgICAgICAgICAgICAgICAgICAgICAgICAgICAgIAogICAgICAgICAgICAgICAgICAgICAgICAgICAgICAgICAgICAgICAgICAgICAgICAgICAgICAgICAgICAgICAgICAgICAgICAgICAgICAgICAgICAgICAgICAgICAgICAgICAgCiAgICAgICAgICAgICAgICAgICAgICAgICAgICAgICAgICAgICAgICAgICAgICAgICAgICAgICAgICAgICAgICAgICAgICAgICAgICAgICAgICAgICAgICAgICAgICAgICAgICAKICAgICAgICAgICAgICAgICAgICAgICAgICAgICAgICAgICAgICAgICAgICAgICAgICAgICAgICAgICAgICAgICAgICAgICAgICAgICAgICAgICAgICAgICAgICAgICAgICAgIAogICAgICAgICAgICAgICAgICAgICAgICAgICAgICAgICAgICAgICAgICAgICAgICAgICAgICAgICAgICAgICAgICAgICAgICAgICAgICAgICAgICAgICAgICAgICAgICAgICAgCiAgICAgICAgICAgICAgICAgICAgICAgICAgICAgICAgICAgICAgICAgICAgICAgICAgICAgICAgICAgICAgICAgICAgICAgICAgICAgICAgICAgICAgICAgICAgICAgICAgICAKICAgICAgICAgICAgICAgICAgICAgICAgICAgICAgICAgICAgICAgICAgICAgICAgICAgICAgICAgICAgICAgICAgICAgICAgICAgICAgICAgICAgICAgICAgICAgICAgICAgIAogICAgICAgICAgICAgICAgICAgICAgICAgICAgICAgICAgICAgICAgICAgICAgICAgICAgICAgICAgICAgICAgICAgICAgICAgICAgICAgICAgICAgICAgICAgICAgICAgICAgCiAgICAgICAgICAgICAgICAgICAgICAgICAgICAgICAgICAgICAgICAgICAgICAgICAgICAgICAgICAgICAgICAgICAgICAgICAgICAgICAgICAgICAgICAgICAgICAgICAgICAKICAgICAgICAgICAgICAgICAgICAgICAgICAgICAgICAgICAgICAgICAgICAgICAgICAgICAgICAgICAgICAgICAgICAgICAgICAgICAgICAgICAgICAgICAgICAgICAgICAgIAogICAgICAgICAgICAgICAgICAgICAgICAgICAgICAgICAgICAgICAgICAgICAgICAgICAgICAgICAgICAgICAgICAgICAgICAgICAgICAgICAgICAgICAgICAgICAgICAgICAgCiAgICAgICAgICAgICAgICAgICAgICAgICAgICA8P3hwYWNrZXQgZW5kPSd3Jz8+/9sAQwAHBQUGBQQHBgUGCAcHCAoRCwoJCQoVDxAMERgVGhkYFRgXGx4nIRsdJR0XGCIuIiUoKSssKxogLzMvKjInKisq/9sAQwEHCAgKCQoUCwsUKhwYHCoqKioqKioqKioqKioqKioqKioqKioqKioqKioqKioqKioqKioqKioqKioqKioqKioq/8AAEQgBIAGoAwEiAAIRAQMRAf/EAB8AAAEFAQEBAQEBAAAAAAAAAAABAgMEBQYHCAkKC//EALUQAAIBAwMCBAMFBQQEAAABfQECAwAEEQUSITFBBhNRYQcicRQygZGhCCNCscEVUtHwJDNicoIJChYXGBkaJSYnKCkqNDU2Nzg5OkNERUZHSElKU1RVVldYWVpjZGVmZ2hpanN0dXZ3eHl6g4SFhoeIiYqSk5SVlpeYmZqio6Slpqeoqaqys7S1tre4ubrCw8TFxsfIycrS09TV1tfY2drh4uPk5ebn6Onq8fLz9PX29/j5+v/EAB8BAAMBAQEBAQEBAQEAAAAAAAABAgMEBQYHCAkKC//EALURAAIBAgQEAwQHBQQEAAECdwABAgMRBAUhMQYSQVEHYXETIjKBCBRCkaGxwQkjM1LwFWJy0QoWJDThJfEXGBkaJicoKSo1Njc4OTpDREVGR0hJSlNUVVZXWFlaY2RlZmdoaWpzdHV2d3h5eoKDhIWGh4iJipKTlJWWl5iZmqKjpKWmp6ipqrKztLW2t7i5usLDxMXGx8jJytLT1NXW19jZ2uLj5OXm5+jp6vLz9PX29/j5+v/aAAwDAQACEQMRAD8A+ivsVr/z7Q/9+xR9itf+faH/AL9ip6KAIPsVr/z7Q/8AfsUfYrX/AJ9of+/YqeigCD7Fa/8APtD/AN+xR9itf+faH/v2Ky73xZYWOqTaebfUbi4gVWkFpYSzKoYZGSqkdqi/4TKz/wCgZrn/AIJ7j/4igDZ+xWv/AD7Q/wDfsUfYrX/n2h/79isb/hMrP/oGa5/4J7j/AOIo/wCEys/+gZrn/gnuP/iKANn7Fa/8+0P/AH7FH2K1/wCfaH/v2Kxv+Eys/wDoGa5/4J7j/wCIo/4TKz/6Bmuf+Ce4/wDiKANn7Fa/8+0P/fsUfYrX/n2h/wC/YrG/4TKz/wCgZrn/AIJ7j/4ij/hMrP8A6Bmuf+Ce4/8AiKANn7Fa/wDPtD/37FH2K1/59of+/YrG/wCEys/+gZrn/gnuP/iKP+Eys/8AoGa5/wCCe4/+IoA2fsVr/wA+0P8A37FH2K1/59of+/YrG/4TKz/6Bmuf+Ce4/wDiKP8AhMrP/oGa5/4J7j/4igDZ+xWv/PtD/wB+xR9itf8An2h/79isb/hMrP8A6Bmuf+Ce4/8AiKP+Eys/+gZrn/gnuP8A4igDZ+xWv/PtD/37FH2K1/59of8Av2Kxv+Eys/8AoGa5/wCCe4/+Io/4TKz/AOgZrn/gnuP/AIigDZ+xWv8Az7Q/9+xR9itf+faH/v2Kxv8AhMrP/oGa5/4J7j/4ij/hMrP/AKBmuf8AgnuP/iKANn7Fa/8APtD/AN+xR9itf+faH/v2Kxv+Eys/+gZrn/gnuP8A4ij/AITKz/6Bmuf+Ce4/+IoA2fsVr/z7Q/8AfsUfYrX/AJ9of+/YrG/4TKz/AOgZrn/gnuP/AIij/hMrP/oGa5/4J7j/AOIoA2fsVr/z7Q/9+xR9itf+faH/AL9isb/hMrP/AKBmuf8AgnuP/iKP+Eys/wDoGa5/4J7j/wCIoA2fsVr/AM+0P/fsUfYrX/n2h/79isb/AITKz/6Bmuf+Ce4/+Io/4TKz/wCgZrn/AIJ7j/4igDZ+xWv/AD7Q/wDfsUfYrX/n2h/79isb/hMrP/oGa5/4J7j/AOIo/wCEys/+gZrn/gnuP/iKANn7Fa/8+0P/AH7FH2K1/wCfaH/v2Kxv+Eys/wDoGa5/4J7j/wCIo/4TKz/6Bmuf+Ce4/wDiKANn7Fa/8+0P/fsUfYrX/n2h/wC/YrG/4TKz/wCgZrn/AIJ7j/4ij/hMrP8A6Bmuf+Ce4/8AiKANn7Fa/wDPtD/37FH2K1/59of+/YrG/wCEys/+gZrn/gnuP/iKP+Eys/8AoGa5/wCCe4/+IoA2fsVr/wA+0P8A37FH2K1/59of+/YrG/4TKz/6Bmuf+Ce4/wDiKP8AhMrP/oGa5/4J7j/4igDZ+xWv/PtD/wB+xR9itf8An2h/79isb/hMrP8A6Bmuf+Ce4/8AiKP+Eys/+gZrn/gnuP8A4igDZ+xWv/PtD/37FH2K1/59of8Av2Kxv+Eys/8AoGa5/wCCe4/+Io/4TKz/AOgZrn/gnuP/AIigDZ+xWv8Az7Q/9+xR9itf+faH/v2Kxv8AhMrP/oGa5/4J7j/4ij/hMrP/AKBmuf8AgnuP/iKANn7Fa/8APtD/AN+xR9itf+faH/v2Kxv+Eys/+gZrn/gnuP8A4ij/AITKz/6Bmuf+Ce4/+IoA2fsVr/z7Q/8AfsUfYrX/AJ9of+/YrG/4TKz/AOgZrn/gnuP/AIij/hMrP/oGa5/4J7j/AOIoA2fsVr/z7Q/9+xR9itf+faH/AL9isb/hMrP/AKBmuf8AgnuP/iKWLxjp8l9bWslrqlu91L5UTXOnTRIXwTjcygDgGgDY+xWv/PtD/wB+xRU9FABWB43hlk8HahLb3l1Zy28LzpJbSmNsqpwMjtntW/Wfrei22v6XJp99JcJBLw/2edomYYwQSpBxz0oA5LxQdRi8MWOr2UmomZLaJ5Zor0pFEPlLO8efnGM54NdtBKz6fHKv75miDDHG84z+tYZ8DaY9vFby3Opy28aKnkyahKyOq9AylsMPrXRIixxqiAKqjAA7CgDlfDFxdXXi7xHJe2LWUmLUeU0iucbG5ypxXV1z+kf8jx4i/wBy0/8AQGroKACiiigAooooAKKKKACiiigAooooAKKKKACiiigAooooAKKKKACiiigAooooAKKKKACqWq6tZaLYPealOsMKdWPf2A71drlfiD4XuPFOgpb2UgWeGTzEVjgPxjFaUoxlNKbsjOrKUYNwV2auh+JNL8R27zaTciZUOGBBVl+oNatcD8NvBN/4Xe6utUZVmnUIIkbcAM5zkV31VXjCNRqm7oihKpOmnUVmFFFFYm4UUUUAFFFFABRRRQAUUUUAFFFFABRRRQAUUUUAFc/4q/4+vD3/AGF4/wD0VLXQVz/ir/j68Pf9heP/ANFS0AdBRRRQAUUUUAFFFFAHP6R/yPHiL/ctP/QGroK5/SP+R48Rf7lp/wCgNXQUAFFFFABRRRQAUUUUAFFFFABRRRQAUUUUAFFFFABRRRQAUUUUAFFFFABRRRQAUUUUAFFFFABRRRQAUUUUAFFFFABRRRQAUUUUAFFFFABRRRQAUUUUAFFFFABXP+Kv+Prw9/2F4/8A0VLXQVz/AIq/4+vD3/YXj/8ARUtAHQUUUUAFZXiXWLjQdDm1G2sDf+QC7xCUR4QAknJB9OlatYvi631C88LX1npFrHdXN1E0IWSbygoZSN2cHp6UAVdT8UXen2MWoLo7TaeYY5Zp/tAUxhscBcfNjNdFFIJoUkT7rqGGfQ1wN3p3iu//ALItLzRrZtMs4kae3TUQDNKuAu47OVGN2OMnHpXe7BJb7HXYGXBVWxjjoCKAMLSP+R48Rf7lp/6A1dBXKeGNNt9L8XeIoLUzFMWrfvp3lbJRv4nJP4V1dABRRRQAUUUUAFFFFABRRRQAUUUUAFFFFABRRRQAUUUUAFFFFABRRRQAUVR1LWtO0eNX1S8itlc4UyHGas29zDd26T20iyxOMq6nINPldr20FzK9r6ktFFFIYUUUUAFFFFABRRRQAUUUUAFFFFABRRRQAUUUUAFFFFABRRRQAUUUUAFc/wCKv+Prw9/2F4//AEVLXQVz/ir/AI+vD3/YXj/9FS0AdBRRRQAUUUUAFFFFAHP6R/yPHiL/AHLT/wBAaugrn9I/5HjxF/uWn/oDV0FABRRRQAUUUUAFFFFABRRRQAUUUUAFFFFABRRRQAVgeNdcuPD3ha4v7OMPMpCrkZC57/hW/UVzbQ3ls9vdRLLFIMMjDIIq4NKScldETTlFqLszzL4a+OdZ1zXJNO1aT7UrRmRZdgUpjtwBXqVZmkeG9I0HedJsY7YyfeKkkn8STWnWmInCpU5qasjLD06lOny1HdhRRRWB0Hl3xS8IazrWq219pcTXUSxCIwqeUOSc/jn9K6v4f6Je6B4TitNSbMxkaTbnOwHHy/p+tdNRXTLETlSVJ7I5o4aEazrLdjZJY4U3zOsaj+JjgURyJKgeJ1dT0ZTkGvOfi/Zatd6bZtp6yyWiM3nxx5JJ42kgdR1q18JbPVLTw/cf2mJEheQG3STqowc8du1P2C9h7Xm+RP1h/WPY8vzO6NzAJvKM0Yk/ubxu/KpK+fL3RvFJ8cMBHcm+M+UmAO0c8HPTFfQMQYQoH+9tGfrRiKCoqNpXuGHxDrOScbWHUVS1PWNP0a3E+qXUdtGTgM561LY39rqVqtzYTpPC/wB10PBrn5Xa9tDp5o35b6liiiipKCiiigAooooAKKKKACiiigAooooAKKKKACiiigArn/FX/H14e/7C8f8A6KlroK5/xV/x9eHv+wvH/wCipaAOgooooAKKK57x3ZRXvgrUvNaVTBA8yGKRkIZVOOQQaAOhorgtYtgLjwTqAlnFw1zHExEzBWU28hOVzg8gda7uQsI2MahnAO0E4BP1oAwdI/5HjxF/uWn/AKA1dBXKeF5b+Xxd4ibVbWC2nxajZBOZVxsbB3FV/LFdXQAUUUUAFFFFABRRRQAUUUUAFFFFABRRRQAUUVk33ijRdMvlsr/UYYbh+kbZ/XHT8aqMZSdoq5MpRirydjWopFYMoZSCDyCO9LUlGZr3iHT/AA5p/wBr1OQqhOFVRlmPoBUXh3xRpnii1efS5GPlnDxyLhl+orN8feEZPFukxRW0yxXFu5ePf91s9Qfyql4D8IN4Jsbu51a7h82fG8q3yIozjk49a6lCi6HNf3uxyOdZV+W3udzt6K891n4waRYyNFpttNfSI2CxIjQ+4PJP5V1fhjxFbeKNFTULRWjG4o6NyUYYyM9+oqJ4erCPPJWRpDEUqkuSMrs16KKKwNwoqFL21lnMEdzC8q9Y1kBYfhU1FmhXTOUl+JHh2HXP7Le4k8zfsMoQeWD6Zz/SurBBAI5B6V8/eOfCQ8La2sss6z21zIXjjBIkIzyDxgfX9K7zwz8V7XV9WttMuNOa084iOOQTb8t0AIwK9KthF7NVKOq6nm0cY/aOnX0fQ4X4m65d6n4sntJ18uGydool9Rn73412/wAFy58OXwYttFyNuen3e1N+L2gRzaLHqttbxiaGT9/L0Yp0H15rmPhr4ng8OWuqzX9wTCsYaO3B5Z89q6natgrU1scivQx16j3vqe40V5BffGq6ktcadpccE+7rLIZFx9ABXdeBfFL+LNBN3NCIp4pPKlC/dJxnI/OvNqYWrShzzWh6lPF0as+SD1OlooorlOoKKR3WNC0jBVAySTgCo4Lq3ulLWs8cyg4JjcMB+VFmFyWiiigAooooAKKKKACiiigAooooAK5/xV/x9eHv+wvH/wCipa6Cuf8AFX/H14e/7C8f/oqWgDoKKKKACqOr6NYa9p7WWrQfaLZjlo97Ln/vkg96vUUAc7N4C8N3ENpFNp29LI5twZ5P3f0+auhRQiKijCqMClooA5/SP+R48Rf7lp/6A1dBXP6R/wAjx4i/3LT/ANAaugoAKKKKACiiigAooooAKiupxa2c1wwJWKNnIHfAzUtI6q6MjjKsMEHuKa3E9jyXSPi5f3nieK2ubSEWU8ojVUB3rk4BJ7163XL2Xw78P2Gtf2nBbv5wbcqM+UU+oGK6iunEToya9krHNhoVoJ+1dwor5/8AEvjzxFdareW/2yW0g3mPyE4wAfzrrPg9f6rcPfLeSSyWCR7lklOQHyOhPtmtqmBnTpe0k0YU8fCpV9nFM9UrwX4meG9Q03xLc6lKGltbuQuko52Z/hPpXudtfWl5u+yXUM+373lSBsfXFYvjTxJZ+GtFFze2wujI2yKFgMM349KzwlWdKr7qvfoaYylCrS952t1PLxq3idPhcpUziEXGwSgHd5WPX0zxmuk+D9/q13b3qXzyy2aAGJ5CT82eQCa3vBPjKz8YWs9v9hW2kgALQcMm09xx/StzWVns/Dl6dGhVblYWMKIoGWxxxW9atpKjKCTbMKNFXjWjNtJGnXBfFjTtV1Dw/b/2WkkkcchM8cfJYYGOO/euG+H2p6/L44hTzbiVXk/0pZCSFXuTnpXu1Yzg8HWTvc2hUWNoyVmuh4D4Z+Gmsa7KHu420+07yyr8x+i9fzxXrmnafp/gHwjKFd2gtwZZXI5djgZx+Qq34i8S6f4Y08XWpM2GO1EjGWc+1efat8WdL1YPpsmlzNp1wuyWR3CuvvtGRx9a3lLEYvW3umEYYfB6X97zNvwt8UbbxFrg02Wxa0aTPkN5m7fjnB4GOPrXZ6n5x0m7+y587yH8vHXdtOP1rwLxHpUngjX7SbRryVhJCLiC4Me0ruzwOvb+ddsvxKntfh7Fc6jEz6hdNJBCR8u4AD95+G4U62ETcZ0FoyaGMaUoV3qjzTTtUvNH8SRXs0kqzQzhphn5mGfmH5Zr6S07UYNT0uC/tm/cTIHUnjivl0S+bdCW6LSBn3SYPLDPNe/Xts2ofCzyPC25PMtV+zjOCVyCR9SMit8wppuF9Ol+hhltSSU7a9bdR3inwtpXjqGNY9QjW4tiQssJEm0HqCAayvD3wmstE1mHUJ9Qe8MDB408rYAw6Hqa8eivdT0W4uIY5Z7SVgY5UyVP0NbFprfieLwpd+TNcHTy6iSZicqSegPvVfVa0IckKnu/5k/WqE5886fvf5HufijQl8SeHrjTWlMRlAKvjOGByP1rgNB+DrRG4Ov3MbhkKxC3JOCf4jkCuEsPHHiDTNPe0tNQkVGbduJ3Mv0Jr1z4c+KLrWvDM1xrcqA20mwzuQocYzknpXPOliMLSfLLS50Qq4bF1VzR1t8jP0/4NaRBHIuoXtxdFj8rIoj2/wA67XRdEsfD+mrZabF5cSnJyclj6k+tSwatp11KI7bULWaQ9EjmVifwBq3XBVrVZ6VGehSoUaetNIKKKKwOg5X4jWWpX/g6aHSNxmDqzqh5ZBnIH6VyHwi0nWrPVLqe7hmt7ExbSkoK7nyMEA+2fzr1miuqOIcaLpW3OWeGUqyrX2Ciiq8d/Zy3LW8V3A8y9YlkBYfh1rms2dN0jxP4h6tr8PjeaMTXEMcbj7KsZIDDseOtex+Hpbyfw7Yy6ku27aFTKD2arkltBM4eaCORl6MyAkVLXTWrqpTjBRtY5aOHdOpKble4UUUVynWFFFFABRRRQAVz/ir/AI+vD3/YXj/9FS10Fc/4q/4+vD3/AGF4/wD0VLQB0FFFFABRRWP4p1O/0fw/cahpdrBcyW6mR0nkKLsAJPIB54oA2KK47UPGd9F5j6fp8M0VjYxX2oGSUqY0cE4QAHccK55x92utt51ubWKeP7sqB1z6EZoAw9I/5HjxF/uWn/oDV0Fc/pH/ACPHiL/ctP8A0Bq6CgAooooAKKKKACivAPFd/wCI18fThnuUnWci2Rc4KZ+XA78Yr3fT2nbTLVrwYuDChlHo2Bn9a6q2HdGMZXvc5KGJVaUo2tYsUUUVynWFFFFAHlnxY8J3F29tqWj2HmsNy3Hkpl2Jxg4HWsAJrvhn4XXKzxS2631yqKCMNEmCST6Z4H417lUN3aW99bPb3kKTQuMMjjINd9PGOMIwkrpM8+pglKcqkXZtHiHwjab/AITIEXKxxCJvMjZ8eZkYAA7nODXrfinwxaeKtK+x3jtGVbdHIoyUPrivFR4J8SWvisWtpZTRus2Y7hFIjUZ4O7pXv7zR2tt5l1KkSIvzO7AAfUmtcdK1WNSnLUxwEW6UqVSOnmc94P8ABFn4Qjm8iZ7iebh5WXbx6Yrpq5nxd4iax8G3WpaFNFdOuFWSJg4XJwTx6V40PiH4oFu0X9qzHc2d5PzD2BrOnhq2KvUb+81qYqjhLU0tPI+h47eGJy8UMaM3UqoBNNu7qGxtJbm6cRwxKWdj2Fcr8Nde1DX/AAy02qZaSKUxrKR/rBgc/wBPwro9Y02PWNHutPmYqlxGUJHauScOSpyT6HXCpz0+eHU8113VtG+J8kOl6dPJZ3tu7G3a5XCS5xkcZPYdqZb/AAkstKtVvvEesKkcJ3SrGnyEem44P6Vz+seGb74b31pqZuYbiZpG+zbAflwOrZHv0rmZL3VNd1Io801xPdSY2bjhifavchSk4pUZ2h/VzwalWKk3Xhef9WPfLSTwr4xskht/s+oxWoCqjKQU4wODg9q4j4t3Wj2tvZaPFaEXMK74ynyrEh4/HOP0rkbrTtW8EQSi6nFnfXaeWIEcMxjzksSDgcgAfjWFJBe3Fi2oTCSSBHERlc5G4gkDP4Gpo4VRmpqd4rYqvi5Spum4Wk9wvjY/uRpwm4jHmtNgZb2AJ4r0mfVtZl+DFrJp0LwmOXyZTEDnygPvD8cV5YFZgSqkhRkkDoK9R+E/ihhJc6Pqk6m1SBpYvM/h28kfTGT+FdGKi1BSSvyu5z4SSdRwbtzKxlfDjwnF4o1G5uNahmltolBWTdgM+RwT34zXsOo+H7DUtBl0mSFY7aRQuIxjGOh/CuOf4v8Ah60meG3sbpkVsb4o0Ct79RXWf8JBFe+E59Z0j/SAtu8kaY5LAZ249c15OJlXlNTkml0PYwscPGDhFqT6niHjfwjb+FbuGK0v1vA4JkHyhozngEAk9O9XNP0HXbr4azNZQTGNrvzDGoOZE24yB35rkZ7y4nvnuppGadn3FmOTnNfRXgvXIde8L2txE6tMkapOFGNr454r0MTUqUKUW9ddWebhadKvVkl7umiPnzy9T0G9hmkhuLKdTvj8xChP517V4a+JNheeGhf+IJo7KVJTC2ASHOAcgAE966DxB4V0vxNCkeqwsxjPyujbWH41458TbHTNJ1ay0zR9oitrfEiq2SGLE8++CKxVSnjrQkrM3dOrgLzi7xPcrDULTVLNLvT51ngkGVdas1578GlkXwjcmQMFa7Ypu6EbV6fjmu7vb2206zkur2ZYYYxlnY8CvKrU+Sq4LU9ejV9pSVR6XJ6K4ux+KegahrS6fEZ1DttSd0wjH+Y/EUeN/iHF4Su4bOK0+1XMieYys20KucDn8DVLDVXJQ5dWS8TRUHPm0R1epbv7KutkqwuYXCyM2ApwcHPbmvB/COia5c+NYJbUSN5NwGnuVbKFQefmHByK73xBqF347+Gf2rQI5FlE486BT8xCg5UevUGqHwi0PWdOvLy51CCa2tGi2LHMpUs+Qc4PsD+ddtG9ChNtq+1jgr2r16aSdt7nqdFcR8RvGt34UgtYtOiQ3Fzkh5BlVAxnj8atfD3xbP4r0meS9iVLi3cK7IMK2R1H5Vw/V6ipe16HesRTdX2PU62iiisDoCiiigAqvLqNlBcrbzXlvHO33YnlUMfoM5qxXg/ijwt4ml8c3DJa3M5mnLwzopKqpPHzdBgfyrpw9GNaTUpWOXE15UYpxjc94rn/ABV/x9eHv+wvH/6KlrY0+KaHTbWK5bdMkKLI3qwABP51j+Kv+Prw9/2F4/8A0VLXO9zpWqOgooopDCsfxVY6jqnhu7sNI+yie6jaItdMyqqsCCflBOa2KKAOCfwj4he2mjE2mxnUbCOwvwHkIVEBUNH8vJKu4wcdRXbw2qRWEdoRujSIRYPcAYqaigDlfDGmWeleLvEdvp1ulvFi1bYnTJRsmuqrn9I/5HjxF/uWn/oDV0FABRRRQAUUUUAeWePfiHfaJ4obT9Nt4B9nCmSSWMMXyA3Hpwa7/wANawde8N2epmPyzcISV9CCQf5VV1zwXoniK7S51O2LTIMb0baWHofWtm1tYbK1jtrWMRwxLtRFHAFdVWpSlSjGKtJbnJSp1o1ZSnK8XsS0UUVynWFFFFABXL+KPH2l+FbmO2u1lnncbjHCBlR6nNbGvaxDoGh3OpXILRwKDgdSSQAPzIr578W+JP8AhKdY/tB7VbaTYEIVicgdK78HhfbSvJe6efjcV7CNov3j6Csdf0/UNB/tiGYfYxGZGcj7gAyc/SvGfiD49TxOYbbTPPitIs7w+B5jZ4PHbHrV3QPEy6X8J7+1vbdmjmke2gxxvLqd3PtXDaZpF/rN15Gl2ktzIOSI1J2j1J7D3rvw2FhTnKcuj0PPxWKnVpxhHqtT0b4NKJ21OC4mR4XQD7Mxzn1OPStDxlrHhXwsP7NtNDs7ydjulh24VfqfWvMIxq/hvWW8tZrS9tid2Acj/wCtVG5uZr26kubqVpZpGLO7HJYnvWzwqnWdRy0fY51i3CiqSj7y6s9+8IeMNE1Dw9FIrW2lhG8ryHkVAG64XPXrVD4o+J73QtItF0mcRSXTNmRT8yqAMEfXNeGKCSqhgMnjJwBWz4gsry3gspbrUIb6NogiNFOJBHj+A4PBGayWBpxrKV9Oxs8fUlRcba90R6j4n1bWYoodVvZbqKM5COev/wBemWmoz6Hr8d5YQm3eIhljc7uCB6+tZdab63e3d/bzy7ZJYoxCgCdVxgD64r0HBJWS0POU23dvU6TxhruieMNUtrgXEljcRwrHLLLGWjOOcALlupPaux03wlpGufDIabpmppKEm+0G4wQFkAxyDyBj1rjNY+GOt2VrHeWEBvIZEDlIhmSPIzgr1P4Vz9nrmp6Pp1/pcD+THebVnVl+YFT0Hp3zXH7NVKaVCezO72jp1JOvDdHf6P4M0TTPD+tPqGvWd0z2+x2tJQ4iXcpBx1zuVRXIeGp9G086ndXt04nS2litYwh/eF0KZPp96sOyljjeXz3YRNGwZFJ+c9h+eD+FQRoZJFQFQWIALHA/PtW8aMveUpN3OeVaPuuEUrCAZYD1Ndz4g8QnQdDHhLR5HCwsftNxnBdj1UD0zVS/0CLwdp9pe6iVn1K5Be3iUho0A/iJHX6Vh2lxbX+tNdeIZp3icl5WjGXc44H4nim+WraW6X5iXNRvDaT/AARRQRmNvNLK/GzA6/WvYdCntvBHwul1bTpRfPcMGLAELvPGOfSvNPFWq6fq+rJPpNq9rbpCkSo+M/KMdqhfXtVi0hNKW4lhsgv+oBwrZ5yfXNRVpSrxinprqiqNWNCcmtdLJnqPw++IepeIdcbTdVSNi6M6SRrt247GsDxf8OdW/wCEgvtSR420+WRp5J3kA8sE5IIJzx7Vx2nXF6mj3kenxYxhppU+/s9PpXcfDi5/tDRdS0bW9QSK1u49luk0oDMT12gnJrnnTeHk6tOyWzR1U6qxEVSq3b3TLXh74p2lpcWWkLp/l2MapCs4PzE4A3Ffc812/jjQLjxJ4YlsbOQJNvEi5OAxGeP1rkdB+EH9n60t1qd7HcQQvujjQHLem7NaHxdk1SPw9b/2d5gtzI32kx9hgbc+3WuKapSxEPYPXudsHWjh5+3WnY8p1zwlrXhpYpNUtDCrn5XRgwBHuCcU281Z9b023t7mGSbULf5Y5wclouTtI9uv4mut8L66um+CL5PFaTT6dcsI7SMjLOf49uew+Wtz4aeHvDl1cyaxps8880J2iCdQDDn6deM816M67hFyqLWOzWx50MOqklGm7KW6e6/roUfgw+pi8vIyH/szy8kkfL5uRjH4Zr12vHvjA+pwanarCJItN8sFTGMKZM85x3xiuv8AhjqsuoeEo47y7jnuYnI2iQM6pxjcOo79a8zFU3Uh9YXXoenhKipz+rPp1N3XvDem+JLVbfVYfMVDlWU4Zfoak0XQrDw/YC00yHyos5OTksfUmq3i/UrrSPCd9faem+4iQbBjOMkAn8ASfwrzn4aeL9d1PxWLG/uZby3mR2cyHPl4BII9OePxrKnSq1KLkn7q6G1StSp14xa959T2CiiiuM7QooooAKKKKACuf8Vf8fXh7/sLx/8AoqWugrn/ABV/x9eHv+wvH/6KloA6CiiigAooooAKKQsFGWIA9zSg56c0Ac/pH/I8eIv9y0/9Aaugrn9I/wCR48Rf7lp/6A1dBQAUUUUAFFFFABRRRQAUUUUAFFeU/FbxPrelaxbWenXE1nbmISeZESpds8jI9OPzrr/h/rF7rPhKC51U5n3sgZurqMYNdMsNKNJVW9GcsMTGdZ0ktUbmq6Zbaxpc9hepvgmXaw/UH865TRPhZoWkXEktyDqG8YVLhQVUfSu2r548eazeXPji9YXblbaYrAVbhAOmK2wcKtW9OErIxxk6VJKpON2e1a14P0vWtCGlNCtvAh3ReSoHln1AqDwl4KsPCUcv2SR55puHlkABI9MVV8AeL4fEukJA7sb+2jAnDfxdtw9q8nf/AISj/hPP+Xj+1PP46+v8qunRqy56UpWsRUrUYclaMLt/gdb8UfGV5Z6jPoNnHGkTwhZpGQEuGHQHt1ryevpTXPB2jeJJI5dWtTJKgwHRyp+hIri9S+DMM2rCTTb0W9kSN0Tgsw+hrpwuLoU4KL0ZyYvB4ipUc1quh57d+C9cstDj1aezItJFDhwwJAPIJHUVp+DvBq61bT3utT/YdLRSBcOwUb/UZo8deJbm6ujoEIMOn6Y32eNO77PlyT36Vx+5tu3Jx6Zrvj7WpT1dm/yPPl7GnV0V0vz/AMjY8T2Wmabq5s9Gn+1QxKM3O4ESkjORjjAzj8Ko6VeLp+rW13JCs6wyBjG3Q1Vz8uMd+tLG7JIrp95SCPrW6j7vK9TBy9/mWh7p488b3fh/Q9Om02NVnv13hnGRGAFOMevzV4lfX0+o6hLeXJUzStuYquAT9KtG01LUtRf7UkzybfMkLg8LjOefas7G5yEyRnj6Vz4ahCjGy37nTisROvK727CyyebIXKqueyjA/Kr+saQ2lm1dZPNguoFmik2kZB7fUVStvJ+1R/as+SGy4HUj0/GrmsaxNq80W8LHDbp5cESjARfSt3zcytscy5eVt7kura/Pq+m6baTxqo0+IxI4PLgnvUl2p0vQzpt7a7buaRLlWPBRdvH5g1qaZ8OdV1mzt7rTJ7W4ikx5hWYfuj6H3rA1ixv9O1B7XVFkE0PyfPnoOmPas4ypyfJB7dDaUakVzzW/UpxIXmRVIBJwCTgVLPBdmaU3EcnmIcSblOVPvURjkRVdkYK33SRwa6W78e+JmuoJZL2WExouEX5VcY6kd81pJyv7qMoqFvebRlaVqt94b1Brm3UxztCVG8dAw4OPpzT7Cy1jxNrGbVZ7u6ZgXkGTt9ye1Nvr698UeIDcXH7y5unVcIv4AAfSvoLQfDNp4d0IWNgqiTYQ82MM7HuTXHicQqCTa95nbhcO8RJxT91Eul6lZRRW2lTajby6jDCiSxCUFywUAnHXrWqQGGGAI9DXzNibSvF5W5utstvdYknVs8huTmvoT/hINNvFkttP1G3kvGiLRxLIC2SMjj8q8nE4V0mnF3uevhcUqqakrWMvxx4NTxbp0EUUy289szGNiPl5xkED6CjwL4MHhCxuFknE9xcspkZRhcLnAH5mvFTrGtaH4qe9uZJkvo5cyByRu56H2r1zwL8Q/wDhLL2ayubVbe5RPMXYSVZQQD178it61CvSo8qd4mFCvQq1+ZxtPY818U+LPEN/r95ZSXM8UZkMK2qEgEZwOPetv4aeFdfs/FcV7dWlxZ2sSt5nmqU8wEEADPXnB/CvUtS0qwAn1RdOt5r+GJmjkMQL5AJAzXi+mfEXXbTxMlxqN9M9uZcTQOSVVc84X2renUlXouFKKWmphUpRoVozrSb10PfHRZEKOoZWGCD3FU7DRtN0tnbTrGC2aT75iQLupuj63Ya9Yi70ucTRZweMEH0I7VfrxXzRvF6HuLllaS1CiszxFrcXh3QbjU7hS6wgYUfxEnAH5muI8P8Axftb2eVNcgSyVVLI6EsDjt9a1hh6lSLnFXSMqmIpU5qE3Zs9KorL0LxJpniO3abSbjzVQ4YEbWX6g1qVlKLi7SRrGSkrxd0FFFFSUFc/4q/4+vD3/YXj/wDRUtdBXP8Air/j68Pf9heP/wBFS0AdBRRRQAUUUUAcr440mXU49Nc20F/a29yXuLC4kVUnGxgM7uDgkHB9KT4ey3kvgmIzKqsryLAM5UID8vPcVv6lpGnazbrb6vYW19Crb1juYlkUN0zgjryasxRRwQrFAixxoMKijAUegFAHL+GPt48XeI/7VNsZ8Wv/AB7BguNjY+9zmurrn9I/5HjxF/uWn/oDV0FABRRRQAVzfj3VL/SPCNzdaUD54IXcBkoD1NdJTZI0ljZJFDowwVYZBFXCSjJSauRUi5QcU7Hk/wAKvE2uanrk9nqFzPeW3lly8zFijdhk+tetVVstMsdNRl0+zgtVY5YQxhAT+FWq0xFSNWpzRVkZYelKlT5ZO7CiiisDoPD/ABD8RLy78SPBdWNrcWFvOVFtPArk4OM5IyDWJcx+IT4wjaKKeK9Zw0CoCAqnkAe2K9suPBHh+61kapPp6NdBt27JCk+pXoapeLPH+neEriK1mgkuJ3Xd5cZA2r617FPEx0hRp3djxamFlZzr1LK5hfFHX9a0fS9OisJpbcTL+/niJDBgBxkdO/5V5/4a8Dav4sLXEBWO334eeU9/p1Ne46bfaX4v0GO58iO5tZTzFMgYBh2INadvbQWcCw2kMcMS/dSNQqj8BWEMW6FP2cY2kbzwar1PaSlePY5PwL4DHhBp55rkXFzMuwsgIULnNdjVW/1Ky0u38/UbqK2izjfI2BUU2s2UehzarFMs9rDE0peM5BAGeK45yqVZc8tbnbTjTox5I6WLN3dRWVnLdXL7IoULux7AV5F4q+LT39ibXw+k9m5chrgtglfbHIq9pvxKHivUX0HUrBIrXUAYEaNjuG7gZrzfX/D974d1R7K/jIZT8jgcOPUV6mEwkYztWXvbo8rGYyUoXov3dmJY6rjXE1HWIm1LDbpBMxO89snvWyG0XxXNdM0UGi35BeLbJiGU+hz0P0pl7cx6P4Ms9OSziF1qCme4lkQF1G4hQM9OAD+NctXpqKn7y06I8pycPdevV/8ADnYaJ8O9TvLxjrEUmn2ESlpLlxgEf7JPBrPn07S7KC4uNM1QX9xDIBHGIiuF5+fnrjA/OrFl401ibSV8Pz3IewlTyMFBuUE5zu68fyrAYy6bqUiwy/vIJGQOvQ4OPyNTFVXJ87+SKlKkorkXq2dRpl54n8WaJe6UlxNdRRhZyZGJPHGwE+uc4/2a6D4b+BriHUpr/wAQ2QigETRxx3AwSxxyAfbI/GuQ1rxbLqWk22n2dvHYQImbhLdQgnf+8QPbH61jyanezWMVlLdStbRMWSIudqk+1RKlUnBxjaNzSNanCalK8mjY8b+H28P+JbiGOFktJG3W5PIK/WsSRLcWcTRyMZyxEiEcAdiDT7zUry/WJb25kmEK7Iw7E7R7Ve8N+Gb7xRqDWmm7N0aeY7O2Aq5Az79a3V6dNOo9jndqlRqmt+g3QfE2p+HJpZNLuDH5qFWU8g8dceoq0vjbXGhkhvLoX8UhyY71BMo+gbOKl8Y+EG8JXNvC93HcNKmWC8EH6eldd4P8M+H/ABP4Fe1Ahk1aNZGDj5XRj93OOoB9awqVKKgqrV0+tjop067m6KlZrpcoeI/F1hqXw+09La2sY70yGN4VjXdAB/Eo/hzS+Cbb/hObLUNK1orLJBCrQXbqGlj5xjcece1eezRmGZ42IJRiCQcg16F8IdVW31u404wKftUTN5v8Q2jOPpUVqSpUG6e+5dGq6teKqbbC+HW8M+B9duJ9Q1T7feQApGsEJKg9+fWu88NeP9P8WyT2VtHJa3OwlFkIO4Y6jFeCTxxtqEkdozPGZCI2bqRnjNd94G8E+IbHxlbXN1aS2kNs+ZJGGA49B65rPE4em4uc5e9br/ka4XEVVNQpx92/T/Myh8OPElzr8lrNaSANIS12w+RvfNT6R4A8SW3iyGMWssKQTBvtWCEKg9QfpXreueNdE8O3aW2p3JWZxnYi7io9T6VtWt1De2sdzayCSGVdyOp4Irkljq6jdx0Z1xwGHcrKWqPPvir4Vg1GxfW0nEdxZw7WQ871zwPrljXGfCjVl0/xels0CsbxTH5p6pjn8jj+VVPFFlr9x46uI7iOeS5eYiHgkFM/Lj2xUPirw1faJ4hVLezkiWRUaIxgn5tozg/72a7aVNex9jKV7rQ4qtR+39vCNrPU+iq8/wDiB8Pf7eSK60OC3hu0J8xQoTzs9yfUYrq/DC3y+GLAaqWN2Ih5u7rnt+mK1a8OFSVCpeL2PdnThXp2mtzj/h14SuvCuk3C37qZ7lwzIpyEwD3/ABrsKKp6vqltoulT6hfNthhXLH17Afiamc5Vp8z3ZUIQo0+VbINW0u11rS5rC+TfBMuGHp6GvHvHfgPSvCegx3Fvczy3E021PMxjGORxXfeFviLp3ijUmsYoJLafBZFkIO8DrWz4j8OWXifSzZagGCg7kdfvIfUV1UalTC1FGd0uqOWtTp4qm5Qs30Z5v8ExF9t1M7287y1Gzttz1/OvXq57wr4N07wlDKtiZJZZfvyyY3EenFdDWWKqRq1XOOxrhKUqVFQluFFFFcx1BXP+Kv8Aj68Pf9heP/0VLXQVz/ir/j68Pf8AYXj/APRUtAHQUUUUAFFFFABRRRQBz+kf8jx4i/3LT/0Bq6Cuf0j/AJHjxF/uWn/oDV0FABRRRQAUUUUAFFFcX4n+JeneGtXGntbSXUqgGXYwXy88+nPFaU6c6j5YK7M6lWFKPNN2R2lc3488Q3Phrww97ZIGmaRYlJGQmQTn9K2dL1KDV9Lgv7Nt0M67lP6fzp99Y22pWclrfQrNBIMMjDrRC0JrnW24TvOm+R77M8/+GnjnVfEeo3Nhq5WZkiMqzKgXGCBg447/AKVo+Nvh0niu/ivoLsWtwqhHLLuDKOldHovhvSfD0bppFmtuJDljksT+JJNalbzrqNb2lFWMIYdyo+zrvmPK9U8TL8MLW28P6TbpdTKvnTST5wS3pj6VHq3xjSXQ/L021eK/ljwZCfliPfA712XijwHpXiueOe9MsM8Yx5kJALD0OQa4rxX8JFgtZLzw/Kx8qPJtmG4vjqQa66M8LU5fafF19TirQxdPm9n8PT0OCjPiHxXL5CyXmpvHl9jOz7fpnpXr/wAOfDN5pnhW5tNdjO27Yn7O/wDCpGCCPevGtL1jVPDWoiaxmltpVPzIcgN7Ed69L+HXj7Wdc8Rf2dqzrcJIjMriML5eBnsBXXjYVXTfJblWvmcmBnSVVc9+Z6eR0Wi/DPRdD1oalA00ro26JJCCsZ9v/r1T+JHiu00B7SCTSrTULmRfMT7VGGVBnHHvXe1458X9Zs59Xi0w2ga4tlBafJBAYZ2j8683DOVeuvaanp4pRw+Hfs9DjvFWsw+IdSXVEXyZ5o1WWAD5UKgKNvtgCobHRHvPDeo6mEkP2R0UFfunOd2fpx+daUr+G9YGnadZwzabIoCPdSNvDk8nI47nrXsvh3wZZaF4Zl0eQ/aUuCWuCw4ckAdO3AFepWxMcPBJK3l5HlUcNLEVHJtPz8z5xrR0LR7jXdYgsbVCzSN8xH8K9zXQeP8Aw7ofhm+S00ye4luXHmOrupWME8DpnP41Q8DX8Gl+K7e+vLn7PDAGdv8Appx93/PpXT7XnpOcPkcnsuSsqc++ps+LPhrJ4Y0OTUDfC5/fKioqbdqkHk+vQfnXK6Vod/q5kayt3eKFS8sgHCKBkk/lW1468aP4s1GM26ywWcKYWFnzlsnLfliuk+G/jaws7KPw9qVtj7RIVE4AAYMMBSMc9+fesFOvToc0leR0OGHqV+WLtH8zhdV1HT7uPy7HSobRlI/fLI5ZgBg5BOBnrwKg0vWb/RZpZdMuXt5JYzGzJ12n/wDVXU/Efwdb+G79LjTpB9muD/qi2WRuvT0riK6KThUpprVPuc1VVKVRqWjXYnvL661Cfzr65luZcY3yuWbH1NXfDuqahpGuW9xpLN9oLhQg/wCWmT90jvmsuty00jUbTw//AMJBbowjEvlxyL95CP4h6emaufKo8r66EQ5nLmXTU7XxB8J47S3vtUh1ER2sUTTeUUJYYGcZrm/hnfW9j44tDchj5wMKkHgFhjmuk+Hni7zLW9sfFmoB7GRMI925YsTwVyeTxW2/w10CxsbzULC8cPLC32eSWQbIiRwQfavMdaVNSo13e+iZ6saMako1qCtbVo4XxzBoej+I45vDU6yuWMkiAh44mz93BH6Gp1+LfiU3EDGWHYmA6CFf3nueOPwrL8MeCrzxNqUtvBNHHFCSHnzuH4etdrZ/Bz7DcC6vtTW4ihBcxpEV3Ec9c9K2qSw0EoVXdruY04Ymbc6S5U+xwfiuLVbvXZ9Q1K3kU3QE6kqcBCBtGfYYH4V3/gb4i6Pp+hwaRdpLALWJiJXYESHJJHt1rzzUPFmtahNc+ffzeVcAq0Ac+WF9AvQVp/Dzw1B4l12aC9idrZIGJdTja3GP61VanF0LVdl2IoVZKveju+5qaj8Xdbk1h5dOMcVkpwkLxqdw9ScZp+gfFLxFP4itor6VLm3nlCGIQquMnHBAzxXTaD8IbPTdVNzqdyt/CufLhKYH/AvWun0/wL4c0vURfWWmpHcAkhi7MFz6AnAriqV8HFcsY307HdToY2TUpTtr3Ogooorxz2grO1/RoPEGh3Gm3RKxzKPmXqCDkH8wKTxDrMfh/QLrU5kMiwKDtHckgD9SK880T4y+ffiHWrGOGGRgFlhJ+T3IJOa6aNCrNe0prY5q1ejB+zqPc2fBvw0TwxrB1G4vRcyopWIKu0LkYOfXg1lfEXx/rGg6+NO0llgWNFdpGjDb8jOORXqCsGUMvIIyKydZ8LaN4geN9WslneP7rbip/MEZq4YhSq89dcxnUw7jR9nQfKReD9bm8Q+F7XUbmMRyyAhgBwSDjI+tblRW1tDZ2yW9rEsUUY2qijAAqWuWbTk3FWR1QTUUpO7CiiipLCuf8Vf8fXh7/sLx/wDoqWugrn/FX/H14e/7C8f/AKKloA6CiiigAooooA5rxp4juPDlpYvbG3iF1c+TJc3MbSRwDYzbiqkE5KgcHvVzwtrM2ueGrfUbtI43kBJMeQpAP3gCcgexpniLQ7vVJtPu9NvIra70+cyx+fEZY2yjIQygg9G6gipvD2h/2JoosZpVuXdmeVtm1WZuuF7D2oAo6HPFceNPETwSpKu21G5GBH3G9K6SuY8PWVrY+MvEUVjbQ20e21OyGMIM7G5wK6egDgD8XNIGvfYfs0n2ffs+1bxj67cdPxrvwcivNz8HbE+IPtf21vsXmb/s2zn6bs9Pwr0gDAwK6sR7D3fY/M5MP7f3vbfIKKKK5TrCuC8W/DCHxJrh1KC9NrJIB5ylN27Axkc8cAV3tFaU6s6UuaDszKrShVjyzV0UtG0uDRdHttOtc+VbptBPU85J/MmrtFFQ227s0SSVkeaeLvincaD4jk02wsoZUtyBM02ck9eMEdq73RdTTWdFtdRiUolxGHCntWHr/wAO9E8Q6ot/diaKbjf5LACT65B/Sta8vdM8KaEJJyLezt1CIoH6D3rqqOjOEY0173U5KarQqTlVl7vQ1KKxPDvi3SvFCSHS5XLRfejkXawHrj0rbrmlGUHaSszqjKM1zRd0cN8UPD1rfeFri+hsle+gKsska4YjPOcdeM1474b1DU9M123l0cv9oLhdijO/noRX00wDKQwBB4IPeuU1vxB4U8I30YurSGO6bkfZ7Zd6j1J4xXo4XFSjB0uXmPNxWFjKoq3NynWD7oz1rl/Evw/0jxRepd3pmhnUAM8LAbwPXINYnjH4jwQeHkm8L3cc00r7GcDJh4znBrj7D4v+ILS1EVwlveSbsmWVCCR6fKQKijhcRb2kNGVXxeGv7OpqvwOotvg5Z2+vLdG/d7JH3rAU+b6Fv/rV6PcXEVrA81zIscSDLOxwAKw9I8X2OpeFBrUjLEqxF5Y9wLJtODx9RXBa144j8fafLoOn2slpcSyBoGaTImxn5TwMZpclfES/ebR0fkVz4fDwvT3lql3OQ8Q6VLea7qGoWt1HeWLTl2ukbIQE5AOeeOn4VP4S8Fx+KNVeKHUIxbRcucbZCPULWLqmj6roLC21S3ltTMocIx4YAkZ4/GvR/g34fYGfXpJCB81vHHjr0JP8v1r161R0qDlGXoeNQpqriFGUfU878S6N/wAI/wCIrrTPMMogYAOVxuBGf61RtppbC9guVXEkTrIgYcHByP5V1vxVsJLPxxPLJKHF0iyqvdB0x+hqbXdL0y7+G+l65DPIbqEizf5eHblsH0wO9XCsnTg5a8xnOi1Umo6cpyGpaldatqEl5fStJNIckk9PYe1SSWE9lp0d1cQK0d2CInJztwRk8d/r71Qrv/Cc2mad4G1G48T2Ju7WS4QWsTEqXbDZ2nqPrWlSXs4qy+RnSj7WT5n8zg1ikkVmRSwUZOO1b2meL9a0fQJNOtGUWsrZBkhDgeoG4Ec1ii5aK88+3/d4bKr1AGenvX0Hpll4d8YeF7eT+zoXtW58sJs2uOv3cVhiq0aSXPG6N8JRlVb5JWZ4yuka94vj+32VgJljIiYW8aooOOu0YH1xR4oTWNJhtNB1G4LRW8YYRq+RluSD9M4/CvoKw0yz0mxFrptulvCo+VF/xr5s1q01Wx1aZtWjmW58w7pJATuP171lhsR7ebVkktu5visP9Xgndtvfsd38I9Bvo9aOqSMIrYRsoQtzJn29q7nxn43sfCsccFzA9zNcKSIlbb8vTOa8l+HDX8vjuzFpMwy26f5vvIOua9W8beA4fF7QTC6NrcwrsD7dwK5zjGR61y4qMFik6z0sdWFlN4Vqitbnl7eCY9Z0C413w3O0sSSENZMmXj7kbu+MjtW78H7DVrfWrmWSKWGxMZVw4IDP24P416N4T8M2/hTRRY28jSszGSWQjG9umcduAK26yrY1yjKmtU9ma0cCoyjUejW6MPxf4jHhbw++oGLzX3iOND0LHPX24rn/AAD8Q5vFd9NY39rHDcJGZUaHO0qCAc5J55FdXrumWOr6NPa6qm622l2I6rgdR715f4J8SeFtC8RPZafZ3P8ApD+Ut9PKGJ54GAowCaijThOhK0byRpWqTp143klF9D1TVtWs9E06S91GXyoU6nuT6D3qj4d8W6T4nWQ6XKxaL7ySLtYD1x6VB438NP4q8ONYwyiKVJBLGT0LAEYPtzWF8OvAV54WvLm91KaNppY/KWOI5ULkHOfXgVlGFF0XJv3uxrKdZV1FR93udtqFhb6pp81lexiSCZdrqa86HwXs11dJRqMjWQYEwMnzkem7/wCtXp1FZ069SkmoO1zSrh6VVpzV7CKoRFVeijApaKKxNwooooAKKKKACuf8Vf8AH14e/wCwvH/6KlroK5/xV/x9eHv+wvH/AOipaAOgooooAKKKKACiiigDn9I/5HjxF/uWn/oDV0Fc/pH/ACPHiL/ctP8A0Bq6CgAooooAKKKKACiiigAooooAK5zxx4YbxX4e+xQzCKaOQSxk9CwBGD7YJro6KuE3CSlHdEThGpFxlszgvh34Du/Ctzc3mpTxvPNH5SpESVC5Bzn14rvaKKdWrKrLnluTSpRpQ5IbHlXxL8b61ouvpp+lS/ZY0jVzIEBMme3IrMvfCmsfEDTLbxHbmJbqSPy5opCVDbOAy/WvVdW8O6TrhQ6rYx3Jj+6WyCPxFX7e3htLdILaNYokGFRRgAV1xxUacI+zjaS3ZxywkqlSXtJXi9keReBPhzqCatJL4ksQlmI2QwyH/WEjjoe1dL4l+GOiXOjytpVq1tdQxMYRG/ys3Ubs5zXeV5v47+JN54c17+zNNtoXMaq0rzAnORnAwR2NVCtiMRWvB6/gKdDDYajaa0/E8bSae28yNJJItw2yICRn2IqTT7+40vUIb2yfy54W3I2M4Nei33gibx3FbeI9C8i0W9X9/BKSArqdrFcDnJGa67SPAHhS0trezu4bW8v4l/eM0p3M3X7oNenPG0ox1V31R5VPA1ZS912XR/5HmC+L9Q8R69aR69DFqFu0gX7Ns2gZ44I+b9a9Q8S+MtL8AR22m2th5jFNywRtsCLnGc4PcGty38JaDaaiL620yGO5HRwDx+GcVkeM/h/beLpobn7U1pcxLs8wJvDLnOMZHqa86VehVnFSVor+uh6ccPiKVOTi7yf9dTifGeo+F/Fen2OsS3s9ldsDE0aRCUgDnBGR0z1z3rolsfDlp8IpjEHv7BB5rNna5kJAz7HkVl658HWa1tRoV0nmxrtm+0EqHP8AeGM4+laV/axfD34XvZ3Ua373EuxlP3N7D+Q21rKVOUYQpSb12MowqRnOdWKWm55no/iaPRtPvIbbS7aWef8A1dxOgkaMZ9DwfyrP1PXNR1dIlv5/MSHhEVAir+CgCu4+FNno2r39/a3+nCW4MJcFmygTIBAHY8jvXTeLfhba6jYwL4bjhspoSfkYna4PqeTXXLEUadblkrPucUcNWq0OaLuuxwfhH4dXPiq1+1JqFvBbg4bALup9CvGPzr2zw9odv4d0WHTrQsyR5JZurE9TXlWh+Jrf4aT3GkT27X9w8oN1JHJtWMjjCgjnr7V1GhfFix1nX49OaxktlncJDKZN25j0BGOPzNceLjiKrbWsN0duDlhqNk3aezO7mure2x9onji3dPMcLn86oa7oGn+JtM+yaipeMncjo2GU+oNeS/GEXsfiqIzSMbV4QYFzwMcH9asfCTVNYn8QtbPNNPY+WTJ5jFghxxgnpWKwko0VXjLzNnjIyrPDyjpseheGvAmj+FriSfTxNJM4x5k7Bio9BgCsXWPixp2leIH00Wck6Qv5cs4kA2sDg4GOcfWu+ryvxb4J8NReJvtuo64uni6fzHtjHuLknkgjpk+1Z0HCrUbr3ZriFOjTSoWX9eZ3t14q0SxjtnvdQigF0iyRB85ZSMg8VQ8b+IZ9E8IPqOl7ZXdlVHHIUHPzfpXA+NvAeq6lrUV5oEf2ywlhjSLa4/dKqhR17cZ/GvR/D+gfY/Btpo+rBbopGVlDcg5JOPwzj8KcqdGnGFRO/dCjUrVZTptW7M8v8NfE7VpL9NP11lvrW7bymbaFdd3HGOMc+lct4o09PD/jC8tLF2C20wMTHqOAw/LNe02Xw08O2GsLqMEMu9DuSJnzGp9hjP61Nr3w/wBD8Q6kt9fRzJOMbjC4USfXg11xxlCFS8VZNa+pxzwWInStN3aenoXfCGoT6r4R069uzmaaLLnHUgkf0raqG0tYbG0itrVBHDEu1FHYVNXkTacm1sezBNRSe4UUUVJQUUUUAFFFFABRRRQAVz/ir/j68Pf9heP/ANFS10Fc/wCKv+Prw9/2F4//AEVLQB0FFFFABRRRQBXu7+z0+NXv7uC2RjgNNIEBPpk0+2ure9gE9nPFcRN0kicMp/EVk+L7i3svC97d3FvDO8UeIElQMDK3yoOfVmA/Gn+GdHGieE7PT7fbG8cPJ28BzyTj6mgCvpH/ACPHiL/ctP8A0Bq6CuU8MQ3sPi7xEupXcd3Ni1PmRweUMbGwMbm/PNdXQAUUUUAFFFFABRRRQAUUUUAFFFFABRRRQAUVl6v4l0jQig1a+jtmk+6CCSfwANX4LmK7tVntZFlidco6nINU4ySu1oSpRbsnqS1zniHwLovia7S61GOVZlGC8ThSw9Dwa8eTWfFX/CbAmS5+3+fgwc7evTHTFfQldVWlPCtNS1fY5KNaGLUlKOi7lS20+HTtJFlp0YijjjKxqO3FeE6d4f8AFK+NkBguVu1n3SXBB2kZ5O7pivoGipo4mVLm0vcqvhY1uXW1gryTV/i7fWfieW2trSE2MEpjcODvbBwSD2/KvW65a9+HXh+/1v8AtSe3kExbcyK+EY+pGKMPOjFv2quPEwrTS9i7HSWs4urOG4QELLGrgHsCM1W1jR7PXdNex1GPzIX54OCD6j3q6iLGiogCqowAOwpa502ndHQ0mrSOf0Hwpo3g+3nlsgyBhmSadwSFHbOBxVPUPiV4asrOSaO++1Mh2+VCp3E/jjj3rW8U6VNrfhe+062k8uWdAEY+oIOPxxj8a+f9Z8Ia5oMAm1SxeKIttDhgw/Q8fjXoYalTxDcqstTzcVWqYZKNKGhd1R/+E58SSS6JYNDezksbcyhvNwMkgkDBwOldz4G+F8mn3Vvq2uvtuIXDx2y87SOhJ/pVb4PeGxvm1y7idZIzstiRgEEEMf6fjXrNaYvFOD9jT2Rng8LGovb1d2YviPwppfii3SPVI3zGfkkjbay/jg1Y0PQNP8O2AtNMi2IOSzcsx9Sa0qiubmG0t3nuZFiijGWdjgAV5vPNx5L6dj1PZwUue2vclryX4jeBdc1jxQ2oaXF9qhmVV2hwPKwAO/bjNejaR4l0jXS40m+juWj+8ACCPwIFalaUqs8PO6WvmZVqVPE0+VvTyMbwnpM+h+FrLT7uTzJoUO9ge5JOPwzj8K2a4j4n+JNR8PaNbHSiY3uJCrTAZ2AAfzzVf4WeKNU8QWl5FqzGY2xXZORgtnPB+mP1qpUak6bxD2uTGvThVWHW9jv6KKK5TrCiiigDP1vXLHw/pr32pSFIlOAAMlj6AetZGm+OdN13RdQu9HEjzWcDy/Z5V2scAkdCepqXxt4W/wCEs0H7GkwhmjkEsTN93cARg+2CayPh/wCAZvCklzc6hcRTXE6eXtiyVC5z3A9K64RoexcpP3uxyTlX9soxXu9zjvCnxD8Q3vjK1t7uY3EF1OI2h2gCME4yPpXtVZdn4a0aw1Br2z0+GK5brIo5rUqcRVp1JJwjYeGpVKUWqkrhRRRXMdQUUUUAFc/4q/4+vD3/AGF4/wD0VLXQVz/ir/j68Pf9heP/ANFS0AdBRRRQAUUUUANkjSVNsqK65BwwyMg5H606iigDn9I/5HjxF/uWn/oDV0Fc/pH/ACPHiL/ctP8A0Bq6CgAooooAKKKKACiiigAooooAKKKKACiiigDyz4k+BdZ1vXk1HSY/tSOio0e8KUx35IrtfBeiXHh/wtbafeSCSZMs2DkDJzj8K3qK6J4ic6SpPZHNDDQhVdVbsj+zQed53kx+b/f2Dd+dSUUVznSFFFFAATgZPArGg8X6Dc6sdNg1OJ7sHHl4PX0zjB/OtW5iM9rLEDtMiFc+mRivGNL+FuvweKomnCpaQzCT7UJAdwBz0znJ+ldVCnSmpOpK1tjkxFWrTcVTje+5P4/8c6/p3i6aysLh7SC2xtCj/W5Gcn27V6h4a1CfVfDVjfXcflzTRbnXHQ5xT9Q8P6TqtxHPqNhDcSx/cd15FaCIsaBEUKqjAA7UVatOdOMYxs11CjRqQqynKV0+gtMkijmTZNGsi/3WXIp9Fcp1jUjSJAkaKijoFGAKdRRQAVg+NNEuPEHha50+zkEcz4ZcnAODnH41vUVUJOElJdCZxU4uL6nlnw28C6zomvPqOrR/ZURGRY94YvnvwTXqdFFaVq0q0+eRlQoxoQ5Ila/0+01O1a21C3S4hbqjjIpunaXZaTa/Z9Nto7eLOdqCrdFZczta+hryq/NbUKKKKRQUUUUAFFFFABRRRQAUUUUAFFFFABXP+Kv+Prw9/wBheP8A9FS10Fc/4q/4+vD3/YXj/wDRUtAHQUUUUAFFFFABRRRQBxep6nf+F/Eup6i+h3V7ZX7WkEU0E0I+cnywpDOD9515xitP+39a/wChP1H/AMCrX/47WxqFlbX1qI75Q0UciTcnADIwdT+BUGqmkeIrHXHkGni5ZUGRLJbSRxuPVHYAMPoTQBS/t/Wv+hP1H/wKtf8A47R/b+tf9CfqP/gVa/8Ax2uhooA57+39a/6E/Uf/AAKtf/jtH9v61/0J+o/+BVr/APHa6GigDnv7f1r/AKE/Uf8AwKtf/jtVpfF+pQajbWMnhLUhcXKO8S/abbkJt3c+bx94V1VZGu3mmaOINY1QSZt90MTRRNI37zGQFUEnO0flQBV/t/Wv+hP1H/wKtf8A47R/b+tf9CfqP/gVa/8Ax2tjT7+LUrNbmCO4jRiQFuIHhf8AFWAI/KrNAHPf2/rX/Qn6j/4FWv8A8do/t/Wv+hP1H/wKtf8A47XQ0UAc9/b+tf8AQn6j/wCBVr/8do/t/Wv+hP1H/wACrX/47XQ0UAcrB4v1K4vrqzi8JakZrXZ5q/abYbdwyOfN54qz/b+tf9CfqP8A4FWv/wAdqxrGo6P4Ts7/AF/VJPs0TBDcShSxO0YXAHJPPateORZY1kQ5VgCD7UAYH9v61/0J+o/+BVr/APHaP7f1r/oT9R/8CrX/AOO10NFAHPf2/rX/AEJ+o/8AgVa//HaP7f1r/oT9R/8AAq1/+O10NFAHPf2/rX/Qn6j/AOBVr/8AHarWni/Ur2a7it/CWpM1nN5Ew+02w2vtVsf63nh1rqq59ta0fRNZntZI7qCW9uA8kzWknktIVVR+927M4UDrQAn9v61/0J+o/wDgVa//AB2j+39a/wChP1H/AMCrX/47XQ0UAc9/b+tf9CfqP/gVa/8Ax2j+39a/6E/Uf/Aq1/8AjtdDRQBz39v61/0J+o/+BVr/APHaP7f1r/oT9R/8CrX/AOO10NFAHK6d4v1LVdNt7+y8Jak9vcRiSNjc2wyp6cGXNWf7f1r/AKE/Uf8AwKtf/jtLYa5oumXVv4et1uLfyj9nh8y2kWJiv8KyEbSfYGugoA57+39a/wChP1H/AMCrX/47R/b+tf8AQn6j/wCBVr/8droaKAOe/t/Wv+hP1H/wKtf/AI7R/b+tf9CfqP8A4FWv/wAdroaKAOV1DxfqWl2L3d54S1JIUKhmFzbHGWCjgS+pFWf7f1r/AKE/Uf8AwKtf/jtbGoWlvfWEkF6m+A4Zl9dpDD9QKq6L4hsNfW5OnNMfssxhlWaB4irYB6MASMEc9KAKP9v61/0J+o/+BVr/APHaP7f1r/oT9R/8CrX/AOO10NFAHPf2/rX/AEJ+o/8AgVa//HaP7f1r/oT9R/8AAq1/+O10NFAHPf2/rX/Qn6j/AOBVr/8AHarXHi/Ura9tLWbwlqQmu2ZYV+02x3FVLHnzeOBXVVz/AIh1zQ9H1Czl1h5BcQB5ozHC8nlKQVZ22g7VwSNxwKAE/t/Wv+hP1H/wKtf/AI7R/b+tf9CfqP8A4FWv/wAdroFZXUMhDKRkEd6WgDnv7f1r/oT9R/8AAq1/+O0f2/rX/Qn6j/4FWv8A8droaKAOe/t/Wv8AoT9R/wDAq1/+O1Svpta1rUtGV/Dd3ZQ2t+txLNNc27KqhHHRZCTyw6CuuooAKKKKACiiigApkyu8EixSeVIykK+3O044OO+KfRQBymp+HvEV3o1/bHxIbgz2ssSxmzjjyzIQPmHI5Iqh4GTU4dSWBxqgsY7ILMNQjdAtwGHEe4fdxnpxXdUUAFFFFABRRRQBV1G3u7m0Men3v2GbIIm8oSYHpg8VzWsaNcHSXXxHqt/qlv5isqWFltlRhnDDygWrr6KAOf8ABrai+kT/ANp/atguWFobxSsxhwMbwec53decYroKKKACiiigArN1Wx1O7aM6Zq508KDvAtkl3/8AfXStKigDzXx74Y8VX3h298q8ttYWPT7hVhkhZJGkZCAUVAQWwSAD3xXf6StyukWq36xrciJRIsedobHOM81booAKKKKACiiigDGv9M1u4vXksfEBs4Gxth+xRybeP7x5Nc34ohnv7yxtIotWvNQtJ4ySbaRLOUdS7HHl8Anv1Fd7RQAUUUUAFFFFABWHd6Vrs13JJa+IzbQs2Ui+wxvsHpk8mtyigDhZL241fxxb2eoWOpR2emTAxS/2fII7mb+/vC7QgPOc13VFFABRRRQAUjhmjYI2xiCA2M4PrS0UAYUGl67DcLLc+JGuIVOWhFhGNw9MjmsrwdetL4k8RI+n6lbLcXnnRSXNjLEjqEReGZQDyDxXZUUAFFFFABRRRQAVwviuO7s9dvrhNNu7+O+0trWL7PA0mJM8K2B8oPqeK7qigCjotnJp+hWVnO26WCBI3b1IGKvUUUAFFFFABRRRQAUUUUAf/9k=)\n",
    "\n",
    "To detect outliers, we will first find the centre of the cluster and then flag the furthest 3 points as outliers.\n"
   ]
  },
  {
   "cell_type": "markdown",
   "metadata": {
    "id": "p-vjT5Z5VNay"
   },
   "source": [
    "We will apply k-Means clustering to detect the center and then use the ```transform()``` method to calculate the distance of every point to the center of the cluster. \n",
    "\n",
    "First perform k-means clustering on the data with n_clusters=1.\n",
    "\n",
    "<details>\n",
    "    <summary>Click here to see code</summary>\n",
    "    \n",
    "```python\n",
    "from sklearn.cluster import KMeans\n",
    "kmeans = KMeans(n_clusters=1).fit(data)\n",
    "\n",
    "```"
   ]
  },
  {
   "cell_type": "code",
   "execution_count": null,
   "metadata": {
    "id": "erFaXVcuVNay"
   },
   "outputs": [],
   "source": [
    "#Enter your codes here\n"
   ]
  },
  {
   "cell_type": "markdown",
   "metadata": {},
   "source": [
    "We can then calculate the distance of every point to the center of the cluster"
   ]
  },
  {
   "cell_type": "code",
   "execution_count": null,
   "metadata": {
    "tags": []
   },
   "outputs": [],
   "source": [
    "distance_to_center = kmeans.transform(data)\n",
    "print(distance_to_center)\n"
   ]
  },
  {
   "cell_type": "markdown",
   "metadata": {
    "id": "MRCkkbanVNaz"
   },
   "source": [
    "Run the following codes to get 3 points with the largest distances from the centroid using ```argpartition``` and prints them out:\n"
   ]
  },
  {
   "cell_type": "code",
   "execution_count": null,
   "metadata": {
    "id": "oBLpsmKKVNaz",
    "tags": []
   },
   "outputs": [],
   "source": [
    "#Get the 3 largest elements\n",
    "#The argparition function with argument -2 divides the array \n",
    "#into 2 partitions with 3 largest elements at the end. Note this is not a sort function\n",
    "#https://docs.scipy.org/doc/numpy/reference/generated/numpy.argpartition.html\n",
    "outliers_index = np.argpartition(distance_to_center, -3, axis=0)[-3:]\n",
    "print(\"Outliers: \")\n",
    "for idx in outliers_index:\n",
    "    print(\"Index: {0}, Distance: {1}\".format(idx[0], distance_to_center[idx][0][0]))"
   ]
  },
  {
   "cell_type": "code",
   "execution_count": null,
   "metadata": {
    "tags": []
   },
   "outputs": [],
   "source": [
    "#Alternatively, we can also reshape the array as below\n",
    "\n",
    "distance_to_center2=distance_to_center.reshape(-1)\n",
    "outliers_index2=distance_to_center2.argsort()[-3:]\n",
    "print(\"Outliers: \")\n",
    "for idx in outliers_index2:\n",
    "    print(\"Index: {0}, Distance: {1}\".format(idx, distance_to_center2[idx]))"
   ]
  },
  {
   "cell_type": "markdown",
   "metadata": {
    "id": "Jyc5INEoVNaz"
   },
   "source": [
    "You should get the output as shown below:\n",
    "\n",
    "```\n",
    "Outliers: \n",
    "Index: 0, Distance: 3.258497249471047\n",
    "Index: 432, Distance: 3.4158213150967067\n",
    "Index: 96, Distance: 3.8494286443498136\n",
    "```"
   ]
  },
  {
   "cell_type": "markdown",
   "metadata": {
    "id": "WOIm-lysVNaz"
   },
   "source": [
    "## Visualizing Outliers\n",
    "\n",
    "Run the following codes to plot the data points, centroid of the cluster as well as highlight the outliers:\n",
    "\n"
   ]
  },
  {
   "cell_type": "code",
   "execution_count": null,
   "metadata": {
    "id": "dlx4AnfUVNaz",
    "tags": []
   },
   "outputs": [],
   "source": [
    "#The outliers variable contains the x an y coordinates of the 3 outliers\n",
    "#outliers = data[outliers_index][:,0]\n",
    "outliers = data[outliers_index2]\n",
    "\n",
    "#Plot the figure using scatter plot\n",
    "plt.figure()\n",
    "plt.scatter(data[:, 0], data[:, 1], label=\"Data Points\", s=10)\n",
    "plt.scatter(kmeans.cluster_centers_[:, 0], kmeans.cluster_centers_[0, 1], label=\"Centroids\", marker=\"*\")\n",
    "plt.scatter(outliers[:,0], outliers[:,1], label=\"Outliers\", edgecolors=\"g\", facecolors=\"none\", s=50)\n",
    "plt.legend()\n",
    "plt.show()"
   ]
  },
  {
   "cell_type": "markdown",
   "metadata": {
    "id": "2DyORkZnVNaz"
   },
   "source": [
    "You should see a scatter plot similar to the one shown below:\n",
    "\n",
    "![outlier_centroid.jpg](data:image/jpeg;base64,/9j/4AAQSkZJRgABAQEAYABgAAD/4RD0RXhpZgAATU0AKgAAAAgABAE7AAIAAAAOAAAISodpAAQAAAABAAAIWJydAAEAAAAcAAAQ0OocAAcAAAgMAAAAPgAAAAAc6gAAAAgAAAAAAAAAAAAAAAAAAAAAAAAAAAAAAAAAAAAAAAAAAAAAAAAAAAAAAAAAAAAAAAAAAAAAAAAAAAAAAAAAAAAAAAAAAAAAAAAAAAAAAAAAAAAAAAAAAAAAAAAAAAAAAAAAAAAAAAAAAAAAAAAAAAAAAAAAAAAAAAAAAAAAAAAAAAAAAAAAAAAAAAAAAAAAAAAAAAAAAAAAAAAAAAAAAAAAAAAAAAAAAAAAAAAAAAAAAAAAAAAAAAAAAAAAAAAAAAAAAAAAAAAAAAAAAAAAAAAAAAAAAAAAAAAAAAAAAAAAAAAAAAAAAAAAAAAAAAAAAAAAAAAAAAAAAAAAAAAAAAAAAAAAAAAAAAAAAAAAAAAAAAAAAAAAAAAAAAAAAAAAAAAAAAAAAAAAAAAAAAAAAAAAAAAAAAAAAAAAAAAAAAAAAAAAAAAAAAAAAAAAAAAAAAAAAAAAAAAAAAAAAAAAAAAAAAAAAAAAAAAAAAAAAAAAAAAAAAAAAAAAAAAAAAAAAAAAAAAAAAAAAAAAAAAAAAAAAAAAAAAAAAAAAAAAAAAAAAAAAAAAAAAAAAAAAAAAAAAAAAAAAAAAAAAAAAAAAAAAAAAAAAAAAAAAAAAAAAAAAAAAAAAAAAAAAAAAAAAAAAAAAAAAAAAAAAAAAAAAAAAAAAAAAAAAAAAAAAAAAAAAAAAAAAAAAAAAAAAAAAAAAAAAAAAAAAAAAAAAAAAAAAAAAAAAAAAAAAAAAAAAAAAAAAAAAAAAAAAAAAAAAAAAAAAAAAAAAAAAAAAAAAAAAAAAAAAAAAAAAAAAAAAAAAAAAAAAAAAAAAAAAAAAAAAAAAAAAAAAAAAAAAAAAAAAAAAAAAAAAAAAAAAAAAAAAAAAAAAAAAAAAAAAAAAAAAAAAAAAAAAAAAAAAAAAAAAAAAAAAAAAAAAAAAAAAAAAAAAAAAAAAAAAAAAAAAAAAAAAAAAAAAAAAAAAAAAAAAAAAAAAAAAAAAAAAAAAAAAAAAAAAAAAAAAAAAAAAAAAAAAAAAAAAAAAAAAAAAAAAAAAAAAAAAAAAAAAAAAAAAAAAAAAAAAAAAAAAAAAAAAAAAAAAAAAAAAAAAAAAAAAAAAAAAAAAAAAAAAAAAAAAAAAAAAAAAAAAAAAAAAAAAAAAAAAAAAAAAAAAAAAAAAAAAAAAAAAAAAAAAAAAAAAAAAAAAAAAAAAAAAAAAAAAAAAAAAAAAAAAAAAAAAAAAAAAAAAAAAAAAAAAAAAAAAAAAAAAAAAAAAAAAAAAAAAAAAAAAAAAAAAAAAAAAAAAAAAAAAAAAAAAAAAAAAAAAAAAAAAAAAAAAAAAAAAAAAAAAAAAAAAAAAAAAAAAAAAAAAAAAAAAAAAAAAAAAAAAAAAAAAAAAAAAAAAAAAAAAAAAAAAAAAAAAAAAAAAAAAAAAAAAAAAAAAAAAAAAAAAAAAAAAAAAAAAAAAAAAAAAAAAAAAAAAAAAAAAAAAAAAAAAAAAAAAAAAAAAAAAAAAAAAAAAAAAAAAAAAAAAAAAAAAAAAAAAAAAAAAAAAAAAAAAAAAAAAAAAAAAAAAAAAAAAAAAAAAAAAAAAAAAAAAAAAAAAAAAAAAAAAAAAAAAAAAAAAAAAAAAAAAAAAAAAAAAAAAAAAAAAAAAAAAAAAAAAAAAAAAAAAAAAAAAAAAAAAAAAAAAAAAAAAAAAAAAAAAAAAAAAAAAAAAAAAAAAAAAAAAAAAAAAAAAAAAAAAAAAAAAAAAAAAAAAAAAAAAAAAAAAAAAAAAAAAAAAAAAAAAAAAAAAAAAAAAAAAAAAAAAAAAAAAAAAAAAAAAAAAAAAAAAAAAAAAAAAAAAAAAAAAAAAAAAAAAAAAAAAAAAAAAAAAAAAAAAAAAAAAAAAAAAAAAAAAAAAAAAAAAAAAAAAAAAAAAAAAAAAAAAAAAAAAAAAAAAAAAAAAAAAAAAAAAAAAAAAAAAAAAAAAAAAAAAAAAAAAAAAAAAAAAAAAAAAAAAAAAAAAAAAAAAAAAAAAAAAAAAAAAAAAAAAAAAAAAAAAAAAAAAAAAAAAAAAAAAAAAAAAAAAAAAAAAAAAAAAAAAAAAAAAAAAAAAAAAAAAAAAAAAAAAAAAAAAAAAAAAAAAAAAAAAAAAAAAAAAAAAAAAAAAAAAAAAAAAAAAAAAAAAAAAAAAAAAAAAAAAAAAAAAAAAAAAAAAAAAAAAAAAAAAAAAAAAAAAAAAAAAAAAAAAAAAAAAAAAAAAAAAAAAAAAAAAAAAAAAAAAAAAAAAAAAAAAAAAAAAAAAAAAAAAAAAAAAAAAAAAAAAAAAAAAAAAAAAAAAAAAAAAAAAAAAAAAAAAAAAAAAAAAAAAAAAAAAAAAAAAAAAAAAAAAAAAAAAAAAAAAAAAAAAAAAAAAAAAAAAAAAAAAAAAAAAAAAAAAAAAAAAAAAAAAAAAAAAAAAAAAAAAAAAAAAAAAAAAAAAAAAAAAAAAAAAAAAAAAAAAAAAAAAAAAAAAAAAAAAAAAAAAAAAAAAAAAAAAAAAAAAAAAAAAAAAAAAAAAAAAAAAAAAAAAAAAAAAAAAAAAAAAAAAAAAAAAAAAAAAAAAAAAAAAAAAAAAAAAAAAAAAAAAAAAAAAAAAAAAAAAAAAAAAAAAAAAAAAAAAAAAAAAAAAAAAAAAAAAAAAAAAAAAAAAAAAAAAAAAAAAAAAAAAAAAAAAAAAAAAAAAAAAAAAAAAAAAAAAAAAAAAAAAAAAAAAAAAAAAAAAAAAAAENoZWUgWW9uZyBMYXcAAAWQAwACAAAAFAAAEKaQBAACAAAAFAAAELqSkQACAAAAAzkyAACSkgACAAAAAzkyAADqHAAHAAAIDAAACJoAAAAAHOoAAAAIAAAAAAAAAAAAAAAAAAAAAAAAAAAAAAAAAAAAAAAAAAAAAAAAAAAAAAAAAAAAAAAAAAAAAAAAAAAAAAAAAAAAAAAAAAAAAAAAAAAAAAAAAAAAAAAAAAAAAAAAAAAAAAAAAAAAAAAAAAAAAAAAAAAAAAAAAAAAAAAAAAAAAAAAAAAAAAAAAAAAAAAAAAAAAAAAAAAAAAAAAAAAAAAAAAAAAAAAAAAAAAAAAAAAAAAAAAAAAAAAAAAAAAAAAAAAAAAAAAAAAAAAAAAAAAAAAAAAAAAAAAAAAAAAAAAAAAAAAAAAAAAAAAAAAAAAAAAAAAAAAAAAAAAAAAAAAAAAAAAAAAAAAAAAAAAAAAAAAAAAAAAAAAAAAAAAAAAAAAAAAAAAAAAAAAAAAAAAAAAAAAAAAAAAAAAAAAAAAAAAAAAAAAAAAAAAAAAAAAAAAAAAAAAAAAAAAAAAAAAAAAAAAAAAAAAAAAAAAAAAAAAAAAAAAAAAAAAAAAAAAAAAAAAAAAAAAAAAAAAAAAAAAAAAAAAAAAAAAAAAAAAAAAAAAAAAAAAAAAAAAAAAAAAAAAAAAAAAAAAAAAAAAAAAAAAAAAAAAAAAAAAAAAAAAAAAAAAAAAAAAAAAAAAAAAAAAAAAAAAAAAAAAAAAAAAAAAAAAAAAAAAAAAAAAAAAAAAAAAAAAAAAAAAAAAAAAAAAAAAAAAAAAAAAAAAAAAAAAAAAAAAAAAAAAAAAAAAAAAAAAAAAAAAAAAAAAAAAAAAAAAAAAAAAAAAAAAAAAAAAAAAAAAAAAAAAAAAAAAAAAAAAAAAAAAAAAAAAAAAAAAAAAAAAAAAAAAAAAAAAAAAAAAAAAAAAAAAAAAAAAAAAAAAAAAAAAAAAAAAAAAAAAAAAAAAAAAAAAAAAAAAAAAAAAAAAAAAAAAAAAAAAAAAAAAAAAAAAAAAAAAAAAAAAAAAAAAAAAAAAAAAAAAAAAAAAAAAAAAAAAAAAAAAAAAAAAAAAAAAAAAAAAAAAAAAAAAAAAAAAAAAAAAAAAAAAAAAAAAAAAAAAAAAAAAAAAAAAAAAAAAAAAAAAAAAAAAAAAAAAAAAAAAAAAAAAAAAAAAAAAAAAAAAAAAAAAAAAAAAAAAAAAAAAAAAAAAAAAAAAAAAAAAAAAAAAAAAAAAAAAAAAAAAAAAAAAAAAAAAAAAAAAAAAAAAAAAAAAAAAAAAAAAAAAAAAAAAAAAAAAAAAAAAAAAAAAAAAAAAAAAAAAAAAAAAAAAAAAAAAAAAAAAAAAAAAAAAAAAAAAAAAAAAAAAAAAAAAAAAAAAAAAAAAAAAAAAAAAAAAAAAAAAAAAAAAAAAAAAAAAAAAAAAAAAAAAAAAAAAAAAAAAAAAAAAAAAAAAAAAAAAAAAAAAAAAAAAAAAAAAAAAAAAAAAAAAAAAAAAAAAAAAAAAAAAAAAAAAAAAAAAAAAAAAAAAAAAAAAAAAAAAAAAAAAAAAAAAAAAAAAAAAAAAAAAAAAAAAAAAAAAAAAAAAAAAAAAAAAAAAAAAAAAAAAAAAAAAAAAAAAAAAAAAAAAAAAAAAAAAAAAAAAAAAAAAAAAAAAAAAAAAAAAAAAAAAAAAAAAAAAAAAAAAAAAAAAAAAAAAAAAAAAAAAAAAAAAAAAAAAAAAAAAAAAAAAAAAAAAAAAAAAAAAAAAAAAAAAAAAAAAAAAAAAAAAAAAAAAAAAAAAAAAAAAAAAAAAAAAAAAAAAAAAAAAAAAAAAAAAAAAAAAAAAAAAAAAAAAAAAAAAAAAAAAAAAAAAAAAAAAAAAAAAAAAAAAAAAAAAAAAAAAAAAAAAAAAAAAAAAAAAAAAAAAAAAAAAAAAAAAAAAAAAAAAAAAAAAAAAAAAAAAAAAAAAAAAAAAAAAAAAAAAAAAAAAAAAAAAAAAAAAAAAAAAAAAAAAAAAAAAAAAAAAAAAAAAAAAAAAAAAAAAAAAAAAAAAAAAAAAAAAAAAAAAAAAAAAAAAAAAAAAAAAAAAAAAAAAAAAAAAAAAAAAAAAAAAAAAAAAAAAAAAAAAAAAAAAAAAAAAAAAAAAAAAAAAAAAAAAAAAAAAAAAAAAAAAAAAAAAAAAAAAAAAAAAAAAAAAAAAAAAAAAAAAAAAAAAAAAAAAAAAAAAAAAAAAAAAAAAAAAAAAAAAAAAAAAAAAAAAAAAAAAAAAAAAAAAAAAAAAAAAAAAAAAAAAAAAAAAAAAAAAAAAAAAAAAAAAAAAAAAAAAAAAAAAAAAAAAAAAAAAAAAAAAAAAAAAAAAAAAAAAAAAAAAAAAAAAAAAAAAAAAAAAAAAAAAAAAAAAAAAAAAAAAAAAAAAAAAAAAAAAAAAAAAAAAAAAAAAAAAAAAAAAAAAAAAAAAAAAAAAAAAAAAAAAAAAAAAAAAAAAAAAAAAAAAAAAAAAAAAAAAAAAAAAAAAAAAAAAAAAAAAAAAAAAAAAAAAAAAAAAAAAAAAAAAAAAAAAAAAAAAAAAAAAAAAAAAAAAAAAAAAAAAAAAAAAAAAAAAAAAAAAAAAAAAAAAAAAAAAAAAAAAAAAAAAAAAAAAAAAAAAAAAAAAAAAAAAAAAAAAAAAAAAAAAAAAAAAAAAAAAAAAAAAAAAAAAAAAAAAAAAAAAAAAAAAAAAAAAAAAAAAAAAAAAAAAAAAAAAAAAAAAAAAAAAAAAAAAAAAAAAAAAAAAAAAAAAAAAAAAAAAAAAAAAAAAAAAAAAAAAAAAAAAAAAAAAAAAAAAAAAAAAAAAAAAyMDIwOjA3OjI2IDEzOjExOjMzADIwMjA6MDc6MjYgMTM6MTE6MzMAAABDAGgAZQBlACAAWQBvAG4AZwAgAEwAYQB3AAAA/+ELIGh0dHA6Ly9ucy5hZG9iZS5jb20veGFwLzEuMC8APD94cGFja2V0IGJlZ2luPSfvu78nIGlkPSdXNU0wTXBDZWhpSHpyZVN6TlRjemtjOWQnPz4NCjx4OnhtcG1ldGEgeG1sbnM6eD0iYWRvYmU6bnM6bWV0YS8iPjxyZGY6UkRGIHhtbG5zOnJkZj0iaHR0cDovL3d3dy53My5vcmcvMTk5OS8wMi8yMi1yZGYtc3ludGF4LW5zIyI+PHJkZjpEZXNjcmlwdGlvbiByZGY6YWJvdXQ9InV1aWQ6ZmFmNWJkZDUtYmEzZC0xMWRhLWFkMzEtZDMzZDc1MTgyZjFiIiB4bWxuczpkYz0iaHR0cDovL3B1cmwub3JnL2RjL2VsZW1lbnRzLzEuMS8iLz48cmRmOkRlc2NyaXB0aW9uIHJkZjphYm91dD0idXVpZDpmYWY1YmRkNS1iYTNkLTExZGEtYWQzMS1kMzNkNzUxODJmMWIiIHhtbG5zOnhtcD0iaHR0cDovL25zLmFkb2JlLmNvbS94YXAvMS4wLyI+PHhtcDpDcmVhdGVEYXRlPjIwMjAtMDctMjZUMTM6MTE6MzMuOTI0PC94bXA6Q3JlYXRlRGF0ZT48L3JkZjpEZXNjcmlwdGlvbj48cmRmOkRlc2NyaXB0aW9uIHJkZjphYm91dD0idXVpZDpmYWY1YmRkNS1iYTNkLTExZGEtYWQzMS1kMzNkNzUxODJmMWIiIHhtbG5zOmRjPSJodHRwOi8vcHVybC5vcmcvZGMvZWxlbWVudHMvMS4xLyI+PGRjOmNyZWF0b3I+PHJkZjpTZXEgeG1sbnM6cmRmPSJodHRwOi8vd3d3LnczLm9yZy8xOTk5LzAyLzIyLXJkZi1zeW50YXgtbnMjIj48cmRmOmxpPkNoZWUgWW9uZyBMYXc8L3JkZjpsaT48L3JkZjpTZXE+DQoJCQk8L2RjOmNyZWF0b3I+PC9yZGY6RGVzY3JpcHRpb24+PC9yZGY6UkRGPjwveDp4bXBtZXRhPg0KICAgICAgICAgICAgICAgICAgICAgICAgICAgICAgICAgICAgICAgICAgICAgICAgICAgICAgICAgICAgICAgICAgICAgICAgICAgICAgICAgICAgICAgICAgICAgICAgICAgIAogICAgICAgICAgICAgICAgICAgICAgICAgICAgICAgICAgICAgICAgICAgICAgICAgICAgICAgICAgICAgICAgICAgICAgICAgICAgICAgICAgICAgICAgICAgICAgICAgICAgCiAgICAgICAgICAgICAgICAgICAgICAgICAgICAgICAgICAgICAgICAgICAgICAgICAgICAgICAgICAgICAgICAgICAgICAgICAgICAgICAgICAgICAgICAgICAgICAgICAgICAKICAgICAgICAgICAgICAgICAgICAgICAgICAgICAgICAgICAgICAgICAgICAgICAgICAgICAgICAgICAgICAgICAgICAgICAgICAgICAgICAgICAgICAgICAgICAgICAgICAgIAogICAgICAgICAgICAgICAgICAgICAgICAgICAgICAgICAgICAgICAgICAgICAgICAgICAgICAgICAgICAgICAgICAgICAgICAgICAgICAgICAgICAgICAgICAgICAgICAgICAgCiAgICAgICAgICAgICAgICAgICAgICAgICAgICAgICAgICAgICAgICAgICAgICAgICAgICAgICAgICAgICAgICAgICAgICAgICAgICAgICAgICAgICAgICAgICAgICAgICAgICAKICAgICAgICAgICAgICAgICAgICAgICAgICAgICAgICAgICAgICAgICAgICAgICAgICAgICAgICAgICAgICAgICAgICAgICAgICAgICAgICAgICAgICAgICAgICAgICAgICAgIAogICAgICAgICAgICAgICAgICAgICAgICAgICAgICAgICAgICAgICAgICAgICAgICAgICAgICAgICAgICAgICAgICAgICAgICAgICAgICAgICAgICAgICAgICAgICAgICAgICAgCiAgICAgICAgICAgICAgICAgICAgICAgICAgICAgICAgICAgICAgICAgICAgICAgICAgICAgICAgICAgICAgICAgICAgICAgICAgICAgICAgICAgICAgICAgICAgICAgICAgICAKICAgICAgICAgICAgICAgICAgICAgICAgICAgICAgICAgICAgICAgICAgICAgICAgICAgICAgICAgICAgICAgICAgICAgICAgICAgICAgICAgICAgICAgICAgICAgICAgICAgIAogICAgICAgICAgICAgICAgICAgICAgICAgICAgICAgICAgICAgICAgICAgICAgICAgICAgICAgICAgICAgICAgICAgICAgICAgICAgICAgICAgICAgICAgICAgICAgICAgICAgCiAgICAgICAgICAgICAgICAgICAgICAgICAgICAgICAgICAgICAgICAgICAgICAgICAgICAgICAgICAgICAgICAgICAgICAgICAgICAgICAgICAgICAgICAgICAgICAgICAgICAKICAgICAgICAgICAgICAgICAgICAgICAgICAgICAgICAgICAgICAgICAgICAgICAgICAgICAgICAgICAgICAgICAgICAgICAgICAgICAgICAgICAgICAgICAgICAgICAgICAgIAogICAgICAgICAgICAgICAgICAgICAgICAgICAgICAgICAgICAgICAgICAgICAgICAgICAgICAgICAgICAgICAgICAgICAgICAgICAgICAgICAgICAgICAgICAgICAgICAgICAgCiAgICAgICAgICAgICAgICAgICAgICAgICAgICAgICAgICAgICAgICAgICAgICAgICAgICAgICAgICAgICAgICAgICAgICAgICAgICAgICAgICAgICAgICAgICAgICAgICAgICAKICAgICAgICAgICAgICAgICAgICAgICAgICAgICAgICAgICAgICAgICAgICAgICAgICAgICAgICAgICAgICAgICAgICAgICAgICAgICAgICAgICAgICAgICAgICAgICAgICAgIAogICAgICAgICAgICAgICAgICAgICAgICAgICAgICAgICAgICAgICAgICAgICAgICAgICAgICAgICAgICAgICAgICAgICAgICAgICAgICAgICAgICAgICAgICAgICAgICAgICAgCiAgICAgICAgICAgICAgICAgICAgICAgICAgICAgICAgICAgICAgICAgICAgICAgICAgICAgICAgICAgICAgICAgICAgICAgICAgICAgICAgICAgICAgICAgICAgICAgICAgICAKICAgICAgICAgICAgICAgICAgICAgICAgICAgICAgICAgICAgICAgICAgICAgICAgICAgICAgICAgICAgICAgICAgICAgICAgICAgICAgICAgICAgICAgICAgICAgICAgICAgIAogICAgICAgICAgICAgICAgICAgICAgICAgICAgICAgICAgICAgICAgICAgICAgICAgICAgICAgICAgICAgICAgICAgICAgICAgICAgICAgICAgICAgICAgICAgICAgICAgICAgCiAgICAgICAgICAgICAgICAgICAgICAgICAgICA8P3hwYWNrZXQgZW5kPSd3Jz8+/9sAQwAHBQUGBQQHBgUGCAcHCAoRCwoJCQoVDxAMERgVGhkYFRgXGx4nIRsdJR0XGCIuIiUoKSssKxogLzMvKjInKisq/9sAQwEHCAgKCQoUCwsUKhwYHCoqKioqKioqKioqKioqKioqKioqKioqKioqKioqKioqKioqKioqKioqKioqKioqKioq/8AAEQgBHAGrAwEiAAIRAQMRAf/EAB8AAAEFAQEBAQEBAAAAAAAAAAABAgMEBQYHCAkKC//EALUQAAIBAwMCBAMFBQQEAAABfQECAwAEEQUSITFBBhNRYQcicRQygZGhCCNCscEVUtHwJDNicoIJChYXGBkaJSYnKCkqNDU2Nzg5OkNERUZHSElKU1RVVldYWVpjZGVmZ2hpanN0dXZ3eHl6g4SFhoeIiYqSk5SVlpeYmZqio6Slpqeoqaqys7S1tre4ubrCw8TFxsfIycrS09TV1tfY2drh4uPk5ebn6Onq8fLz9PX29/j5+v/EAB8BAAMBAQEBAQEBAQEAAAAAAAABAgMEBQYHCAkKC//EALURAAIBAgQEAwQHBQQEAAECdwABAgMRBAUhMQYSQVEHYXETIjKBCBRCkaGxwQkjM1LwFWJy0QoWJDThJfEXGBkaJicoKSo1Njc4OTpDREVGR0hJSlNUVVZXWFlaY2RlZmdoaWpzdHV2d3h5eoKDhIWGh4iJipKTlJWWl5iZmqKjpKWmp6ipqrKztLW2t7i5usLDxMXGx8jJytLT1NXW19jZ2uLj5OXm5+jp6vLz9PX29/j5+v/aAAwDAQACEQMRAD8A+kaKKKACis1vEOmLrx0Zrki/EZk8nyn5UAEkNjaeCOM5puneJNL1W8ktbK4Zp4xuMckLxkjOMjcoyPpQBqUVW1O4e00m7uIceZDA7ruGRkKSK57TIfFmoaRZ3jeINOQ3ECSlRpLHbuUHH+u96AOqorn/AOzfFf8A0Men/wDgpb/49R/Zviv/AKGPT/8AwUt/8eoA6Ciuf/s3xX/0Men/APgpb/49R/Zviv8A6GPT/wDwUt/8eoA6Ciuf/s3xX/0Men/+Clv/AI9R/Zviv/oY9P8A/BS3/wAeoA6Ciuf/ALN8V/8AQx6f/wCClv8A49R/Zviv/oY9P/8ABS3/AMeoA6Ciuf8A7N8V/wDQx6f/AOClv/j1H9m+K/8AoY9P/wDBS3/x6gDoKK5/+zfFf/Qx6f8A+Clv/j1H9m+K/wDoY9P/APBS3/x6gDoKK5/+zfFf/Qx6f/4KW/8Aj1H9m+K/+hj0/wD8FLf/AB6gDoKK5/8As3xX/wBDHp//AIKW/wDj1H9m+K/+hj0//wAFLf8Ax6gDoKK5/wDs3xX/ANDHp/8A4KW/+PUf2b4r/wChj0//AMFLf/HqAOgorn/7N8V/9DHp/wD4KW/+PUf2b4r/AOhj0/8A8FLf/HqAOgorn/7N8V/9DHp//gpb/wCPUf2b4r/6GPT/APwUt/8AHqAOgorn/wCzfFf/AEMen/8Agpb/AOPUf2b4r/6GPT//AAUt/wDHqAOgorn/AOzfFf8A0Men/wDgpb/49R/Zviv/AKGPT/8AwUt/8eoA6Ciuf/s3xX/0Men/APgpb/49R/Zviv8A6GPT/wDwUt/8eoA6Ciuf/s3xX/0Men/+Clv/AI9R/Zviv/oY9P8A/BS3/wAeoA6Ciuf/ALN8V/8AQx6f/wCClv8A49R/Zviv/oY9P/8ABS3/AMeoA6Ciuf8A7N8V/wDQx6f/AOClv/j1H9m+K/8AoY9P/wDBS3/x6gDoKK5/+zfFf/Qx6f8A+Clv/j1H9m+K/wDoY9P/APBS3/x6gDoKK5/+zfFf/Qx6f/4KW/8Aj1H9m+K/+hj0/wD8FLf/AB6gDoKK5/8As3xX/wBDHp//AIKW/wDj1H9m+K/+hj0//wAFLf8Ax6gDoKK5/wDs3xX/ANDHp/8A4KW/+PUf2b4r/wChj0//AMFLf/HqAOgorn/7N8V/9DHp/wD4KW/+PUf2b4r/AOhj0/8A8FLf/HqAOgorn/7N8V/9DHp//gpb/wCPUf2b4r/6GPT/APwUt/8AHqAOgorA8OXuqS6lrFhrF1b3T2M0axywW5hyGiV+VLN3PrW/QAUUUUAcTrurWlr8S9GDx3R8iCdZXjs5XVS6rt+ZVI5x61Ho7x3/AMRP7Q099Qu7c2rLM97A8a2x3cJHuVcg8569BzXdUUAY3iuwa/8ADt4Fvbq08uCRs2zhd/yng5B4qbw3/wAippP/AF5Q/wDoAqXW/wDkX9R/69Zf/QDUfhv/AJFXSf8Aryh/9AFAGlRRRQAUUUUAFFFFABRRRQAUUUUAFFFFABRRRQAUUUUAFFFFABRRRQAUUUUAFFFFABRRRQB5frfja7t7qCU3k8BuZXSCGGMFECtty+TliT2GOK77w9qbaxoFrfSLseVTuHuCR/SszUPA2m6hdmZpbiJGfe8UbAKW7kccZroLW2hsrWO3tkCRRrtVR2FSkrLTXrrv/kclGFWM25vQloooqjrCiiigCvIgluwj5KhN2M98077HB/c/8eNH/L//ANsv61NQBD9jg/uf+PGj7HB/c/8AHjXKxXnio/EOS3ktwNGxw/GMY659a7CtJw5La7mcKnPfTYh+xwf3P/HjWBa+K/DF5di3gu33tK0Ks8EyRs6sVKh2UKTkEde1dLXlEMzX/gQ+GbawvW1V9SnIElnJGkI+2PJv8xlC42+hPWszQ9Qa1t1Usy4AGSdxqK1WyvbdZ7UiWJ87XVjg4OD+ory66TUrjx5bvHbXEUk2oPbXUKWcu0wGFsO0xO0gkDgDj1qKGyhtPB1hpdtptzbg3UovZWsp5TE4L7MIMbsg/eB2jvQB6tdiysbKe7u/3cFvG0srksdqqMk8ewqho+s6Hr5caXM0jRqrskkckTbT0OHAJHvWBpY1G7+B86X8dw1++mXSGOSIrIxw4UbeucY4rJvvDV/aadpep6rc3F/G4ghv4ra2aNktghO3YpLN8+zOOcA8UAeivHaRzxwsjb5M7cBiOBnk9B+NJdixsbWS5uysUMY3O7McKK8zS21P7Iv2WC+WzP8AaH2RWRwyxGBvLBB5Bz0B5qDVfDM66LdWVvZ3csV14eeadG3t5lwsibf+B4zx3oA9YFrbsoITIIyPmNN8pYLmLysqGyCM9eK81u4rO31fSrnRrS6u1URJHYTWlzGI/mGXVyuAR1w+K9Mk/wCPi37ct/KgDG0P/kbfE/8A18W//pOldBXP6H/yNvif/r4t/wD0nSugoAKKKKACiiigCjrf/Iv6j/16y/8AoBqPw3/yKuk/9eUP/oAqTW/+Rf1H/r1l/wDQDUfhv/kVdJ/68of/AEAUAaVFFFABRRRQAUUUUAFFFFABRRRQAUUUUAFFFFABRRRQAUUUUAFFFFABRRRQAUUUUAFFFFABRRRQAUUUUAFFFFAEP/L/AP8AbL+tTVD/AMv/AP2y/rUx6cUAFFchF4j1N/FZsjbxbM+VjzPlBHfPr7V19c2HxMMQpcnR2Oivh50Lc/VXCqLa5pKaj9gbVLNb3OPsxuE8z/vnOatzBzC4i4fadv1xxXmllrGl6X4JurctajxJFLOWtpiPtDS+YxDbfvEbcEEDGMV0nOenU15Ej2+Y6ruO1cnGT6V5FFqut/8ACNX08Xii1uDItqMWl6081u7SgNnKjZkHG3tiptdEqXRstQ1q9Wz07WYGN3Jc7WiR4ZM7n7DIGM/3qAPWaZJPFE8ayyojSttjDMAXOCcD1OAT+FeZXF5qS2WvahFrd60FvqkdqjLLlYYD5W5/fhid3bJNNTXNQW/0+LTNRl1KyGsPFb3Dvv8AtC/ZJ22b/wCIBlXkUAenNcQpOkLyxrLICUjLAM2OuB3qSvHbLUGvNc06eHxE0uoNpt48zXEmUspdhwSP4AOuD2Fdj8P9U+3w39u93NeyWzoHuDdi5ickE/u3H6jqKAOxqGX/AI+rf6t/Kpqhl/4+rf6t/KgDF0P/AJG3xP8A9fFv/wCk6V0Fc/of/I2+J/8Ar4t//SdK6CgAooooA5S/W6t/iTpqx6jd/Z762n323mHylKKuCF9eSc1DoRnj8aXVpYale6hY20AW7e5lMipOTkKpPQ4IJA6ZFaeo+EbLU9di1ae71GO4hUpGsN46IoIwQFHHOOaXw/4SsfDWRp1zftGSxMU900iZY5Jwe+SeaAH+LNTi03w7eGaK6l82CRB9ntnmwdp67QcD3NT+GznwppP/AF5Q/wDoAqXW/wDkX9R/69Zf/QDUfhv/AJFXSf8Aryh/9AFAGlRRRQAUUUUAFFFFABRRRQAUUUUAFFFFABRRRQAUUUUAFFFFABRRRQAUUVgJ4y0qTxS2grI32teM7flz6ZqowlK/KtiZTjG3M9zfoooqSgooooAKKKKACiiigAooooAh/wCX/wD7Zf1qaof+X/8A7Zf1ql4jvptN8O3t3a/62KIspIyF96Tdldik1FNs0PJj3Z8tc5znHen1yOoWL6DYw6naapd3E/mIGEsxdbjPbb057YrrqmLvpaxMZuTswqM28Jk8wwxl/wC9tGfzpZiywuYxlwpKj1OK8oubezj+H0viaNh/wka3bgXWcy+aJivlfQKMbfQVZZ6sttAudsMY3dcIOaVoY3BDxowbqCoOa841HxXqd34dsIkvY4p7/TtQklZEGcxEAEDtjJFUppr6zOhT3d79um/4RW/mDSRAA/8AHoQCBwcc8n1oA9V8qPaV2LtbqMcGkWGJAoWNFCnKgKODXnFt4l8VahqIi0a0U29ktssqboVVg4BYncQwGM4wO1W4dU8W32l6re2V1HJJFem2htUhTKoGQlgT95gu7jvQB3Yt4ASRDGC3UhRzTo4o4lxFGqD0VcVk+F9T/tXQ0na5kuZFdo5Hlh8pgw6gr2IrYoAKhl/4+rf6t/Kpqhl/4+rf6t/KgDF0P/kbfE//AF8W/wD6TpXQVz+h/wDI2+J/+vi3/wDSdK6CgAooooAKKKKAKOt/8i/qP/XrL/6Aaj8N/wDIq6T/ANeUP/oAqTW/+Rf1H/r1l/8AQDUfhv8A5FXSf+vKH/0AUAaVFFFABRRRQAUUUUAFFFFABRRRQAUUUUAFFFFABRRRQByvjnQdY12zto9EvjbNHJucbiu4ev4V0dlFLBYwxXEnmyogDv8A3j61PRWjqNwUOxmqaU3PqwooorM0Cs1fD+lrrTastnGL1hgy45rSopqTWwnFPdBWdda/pdnqsOm3N5HHdzDKRk8mtGsDUfBmlan4ig1m5RjcwgcBuGx0zV0+S/vkVOe3uG5NNHbwvNM4SNBuZieAKqaVrWn63bNPpdylxGrbWKnoasXlpFf2UtrcruilUqw9qzPDfhfT/C9nJb6arYlfezOck0Lk5HfcHz86tsbNFFc9c+NdKtfFMWhSM/2mTjcB8oPYVMYSn8KHKcYfE7HQ0UUVJYUUUUAVpJFhvA8rBVMeAT0zmlkubSWNkkliZGGCCRgirFGKAMC00HQLK6jngCZiOYkaTKxf7qngfhWz9stv+e8f/fVTYoxSUVHYmMYx0SIftlt/z3j/AO+qy/7G8N/2v/an2Gx+35z9p2Lvz9a2sUYplGHBofhm2vJLu3sNPjuJN2+VY1DNu+9k+/elg0Xw1bRhLexsI1CSRgLGoG2TbvX6NsXPrtFbeKMUAYlzovhu7uoLm6sbCWe2CiGR0UtGF6AHtipZ9N0G6sZbO4trOW2lk8ySJlBVn/vEevArWxRigCjZLpmm2iWtgLe2t4xhIosKq/QVY+2W3/PeP/vqpsUYoAh+2W3/AD3j/wC+qYZo5rqHyXD7ck7TnHFWcUUAc/of/I2+J/8Ar4t//SdK6Cuf0P8A5G3xP/18W/8A6TpXQUAFFFFAGS/iSyj8SjQ3S5W6aNpFYwny2AAJAboSARxRoviOy16a9is0uI5LGbyZlnhMZDbQwxnqMEc1ia1dzp8RtHePStSngtoZkluIbYtGC4XHzfgc0nhW5uG8Z+IzNpWo20V3cpJDNcW5RHCxIh5+qnFAHSa3/wAi/qP/AF6y/wDoBqPw3/yKuk/9eUP/AKAKr+LNLh1Pw7eCeW5j8qCR1+z3Lw5O09dhGR7Hip/DfHhTSf8Aryh/9AFAGnRRRQAUUUUAFFFFABRRRQAUUUUAFFFFABRRTZHWONnfhVBJPsKAHUVzmgeONJ8Q309naO0c0JwFk43j1Fbk97bW0scdxPHG8pwis2Cx9quVOcXyyWpEakJx5ovQnrk/EnjY6B4gsdNFhJOLkgNIO2TjiuspjwRSSI8kSO6HKsyglfpRTlGLvJXFUjKUbRdmPByoPrRXOeK/GuneFbc/aD5t0y5jgXq319BXOeF/HeveI/EUCrpgj02QEMwU/LjvurWOHqSg520M5YmnGap31PRqKKK5zoCiq1/f22mWMl3fSrFBGMszdqbpmqWesWCXmnTLNC/RhT5XbmtoTzK/LfUdqN5/Z+mz3ZjaTyUL7F6nFYvg3xWfFenTXDWjWzRSbMHoa6MgEYPINeeeK/EXiXQ9cNnoGko1n5W8MkOQx7nit6MFUTglr3uYVpuk1NvTtY9BlVnidUbazKQG9D6146nhmfw/4+sr3XtZhDSTlkLtlnHQdenWvTfC1/qGpeHre61e3+z3T53JjGR64rlPifFplodO1O806S7njl2rsYgY64OPpW2GcoVHS76GOKjGdNVe2p6ECCARyD0orjfE/iLWrHw9p154e08yNOV3qybjGMdMVDB/wmVx4ys7iTEWltGDLFxtXjkfWsVQbjzNpb/gbvEJS5Um9vxO4ooornOgKKKzdX8QaZoXlf2pcrB5zbUz3pxi5OyFKSirs0qKRHV0DoQysMgjuKWkMKKKggvba6kkjt545XiOHVWyVPvTsxXRPRRRSGFFFFABRRRQAUUUUAc/of8AyNvif/r4t/8A0nSugrn9D/5G3xP/ANfFv/6TpXQUAFFFFABRRRQBR1v/AJF/Uf8Ar1l/9ANR+G/+RV0n/ryh/wDQBUmt/wDIv6j/ANesv/oBqPw3/wAirpP/AF5Q/wDoAoA0qKKKACiiigAooooAKKKKAMvxGmpyaBcrobhL0r+7Jqt4Pi1mHw7EniN994CeT1C54z71u0Vpz+5yWM+T3+e/+QVXn1C0tjGLi5ijMjbU3MPmPpSahbyXenT28EphkkQqsg6qfWvJU8HWUGpWeleIvEUjagJjJHGpJG044yehOK1o0oVL8zt8jKvVnTtyxvfzsex0EAggjIPUGszVda07w3YRSalceVFkRoTyTxV+3uIru2jnt3DxSKGVh3FYOLSv0N1JN8t9TkT8ONOTxfFrdrI9uEbeYI+FLetWPE3ge38SazY6hLdSwtakZVTwwBz+HSovF2teItN1rTYNEsRPbTN+9bbnPI49uK65CTGpYYYjkehrolUrR5ZuXTQ5o06Muamo9dSKaeCxtTJcyrFFGOXc4Ap8U0c8SywurowyrKcg1k+KfDsXifRH0+aZ4QzBg6diD+tWNB0ePQdFt9OhkeRYVxvc8msbQ5L31N7z57W07lHW/BejeIdShvdTgaSSIYwHIDD0OK2bW0gsbZLe0iSGGMYVEGAKmrj/ABR41utC1610200xrozgfPz1PpVRVSraCd7ESdKjebVrl/xnqeraToRuNCtvPuN4B+XdtHritHQ7y6vNGtZtSiWC8kjDSRDsfpWJ4G1jX9Wt7pvENmLcpJiM7dufbFRReFNUT4gya22qObNhxBk+n3cdMVo4RSdOVk117+Rmpyk1Ujdp6W7eZpeNLOxvvCl3Fqk5t7cLuMgP3SOlcf8ACC6vRDeWSwZ05HLR3GPvN0/kBV3x5Nr99qyaJZacs+nXMfzOVPJ9c9sVW+FSa3ps17pGpWxitoTuUsACGPXHqK6Ix5cLJNrXW39dTnlLmxcWk9NL/wBdDutY1yw0G0W51ScQxs20E9zUn9r2Hk28pu4lS5GYiWxv+lZvizS9H1iwjs9akRCzZg3PtO6uE034caxqepD+37pobOycfZVRs5XOcD0HArCnSpShzSlb+uhvUq1Yz5Yxv/XU9RuL+1tHjS5uI4mlOEDNjcfapJUhmAjmWOQdQrgH8cV5z8UvD11cJpl/pkE1xLasIyqnOBwQcfh1rLe9nb4oaSt3qE9vIYkEkC52o2D8vXvVQwynBSjLo/wJninCbhKPVfievAYGB0orH1nxVpGgTxQ6pdCF5QSoxnj1qzo+t2GvWZutMnE0QbaT6GuVwmo8zWh1qpBy5U9S/RRRUFhWL4g8KaZ4m8g6nGzGBsqVYj8K2qKqMpQd4uzJlGM1yyV0NijSGJIol2oihVA7AU6iq2oahbaXYyXl9KIoIxlmNJJt2Q20ldlh1Dxsp6MMHFcv4Y8D2/hrVr6+iupZmujwrHhRkn8etbularZ61p6XmnSiWF84YevpVyrUpwThtfchwhNqe9tgooorM0CiiigAooooAKKKKAOf0P8A5G3xP/18W/8A6TpXQVz+h/8AI2+J/wDr4t//AEnSugoAKKKKACiuK12I2HxBsr21muBJcWN0XjMzGMlEXb8mdv6VQ8KNJbar4bmiup5n1rTZLm/WSZnAkARgQCcLy7LgYHy0Adtrf/Iv6j/16y/+gGo/Df8AyKuk/wDXlD/6AKg8V37WPh28KWV1d+ZBIpFsqts+U8nJHFTeG/8AkVNJ/wCvKH/0AUAadFFFABRRRQAE4GTwKr2moWl+HNncRzBDtbY2cGpZolnt5IXztkUqcHBwa57wn4MtfCf2o21xLMbhsnf2FXFQ5W29ehnJz5kktOp0lFFFQaBRRRQAViXvhLSL/X4dYubctdwgYO44OOhIrboqoylF3iyZRjJWkrnD/ELwjJ4he0u3v1t7S0BMyuOAOMke/FdB4Y1PStR0aNdElElvbgRdMYIFad1aw3tpLbXKb4pVKup7iqGheHtO8OWb22lxGNHbcxZskmtnUUqXJLpsYqk41ueK337mpSM6oMuwUdMk4rI1XxXo+jahBZX92sc85AVAM4z6+lZ3jbw1e+KNPto9N1A2hjkDnBOGGPaojTu1z6J9S5VLJ8mrXQ6fem8LuXcRkDPNOriIPBOpxeMLPVG1mR7eCMKyHOWIGMdcYNdvSqRjG3K7hTlKV+aNjC8X+IJfDWhNfW9obpwwULzgZ7nFTaTqkOqaDbavfW62pMe8+aP9X+JrTl8lh5U2wh+Nj4+b8K89+IWieJNcuI4tClV9O8va8Mbgc+9a0owqWg9PMyrSnTvNa+Rv67480nQ4LWYs10l02EaE5AHrW3LqtjBBBLcXKQpOAY/MON2a5fwb4KtrDwzFa6ykF7MJDKR95Ym9BWF4lRfFvj+DQrmzuLeG0PyzxngjrnGMYrRUqUpcsXor3Zm61WMeaS1drLzF8QfEfVvDvjC7tbm2hazRMwx9244OaZ4Oa51XxUniK+1X7Mt2Dssnc5btge3FVPi3pSrf6Z9lsndmjEbTLklgOAv1x3qDx14UOk6Zo2q2H2gPFFHG8XUqRznI6dTXbCNJ04qOjkrHDOVWNSTlqou/3nf+KfBVr4pvLK4uLmWFrU9EPDDOfwrpI0EUSRrnCKFGfaucvvE0ul+Aotaa0dpfJUmJzgg+prF8IfEW78S62tlLpXkxNGW81CSAR/SvP9lWnTv0iej7WjCpb7UrHdXVzDZWslzcuI4ol3Ox7CuHsdE0Dxb4rTxNpuoSSNAw3wjA+YdD9K2vG9vDqegvpTalHYz3TARlz9/B6fSuG8KQzeB/Gq6N9llu2vFAkuFyFHU5A9K0oQ/dylF2l+nUzxE/3sYyV4/r0O/17wbo/iS5hn1SBnkiBAKuVyPQ1zOl+E9b8P8AjSJNFkEWh53OrNnPHOfevQ6ZLKsMLyv91FLHHoKwhXqRjybrsbzw9OUufZ9znpPG2nx+MF8PGOX7Q3HmY+UH0rpK8q8OwxeLviRNr9lcPFHatlopE5PbAPpXqtViKcabUVvbX1Jw9SVROT2vp6BRXM+MvGcHhG0jZ7driabIjQHA/E0ng/xjD4ksENyqWt6ScwbuSPUVHsans/aW0NPb0/aezvqdPXP+LdQ0GGxXT/EUoWK8O1V7/WsabxPrdj8QjZahHDBpDnbHI/GeOufWuh1vwvpXiJ7eTUoTI0ByjK2Pw+lUoKnKLm9HroQ6jqwkoLVaaljQ9IsdE0mK00tNtuPmBzktnnOa0KREWONUQbVUAADsK4/V7DxVL46tLjT7pV0pQN6Z4Hrkd6iMfaSd395pKXsorlj5aHY0UUVkahRRRQAVk63rEmnGC3s4UlurgnYJG2oigElmPoAK1qydd0aTUxDNaTLBd25OxpE3o6kEMrDIyCCehFTK9tCKnNy+7uZHhbxtHrupS6fKYWmQFllgztfHUYPIP411tch4R8Cx+HdQmv5XiaeQFUSFSFQH6kkmuvqtLvlvbpfczoe05P3u5z+h/wDI2+J/+vi3/wDSdK6Cuf0P/kbfE/8A18W//pOldBQbhRRRQBjXvhLRdR1qPVry1eS9iGEk+0SKFGMY2htvb05qXTfDWk6ReS3WnWYhmmzubezYGScAEkKMk8DFalFAFHW/+Rf1H/r1l/8AQDUfhv8A5FXSf+vKH/0AVJrf/Iv6j/16y/8AoBqPw3/yKuk/9eUP/oAoA0qKKKACiiigArj/AA9p3ii38XX8+r3ayac+fLUHr6YHauworSM3FNW3M5U1Jp32CiiiszQKKKKACiiua8cXuu2OjxyeG4BLOZAH4yQPpVwjzyUUROahFyfQqWHjS6u/Hk+gy6a0UKA7JSeTjv8ATmtTxhrtx4d8OS39pbfaZVYKF7LnufaufTwfqupeJNN8Q3l99mkWJfPt1HRhngexzVrxre+JIdS0+30SyS4s5jifcu4HkcH0GK6+Sm6kVG3n8jjU6saUnK++nz8jgLnW/Dmr3Nv4l1hLhr1JFSayiPykjkNk9B7V7BYa3p97oy6hazqbbZnr93A6fWsmPwBoI066g+xBDdgGQ5yUb/Z9ME1xvjLwfa+FvBKLbalcIq3IZhj/AFhIxjgjGK1k6OIagm1rp6GUVWw6c5JPS79Rbf4qXN545ggj8uHSnk8oiQfNzxnP1r0DT/FWk6pq82m2VyJLmEZZccH6GvL4fEHghpbAz6XO8tvF5hmUAbnAzgjPPIrW0Lxj4Hs9Qk1RLaazvbgkOCu4L9Kuth4te7BqyIoYiUX71RO7JPESweKfFynSNceKXT1Jkt0BBYr/AHOeTUXwqW7uLPV7a6nuI5H4UyHlTjqAe9VfEfhS7Hjmw1HwzayfZrl1lMsTcA5yT7Cub13Ude0zx1dSMkkN1IzLHHGeCDwMDvW0YKpS9nB9PmrGE5unV9pNdfk7noejaZf+BPDeqXsl22ryZLJEhJA/nVLRPi1ZXt7BBqOmmC5lby2lQggfpmtD4X6JqWnaNcTawZQ1y+VhlOcD1/GtXVvBOjXMz6hBaRQXqKWjk6Lu7EiuSUqPtJRq6vujrjCt7OMqWi7Mv+Ite0vw/ZJc6wfkLYQBNxJ9hWR4r8Yx6Z4Ut9W0+1W/guWG0v8AdA9649fAev6/YouvazEWhlZ1Td5hKHqRioPEOuQ6z4Tn0Hw9azRxaWwEilc+YoyC3tzk/jVU8PT5opPms9e1iamJqcsm1y3Wne4eMPiCniTw5a6ZptnIs90A0q4ztwSNq469K6r4a6ZqOieFZm1WNIWdy0CSYDAY6E+57VlfCq70a+tUsW0/bqNkC3nOM5yT09PpVP4h6hqereNbbw3BdLb27bSpViPmOeT+XStZRTbw0VZLVtmUJNJYqb5m9EkWLLw7rHjTxFJc+KY5LWOxk/cNGMBhnOP0HNdBo3iya+8cXGivpXlx2yEJcHlgBjqcdDUHiHxTeeB4tKsVtHvotmJrls9BjP41neGrWzuNa1HxVHrxFlIrIyuNrIW7H6dqzknODlNaW901i1CajB+9f3r/ANdPI3vHUGt39lbR+Gb6OKUTfvFEgBP+fStuLUIbC2s7TWLyEXkqBSGON7d+K8Y1vTo/Dt9a3reI3vBJcCVY7cknZnO7rj2r0jVfDWj+KG03X7q8lhjhRXBJADgc8+nSoqUoxjFN+7rrbW5VOtOU5tL3tNL6WJ/FFyvg7w1c3mgabH58jAHYnAJP3jipvAmp6vq3hxbrXIhHMzHYdu0svrirmi+I9I8RrPFp0onEB2urr+vuK2AAqgKAAOgFc05WhySj73fqdcI3n7SMvdtstjL1b+xLi4t7TWPszys2YY5sZJ9q4vxf4SudJ1JvEnhlJJLzcP3IA2p7gf0rpNb8EWOueILTVbiaZJLcj5EPDY6fSq2v+L77SPFljpdvpb3EE+N8oz39PpWtGTTXs3fTVPYxrRi0/aq2ujW5Fe+E28Z6NpVx4gaS0vYVDSJF0PtjtXTQX9hHdLpkV1GbiJAPK3ZYACrtcNqWleHfDniJ/Fl7fyAyPtEancN/fp/Ks4v2vuy+SXc0lH2XvR+bfbudzTXdI13SMqj1Y4qKzvINQsoru0fzIZlDIw7isPxp4bufE2kx2tnem0dJN5POGHvisYxTlyydjecmoc0Vc6MHIyOlFVNLs30/Sra0kmad4Ywpkbqxq3UvR6FK7WoUUUUhhRRRQAUUUUAc/of/ACNvif8A6+Lf/wBJ0roK5/Q/+Rt8T/8AXxb/APpOldBQAUUUUAFFFc6/jOzTWpLH7JdtDFcLayXwCeSkpUMEOW3dCOQuPegDU1v/AJF/Uf8Ar1l/9ANR+G/+RV0n/ryh/wDQBUmt/wDIv6j/ANesv/oBqPw3/wAirpP/AF5Q/wDoAoA0qKKKACiiigAopkkscKgyyKgJwCzYyafQAUUUUAFN82MymPevmAZK55x9KdXIR+D5rXxxN4il1Vvs5G4wtkY46HtitIRjK/M7Gc5SjblVzr6CcDJqpp+qWOqwtLp11HcIrbWMZzg0zVr63stNuXuH6RMdin5iMdhU8rvYrmVuboPs9WsNQmlisruKd4TiRUbJU1ZllSGJpJWCIoyzMcACvBPCesXGh6udQ0izuLxLyYwsrIflGQeozk8/pXuV5aR6rpMlrcqyJcR7XAPIyK6cRh1RmlfRnLh8Q68G7ar+kOsdRs9Tt/O0+4juI84LIc4Nebal4P8AEup+LLiTVZPtOkElynmcMoGQoHY5rt/C/he08K6fJa2UkkgkfezPW3Uxq+xm/Z6rzLlR9tBe00fkeYeBNN0zWdSuZbrw99kayHlxlslWHTkEcmr3iLRvAdlrltb6pD5FxPgKseQvXjNdxdSQ29vIomhtnkU7Gchfmx19681t/h5q+p2eoXGt3EVxekH7FIX3AH1z6V0Qqqc3OUnFepyzpOnBQjFSfodb/wAJx4Zs7q202G+QlyI0EYJVewya4W80W50vxrdax4k1e2i2b5bbcSzP/dwuOAK5e002Xwb4ghufFGlzSRxvlArDDMO+e9O8Ryaz4i1GTWrjT5ZrPH7pkU7Qnauynh4wl7j0a30/A4qmJlUj78dU9Frp6nonwz1S6k0W+vtY1eO4gV85ZuY/XOQMVj/EyTVtQSHU9EvWuNIdNmLZjw3fIFT+A/Brjwnex68/2aHUwBGhbaw9Dz/KtDXotP8AA3gr+xbK+aK5uifKeRc5JPJ9hWF4RxLcNXftpY6LTlhkp6K299b/APBPN2utT8IalYXUV3MZ5IFkaOZSAoP8OM88V6H8NNQ1HWNQ1K8ubG3SynbIkRAMt6e9Jc+Fb+7+G2NUihv9URd0MhOSidRz34rP0HUb0+Ez4b07Zbag+fJlj+UHuc55z71lisdh1y0pNc8nb/gmuFwOI1qxT5Iq/wDwDI1tZdG8d303hO+869LZa3SPG0Y5HocVseA7y08Taxc33iSBTqVgAwnI2rt5+97iqXhfW9H8N+Imh8R20h1VT5cl51UE+o/LmvT5dL0iXTLkIkMMN8uJJUIXfnvmt8RU5I8jXRe8Y4elzy501u/d/rqeW6z8QdTfxDeWf2a21OwkykcKDdlfUEc5/Ct3wfpVh4p8E3mlzWLaYDNuIRssT2OD+VSab8J49L8SWuoWepM1vCd5Rk+Yn0z0xWnYeDG0zxfd6pJq+2K6Vljhzg5P+FTUq0OTlpOzVn13XkOnSr8/NVV07rps/MqRfCnw81xFK11NNHbptePeMMR6nt9K5SWDXvGniJ9DRjZWFqx8vYp2Io4HI61d1vSNW8D6PfLbTT6gdVfy9yA/uh1z9T0rtfAGgS6F4cRbqVpJp/3jBxgpntQ6sqcHUcubt+rBUo1Jqmo8vV/oibS9E0bwNpE9yn7tFTdPM3JbFaOia9YeIbD7ZpkpkiztORgg0niGSyi8PXr6oge1WFjIh/iGOlcT8O/E1lD4d1GV7FbCws2L+YpLbvb3NcahKrTlUd27na5xpVI01ZKzPRJ7iK1gea4kWKJBlnY4AFQ2d3ZanAl1ZyRXEf8ADIvOKyo7nSvHnhmZLeV2tpwUYgbWU155Jd+IPC2qf8I14Vs5miik3GV0yZc989AKdPD8943tJd+wVcRyWla8X27nrd7bm7sZoFkaIyIVDr1XPeuN0X4dW9notzZeIbs38ckvmLkkBPfJrtYDIbeMzgLKVG8DoDjmqHiLSX1zQriwiuGtnlXAkXtWVOpKPup2TNKlOM/fau0i3Y29taWEMFiFFvGoWMKcjFWK890nXIfBF7Y+FLs3F7PIdzTgfKpY8AZ5Ir0KlVpuDu9ns+46VRTVlut12CiiuY8c3XiG00uFvDEPmymUCTAyQPpUwjzyUS6k+SLlY6eiuO1Px0PDraVZ6vZyPd3ajzfL6IeB+PWuwRg6Kw6MMjNOVOUEm9mKFSM20t0LRRRWZoFFFFAHP6H/AMjb4n/6+Lf/ANJ0roK5/Q/+Rt8T/wDXxb/+k6V0FABRRRQAV59rnhWbU/FBjs9Ov7a3ku47m4uTcRi2kKqBuCBt+/gDkAcV6DRQBi+K9KstU8O3i38AmEUEjpkkYO088Gp/DfHhTSf+vKH/ANAFS63/AMi/qP8A16y/+gGo/Df/ACKuk/8AXlD/AOgCgDSooooAKKKKAOX8a+EpvFVvbRwX7WhhfceuGH4d66K0g+y2cUBdpPLQLvbq2O9TUVbqScVB7IzVOKk5rdhRRRUGhBexzS2M0drII5mQhHP8J9a5bwj4f1q20a+s/FF39oFwxCgPkgHqc12FFaRqOMXFdTOVNSkpPoYPhbwlZeFLWaGxeSTzn3Mzn8hWfrHgiTVfGNvrP9oukMagPBg847D2OaZaeKtWn+IE+jSaW6WSDibafT72emDXY1rKVWnPmb1a/MxhCjUhypaJ/kV7bT7Szi8u1to4k3bsKvf1qxTJZY4U3zSLGucbnbArEufGWkWniOHRZZj9qlAxhSVBPQZrFRnN6K5u5QgtXY3qwvGOuXHh3w3PqFnbfaJIyBg9FBOMmn+LZNXi8Ozv4eTfegjaO+M8496TQ4b7UvCkcHieBTPMhWaM9x7+9XCKSVSWqvsROTk3Tjo7b9DyG+1PUPiR4jsYYI5Lf5NjlCSinufYV2niU674K8H6fDpFysohYLPPIQPoOT0rR8M/D2Pw14ln1G3uy0DqVjgx0z615v4x1DVPFHjC7sbD7RNEj7Utzx09q9WMoVqijC3JHXU8iUZ0KbnUvzy00PSLPWfDvj2L+yLzbc3EaB3AUgZ7lTWhr+q2HgfwwjR2Zkt4yI44UHH415bo+j674V03V7u7tjY/6KVSdiN249AtdH4d8Qwp8Lp5/ENw04MjRxmRCxz2x61jUw6TvB3jdaG1PENq01aVnr6GxqulJ8RdJ02906/ayCAO0J6gH2HetbWbHw3e3Fhp2uTQyXcQHkrI+Hb6/WvOPDsWq+GNCm8S2DjUfPPlpHESwUZ5Zh2+lUdbmltPGOn6/rVncLFchJ3jYEbTjkA/0q/YNy5Yy0V7d79iHiEoc0o6u177W7ntS6ppbXraSl3D9oRMGANyFx/hXmN/eWPhTxMs3hxW1eVpCJVzuEHP3Rjv71Rs9Eu/GHiTVNZ8N3yRqSdpfKupI6f/AF6zda0C98DyabLLeMl5csXmKcqoDevepp4SippSd5dn3Kq4ys6bcVaN912DxLqVz458UiDS9MEbg+X9z58jqWPaptNTVNZni8FXNz5BtpWYShicHjI+ley6ammw2sN3D9nR7pVbzRhTKSOtedX/AI08P6B46upk0V/tKv5ctxkA+5ArSnXdRclOGy09TOph1TaqVJ/E9fQ0LSy1nwXq0+qa7qpl0aGIIoyWMh4wAvY9ayPEc97441jS9S8MJPLbROEkGdpibIOSPp3r0DW5LPXfBNzPDCL+GSAuka8knHH4ivEopNb0Tww80ctxZQT3QCx7Su4gHJ/lSw96l5vSS08vuHibUrQV3B6+f39j3zUryPStBlvLuMyrbRb2UDJJArzW/wDjSxijGm6YVfPzmZuMegxXeLLfXPgMSWgFxeyWmVEgxvbHcGsLwr4ZbVPDbxeLdKhSUuQmECtt/CuSiqUIuVVXs+/6HZWdaclGk7XXb9TpbC5svFfhmOWSMSW93Fh4z2z1FFr4Y0mz0WTSoLRRaSgh0P8AFmrtjY2ulWCWtpGsNvCuFHYCuc8PePbPxD4iudMtbeQCEEpN1DgfyrBKclJ078q1N24RcVUtzPQ3dK0iw0DT/s2nxLBAuWOT+pNc/wCI2m8U6DIPB+owm4jkAkZHwSB2zXV3ECXNvJBKMpIpVh7GsTwx4PsPC0Vwli0j+e2WLnt6UQmlebfvf1uE4N2pxXu/l6D/AAxqEb6dHp0+pQ3uo2qBbjy2yQ39a3K53Q/BWnaBrN3qVo0hluSSQx4XJzXRVNXkcrwLpc6hae5Xl0+0mu47qW3jeeMYSQrytWKKKzu2aWSCiua8b+INQ8PaTFcaXYtdyPLtbCkhR+FbemXMt7pdtc3EJglljDNGeqmqdOSgp9GQqkXNw6o5HxvDr8mv6S2kWEVzbpJl3ZQdpyOvoMV26bvLXeAGwMgetLRTlU5oqNthRp8spSvuFFFFZmoUUUUAc/of/I2+J/8Ar4t//SdK6Cuf0P8A5G3xP/18W/8A6TpXQUAFFFFABRRRQBR1v/kX9R/69Zf/AEA1H4b/AORV0n/ryh/9AFSa3/yL+o/9esv/AKAaj8N/8irpP/XlD/6AKANKignAyaRWDLlSCPUUALRRRQAUUUUAFFch4d8Tazqfiq/0+/0xre1gJ2SFSMYPHPfNdfV1KbpuzM6dRVFeJyfjXQ9d1h7I6Fe/Z1ifMi79ufeuphV0gjWVt7qoDN6nHJp9FEqjlFR7BGmoycl1E2jduwM+uK420n8XDx3dLcwg6QqEx9MEY4x712dFOE+W+l7hOHNbW1jyLVtUu/F0V3aeIW/sS3tLgeVM4IDHkbT6nAzXdaX4Y0OT7DqMYjvbi3iCJdBg27Hep/FPhWz8U6aLW7LRMjb0kTqDXmV74P8AFehSjTNPv2TTnYSG4MoRA3uTXfGUK0OWMuXyPOlGdGfNKPP59T2miqWjlv7ItlkuUunVArzI2QxHvV2vNas7HqJ3Vzj7ibxYPiDFHDEP7Gx8zcYxj+dcdr2k6lqnxegjW0lghWVGEsSEAoDktmukW/8AGljrOr3FzaefZQxM0EYHDHtt9a2/Bes6hrui/a9WsvsswcqMrjcPXmvRUpUVzpLa2nmea4RrPkbe99fIx/if4av9c0W3fSw8slu3zQqfvj1+teeXd3rmi2MWj+K7BzpjbQAVwV91Yd696mmS3geaVtscalmJ7AV4h4g8cz63rk3+jfb9EjbmEx/wjvnsa0wU5zjyWukZY6nCEufms3/Wp6j4K07SrLwvANGdprWYeYHkHLE+orG8Z6Jpni/WLXTBq8cF5bctb5ySD/Wq0XjKaP4eRX/hvSGXyn8nyQuQgHGeOtcndC/0vxLH4luDDHfXMQnjsWP7wsR029amnSn7SU27PW3e5dWtT9lGCV1pftbyPR7jQG8NeFbqHwfbKt4wyCerH1+tea6texeJYbSx8UaoLDVLLcshkjJUgnPJH8Vep+FNbvNV8MpqGs2/2OT5t24bQVH8XNeTfEfUtA1XWEbQ4lkuHOZblD8rnpjH9arCczquMlqupGM5VSU4vR9BPGBnlXS7PQvPurKytv3dzDlg5ySx46Yqlq+v6Tq+hW5ksHbW9vlSXGcBgMYb3Pb8K6jw/wCCtS0G2mu9W1OO00ua1/eEP3YcVzfg/SNLuPiDHZz3C3NpGxaN8YEhGMf59q7YSp2dteXW6OGcKnMrq3NpZ9Ox6d8ONJk8P+GEXVJhHNePvSJ3HAxwB71p+NLW+n8MTJo9rHPcqwZUZQcc8kD1qp4p8E/8JHqen3SXr2wtDyi9CMg8e/FW9N8YaTe6/JoVvK7XMC4yynDY64NeRJucvbR1e7XY9mMVCPsZaLZO+5BZ65P4f8Ew3/iz91OgCsqDJPoMDvXB+IvEOunxHba34fkubmxuYj5KIjFRxypHqK7bxl4n8MWlu2ma863BcjdAg3Ffc+ldBo8FhFpFsulxotpsBiAHarhNUl7SUN7+liJ03Vfs4z2t63OK+GkWr3Wk6hca/LMbe4JCpPkH3PPQUl3Y2nw78P3Op+G4/ts1zIF3s24KM9sda6fxlBLL4N1KK0jkeRoW2rF1NeJ6XbyX1tFpmuXUmmWkcm9JpgQCT25reivbuVRuyvqjnrP2CjTSu7aPzPVdY8T6zB8PodUt9OkW+mUB0CkmPP8AFjrXO6Z4b8Y3/gibdqEiT3TiRIpXIbb6EnpmvT7OFIrCGJH81FQAMedwx1qfpXJHEcitGK3udssPzu85PaxgeDNM1TSfDsVrrdx59wpJ+9u2jsM9636KK5pyc5OT6nTCKhFRXQKKK5nx1Nr8GhrJ4ZUtMr5k2DLbfYU4R55KN7CqT5IuVr2OlKhhhgCPcUtcv4D1zVdc0aSXWrRoJYn2Bym3zOOuK6iicHCTi+gU5qpFSXU4/SNB8Q2vji71C91DzNOkU7I92c+gx2xXYUUU51HN3YqdNU1ZBRRRWZoFFFFAHP6H/wAjb4n/AOvi3/8ASdK6Cuf0P/kbfE//AF8W/wD6TpXQUAFFFFABXkWpRO/jS/1dfJeC31mGEzMT9qj/AHKfu07bOc465Jr12s6Tw9o8urrqsmmWr364xcmIGQY6fN1oAr+K7q7tvDt4bLT3vS0EgcJKibBtPPzEZ/CpvDf/ACKmk/8AXlD/AOgCpdb/AORf1H/r1l/9ANR+G/8AkVdJ/wCvKH/0AUAYPj25aBLMTxmSyYSF4ycLLKANiN7H5jj2FYXw31O5vNckSOyWyh8hzcQxDagbcuw47Ejf9ce1ek3FvDdwNDcxJLEwwyOMg/hUVlp9npsPk6fbRW0ec7IkCj9Kmy10W+/X0OWVCTrKpfQs0UUVR1BRRRQAYA6CiiigBGztO3rjiuR8LHxYfEGo/wDCQDFluPk9MdeNvtjFdfRWkZ8sWrbmcoc0k77BRXLeLvGa+FrqyhNm9wbpuSOijOPzrp4pPNhSQAgOobB6jNKVOUYqT2Y41Iyk4rdDq5zxn4U/4SzTYrYXTWzRSbwR0PHeujozziiE5QkpR3CcI1IuMtmc94N8Lf8ACKaVJaG6a5aR95J6D6V0Nef3fxXstO166sL6ymSKBtokA5J+lW/EGjav4k1HSdT0LUzBZrh2XcRxnOcd/SuidKpKfNV0v1OaFanGHLRV7dDtaAAOgxXCWepeIdG8RX114ouEi0VFwjsRgn+Hb71p+IfFEsfhV9T8LhNQfIGU+baD3IFZuhLmSWt+vQ0WIjytvS3TqW/E/irTPDUMQ1XcwuDtCKucjvXPaxq+h+BbC3bTNJWWLUm3NtHBB/z0rbs7GDxd4dsp/EunR+fgOY3H3TWa/hHU5vHialJdo+lIBttzyAAOFA6VtT9lH3ZdL310fYxqe1l70etraarudXZrANNjNtCIImQMqbcbcjPSvJfC+kWniL4h6hLqGotdyW0rNEMEbsE4/AV7JXn2lvc6f8T7u1tNBSC1m5e5VMEjruz9aMPNqM7b2DEwTlT5trnKXbeLNL1jXrNhPcQyxuxeQEptzkEdulQeAbvwq8cFhrdlvvXuMxysMjoMV3nxI0zxBq9rbWeiLutpTi4CnB/H2rJ0X4RJp2oWd5c6iWeFt7oq4BPoK7Y16To3m7N9vI4ZYerGvaCul321LvjDwdqGta7HcTaiIdFSICWMvgIB14qnB4D0DX7awm8OaliKxcrIyHJc5zz70/4h+OxYXH9kaekN2rIRdqTkqPT2rO+FuoXUWrSWdlpTxadOvmNKwJII4HP51nFV1Q572tt/wfM0k6DxHJa999/w8jqL3w1rsnjiz1G21Irp0KBWjLnoByMd81tHSNF0e8udcaCG3mKEyznjA71sVV1PToNW0yewuwWhnXawBrz/AGspWT0W2nY9H2MY3a1e+vc80g8NeFNQv7zxRe6ut1p3mZaNzjDHsa9L024s7rToZdNdHtSo8sp0xXlPinwBqunWMOmeGoZbmxmffMerFx0z7DJr0zw1pS6L4etLEIEaNBvAOfm7104lxlBSU79vQ5cKpRm4uFu78zEl8Sa2vxBj0hdMY6ew5m2npj72a0fEnhDTfFEcC34ZTC2VMZx+Fb2KK5va2acFZo6/ZXTjN3TI4IEtreOCEbY41CqPQCuX8bHxOPsf/CLjI3/vtuM/j7V1hOOtZviG+vNO0G6utNt/tFzGhKRgZzSpSamna/qOrFOm1e3oXoPN+zx/aMebtG/HTOOa5vxf40TwrPZxNaPcG5bGV6AZ/nUvgrX7rXtEE2pxrDdqxDoODjscdq3praC52/aIkk2HK7lzg+tOyp1LVFexN3Vp3pu1x0MgmgSUAgOoYA9RkU+iisTcAAOgxRRRQAUUUUAFFFFABRRRQBz+h/8AI2+J/wDr4t//AEnSugrn9D/5G3xP/wBfFv8A+k6V0FABRRRQAUUUUAUdb/5F/Uf+vWX/ANANR+G/+RV0n/ryh/8AQBUmt/8AIv6j/wBesv8A6Aaj8N/8irpP/XlD/wCgCgDSooooAKKKKACiiigAooooAKKKKAI5beGfb58SSbDldy5wfUVJRRQAVx+l+GtbtPHd1qtzqbSWMikLFuPPoMe1dhRWkKjgml1M501NpvoZupeHtJ1dcajYwzncG3Mgzke9X4okghWKJQiIMKoGABT6KlybVmylGKd0jF8WeH08S+HZ9PYhZGG6Jz/Cw6V5h4DtLuKbXPD0DzW99LEyrOMhUI/x9a7rQ4/Fi+M71tWkB0sg+WOMe2K6W5ks9NhnvpxHAqrullwBwPU12RqyoxdLe9mvU4pUo1pqrta6foeeaJ4E8UWNvqCT6y0ZngKR7ZCfm9faut8GaPqOh6Ctpq12bmYMSDuztHpmtPStYsdbshdabOs0ROMjsau1lVr1J3jNfga0aFOFpQf4nIL4g14/EJtKOnY00Dibb2x97NPi8beZ47fw99hkAXjzvfHX6V1lR+RCJzP5SeaRgvtG7Hpmp9pB7x6W+fcv2dRbS63+XYwfGq6+2ir/AMIwcXO8b9v3tvtWRrfhzxLrdjorrqP2a5gUG6VWIBb146mrvjSPxQ89j/wjL7Yw/wC+xjPXv7V1MPmeQnnYMm0b8dM45q1N04Rat19fmZumqs5KV+np8jzG6XSNE+KEML6bLc3N1GoklY5UsRgsB+FenxxpDGscSKiKMBVGAKZLDGW8/wAlHmjU7GKjI9ga8pn+KGuWd7f2F1p6i834tk2fd57jvxV8s8Sly9F3I5oYVvn2b00PW6yF8VaKdSlsP7QhW4h++rNjFHha/wBQ1Pw9b3Wr2/2e6fO5MYyPXFec+JPhpf6n46eSziEWn3B3vMD931/Goo0qbnKNSVrF1q1RQjOlG9z1wEMoKnIPIIpszOkEjRJvdVJVf7xxwKisLRbDT4LRGZ1hQIGY5JxViubS51K7WpyfgrXtb1p70a3Y/ZlhfEbbdufarmk+M9M1nXrnSrQv58GckjhsdcUmleNNM1fxBcaRa+Z58GeSOGx1xWlaaHptjqE19aWcUVzP/rJFXBNdFTlUnzxs2tDmp8zjHkldJ6nPfEDQtb1mygbQbtongYs0SuV3+nNX/Bya4PDar4kYm7yQCx+bHbPvXQ0VDrN0/Z2X6miopVHUTev3HnHgXwprGj+MtSvNQj2QSFgr7s+Zkkg16PRRSq1ZVZc0go0o0Y8sQooorI2CigkAZPAoBBGRyKACiiigAooooAKKKKAOf0P/AJG3xP8A9fFv/wCk6V0Fc/of/I2+J/8Ar4t//SdK6CgAooooAK5vV/E2oaTrFpaPonm295crbxTrdrk5GS2zGcD610lYd1pNze+NrPUJ9n2GxtWEI3ctM5+YkeyquD7mgC3r80cXh6/82RUzbSAbmAz8hpPDf/Iq6T/15Q/+gCovE+nWWoeHb0X9nb3Qjt5GQTxK+07TyMjg1L4b48K6T/15Q/8AoAoA0qKKKACiiigAooooAKKKKACiiigAooooAKKK5yx8badf+KptChWQXEQPzkfKxHUVcYSkm0tiJTjFpSe50TusaF3YKqjJJ7Cora7t7yHzbSZJo843IciotUsE1XSrixlZkSdChZTgiszwj4Wi8KaW9pDcST+Y+9mf+gppQ5G29RNz50ktO5vVV1LT7fVdOmsr1N8MylXGcVaoqE2ndFtJqzMvQPD1j4b077HpqMsZbcSxySav3QmNpKLUgTbD5ZboD2qWim5OUuZ7iUVGPKtEcp4Gh8TQ291/wlMm8mT91nGff8K6uikDqxIVgSOoB6U6k+eTlaxNOHJFRvf1FrG8S+JrPwvp6Xd8rsrvsVUHJNbNVdQ0yy1W2+z6jbR3EWc7XGcGiHKpLm2HPmcXybnnvij4nXdvdWtr4etA73ESyrJIuSc9gPwrsrHS7bUlstY1TToU1MRDLFeUNZl98P7K78U2msJPJALZVUQJwvy9Megrra6KtSmoxVJW7nNSp1XOTqu66BRRRXIdgUVheKPFtl4UtoZr5JH859qqg/M1r2l1He2cVzDny5VDLkdjVuElFSa0ZCnFycU9UV7bRNNs9QmvrWziiuZv9ZIq4Jq6WUEAkAnoM9aWuQ8S+FdV1fxPp+oWOqPbW9uQXjBIxg9vXNVBKcvflYmbdOPuRudfRQOBRWRqFFFFABXK+LvGT+Gb2xt47B7n7U3zMOgGcce9dVTJIYpSpljRypyu5QcH2q6coxleSujOpGUo2i7MyPEmnXeu+GZbbTrhrSeZQytnB+hp3hbS7vRvD1vZahdG6njzlyc/hWxRT9o+Tk6bh7OPPz9dgooorM0CiiigAooooA5/Q/8AkbfE/wD18W//AKTpXQVz+h/8jb4n/wCvi3/9J0roKACiiigAooooAo63/wAi/qP/AF6y/wDoBqPw3/yKuk/9eUP/AKAKk1v/AJF/Uf8Ar1l/9ANR+G/+RV0n/ryh/wDQBQBpUUUUAFFFFABRRRQAUUUUAFFFFABRRRQAVSi0fToNSkv4bOJLuQYeYL8xq7RTTa2E0nuFFFFIYUUUUAFUtY1WDRdJn1C6DGKFdxCjk1dqO4t4bq3eC5jWWJxhkYZBFONr67Cle2m5meHPENt4n0cX1krxqSVKv1U1j+GPCep6N4k1C/vdUe5guGJSMk85OcmunsbC1021W3sIEghXoiDAqxWvtOXmUNmZKnzcrnugooorE2CiiigAooooAqahpVjqsKxajax3KK25RIM4NWURY41SNQqqMAAcAU6ind2sKyvcKKKKQwooooAKKKKACiiigAooooAKKKKACiiigAooooA5/Q/+Rt8T/wDXxb/+k6V0Fc/of/I2+J/+vi3/APSdK6CgAooooAKKKKAIrq3S8s5raUsEmjaNivUAjBx+dcbp/hrVbfXbjTE8S63HplpZW/2Zv9HyWJkVlz5XOAifnXX3eoWdgqm+u4LYP90zShN30ya5jxP41gsWsLXSNRsxLeM+bkqblIlQDd8iHLH5l4yO9AF7/hGLz/obNc/O3/8AjNH/AAjF5/0Nmufnb/8AxmtXSLk3mk29w11DdmRcmeBCiPz1Ckkj6Zq5QBz3/CMXn/Q2a5+dv/8AGaP+EYvP+hs1z87f/wCM10NFAHPf8Ixef9DZrn52/wD8Zo/4Ri8/6GzXPzt//jNdDVO51jTbKbyrzUbS3kxnZLOqt+RNAHNaNoOsXUN02oeJ9bjaO8mjjA+zjMauQh/1XcYrQ/4Ri8/6GzXPzt//AIzWTfeK7oeMls4dVsbTTCkbRyyWbzCctjIEquFX8a7egDnv+EYvP+hs1z87f/4zR/wjF5/0Nmufnb//ABmuhooA57/hGLz/AKGzXPzt/wD4zR/wjF5/0Nmufnb/APxmuhooA5bUPDmpQaZdS2virXHnjhdo1JtzlgpIH+p9aNP8OalPplrLdeKtcSeSFGkUG3GGKgkf6n1rabXtIWUxNqtkJA20obhMg+mM9a5628W3t98RYNLtY4To8lpcMsxBLySxNECVOcbcSY9znpjkAv8A/CMXn/Q2a5+dv/8AGaP+EYvP+hs1z87f/wCM10NFAHPf8Ixef9DZrn52/wD8Zo/4Ri8/6GzXPzt//jNdDRQBz3/CMXn/AENmufnb/wDxms/xBoOsWXh2/udL8T63NeQwO8EZ+zkM4HAx5VdfJIkMTSTOscaDLMxwFHqTVD+2bC8VoNN1Wxe6ZT5YEqyc/wC6Dk0AZ48MXmP+Rs1z87f/AOM0f8Ixef8AQ2a5+dv/APGaq+E/EN9qmrajY3lxBerabcXMNq9tknqux2J/HOK6ugDnv+EYvP8AobNc/O3/APjNH/CMXn/Q2a5+dv8A/Ga6GigDnv8AhGLz/obNc/O3/wDjNH/CMXn/AENmufnb/wDxmuhpk08VtC01xKkUSDLO7BVH1JoA5HVdB1i2udMWy8T63Ik94I7gn7Odkfluc/6rj5lUfjWh/wAIxef9DZrn52//AMZq7Lq1vf28kGharp73zL+7zIsoHPJKqwJ/MVS8LatqF/PqVpqUlvcvYzCMXVtEY0kyMkbSzYI78nrQAf8ACMXn/Q2a5+dv/wDGaP8AhGLz/obNc/O3/wDjNdDRQBz3/CMXn/Q2a5+dv/8AGaP+EYvP+hs1z87f/wCM10NFAHPf8Ixef9DZrn52/wD8ZrPGg6x/wkzWh8T639hFmJBJ/o+fM3kYz5Xpiuqu760sEV766htlY4DTSBAT+Nc/4p1+4h8LXuo+FtQ0+WWzQySbx56kDthWGD+NAE3/AAjF5/0Nmufnb/8Axmj/AIRi8/6GzXPzt/8A4zW5bSGa1ikbG50DHHuKloA57/hGLz/obNc/O3/+M0f8Ixef9DZrn52//wAZroaKAOe/4Ri8/wChs1z87f8A+M0f8Ixef9DZrn52/wD8ZroabLIIoXkf7qKWP0FAHIaToOsXMmoi+8T63GsN40cGPs43RhVIP+q55JrQ/wCEYvP+hs1z87f/AOM1maH4n1e51TTm1MWpstXE32ZIYyrwMh4DMWIbIDHOBjjrXaUAc9/wjF5/0Nmufnb/APxmj/hGLz/obNc/O3/+M10NFAHPf8Ixef8AQ2a5+dv/APGaP+EYvP8AobNc/O3/APjNdDRQBlaJoKaLLezfb7y+nvZFklluyhbKqFAGxVGMAdq1aKKACiiigAooooAgurG0vgovbWG4C/dE0YfH0zWLqvhOG5ls7nRjbaZeWbOY5BaB0w4AYFAVznA5z2roaKAM7QNHTQdEg06OUzCLcTIRjczMWJx25J4rRoooAKKKKACqlxpWnXkvm3dhazyYxvlhVj+ZFW6KAOb1vwvc6xC2npqFvaaPIFWS0isvnwOoV94C5/3eK6SiigAooooAKKKKAKL6HpLyF30yzZ2OSxt1yT65xWDB8OdEsvFljrenxG2NnHMvkK7lWaQqd3LYGNp4xg7vausooAKKKKACiiigBskaSxtHKiujDDKwyCPQiqD6JZRRO2m2lnZ3W0iKdbVSYz64GM/TIrRooAw9H0G7s9XudU1XUUvbyeJYcw2/koqA5+7ubJz3zW5RRQAUUUUAFMmhiuIWinjSWNhhkdQQfqDT6KAMfUPD0EmmXMOira6VeSxlEvIrVS0eepwMZ496b4X0S60DSxZXV5BdqpyjQ2phOe5bLtuJ9eK2qKACiiigAooooAgurK1vUCXttDcKpyFljDgH8axtf8LjUvDt3peiyWmkfa1KSyrZh8qevyhl59810FFAFTSra6s9Mht7+6jup412tNHD5St6fLubHHvVuiigAooooAKRlDoVYZVhgj1FLRQBy2j+DZNN1S2nudT+1WtisgsrfyNhi3nJLNuO4jkDgcE11NFFABRRRQAUUUUAFFFFAH//2Q==)\n",
    "\n",
    "Notice that the outliers are highlighted as the furthest points from the centroid of the cluster.\n"
   ]
  },
  {
   "cell_type": "markdown",
   "metadata": {},
   "source": [
    "## Dimensionality Reduction - PCA\n",
    "\n",
    "In this section, we will learn the basics of Scikit-Learn's PCA function. We will first try a simple PCA example to learn how to apply PCA to some data."
   ]
  },
  {
   "cell_type": "code",
   "execution_count": null,
   "metadata": {
    "tags": []
   },
   "outputs": [],
   "source": [
    "import numpy as np\n",
    "import pandas as pd\n",
    "\n",
    "%matplotlib inline\n",
    "import matplotlib as mpl\n",
    "import matplotlib.pyplot as plt\n",
    "\n",
    "import seaborn as sns\n",
    "from sklearn.decomposition import PCA\n",
    "\n",
    "import warnings\n",
    "warnings.filterwarnings(\"ignore\", category=UserWarning)\n",
    "warnings.filterwarnings(\"ignore\", category=RuntimeWarning)\n",
    "\n",
    "#create 2D data\n",
    "X = np.array([[-1, -1], [-2, -1], [-3, -2], [1, 1], [2, 1], [3, 2]])\n",
    "\n",
    "# Compute PCA\n",
    "pca = PCA(n_components=2)\n",
    "pca.fit(X)\n",
    "print(pca.n_components_) #number of components\n",
    "print(pca.components_) #principal axes in feature space\n",
    "\n",
    "#Transform data with PCA matrix\n",
    "X_t = pca.transform(X)\n",
    "\n",
    "# plot original data\n",
    "plt.scatter(X[:, 0], X[:, 1])\n",
    "plt.title('Original Data')\n",
    "plt.axis('square')\n",
    "plt.show()\n",
    "\n",
    "# plot transformed data\n",
    "plt.scatter(X_t[:, 0], X_t[:, 1])\n",
    "plt.title('Transformed Data')\n",
    "plt.axis('square')\n",
    "plt.show()\n",
    "\n",
    "# review PCA variances\n",
    "print(pca.explained_variance_) #amount of variance explained by each axes\n",
    "print(pca.explained_variance_ratio_) #percentage of variance explained by each axes\n",
    "\n"
   ]
  },
  {
   "cell_type": "markdown",
   "metadata": {},
   "source": [
    "## PCA with Iris Dataset\n",
    "We will apply PCA to the Iris dataset by reducing its dimensions from 4 to 2. First, we will load and examine the dataset"
   ]
  },
  {
   "cell_type": "code",
   "execution_count": null,
   "metadata": {
    "tags": []
   },
   "outputs": [],
   "source": [
    "iris = sns.load_dataset('iris')\n",
    "print(iris.shape)\n",
    "print(iris.head())"
   ]
  },
  {
   "cell_type": "markdown",
   "metadata": {},
   "source": [
    "Take a look at how the data instances are distributed in the feature space. Notice how Setosa is the most separable."
   ]
  },
  {
   "cell_type": "code",
   "execution_count": null,
   "metadata": {
    "tags": []
   },
   "outputs": [],
   "source": [
    "sns.pairplot(iris, hue='species')"
   ]
  },
  {
   "cell_type": "markdown",
   "metadata": {},
   "source": [
    "# Apply PCA to reduce dimension from 4 to 2\n",
    "\n",
    "Try to write some code to apply PCA to reduce the dimension from 4 to 2, and print the number of components as well as the percentage of variance explained by each axes\n",
    "\n",
    "<details>\n",
    "    <summary>Click here to see code</summary>\n",
    "\n",
    "```python\n",
    "# Separate the dataset into features and the label\n",
    "X = iris.drop('species', axis=1)\n",
    "y = iris['species']\n",
    "\n",
    "#define PCA with targeted reduced features\n",
    "pca = PCA(n_components=2)\n",
    "X_reduced = pca.fit_transform(X) #fit and transform togteher\n",
    "print(pca.n_components_)\n",
    "print(pca.explained_variance_ratio_)\n",
    "\n",
    "```"
   ]
  },
  {
   "cell_type": "code",
   "execution_count": null,
   "metadata": {
    "tags": []
   },
   "outputs": [],
   "source": [
    "#Enter code here"
   ]
  },
  {
   "cell_type": "markdown",
   "metadata": {},
   "source": [
    "We can also plot a bar graph of the principal components and the percentage of explained variance as below"
   ]
  },
  {
   "cell_type": "code",
   "execution_count": null,
   "metadata": {
    "tags": []
   },
   "outputs": [],
   "source": [
    "Cols = ['PC1','PC2']\n",
    "rData = pca.explained_variance_ratio_\n",
    "\n",
    "plt.bar(Cols, rData)\n",
    "plt.title('Principal Component Importance')\n",
    "plt.ylabel('Percentage')\n",
    "plt.show()"
   ]
  },
  {
   "cell_type": "markdown",
   "metadata": {},
   "source": [
    "# Review the dataset in the new 2-dimensional subspace\n",
    "\n",
    "Finally, let's examine how the dataset looks in tthe reduced dimensional space..."
   ]
  },
  {
   "cell_type": "code",
   "execution_count": null,
   "metadata": {
    "tags": []
   },
   "outputs": [],
   "source": [
    "print(X.shape)\n",
    "print(X_reduced.shape)\n",
    "X_reduced_df = pd.DataFrame(X_reduced, columns=[\"1st principal component\", \"2nd principal component\"])\n",
    "iris_reduced = pd.concat([X_reduced_df, y], axis=1)  #add target col\n",
    "iris_reduced.head(100)"
   ]
  },
  {
   "cell_type": "markdown",
   "metadata": {},
   "source": [
    "...and create a scatter plot of this reduced dataset"
   ]
  },
  {
   "cell_type": "code",
   "execution_count": null,
   "metadata": {
    "tags": []
   },
   "outputs": [],
   "source": [
    "sns.scatterplot(x=iris_reduced['1st principal component'], y=iris_reduced['2nd principal component'], hue=iris_reduced['species'])"
   ]
  },
  {
   "cell_type": "markdown",
   "metadata": {},
   "source": [
    "### Exercise\n",
    "\n",
    "Compare the performance of K-means clustering using any two of the original dimensions with the two PCA dimensions\n",
    "\n",
    "<details>\n",
    "\n",
    "<summary><strong>Click to view codes</strong></summary>\n",
    "\n",
    "```python\n",
    "kmeans = KMeans(n_clusters=3).fit(X_reduced_df)\n",
    "\n",
    "silhouette_score = metrics.silhouette_score(X_reduced_df, kmeans.labels_)\n",
    "print(\"Silhouette Score = {0:.2f}\".format(silhouette_score))\n",
    "\n",
    "iris2=iris.iloc[:,0:2]\n",
    "print(iris2.head)\n",
    "kmeans = KMeans(n_clusters=3).fit(iris2)\n",
    "\n",
    "silhouette_score = metrics.silhouette_score(iris2, kmeans.labels_)\n",
    "print(\"Silhouette Score = {0:.2f}\".format(silhouette_score))\n",
    "```"
   ]
  },
  {
   "cell_type": "code",
   "execution_count": null,
   "metadata": {},
   "outputs": [],
   "source": [
    "# insert code here\n"
   ]
  },
  {
   "cell_type": "markdown",
   "metadata": {},
   "source": [
    "## Applying clustering to credit card data\n",
    "\n",
    "Let us now try to apply clustering techniques on some credit card data. The dataset summarizes the usage behavior of about 9000 active credit card holders with 18 behavourial variables as below:\n",
    "\n",
    "CUST_ID : Identification of Credit Card holder\n",
    "\n",
    "BALANCE : Balance amount left in their account to make purchases\n",
    "\n",
    "BALANCE_FREQUENCY : How frequently the Balance is updated, score between 0 and 1 (1 = frequently updated, 0 = not frequently updated)\n",
    "\n",
    "PURCHASES : Amount of purchases made from account\n",
    "\n",
    "ONEOFF_PURCHASES : Maximum purchase amount done in one-go\n",
    "\n",
    "INSTALLMENTS_PURCHASES : Amount of purchase done in installment\n",
    "\n",
    "CASH_ADVANCE : Cash in advance given by the user\n",
    "\n",
    "PURCHASES_FREQUENCY : How frequently the Purchases are being made, score between 0 and 1 (1 = frequently purchased, 0 = not frequently purchased)\n",
    "\n",
    "ONEOFFPURCHASESFREQUENCY : How frequently Purchases are happening in one-go (1 = frequently purchased, 0 = not frequently purchased)\n",
    "\n",
    "PURCHASESINSTALLMENTSFREQUENCY : How frequently purchases in installments are being done (1 = frequently done, 0 = not frequently done)\n",
    "\n",
    "CASHADVANCEFREQUENCY : How frequently the cash in advance being paid\n",
    "\n",
    "CASHADVANCETRX : Number of Transactions made with \"Cash in Advanced\"\n",
    "\n",
    "PURCHASES_TRX : Numbe of purchase transactions made\n",
    "\n",
    "CREDIT_LIMIT : Limit of Credit Card for user\n",
    "\n",
    "PAYMENTS : Amount of Payment done by user\n",
    "\n",
    "MINIMUM_PAYMENTS : Minimum amount of payments made by user\n",
    "\n",
    "PRCFULLPAYMENT : Percent of full payment paid by user\n",
    "\n",
    "TENURE : Tenure of credit card service for user"
   ]
  },
  {
   "cell_type": "markdown",
   "metadata": {},
   "source": [
    "Let's load the libraries and the dataset"
   ]
  },
  {
   "cell_type": "code",
   "execution_count": null,
   "metadata": {
    "tags": []
   },
   "outputs": [],
   "source": [
    "import pandas as pd\n",
    "import numpy as np\n",
    "import matplotlib.pyplot as plt\n",
    "import seaborn as sns\n",
    "from sklearn.preprocessing import StandardScaler, normalize\n",
    "from sklearn.metrics import silhouette_score\n",
    "from sklearn.cluster import KMeans\n",
    "from sklearn.decomposition import PCA\n",
    "\n",
    "df_cc = pd.read_csv('datasets/CC_GENERAL.csv')\n",
    "df_cc.head()"
   ]
  },
  {
   "cell_type": "markdown",
   "metadata": {},
   "source": [
    "We can look at the columns, the shape of the dataset as well as some statistical measures"
   ]
  },
  {
   "cell_type": "code",
   "execution_count": null,
   "metadata": {
    "tags": []
   },
   "outputs": [],
   "source": [
    "df_cc.columns"
   ]
  },
  {
   "cell_type": "code",
   "execution_count": null,
   "metadata": {
    "tags": []
   },
   "outputs": [],
   "source": [
    "df_cc.shape"
   ]
  },
  {
   "cell_type": "code",
   "execution_count": null,
   "metadata": {
    "tags": []
   },
   "outputs": [],
   "source": [
    "df_cc.describe()"
   ]
  },
  {
   "cell_type": "markdown",
   "metadata": {},
   "source": [
    "Note that there are many outliers, but we won't drop them for now as they may contain useful information"
   ]
  },
  {
   "cell_type": "code",
   "execution_count": null,
   "metadata": {
    "tags": []
   },
   "outputs": [],
   "source": [
    "df_cc.isnull().sum()"
   ]
  },
  {
   "cell_type": "markdown",
   "metadata": {},
   "source": [
    "As seen above, there are also some null values. We will replace missing values with the means"
   ]
  },
  {
   "cell_type": "code",
   "execution_count": null,
   "metadata": {
    "tags": []
   },
   "outputs": [],
   "source": [
    "df_cc['CREDIT_LIMIT'].fillna(df_cc['CREDIT_LIMIT'].mean(), inplace=True)\n",
    "df_cc['MINIMUM_PAYMENTS'].fillna(df_cc['MINIMUM_PAYMENTS'].mean(), inplace=True)\n",
    "df_cc.isnull().sum()"
   ]
  },
  {
   "cell_type": "markdown",
   "metadata": {},
   "source": [
    "Next, we will drop the customer id column and check that it has been successfully dropped."
   ]
  },
  {
   "cell_type": "code",
   "execution_count": null,
   "metadata": {
    "tags": []
   },
   "outputs": [],
   "source": [
    "df_cc.drop('CUST_ID', axis=1, inplace=True)\n",
    "df_cc.head(1)"
   ]
  },
  {
   "cell_type": "markdown",
   "metadata": {},
   "source": [
    "Run the following code to perform standardization and normalization. In this case we perform these transformations so that all features have similar magnitudes"
   ]
  },
  {
   "cell_type": "code",
   "execution_count": null,
   "metadata": {
    "tags": []
   },
   "outputs": [],
   "source": [
    "scaler = StandardScaler() \n",
    "scaled_df = scaler.fit_transform(df_cc) #standardize data mean 0 stdev 1\n",
    "\n",
    "# Normalizing the Data \n",
    "normalized_df = normalize(scaled_df) #scales data so it sums to unit norm\n",
    "  \n",
    "# Converting the numpy array into a pandas DataFrame \n",
    "normalized_df = pd.DataFrame(normalized_df) \n"
   ]
  },
  {
   "cell_type": "markdown",
   "metadata": {},
   "source": [
    "Write some code to perform dimension reduction using PCA to two components, cast the transfromed data as a data frame, rename the columns as P1 and P2, and display the first two rows of the transformed data\n",
    "\n",
    "<details>\n",
    "    <summary>Click here to see code</summary>\n",
    "    \n",
    "```python\n",
    "pca = PCA(n_components = 2) \n",
    "X_principal = pca.fit_transform(normalized_df) \n",
    "X_principal = pd.DataFrame(X_principal) \n",
    "X_principal.columns = ['P1', 'P2'] \n",
    "X_principal.head(2)\n",
    "```"
   ]
  },
  {
   "cell_type": "code",
   "execution_count": null,
   "metadata": {},
   "outputs": [],
   "source": [
    "# insert code here"
   ]
  },
  {
   "cell_type": "markdown",
   "metadata": {},
   "source": [
    "Let us now use an elbow plot to determine the value of k for k-means clustering"
   ]
  },
  {
   "cell_type": "code",
   "execution_count": null,
   "metadata": {
    "tags": []
   },
   "outputs": [],
   "source": [
    "sse = {}\n",
    "for k in range(1, 15):\n",
    "    kmeans = KMeans(n_clusters=k, max_iter=1000).fit(X_principal)\n",
    "    sse[k] = kmeans.inertia_ # Inertia: Sum of distances of samples to their closest cluster center\n",
    "plt.figure()\n",
    "plt.plot(list(sse.keys()), list(sse.values()))\n",
    "plt.xlabel(\"Number of cluster\")\n",
    "plt.ylabel(\"SSE\")\n",
    "plt.show()"
   ]
  },
  {
   "cell_type": "markdown",
   "metadata": {},
   "source": [
    "Since it is hard to determine the elbow point, we will use the silhoutte scores. The highest score is for k=3"
   ]
  },
  {
   "cell_type": "code",
   "execution_count": null,
   "metadata": {
    "tags": []
   },
   "outputs": [],
   "source": [
    "silhouette_scores = []\n",
    "\n",
    "for n_cluster in range(2, 8):\n",
    "    silhouette_scores.append( \n",
    "        silhouette_score(X_principal, KMeans(n_clusters = n_cluster).fit_predict(X_principal))) \n",
    "    \n",
    "# Plotting a bar graph to compare the results \n",
    "k = [2, 3, 4, 5, 6, 7] \n",
    "plt.bar(k, silhouette_scores) \n",
    "plt.xlabel('Number of clusters', fontsize = 10) \n",
    "plt.ylabel('Silhouette Score', fontsize = 10) \n",
    "plt.show() "
   ]
  },
  {
   "cell_type": "markdown",
   "metadata": {},
   "source": [
    "Write some code to perform k-means clustering on normalized_df.\n",
    "<details>\n",
    "    <summary>Click here to see code</summary>\n",
    "\n",
    "```python\n",
    "kmean= KMeans(3)\n",
    "kmean.fit(normalized_df)\n",
    "\n",
    "```"
   ]
  },
  {
   "cell_type": "code",
   "execution_count": null,
   "metadata": {},
   "outputs": [],
   "source": [
    "#insert code here"
   ]
  },
  {
   "cell_type": "markdown",
   "metadata": {},
   "source": [
    "We can also examine the clusters to try to understand what they represent"
   ]
  },
  {
   "cell_type": "code",
   "execution_count": null,
   "metadata": {
    "tags": []
   },
   "outputs": [],
   "source": [
    "labels=kmean.labels_\n",
    "clusters=pd.concat([df_cc, pd.DataFrame({'cluster':labels})], axis=1)\n",
    "clusters.head()"
   ]
  },
  {
   "cell_type": "code",
   "execution_count": null,
   "metadata": {
    "tags": []
   },
   "outputs": [],
   "source": [
    "clusters['cluster'].value_counts()"
   ]
  },
  {
   "cell_type": "code",
   "execution_count": null,
   "metadata": {
    "tags": []
   },
   "outputs": [],
   "source": [
    "clusters.groupby('cluster').mean()"
   ]
  },
  {
   "cell_type": "markdown",
   "metadata": {},
   "source": [
    "Discuss some characteristics of each cluster."
   ]
  },
  {
   "cell_type": "markdown",
   "metadata": {},
   "source": [
    "Let us use PCA to visualize the clusters"
   ]
  },
  {
   "cell_type": "code",
   "execution_count": null,
   "metadata": {
    "tags": []
   },
   "outputs": [],
   "source": [
    "finalDf = pd.concat([X_principal, pd.DataFrame({'cluster':labels})], axis = 1)\n",
    "finalDf.head()"
   ]
  },
  {
   "cell_type": "code",
   "execution_count": null,
   "metadata": {
    "tags": []
   },
   "outputs": [],
   "source": [
    "plt.figure(figsize=(15,10))\n",
    "ax = sns.scatterplot(x=\"P1\", y=\"P2\", hue=\"cluster\", data=finalDf,palette=['red','blue','green'])\n",
    "plt.show()"
   ]
  },
  {
   "cell_type": "markdown",
   "metadata": {
    "id": "ljArwQuQVNa0"
   },
   "source": [
    "# Summary\n",
    "\n",
    "The practical demonstrates how to use Scikit-Learn to perform clustering. We use Scikit-Learn to help us generate data points that forms clusters according to a predefined hyper-parameter k using k-means clustering.\n",
    "\n",
    "We examined how to perform clustering and visualize the results using scatter plots. We also saw how to determine the quality of clustering using the silhouette scores. We determined the best value of k by performing a series of clustering operations with different values of k and picking the model with the best silhoutte score.\n",
    "\n",
    "Lastly, we looked at the application of clustering in outlier detection, applied PCA for dimensionality reduction, and applied clustering techniques to credit card holders dataset."
   ]
  },
  {
   "cell_type": "markdown",
   "metadata": {},
   "source": []
  }
 ],
 "metadata": {
  "celltoolbar": "Raw Cell Format",
  "colab": {
   "collapsed_sections": [],
   "name": "Clustering 2021 v1.0.ipynb",
   "provenance": []
  },
  "kernelspec": {
   "display_name": "Python 3 (ipykernel)",
   "language": "python",
   "name": "python3"
  },
  "language_info": {
   "codemirror_mode": {
    "name": "ipython",
    "version": 3
   },
   "file_extension": ".py",
   "mimetype": "text/x-python",
   "name": "python",
   "nbconvert_exporter": "python",
   "pygments_lexer": "ipython3",
   "version": "3.9.17"
  },
  "vscode": {
   "interpreter": {
    "hash": "c769739c27f17ff849287a42121146e7db3afc66371c5feb48135b62d032b925"
   }
  }
 },
 "nbformat": 4,
 "nbformat_minor": 4
}
