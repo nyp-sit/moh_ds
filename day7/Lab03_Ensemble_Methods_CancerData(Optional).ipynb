{
  "cells": [
    {
      "cell_type": "markdown",
      "metadata": {
        "id": "EPzc_y12uruw"
      },
      "source": [
        "# Lab03: Ensemble Methods using CancerData"
      ]
    },
    {
      "cell_type": "markdown",
      "metadata": {
        "id": "Ks_YEpqO2dYF"
      },
      "source": [
        "* In this part of the practical, we will be using the Wisconsin Diagnostic breast cancer dataset, which is one of the datasets that we can load from Scikit-Learn <br>\n",
        "* The dataset consists of 569 training samples and 30 features <br>\n",
        "* The features are tumor attributes captured from medical images, and the target attribute to be predicted is whether the tumor is malignant or benign <br>\n",
        "* We will learn to build an AdaBoost classifier and a gradient boosting classifier with this dataset"
      ]
    },
    {
      "cell_type": "code",
      "execution_count": 1,
      "metadata": {
        "id": "FNCgz4UY2dYJ"
      },
      "outputs": [],
      "source": [
        "import numpy as np\n",
        "import pandas as pd\n",
        "\n",
        "import matplotlib.pyplot as plt\n",
        "import seaborn as sns\n",
        "\n",
        "%matplotlib inline\n",
        "\n",
        "# Suppress warnings about too few trees from the early models\n",
        "import warnings\n",
        "warnings.filterwarnings(\"ignore\", category=UserWarning)\n",
        "warnings.filterwarnings(\"ignore\", category=RuntimeWarning)"
      ]
    },
    {
      "cell_type": "markdown",
      "metadata": {
        "id": "pbLJjBuw2dYZ"
      },
      "source": [
        "# 1. Prepare Data"
      ]
    },
    {
      "cell_type": "code",
      "execution_count": 2,
      "metadata": {
        "id": "35xvbkWb2dYZ",
        "colab": {
          "base_uri": "https://localhost:8080/"
        },
        "outputId": "ab2c237c-3bd3-4c68-df63-fcdf54981bcc"
      },
      "outputs": [
        {
          "output_type": "execute_result",
          "data": {
            "text/plain": [
              "array([[1.799e+01, 1.038e+01, 1.228e+02, ..., 2.654e-01, 4.601e-01,\n",
              "        1.189e-01],\n",
              "       [2.057e+01, 1.777e+01, 1.329e+02, ..., 1.860e-01, 2.750e-01,\n",
              "        8.902e-02],\n",
              "       [1.969e+01, 2.125e+01, 1.300e+02, ..., 2.430e-01, 3.613e-01,\n",
              "        8.758e-02],\n",
              "       ...,\n",
              "       [1.660e+01, 2.808e+01, 1.083e+02, ..., 1.418e-01, 2.218e-01,\n",
              "        7.820e-02],\n",
              "       [2.060e+01, 2.933e+01, 1.401e+02, ..., 2.650e-01, 4.087e-01,\n",
              "        1.240e-01],\n",
              "       [7.760e+00, 2.454e+01, 4.792e+01, ..., 0.000e+00, 2.871e-01,\n",
              "        7.039e-02]])"
            ]
          },
          "metadata": {},
          "execution_count": 2
        }
      ],
      "source": [
        "from sklearn.datasets import load_breast_cancer\n",
        "\n",
        "bc = load_breast_cancer() \n",
        "bc.data"
      ]
    },
    {
      "cell_type": "markdown",
      "source": [
        "# 2. AdaBoost"
      ],
      "metadata": {
        "id": "FpcyNHOgpe6V"
      }
    },
    {
      "cell_type": "markdown",
      "source": [
        "# 3. Gradient Boost"
      ],
      "metadata": {
        "id": "Zwuvb__cpi5V"
      }
    },
    {
      "cell_type": "code",
      "source": [],
      "metadata": {
        "id": "5N-PiGCtpiH1"
      },
      "execution_count": null,
      "outputs": []
    }
  ],
  "metadata": {
    "colab": {
      "provenance": []
    },
    "kernelspec": {
      "display_name": "Python 3",
      "language": "python",
      "name": "python3"
    },
    "language_info": {
      "codemirror_mode": {
        "name": "ipython",
        "version": 3
      },
      "file_extension": ".py",
      "mimetype": "text/x-python",
      "name": "python",
      "nbconvert_exporter": "python",
      "pygments_lexer": "ipython3",
      "version": "3.8.5"
    }
  },
  "nbformat": 4,
  "nbformat_minor": 0
}