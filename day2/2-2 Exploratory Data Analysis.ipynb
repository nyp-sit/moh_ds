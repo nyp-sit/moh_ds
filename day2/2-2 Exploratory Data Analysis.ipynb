{
 "cells": [
  {
   "cell_type": "markdown",
   "id": "02a0d612",
   "metadata": {},
   "source": [
    "# Exploratory Data Analysis (EDA)\n",
    "Learn the basics of Exploratory Data Analysis using Python with NumPy, Pandas, Matplotlib and Seaborn.\n",
    "\n",
    "**Exploratory Data Analysis** is an approach to analysing data sets to summarise their main characteristics, often with visual methods.\n",
    "\n",
    "In this practical, we will how to perform the following:\n",
    "1. Structured Based\n",
    "2. Univariate Analysis\n",
    "3. Bivariate Analysis\n",
    "4. Multivariate Analysis\n",
    "5. Frequency Distribution\n",
    "\n",
    "## Read the dataset"
   ]
  },
  {
   "cell_type": "code",
   "execution_count": null,
   "id": "15a1754d",
   "metadata": {},
   "outputs": [],
   "source": []
  },
  {
   "cell_type": "markdown",
   "id": "ba4769f9",
   "metadata": {},
   "source": [
    "## Structured Based\n",
    "The first part of EDA is to evaluate the dataset for structure, columns and data types. Below are the methods we have used in Pandas which gives us a quick understanding of our dataset:\n",
    "* **head() and tail()**: display the first 5 and last 5 observations of your dataset\n",
    "* **shape**: display the number of variables (columns) and observations (rows)\n",
    "* **dtypes**: display the variable names and their data types\n",
    "* **count()**: counts the number of non-empty values for each variable\n",
    "* **describe()**: display the characteristics of the numerical variables - count (number of non-missing values), mean, standard deviation, and the 5 point summary which includes minimum, first quartile, second quartile, third quartile and maximum\n",
    "* **info()**: display the complete meta-data of the dataset, summary of the dataframe including data types, shape, etc"
   ]
  },
  {
   "cell_type": "code",
   "execution_count": null,
   "id": "8be6d467",
   "metadata": {},
   "outputs": [],
   "source": [
    "# display first 5 records\n",
    "\n",
    "\n",
    "# display last 5 records\n",
    "\n",
    "\n",
    "# display shape of df\n",
    "\n",
    "\n",
    "# display variable names and data types\n",
    "\n",
    "\n",
    "# count number of non-empty values\n",
    "\n",
    "\n",
    "# display the characteristics of the numerical variables\n",
    "\n",
    "\n",
    "# display meta-data of dataset\n"
   ]
  },
  {
   "cell_type": "markdown",
   "id": "31cb2a5f",
   "metadata": {},
   "source": [
    "## Univariate Analysis\n",
    "Univariate analysis is analysing data over a single variable/column from a dataset.\n",
    "\n",
    "### Categorical Unordered Univariate Analysis\n",
    "An unordered variable is a categorical variable that has no defined order. In our dataset, the **job** column is divided into many sub-categories like technician, blue-collar, services, management, etc. \n",
    "\n",
    "Another useful method is **value_counts()** which we can get the count of each category in a categorical attributed series of values. \n",
    "\n",
    "Let's analyse the job category using a bar plot."
   ]
  },
  {
   "cell_type": "code",
   "execution_count": null,
   "id": "0c97257a",
   "metadata": {},
   "outputs": [],
   "source": [
    "# Let's calculate the percentage of each job status category.\n"
   ]
  },
  {
   "cell_type": "code",
   "execution_count": null,
   "id": "3c5ab61c",
   "metadata": {},
   "outputs": [],
   "source": [
    "#plot the bar graph of percentage job categories\n"
   ]
  },
  {
   "cell_type": "markdown",
   "id": "7603c9a6",
   "metadata": {},
   "source": [
    "From the bar plot above, we can infer that the data set contains more number of blue-collar workers compared to other categories.\n",
    "\n",
    "### Categorical Ordered Univariate Analysis\n",
    "Ordered variables are variables with natural rank of order. Some example of categorical ordered variables in our daset are:\n",
    "* Month: Jan, Feb, Mar, ...\n",
    "* Education: Primary, Secondary, ...\n",
    "\n",
    "Let's analyse the **education** variable in our data using a pie chart. "
   ]
  },
  {
   "cell_type": "code",
   "execution_count": null,
   "id": "7872964d",
   "metadata": {},
   "outputs": [],
   "source": [
    "#calculate the percentage of each education category.\n"
   ]
  },
  {
   "cell_type": "code",
   "execution_count": null,
   "id": "636b062c",
   "metadata": {},
   "outputs": [],
   "source": [
    "#plot the pie chart of education categories\n"
   ]
  },
  {
   "attachments": {
    "image.png": {
     "image/png": "[encoded data removed]"
    }
   },
   "cell_type": "markdown",
   "id": "f86882fa",
   "metadata": {},
   "source": [
    "From the pie char above, we can infer that the dataset has a large number of them belongs to secondary education after that tertiary and next primary. Also, a very small percentage of them are unknown. \n",
    "\n",
    "This is how we analyse univariate categorical analysis. If the column or variable is numberical, we will analyse by calculating using mean, mediam, standard deviation, etc. We can get those values by using the describe function. \n",
    "\n",
    "```Python\n",
    "df.salary.describe()\n",
    "```\n",
    "\n",
    "The output will be:\n",
    "![image.png](attachment:image.png)\n",
    "\n",
    "\n",
    "## Bivariate Analysis\n",
    "Bivariate analysis is analysing data by taking two variables/columns from a dataset.\n",
    "\n",
    "### Numeric-Numeric Analysis\n",
    "Analysing two numeric variables from a dataset is known as numeric-numeric analysis. We can analyse it in three different ways:\n",
    "* Scatter Plot\n",
    "* Pair Plot\n",
    "* Correlation Matrix\n",
    "\n",
    "#### Scatter Plot\n",
    "Let's analyse the **balance**, **age** and **salary** in our dataset and see what we can infer using a scatter plot."
   ]
  },
  {
   "cell_type": "code",
   "execution_count": null,
   "id": "1499f315",
   "metadata": {},
   "outputs": [],
   "source": [
    "#plot the scatter plot of balance and salary variable in data\n"
   ]
  },
  {
   "cell_type": "code",
   "execution_count": null,
   "id": "12a6918d",
   "metadata": {},
   "outputs": [],
   "source": [
    "#plot the scatter plot of balance and age variable in data\n"
   ]
  },
  {
   "cell_type": "markdown",
   "id": "eef88bf0",
   "metadata": {},
   "source": [
    "#### Pair Plot\n",
    "Let's plot a pair plot using the same three variables (**balance**, **age** and **salary**) we have used in our scatter plot. We will use the seaborn library for ploting pair plots."
   ]
  },
  {
   "cell_type": "code",
   "execution_count": null,
   "id": "33eb52c8",
   "metadata": {},
   "outputs": [],
   "source": [
    "#plot the pair plot of salary, balance and age in data dataframe.\n"
   ]
  },
  {
   "cell_type": "markdown",
   "id": "46ec04bb",
   "metadata": {},
   "source": [
    "#### Correlation Matrix\n",
    "Since we cannot use more than two variables as x-axis and y-axis in scatter and pair plots. It is difficult to see the relation between three numberical variables in a single graph. In those cases, we will use the correlation matrix.\n",
    "\n",
    "First, we will create a matrix using **balance**, **age** and **salary**. After that, we will plot a heapmap using the seaborn library using the matrix."
   ]
  },
  {
   "cell_type": "code",
   "execution_count": null,
   "id": "03bc510f",
   "metadata": {},
   "outputs": [],
   "source": [
    "# Creating a matrix using age, salary, balance as rows and columns\n"
   ]
  },
  {
   "cell_type": "code",
   "execution_count": null,
   "id": "ccabc2fb",
   "metadata": {},
   "outputs": [],
   "source": [
    "#plot the correlation matrix of salary, balance and age \n"
   ]
  },
  {
   "cell_type": "markdown",
   "id": "44810fb0",
   "metadata": {},
   "source": [
    "### Numeric-Categorical Analysis\n",
    "Analysing one numeric variable and one categorical variable from a dataset is known as numeric-categorical analysis. We can analysis it using mean, median and box plots.\n",
    "\n",
    "We will use the **response** and **marital** columns from our dataset. First, let's get the mean value using groupby."
   ]
  },
  {
   "cell_type": "code",
   "execution_count": null,
   "id": "9bb7389d",
   "metadata": {},
   "outputs": [],
   "source": [
    "#groupby the response to find the mean for yes & no responses\n"
   ]
  },
  {
   "cell_type": "markdown",
   "id": "8d350a04",
   "metadata": {},
   "source": [
    "There's not much difference between the yes and no response based on salary. Let's check the median."
   ]
  },
  {
   "cell_type": "code",
   "execution_count": null,
   "id": "958cc3b9",
   "metadata": {},
   "outputs": [],
   "source": [
    "#groupby the response to find the median for yes & no responses\n"
   ]
  },
  {
   "cell_type": "markdown",
   "id": "2bc6eff0",
   "metadata": {},
   "source": [
    "From the mean and median, we can say that the response of yes and no remains the same irrespective of the person's salary. However, we can further if the behaviour is true by ploting a box plot. "
   ]
  },
  {
   "cell_type": "code",
   "execution_count": null,
   "id": "c814ab1f",
   "metadata": {},
   "outputs": [],
   "source": [
    "#plot the box plot of salary for yes & no responses.\n"
   ]
  },
  {
   "cell_type": "markdown",
   "id": "ecd89e98",
   "metadata": {},
   "source": [
    "From the box plot, it paints a very different picture compared to the mean and median. The IQR for customers who gave a positive response is on the higher salary side. \n",
    "\n",
    "### Categorical-Categorical Analysis\n",
    "Next, we will see how the different categories like education, marital status, etc are associated with the response column. so instead of 'Yes' and 'No' we will convert them into '1' and '0', by doing that we will get the \"Response Rate\"."
   ]
  },
  {
   "cell_type": "code",
   "execution_count": null,
   "id": "c2a006a7",
   "metadata": {},
   "outputs": [],
   "source": [
    "#create response_rate of numerical data type where response \"yes\"= 1, \"no\"= 0\n"
   ]
  },
  {
   "cell_type": "markdown",
   "id": "ef35c851",
   "metadata": {},
   "source": [
    "Let's see how the average response rate varies for the different categories in **marital** status."
   ]
  },
  {
   "cell_type": "code",
   "execution_count": null,
   "id": "90965670",
   "metadata": {},
   "outputs": [],
   "source": [
    "#plot the bar graph of marital status with average value of response_rate\n"
   ]
  },
  {
   "cell_type": "markdown",
   "id": "32c4433a",
   "metadata": {},
   "source": [
    "From the above plot, we can infer that there are more positive response for single status member in teh dataset. Similarly we can plot the graphs for **loan** vs **response_rate**, **education** vs **response_rate**, etc."
   ]
  },
  {
   "cell_type": "code",
   "execution_count": null,
   "id": "e85bbc6d",
   "metadata": {},
   "outputs": [],
   "source": [
    "#plot the bar graph of education with average value of response_rate\n"
   ]
  },
  {
   "cell_type": "code",
   "execution_count": null,
   "id": "61c309ce",
   "metadata": {},
   "outputs": [],
   "source": [
    "#plot the bar graph of loan with average value of response_rate\n"
   ]
  },
  {
   "cell_type": "markdown",
   "id": "8c35938a",
   "metadata": {},
   "source": [
    "## Multivariate Analysis\n",
    "Multivariate analysis is analysing data by taking more than two variables/columns from a dataset.\n",
    "\n",
    "Let's look at how **education**, **marital**, and **response_rate** vary with each other. \n",
    "\n",
    "First, we will create a pivot able with the three columns and after that, we will create a heatmap using the pivot table."
   ]
  },
  {
   "cell_type": "code",
   "execution_count": null,
   "id": "e419cac9",
   "metadata": {},
   "outputs": [],
   "source": [
    "# create a pivot table of education, marital and response_rate\n"
   ]
  },
  {
   "cell_type": "code",
   "execution_count": null,
   "id": "03da36d5",
   "metadata": {},
   "outputs": [],
   "source": [
    "#create heat map of education vs marital vs response_rate\n"
   ]
  },
  {
   "cell_type": "markdown",
   "id": "dea15199",
   "metadata": {},
   "source": [
    "Based on the heatmap, we can infer that the married people with primary education are less likely to respond positively for the survey and single people with tertiary education are most likely to respond positively to the survey. Similarly, we can plot the graph for **job** vs **marital** vs **response_rate**, etc."
   ]
  },
  {
   "cell_type": "code",
   "execution_count": null,
   "id": "05dfd54f",
   "metadata": {},
   "outputs": [],
   "source": [
    "# create a pivot table of job, marital and response_rate\n",
    "\n",
    "\n",
    "#create heat map of education vs marital vs response_rate\n"
   ]
  },
  {
   "cell_type": "markdown",
   "id": "bbef1e56",
   "metadata": {},
   "source": [
    "## Frequency Distribution\n",
    "A frequency distribution is a representation, either in a graphical or tabular format, that displays the number of observations within a given interval or categories.\n",
    "\n",
    "Let's look at the distribution of our **age** column. Since the number of observations for our dataset is more than 2^15 (32768), hence we will keep our bin size to 15."
   ]
  },
  {
   "cell_type": "code",
   "execution_count": null,
   "id": "bf30068f",
   "metadata": {},
   "outputs": [],
   "source": [
    "# compute the histogram for age using 15 bins\n",
    "\n",
    "\n",
    "# setup the plot specifying the bins range\n",
    "\n",
    "\n",
    "# setup the plot title and label\n"
   ]
  },
  {
   "cell_type": "code",
   "execution_count": null,
   "id": "535d6eed",
   "metadata": {},
   "outputs": [],
   "source": []
  }
 ],
 "metadata": {
  "kernelspec": {
   "display_name": "Python 3 (ipykernel)",
   "language": "python",
   "name": "python3"
  },
  "language_info": {
   "codemirror_mode": {
    "name": "ipython",
    "version": 3
   },
   "file_extension": ".py",
   "mimetype": "text/x-python",
   "name": "python",
   "nbconvert_exporter": "python",
   "pygments_lexer": "ipython3",
   "version": "3.9.12"
  }
 },
 "nbformat": 4,
 "nbformat_minor": 5
}
